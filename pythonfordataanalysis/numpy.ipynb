{
 "cells": [
  {
   "cell_type": "code",
   "execution_count": 10,
   "metadata": {},
   "outputs": [
    {
     "name": "stdout",
     "output_type": "stream",
     "text": [
      "[1 2 3 4]\n",
      "[11 22 33 44]\n",
      "[[ 1  2  3  4]\n",
      " [11 22 33 44]]\n",
      "(2, 4)\n",
      "int32\n",
      "[['1' '' '3']\n",
      " ['4' '5' '6']]\n",
      "(2, 3)\n",
      "<U11\n"
     ]
    }
   ],
   "source": [
    "import numpy as np\n",
    "my_list1 = [1, 2, 3, 4]\n",
    "my_array1 = np.array(my_list1)\n",
    "print(my_array1)\n",
    "my_list2 = [11, 22, 33, 44]\n",
    "my_array2 = np.array(my_list2)\n",
    "print(my_array2)\n",
    "my_lists = [my_list1, my_list2]\n",
    "my_arrays = np.array(my_lists)\n",
    "print(my_arrays)\n",
    "print(my_arrays.shape)\n",
    "print(my_arrays.dtype)\n",
    "\n",
    "#\n",
    "my_array_2 = np.array(([1, '', 3], [4, 5, 6]))\n",
    "print(my_array_2)\n",
    "print(my_array_2.shape)\n",
    "print(my_array_2.dtype)\n"
   ]
  },
  {
   "cell_type": "code",
   "execution_count": 20,
   "metadata": {},
   "outputs": [
    {
     "name": "stdout",
     "output_type": "stream",
     "text": [
      "[0. 0. 0. 0. 0.]\n",
      "[[1. 1. 1. 1. 1.]\n",
      " [1. 1. 1. 1. 1.]\n",
      " [1. 1. 1. 1. 1.]\n",
      " [1. 1. 1. 1. 1.]\n",
      " [1. 1. 1. 1. 1.]]\n",
      "[[1. 0. 0. 0.]\n",
      " [0. 1. 0. 0.]\n",
      " [0. 0. 1. 0.]\n",
      " [0. 0. 0. 1.]]\n",
      "[10 30 50 70]\n",
      "[0. 0. 0. 0. 0.]\n",
      "[[1.31915030e-311 3.16202013e-322 0.00000000e+000 0.00000000e+000]\n",
      " [1.08221785e-312 3.34885231e-033 5.98655434e+174 2.10581354e-076]\n",
      " [9.38871428e+165 2.34244676e-056 9.28166337e-072 6.15910201e+170]]\n"
     ]
    }
   ],
   "source": [
    "import numpy as np\n",
    "#special array\n",
    "\n",
    "zeros_array = np.zeros(5)\n",
    "print(zeros_array)\n",
    "ones_array = np.ones((5, 5))\n",
    "print(ones_array)\n",
    "\n",
    "#identity array\n",
    "eye_array = np.eye(4, 4)\n",
    "print(eye_array)\n",
    "#a range\n",
    "use_array = np.arange(10, 81, 20)\n",
    "print(use_array)\n",
    "print(np.empty(5))\n",
    "print(np.empty((3,4)))\n"
   ]
  },
  {
   "cell_type": "code",
   "execution_count": 3,
   "metadata": {},
   "outputs": [
    {
     "name": "stdout",
     "output_type": "stream",
     "text": [
      "[[  2   4   6]\n",
      " [200  30 400]]\n",
      "[[    1     4     9]\n",
      " [10000   225 40000]]\n",
      "[[0 0 0]\n",
      " [0 0 0]]\n",
      "[[1. 1. 1.]\n",
      " [1. 1. 1.]]\n",
      "[[1.         0.5        0.33333333]\n",
      " [0.01       0.06666667 0.005     ]]\n",
      "[[    1     4     9]\n",
      " [10000   225 40000]]\n"
     ]
    }
   ],
   "source": [
    "import numpy as np\n",
    "array1 = np.array([[1,2,3], [100, 15, 200]])\n",
    "print(array1 + array1)\n",
    "print(array1 * array1)\n",
    "print(array1 - array1)\n",
    "print(array1 / array1)\n",
    "print(1 / array1)\n",
    "print(array1 ** 2)"
   ]
  },
  {
   "cell_type": "code",
   "execution_count": 12,
   "metadata": {},
   "outputs": [
    {
     "name": "stdout",
     "output_type": "stream",
     "text": [
      "[ 0  1  2  3  4  5  6  7  8  9 10]\n",
      "[0 1 2 3 4]\n",
      "[100 100 100 100 100]\n",
      "[200 200 100 100 100]\n",
      "[200 200 100 100 100]\n",
      "slice:  [ True  True  True  True  True]\n",
      "True\n",
      "True\n",
      "False\n",
      "False\n",
      "[ True]\n"
     ]
    }
   ],
   "source": [
    "import numpy as np\n",
    "my_arange = np.arange(11)\n",
    "print(my_arange)\n",
    "slice_arange = my_arange[0:5]\n",
    "print(slice_arange)\n",
    "slice_arange[:] = 100\n",
    "print(slice_arange)\n",
    "slice_arange[0:2] = 200\n",
    "print(slice_arange)\n",
    "slice_copy = slice_arange[:]\n",
    "print(slice_arange)\n",
    "slice_arange1 = slice_arange.copy()\n",
    "print('slice: ', slice_arange == slice_arange1)\n",
    "print([] == [])\n",
    "print([4, 7] == [4, 7])\n",
    "print(set() == {2, 3})\n",
    "print([2, 4, 6] == [2, 4])\n",
    "array1 = np.arange(1)\n",
    "array2 = np.arange(1)\n",
    "print(array1 == array2)\n"
   ]
  },
  {
   "cell_type": "code",
   "execution_count": 18,
   "metadata": {},
   "outputs": [
    {
     "name": "stdout",
     "output_type": "stream",
     "text": [
      "[[3 4 5]\n",
      " [6 7 9]\n",
      " [1 2 8]]\n",
      "[[100   4   5]\n",
      " [  6 100   9]\n",
      " [  1   2 100]]\n"
     ]
    }
   ],
   "source": [
    "import numpy as np\n",
    "arr_2d = np.array(([3, 4, 5], [6, 7, 9], [1, 2, 8]))\n",
    "print(arr_2d)\n",
    "arr_2d[0, 0] = 100\n",
    "arr_2d[1, 1] = 100\n",
    "arr_2d[2, 2] = 100\n",
    "print(arr_2d)\n"
   ]
  },
  {
   "cell_type": "code",
   "execution_count": 62,
   "metadata": {},
   "outputs": [
    {
     "name": "stdout",
     "output_type": "stream",
     "text": [
      "[[0, 1, 2], [0, 1, 2], [0, 1, 2]]\n"
     ]
    },
    {
     "ename": "TypeError",
     "evalue": "cannot unpack non-iterable int object",
     "output_type": "error",
     "traceback": [
      "\u001b[1;31m---------------------------------------------------------------------------\u001b[0m",
      "\u001b[1;31mTypeError\u001b[0m                                 Traceback (most recent call last)",
      "\u001b[1;32mc:\\Users\\Rabo Yusuf\\Desktop\\Python-Crash-Course\\pythonfordataanalysis\\numpy.ipynb Cell 6\u001b[0m line \u001b[0;36m9\n\u001b[0;32m      <a href='vscode-notebook-cell:/c%3A/Users/Rabo%20Yusuf/Desktop/Python-Crash-Course/pythonfordataanalysis/numpy.ipynb#W5sZmlsZQ%3D%3D?line=5'>6</a>\u001b[0m     arr\u001b[39m.\u001b[39mappend(arr1)\n\u001b[0;32m      <a href='vscode-notebook-cell:/c%3A/Users/Rabo%20Yusuf/Desktop/Python-Crash-Course/pythonfordataanalysis/numpy.ipynb#W5sZmlsZQ%3D%3D?line=6'>7</a>\u001b[0m \u001b[39mprint\u001b[39m(arr)\n\u001b[1;32m----> <a href='vscode-notebook-cell:/c%3A/Users/Rabo%20Yusuf/Desktop/Python-Crash-Course/pythonfordataanalysis/numpy.ipynb#W5sZmlsZQ%3D%3D?line=8'>9</a>\u001b[0m \u001b[39mfor\u001b[39;00m row, ind \u001b[39min\u001b[39;00m \u001b[39mrange\u001b[39m(\u001b[39mlen\u001b[39m(arr)):\n\u001b[0;32m     <a href='vscode-notebook-cell:/c%3A/Users/Rabo%20Yusuf/Desktop/Python-Crash-Course/pythonfordataanalysis/numpy.ipynb#W5sZmlsZQ%3D%3D?line=9'>10</a>\u001b[0m     \u001b[39mfor\u001b[39;00m col \u001b[39min\u001b[39;00m arr[ind]:\n\u001b[0;32m     <a href='vscode-notebook-cell:/c%3A/Users/Rabo%20Yusuf/Desktop/Python-Crash-Course/pythonfordataanalysis/numpy.ipynb#W5sZmlsZQ%3D%3D?line=10'>11</a>\u001b[0m         \u001b[39mif\u001b[39;00m col \u001b[39m==\u001b[39m ind:\n",
      "\u001b[1;31mTypeError\u001b[0m: cannot unpack non-iterable int object"
     ]
    }
   ],
   "source": [
    "arr = []\n",
    "for row in range(3):\n",
    "    arr1 = []\n",
    "    for col in range(3):\n",
    "        arr1.append(col)\n",
    "    arr.append(arr1)\n",
    "print(arr)\n"
   ]
  },
  {
   "cell_type": "code",
   "execution_count": null,
   "metadata": {},
   "outputs": [],
   "source": []
  }
 ],
 "metadata": {
  "kernelspec": {
   "display_name": "base",
   "language": "python",
   "name": "python3"
  },
  "language_info": {
   "codemirror_mode": {
    "name": "ipython",
    "version": 3
   },
   "file_extension": ".py",
   "mimetype": "text/x-python",
   "name": "python",
   "nbconvert_exporter": "python",
   "pygments_lexer": "ipython3",
   "version": "3.10.9"
  }
 },
 "nbformat": 4,
 "nbformat_minor": 2
}
