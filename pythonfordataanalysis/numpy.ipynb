{
 "cells": [
  {
   "cell_type": "code",
   "execution_count": 10,
   "metadata": {},
   "outputs": [
    {
     "name": "stdout",
     "output_type": "stream",
     "text": [
      "[1 2 3 4]\n",
      "[11 22 33 44]\n",
      "[[ 1  2  3  4]\n",
      " [11 22 33 44]]\n",
      "(2, 4)\n",
      "int32\n",
      "[['1' '' '3']\n",
      " ['4' '5' '6']]\n",
      "(2, 3)\n",
      "<U11\n"
     ]
    }
   ],
   "source": [
    "import numpy as np\n",
    "my_list1 = [1, 2, 3, 4]\n",
    "my_array1 = np.array(my_list1)\n",
    "print(my_array1)\n",
    "my_list2 = [11, 22, 33, 44]\n",
    "my_array2 = np.array(my_list2)\n",
    "print(my_array2)\n",
    "my_lists = [my_list1, my_list2]\n",
    "my_arrays = np.array(my_lists)\n",
    "print(my_arrays)\n",
    "print(my_arrays.shape)\n",
    "print(my_arrays.dtype)\n",
    "\n",
    "#\n",
    "my_array_2 = np.array(([1, '', 3], [4, 5, 6]))\n",
    "print(my_array_2)\n",
    "print(my_array_2.shape)\n",
    "print(my_array_2.dtype)\n"
   ]
  },
  {
   "cell_type": "code",
   "execution_count": 19,
   "metadata": {},
   "outputs": [
    {
     "name": "stdout",
     "output_type": "stream",
     "text": [
      "[0. 0. 0. 0. 0.]\n",
      "[[1. 1. 1. 1. 1.]\n",
      " [1. 1. 1. 1. 1.]\n",
      " [1. 1. 1. 1. 1.]\n",
      " [1. 1. 1. 1. 1.]\n",
      " [1. 1. 1. 1. 1.]]\n",
      "[[1. 0. 0. 0.]\n",
      " [0. 1. 0. 0.]\n",
      " [0. 0. 1. 0.]\n",
      " [0. 0. 0. 1.]]\n",
      "[10 30 50 70]\n",
      "[0. 0. 0. 0. 0.]\n"
     ]
    }
   ],
   "source": [
    "import numpy as np\n",
    "#special array\n",
    "\n",
    "zeros_array = np.zeros(5)\n",
    "print(zeros_array)\n",
    "ones_array = np.ones((5, 5))\n",
    "print(ones_array)\n",
    "\n",
    "#identity array\n",
    "eye_array = np.eye(4, 4)\n",
    "print(eye_array)\n",
    "#a range\n",
    "use_array = np.arange(10, 81, 20)\n",
    "print(use_array)\n",
    "print(np.empty(5))\n",
    "print(np.empty((3,4)))\n"
   ]
  },
  {
   "cell_type": "code",
   "execution_count": null,
   "metadata": {},
   "outputs": [],
   "source": []
  }
 ],
 "metadata": {
  "kernelspec": {
   "display_name": "base",
   "language": "python",
   "name": "python3"
  },
  "language_info": {
   "codemirror_mode": {
    "name": "ipython",
    "version": 3
   },
   "file_extension": ".py",
   "mimetype": "text/x-python",
   "name": "python",
   "nbconvert_exporter": "python",
   "pygments_lexer": "ipython3",
   "version": "3.10.9"
  }
 },
 "nbformat": 4,
 "nbformat_minor": 2
}
