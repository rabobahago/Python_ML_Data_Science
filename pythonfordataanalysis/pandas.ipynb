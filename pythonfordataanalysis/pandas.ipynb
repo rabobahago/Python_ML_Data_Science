{
 "cells": [
  {
   "cell_type": "code",
   "execution_count": 6,
   "metadata": {},
   "outputs": [
    {
     "name": "stdout",
     "output_type": "stream",
     "text": [
      "0     1\n",
      "1     2\n",
      "2     4\n",
      "3     6\n",
      "4    78\n",
      "dtype: int64\n",
      "[ 1  2  4  6 78]\n",
      "RangeIndex(start=0, stop=5, step=1)\n",
      "4    78\n",
      "dtype: int64\n",
      "2\n",
      "{'rabo': 2, 'yusuf': 40, 'ben': 67}\n"
     ]
    }
   ],
   "source": [
    "from pandas import Series, DataFrame\n",
    "\n",
    "arr = Series([1, 2, 4, 6, 78])\n",
    "print(arr)\n",
    "print(arr.values)\n",
    "print(arr.index)\n",
    "print(arr[arr> 6])\n",
    "arr_name = Series([2, 40, 67], index=['rabo', 'yusuf', 'ben'])\n",
    "print(arr_name['rabo'])\n",
    "dict_r = arr_name.to_dict()\n",
    "print(dict_r)\n"
   ]
  },
  {
   "cell_type": "code",
   "execution_count": 17,
   "metadata": {},
   "outputs": [
    {
     "name": "stdout",
     "output_type": "stream",
     "text": [
      "name    2\n",
      "age     4\n",
      "gold    6\n",
      "dtype: int64\n",
      "False\n",
      "True\n",
      "['a' 'b' 's' 'j' 'd' 'k' 'r' 'w' 'm' 'e' 'c' 'u']\n",
      "12\n",
      "a    3\n",
      "s    3\n",
      "b    2\n",
      "j    2\n",
      "k    2\n",
      "d    1\n",
      "r    1\n",
      "w    1\n",
      "m    1\n",
      "e    1\n",
      "c    1\n",
      "u    1\n",
      "dtype: int64\n"
     ]
    }
   ],
   "source": [
    "import pandas as pd\n",
    "arr =pd.Series([2,4, 6], index=['name', 'age', 'gold'])\n",
    "print(arr)\n",
    "print(pd.isnull(arr['name']))\n",
    "print(pd.notnull(arr['name']))\n",
    "letter_arr = pd.Series(list('ababsjdjakrwsmekscu'))\n",
    "print(letter_arr.unique())\n",
    "print(letter_arr.nunique())\n",
    "print(letter_arr.value_counts())\n",
    "print(letter_arr.value_counts()['a'])"
   ]
  },
  {
   "cell_type": "code",
   "execution_count": null,
   "metadata": {},
   "outputs": [],
   "source": []
  }
 ],
 "metadata": {
  "kernelspec": {
   "display_name": "base",
   "language": "python",
   "name": "python3"
  },
  "language_info": {
   "codemirror_mode": {
    "name": "ipython",
    "version": 3
   },
   "file_extension": ".py",
   "mimetype": "text/x-python",
   "name": "python",
   "nbconvert_exporter": "python",
   "pygments_lexer": "ipython3",
   "version": "3.10.9"
  }
 },
 "nbformat": 4,
 "nbformat_minor": 2
}
