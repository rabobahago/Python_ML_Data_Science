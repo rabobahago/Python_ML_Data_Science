{
 "cells": [
  {
   "cell_type": "code",
   "execution_count": 6,
   "metadata": {},
   "outputs": [
    {
     "name": "stdout",
     "output_type": "stream",
     "text": [
      "0     1\n",
      "1     2\n",
      "2     4\n",
      "3     6\n",
      "4    78\n",
      "dtype: int64\n",
      "[ 1  2  4  6 78]\n",
      "RangeIndex(start=0, stop=5, step=1)\n",
      "4    78\n",
      "dtype: int64\n",
      "2\n",
      "{'rabo': 2, 'yusuf': 40, 'ben': 67}\n"
     ]
    }
   ],
   "source": [
    "from pandas import Series, DataFrame\n",
    "\n",
    "arr = Series([1, 2, 4, 6, 78])\n",
    "print(arr)\n",
    "print(arr.values)\n",
    "print(arr.index)\n",
    "print(arr[arr> 6])\n",
    "arr_name = Series([2, 40, 67], index=['rabo', 'yusuf', 'ben'])\n",
    "print(arr_name['rabo'])\n",
    "dict_r = arr_name.to_dict()\n",
    "print(dict_r)\n"
   ]
  },
  {
   "cell_type": "code",
   "execution_count": 18,
   "metadata": {},
   "outputs": [
    {
     "name": "stdout",
     "output_type": "stream",
     "text": [
      "name    2\n",
      "age     4\n",
      "gold    6\n",
      "dtype: int64\n",
      "False\n",
      "True\n",
      "['a' 'b' 's' 'j' 'd' 'k' 'r' 'w' 'm' 'e' 'c' 'u']\n",
      "12\n",
      "a    3\n",
      "s    3\n",
      "b    2\n",
      "j    2\n",
      "k    2\n",
      "d    1\n",
      "r    1\n",
      "w    1\n",
      "m    1\n",
      "e    1\n",
      "c    1\n",
      "u    1\n",
      "dtype: int64\n",
      "3\n"
     ]
    }
   ],
   "source": [
    "import pandas as pd\n",
    "arr =pd.Series([2,4, 6], index=['name', 'age', 'gold'])\n",
    "print(arr)\n",
    "print(pd.isnull(arr['name']))\n",
    "print(pd.notnull(arr['name']))\n",
    "letter_arr = pd.Series(list('ababsjdjakrwsmekscu'))\n",
    "print(letter_arr.unique())\n",
    "print(letter_arr.nunique())\n",
    "print(letter_arr.value_counts())\n",
    "print(letter_arr.value_counts()['a'])"
   ]
  },
  {
   "cell_type": "code",
   "execution_count": 22,
   "metadata": {},
   "outputs": [
    {
     "name": "stdout",
     "output_type": "stream",
     "text": [
      "A    1\n",
      "B    2\n",
      "C    0\n",
      "dtype: int64\n",
      "C    0\n",
      "A    1\n",
      "B    2\n",
      "dtype: int64\n",
      "C    1.0\n",
      "A    2.0\n",
      "B    3.0\n",
      "dtype: float64\n"
     ]
    }
   ],
   "source": [
    "import pandas as pd\n",
    "ser1 = pd.Series(range(3),index=['C','A','B'])\n",
    "print(ser1.sort_index())\n",
    "print(ser1.sort_values())\n",
    "print(ser1.rank())"
   ]
  },
  {
   "cell_type": "code",
   "execution_count": 24,
   "metadata": {},
   "outputs": [
    {
     "name": "stdout",
     "output_type": "stream",
     "text": [
      "                                   import webbrowser\n",
      "0  website = 'http://en.wikipedia.org/wiki/NFL_wi...\n",
      "1                           webbrowser.open(website)\n",
      "2               copy the first five rows (edit/copy)\n",
      "3  nfl_frame = pd.read_clipboard(engine='python',...\n"
     ]
    }
   ],
   "source": [
    "import webbrowser\n",
    "website = 'http://en.wikipedia.org/wiki/NFL_win-loss_records'\n",
    "webbrowser.open(website)\n",
    "# copy the first five rows (edit/copy)\n",
    "nfl_frame = pd.read_clipboard(engine='python', sep='\\t+')\n",
    "print(nfl_frame)"
   ]
  },
  {
   "cell_type": "code",
   "execution_count": 32,
   "metadata": {},
   "outputs": [
    {
     "name": "stdout",
     "output_type": "stream",
     "text": [
      "A    0\n",
      "B    1\n",
      "C    2\n",
      "D    3\n",
      "E    4\n",
      "F    5\n",
      "dtype: int32\n",
      "A    0\n",
      "D    3\n",
      "dtype: int32\n",
      "A    0\n",
      "B    1\n",
      "dtype: int32\n",
      "F    5\n",
      "dtype: int32\n"
     ]
    }
   ],
   "source": [
    "import pandas as pd\n",
    "import numpy as np\n",
    "arr = pd.Series(np.arange(6), index=['A', 'B', 'C', 'D', 'E', 'F'])\n",
    "print(arr)\n",
    "print(arr[['A', 'D']])\n",
    "print(arr[0:2])\n",
    "print(arr[arr > 4])"
   ]
  },
  {
   "cell_type": "code",
   "execution_count": 38,
   "metadata": {},
   "outputs": [
    {
     "name": "stdout",
     "output_type": "stream",
     "text": [
      "NYC     0\n",
      "LA      5\n",
      "SF     10\n",
      "DC     15\n",
      "Chi    20\n",
      "Name: A, dtype: int32\n",
      "0\n",
      "     A  B  C  D  E\n",
      "NYC  0  1  2  3  4\n"
     ]
    }
   ],
   "source": [
    "import pandas as pd\n",
    "import numpy as np\n",
    "dframe = DataFrame(np.arange(25).reshape((5,5)),\n",
    "index=['NYC','LA','SF','DC','Chi'],columns=['A','B','C','D','E'])\n",
    "print(dframe['A'])\n",
    "print(dframe['A']['NYC'])\n",
    "print(dframe[dframe['A'] < 2])\n",
    "print(dframe[['A', 'C']])"
   ]
  },
  {
   "cell_type": "code",
   "execution_count": null,
   "metadata": {},
   "outputs": [],
   "source": []
  }
 ],
 "metadata": {
  "kernelspec": {
   "display_name": "base",
   "language": "python",
   "name": "python3"
  },
  "language_info": {
   "codemirror_mode": {
    "name": "ipython",
    "version": 3
   },
   "file_extension": ".py",
   "mimetype": "text/x-python",
   "name": "python",
   "nbconvert_exporter": "python",
   "pygments_lexer": "ipython3",
   "version": "3.10.9"
  }
 },
 "nbformat": 4,
 "nbformat_minor": 2
}
