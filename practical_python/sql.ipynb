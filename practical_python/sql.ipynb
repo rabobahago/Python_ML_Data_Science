{
 "cells": [
  {
   "cell_type": "code",
   "execution_count": 2,
   "metadata": {},
   "outputs": [],
   "source": [
    "import sqlite3\n",
    "conn = sqlite3.connect('music.sqlite')\n",
    "cur = conn.cursor()\n",
    "cur.execute('DROP TABLE IF EXISTS Tracks')\n",
    "cur.execute('CREATE TABLE Tracks (title TEXT, plays INTEGER)')\n",
    "conn.close()"
   ]
  },
  {
   "cell_type": "code",
   "execution_count": 6,
   "metadata": {},
   "outputs": [
    {
     "name": "stderr",
     "output_type": "stream",
     "text": [
      "<>:4: SyntaxWarning: 'str' object is not callable; perhaps you missed a comma?\n",
      "<>:4: SyntaxWarning: 'str' object is not callable; perhaps you missed a comma?\n",
      "C:\\Users\\Rabo Yusuf\\AppData\\Local\\Temp\\ipykernel_5272\\4021135359.py:4: SyntaxWarning: 'str' object is not callable; perhaps you missed a comma?\n",
      "  cur.execute(\"INSERT INTO Track (title, plays) VALUES(?, ?)\" ('Love all', 12))\n",
      "C:\\Users\\Rabo Yusuf\\AppData\\Local\\Temp\\ipykernel_5272\\4021135359.py:4: SyntaxWarning: 'str' object is not callable; perhaps you missed a comma?\n",
      "  cur.execute(\"INSERT INTO Track (title, plays) VALUES(?, ?)\" ('Love all', 12))\n",
      "C:\\Users\\Rabo Yusuf\\AppData\\Local\\Temp\\ipykernel_5272\\4021135359.py:4: SyntaxWarning: 'str' object is not callable; perhaps you missed a comma?\n",
      "  cur.execute(\"INSERT INTO Track (title, plays) VALUES(?, ?)\" ('Love all', 12))\n",
      "C:\\Users\\Rabo Yusuf\\AppData\\Local\\Temp\\ipykernel_5272\\4021135359.py:4: SyntaxWarning: 'str' object is not callable; perhaps you missed a comma?\n",
      "  cur.execute(\"INSERT INTO Track (title, plays) VALUES(?, ?)\" ('Love all', 12))\n"
     ]
    },
    {
     "ename": "TypeError",
     "evalue": "'str' object is not callable",
     "output_type": "error",
     "traceback": [
      "\u001b[1;31m---------------------------------------------------------------------------\u001b[0m",
      "\u001b[1;31mTypeError\u001b[0m                                 Traceback (most recent call last)",
      "\u001b[1;32mc:\\Users\\Rabo Yusuf\\Desktop\\Python-Crash-Course\\practical_python\\sql.ipynb Cell 2\u001b[0m line \u001b[0;36m4\n\u001b[0;32m      <a href='vscode-notebook-cell:/c%3A/Users/Rabo%20Yusuf/Desktop/Python-Crash-Course/practical_python/sql.ipynb#W1sZmlsZQ%3D%3D?line=1'>2</a>\u001b[0m conn \u001b[39m=\u001b[39m sqlite3\u001b[39m.\u001b[39mconnect(\u001b[39m'\u001b[39m\u001b[39mmusic.sqlite\u001b[39m\u001b[39m'\u001b[39m)\n\u001b[0;32m      <a href='vscode-notebook-cell:/c%3A/Users/Rabo%20Yusuf/Desktop/Python-Crash-Course/practical_python/sql.ipynb#W1sZmlsZQ%3D%3D?line=2'>3</a>\u001b[0m cur \u001b[39m=\u001b[39m conn\u001b[39m.\u001b[39mcursor()\n\u001b[1;32m----> <a href='vscode-notebook-cell:/c%3A/Users/Rabo%20Yusuf/Desktop/Python-Crash-Course/practical_python/sql.ipynb#W1sZmlsZQ%3D%3D?line=3'>4</a>\u001b[0m cur\u001b[39m.\u001b[39mexecute(\u001b[39m\"\u001b[39;49m\u001b[39mINSERT INTO Track (title, plays) VALUES(?, ?)\u001b[39;49m\u001b[39m\"\u001b[39;49m (\u001b[39m'\u001b[39;49m\u001b[39mLove all\u001b[39;49m\u001b[39m'\u001b[39;49m, \u001b[39m12\u001b[39;49m))\n\u001b[0;32m      <a href='vscode-notebook-cell:/c%3A/Users/Rabo%20Yusuf/Desktop/Python-Crash-Course/practical_python/sql.ipynb#W1sZmlsZQ%3D%3D?line=4'>5</a>\u001b[0m conn\u001b[39m.\u001b[39mcommit()\n",
      "\u001b[1;31mTypeError\u001b[0m: 'str' object is not callable"
     ]
    }
   ],
   "source": [
    "import sqlite3\n",
    "conn = sqlite3.connect('music.sqlite')\n",
    "cur = conn.cursor()\n",
    "cur.execute(\"INSERT INTO Track (title, plays) VALUES(?, ?)\" ('Love all', 12))\n",
    "conn.commit()"
   ]
  },
  {
   "cell_type": "code",
   "execution_count": null,
   "metadata": {},
   "outputs": [],
   "source": []
  }
 ],
 "metadata": {
  "kernelspec": {
   "display_name": "base",
   "language": "python",
   "name": "python3"
  },
  "language_info": {
   "codemirror_mode": {
    "name": "ipython",
    "version": 3
   },
   "file_extension": ".py",
   "mimetype": "text/x-python",
   "name": "python",
   "nbconvert_exporter": "python",
   "pygments_lexer": "ipython3",
   "version": "3.10.9"
  }
 },
 "nbformat": 4,
 "nbformat_minor": 2
}
