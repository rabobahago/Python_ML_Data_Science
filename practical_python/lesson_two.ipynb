{
 "cells": [
  {
   "cell_type": "code",
   "execution_count": 15,
   "metadata": {},
   "outputs": [
    {
     "name": "stdout",
     "output_type": "stream",
     "text": [
      "respectively. mode append and write read, in file binary a open to used be should 'ab' 'wb', 'rb', windows On does. windows but files text from files binary distinguish not does Unix"
     ]
    }
   ],
   "source": [
    "def file_open(filename):\n",
    "    file = open(filename, 'r')\n",
    "    text =file.read().split()[::-1]\n",
    "    text = ' '.join(text)\n",
    "    print(text, end='')\n",
    "file_open('text.txt')"
   ]
  },
  {
   "cell_type": "code",
   "execution_count": 2,
   "metadata": {},
   "outputs": [
    {
     "data": {
      "text/plain": [
       "[(1, 'a'), (2, 'b'), (3, 'c')]"
      ]
     },
     "execution_count": 2,
     "metadata": {},
     "output_type": "execute_result"
    }
   ],
   "source": [
    "def zip_zip(list_1, list_2):\n",
    "    result = [(x, y) for x,y in zip(list_1, list_2)]\n",
    "    return result\n",
    "zip_zip([1, 2, 3], [\"a\", \"b\", \"c\"])"
   ]
  },
  {
   "cell_type": "code",
   "execution_count": 10,
   "metadata": {},
   "outputs": [
    {
     "name": "stdout",
     "output_type": "stream",
     "text": [
      "[0, 1, 4, 9, 16, 25, 36, 49, 64, 81, 100]\n",
      "[2, 4, 6, 8, 10]\n"
     ]
    }
   ],
   "source": [
    "square =lambda x :  x * x\n",
    "result = map(square, range(11))\n",
    "print(list(result))\n",
    "even = lambda x : x % 2 == 0\n",
    "result = filter(even, range(1, 11))\n",
    "print(list(result))"
   ]
  }
 ],
 "metadata": {
  "kernelspec": {
   "display_name": "base",
   "language": "python",
   "name": "python3"
  },
  "language_info": {
   "codemirror_mode": {
    "name": "ipython",
    "version": 3
   },
   "file_extension": ".py",
   "mimetype": "text/x-python",
   "name": "python",
   "nbconvert_exporter": "python",
   "pygments_lexer": "ipython3",
   "version": "3.10.9"
  }
 },
 "nbformat": 4,
 "nbformat_minor": 2
}
