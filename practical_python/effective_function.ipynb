{
 "cells": [
  {
   "cell_type": "code",
   "execution_count": 3,
   "metadata": {},
   "outputs": [
    {
     "data": {
      "text/plain": [
       "'yell'"
      ]
     },
     "execution_count": 3,
     "metadata": {},
     "output_type": "execute_result"
    }
   ],
   "source": [
    "def yell(text):\n",
    "    return text.upper() + '!'\n",
    "yell('hello world!')\n",
    "bark = yell\n",
    "bark('hello')\n",
    "bark.__name__"
   ]
  },
  {
   "cell_type": "code",
   "execution_count": 4,
   "metadata": {},
   "outputs": [
    {
     "name": "stdout",
     "output_type": "stream",
     "text": [
      "<function yell at 0x00000215963C7370> HELLO WORLD!\n",
      "<method 'lower' of 'str' objects> hello world\n",
      "<method 'capitalize' of 'str' objects> Hello world\n"
     ]
    }
   ],
   "source": [
    "def yell(text):\n",
    "    return text.upper() + '!'\n",
    "bark = yell\n",
    "list_func = [bark, str.lower, str.capitalize]\n",
    "for f in list_func:\n",
    "    print(f, f('hello world'))"
   ]
  },
  {
   "cell_type": "code",
   "execution_count": 6,
   "metadata": {},
   "outputs": [
    {
     "name": "stdout",
     "output_type": "stream",
     "text": [
      "HI, I AM A PYTHON PROGRAM!\n"
     ]
    }
   ],
   "source": [
    "def greet(func):\n",
    "    greeting = func('Hi, I am a Python program')\n",
    "    print(greeting)\n",
    "def yell(text):\n",
    "    return text.upper() + '!'\n",
    "bark = yell\n",
    "greet(bark)"
   ]
  },
  {
   "cell_type": "code",
   "execution_count": 8,
   "metadata": {},
   "outputs": [
    {
     "data": {
      "text/plain": [
       "['HI', 'HELLO', 'WORLD']"
      ]
     },
     "execution_count": 8,
     "metadata": {},
     "output_type": "execute_result"
    }
   ],
   "source": [
    "# higher order function\n",
    "func = lambda x: x.upper()\n",
    "list(map(func, ['hi', 'hello', 'world']))"
   ]
  },
  {
   "cell_type": "code",
   "execution_count": 9,
   "metadata": {},
   "outputs": [
    {
     "data": {
      "text/plain": [
       "'HI EVERYONE'"
      ]
     },
     "execution_count": 9,
     "metadata": {},
     "output_type": "execute_result"
    }
   ],
   "source": [
    "def whisper(text):\n",
    "    turn_upper = lambda x: x.upper()\n",
    "    return(turn_upper(text))\n",
    "whisper('Hi everyone')"
   ]
  },
  {
   "cell_type": "code",
   "execution_count": 21,
   "metadata": {},
   "outputs": [
    {
     "data": {
      "text/plain": [
       "'HI, YOU'"
      ]
     },
     "execution_count": 21,
     "metadata": {},
     "output_type": "execute_result"
    }
   ],
   "source": [
    "def whisper(num):\n",
    "    def lower_than(text):\n",
    "        return text.lower()\n",
    "    def upper_than(text):\n",
    "        return text.upper()\n",
    "    if num < 0.44:\n",
    "        return lower_than\n",
    "    return upper_than\n",
    "last_call = whisper(0.23)\n",
    "last_call('Hello EveryOne')\n",
    "final_call = whisper(0.90)\n",
    "final_call('Hi, you')\n"
   ]
  },
  {
   "cell_type": "code",
   "execution_count": 22,
   "metadata": {},
   "outputs": [
    {
     "data": {
      "text/plain": [
       "7"
      ]
     },
     "execution_count": 22,
     "metadata": {},
     "output_type": "execute_result"
    }
   ],
   "source": [
    "class Adder:\n",
    "    def __init__(self, n):\n",
    "        self.n = n\n",
    "    def __call__(self, x):\n",
    "        return self.n + x\n",
    "plus_3 = Adder(3)\n",
    "plus_3(4)"
   ]
  },
  {
   "cell_type": "code",
   "execution_count": 29,
   "metadata": {},
   "outputs": [
    {
     "data": {
      "text/plain": [
       "[(1, 'd'), (-1, 'k'), (2, 'b'), (3, 'c'), (-3, 'g'), (4, 'a')]"
      ]
     },
     "execution_count": 29,
     "metadata": {},
     "output_type": "execute_result"
    }
   ],
   "source": [
    "tuples = [(1, 'd'), (2, 'b'), (4, 'a'), (3, 'c'), (-1, 'k'), (-3, 'g')]\n",
    "sorted(tuples, key=lambda x: x[1])\n",
    "sorted(tuples, key=lambda x: x[0] * x[0])"
   ]
  },
  {
   "cell_type": "code",
   "execution_count": 30,
   "metadata": {},
   "outputs": [
    {
     "data": {
      "text/plain": [
       "890"
      ]
     },
     "execution_count": 30,
     "metadata": {},
     "output_type": "execute_result"
    }
   ],
   "source": [
    "def whisper(n):\n",
    "    return lambda x: x + n\n",
    "next = whisper(800)\n",
    "next(90)"
   ]
  },
  {
   "cell_type": "code",
   "execution_count": 31,
   "metadata": {},
   "outputs": [
    {
     "data": {
      "text/plain": [
       "'Hello'"
      ]
     },
     "execution_count": 31,
     "metadata": {},
     "output_type": "execute_result"
    }
   ],
   "source": [
    "def null_decorator(func):\n",
    "    return func\n",
    "def greet():\n",
    "    return 'Hello'\n",
    "call_decorator =null_decorator(greet)\n",
    "call_decorator()\n"
   ]
  },
  {
   "cell_type": "code",
   "execution_count": 32,
   "metadata": {},
   "outputs": [
    {
     "data": {
      "text/plain": [
       "'Hello!'"
      ]
     },
     "execution_count": 32,
     "metadata": {},
     "output_type": "execute_result"
    }
   ],
   "source": [
    "@null_decorator\n",
    "def greet():\n",
    "    return 'Hello!'\n",
    "greet()"
   ]
  },
  {
   "cell_type": "code",
   "execution_count": 44,
   "metadata": {},
   "outputs": [
    {
     "data": {
      "text/plain": [
       "'HELLO'"
      ]
     },
     "execution_count": 44,
     "metadata": {},
     "output_type": "execute_result"
    }
   ],
   "source": [
    "def uppercase(func):\n",
    "    def wrapper():\n",
    "        original_result = func()\n",
    "        modified_result = original_result.upper()\n",
    "        return modified_result\n",
    "    return wrapper\n",
    "def greet():\n",
    "    return 'Hello'\n",
    "call_decorator = uppercase(greet)\n",
    "call_decorator()"
   ]
  },
  {
   "cell_type": "code",
   "execution_count": 46,
   "metadata": {},
   "outputs": [
    {
     "data": {
      "text/plain": [
       "'HELLO'"
      ]
     },
     "execution_count": 46,
     "metadata": {},
     "output_type": "execute_result"
    }
   ],
   "source": [
    "@uppercase\n",
    "def greet():\n",
    "    return 'Hello'\n",
    "greet()"
   ]
  },
  {
   "cell_type": "code",
   "execution_count": 55,
   "metadata": {},
   "outputs": [
    {
     "data": {
      "text/plain": [
       "'<strong><em>Hello</em></strong>'"
      ]
     },
     "execution_count": 55,
     "metadata": {},
     "output_type": "execute_result"
    }
   ],
   "source": [
    "def strong(func):\n",
    "    def wrapper():\n",
    "        return \"<strong>\" + func() + \"</strong>\"\n",
    "    return wrapper\n",
    "def emphasis(func):\n",
    "    def wrapper():\n",
    "        return '<em>' + func() + '</em>'\n",
    "    return wrapper\n",
    "\n",
    "@strong\n",
    "@emphasis\n",
    "def greet():\n",
    "    return 'Hello'\n",
    "greet()"
   ]
  },
  {
   "cell_type": "code",
   "execution_count": 5,
   "metadata": {},
   "outputs": [
    {
     "data": {
      "text/plain": [
       "50"
      ]
     },
     "execution_count": 5,
     "metadata": {},
     "output_type": "execute_result"
    }
   ],
   "source": [
    "def func(required, *args, **kwargs):\n",
    "    sum = required\n",
    "    for num in kwargs.values():\n",
    "        sum += num\n",
    "    for num in args:\n",
    "        sum += num\n",
    "    return sum\n",
    "func(2, 4, 567)\n",
    "func(50)\n",
    "func(90, 12, 3, 4, 6, num=90, red=100)\n",
    "func(50)\n"
   ]
  },
  {
   "cell_type": "code",
   "execution_count": 7,
   "metadata": {},
   "outputs": [
    {
     "name": "stdout",
     "output_type": "stream",
     "text": [
      "True\n",
      "False\n"
     ]
    }
   ],
   "source": [
    "num = [2, 5, 6]\n",
    "t = num[:]\n",
    "print(num == t)\n",
    "print(num is t)"
   ]
  },
  {
   "cell_type": "code",
   "execution_count": 3,
   "metadata": {},
   "outputs": [
    {
     "name": "stdout",
     "output_type": "stream",
     "text": [
      "red __str__ method \n"
     ]
    },
    {
     "data": {
      "text/plain": [
       "red __repr__method"
      ]
     },
     "execution_count": 3,
     "metadata": {},
     "output_type": "execute_result"
    }
   ],
   "source": [
    "class Car:\n",
    "    def __init__(self, color) -> None:\n",
    "        self.color = color\n",
    "    def __str__(self):\n",
    "        return f'{self.color} __str__ method '\n",
    "    def __repr__(self):\n",
    "        return f'{self.color} __repr__method'\n",
    "car = Car('red')\n",
    "print(car)\n",
    "car"
   ]
  },
  {
   "cell_type": "code",
   "execution_count": 8,
   "metadata": {},
   "outputs": [
    {
     "name": "stdout",
     "output_type": "stream",
     "text": [
      "[[2, 3], [5, 6], [7, 9]] : [[2, 3], [5, 6], [7, 9]]\n",
      "[[2, 'x'], [5, 6], [7, 9]] : [[2, 'x'], [5, 6], [7, 9]]\n"
     ]
    }
   ],
   "source": [
    "#shallow copy\n",
    "xs = [[2, 3], [5, 6], [7, 9]]\n",
    "ys = list(xs)\n",
    "print(xs, \":\", ys)\n",
    "ys[0][1] = 'x'\n",
    "print(xs, \":\", ys)\n"
   ]
  },
  {
   "cell_type": "code",
   "execution_count": 9,
   "metadata": {},
   "outputs": [
    {
     "name": "stdout",
     "output_type": "stream",
     "text": [
      "[[2, 3], [5, 6], [7, 9]] : [[2, 3], [5, 6], [7, 9]]\n",
      "[[2, 3], [5, 6], [7, 9]] : [[2, 'x'], [5, 6], [7, 9]]\n"
     ]
    }
   ],
   "source": [
    "#deep copy\n",
    "import copy\n",
    "xs = [[2, 3], [5, 6], [7, 9]]\n",
    "ys = copy.deepcopy(xs)\n",
    "print(xs, \":\", ys)\n",
    "ys[0][1] = 'x'\n",
    "print(xs, \":\", ys)"
   ]
  },
  {
   "cell_type": "code",
   "execution_count": null,
   "metadata": {},
   "outputs": [],
   "source": []
  }
 ],
 "metadata": {
  "kernelspec": {
   "display_name": "base",
   "language": "python",
   "name": "python3"
  },
  "language_info": {
   "codemirror_mode": {
    "name": "ipython",
    "version": 3
   },
   "file_extension": ".py",
   "mimetype": "text/x-python",
   "name": "python",
   "nbconvert_exporter": "python",
   "pygments_lexer": "ipython3",
   "version": "3.10.9"
  }
 },
 "nbformat": 4,
 "nbformat_minor": 2
}
