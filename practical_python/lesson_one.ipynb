{
 "cells": [
  {
   "cell_type": "code",
   "execution_count": 1,
   "metadata": {},
   "outputs": [
    {
     "data": {
      "text/plain": [
       "50"
      ]
     },
     "execution_count": 1,
     "metadata": {},
     "output_type": "execute_result"
    }
   ],
   "source": [
    "def square(x):\n",
    "    return x * x\n",
    "\n",
    "\n",
    "f = square\n",
    "\n",
    "\n",
    "def sum_of_squares(f, x):\n",
    "    return f(x) + f(x)\n",
    "\n",
    "\n",
    "sum_of_squares(square, 5)\n"
   ]
  },
  {
   "cell_type": "code",
   "execution_count": 2,
   "metadata": {},
   "outputs": [
    {
     "data": {
      "text/plain": [
       "12.566370614359172"
      ]
     },
     "execution_count": 2,
     "metadata": {},
     "output_type": "execute_result"
    }
   ],
   "source": [
    "from math import pi\n",
    "\n",
    "def area(radius):\n",
    "    return pi * radius * radius\n",
    "area(2)"
   ]
  },
  {
   "cell_type": "code",
   "execution_count": 4,
   "metadata": {},
   "outputs": [
    {
     "data": {
      "text/plain": [
       "9"
      ]
     },
     "execution_count": 4,
     "metadata": {},
     "output_type": "execute_result"
    }
   ],
   "source": [
    "numcalls = 0\n",
    "def square(x):\n",
    "    global numcalls\n",
    "    numcalls = numcalls + 1\n",
    "    return x * x * numcalls\n",
    "square(3)"
   ]
  },
  {
   "cell_type": "code",
   "execution_count": 7,
   "metadata": {},
   "outputs": [
    {
     "name": "stdout",
     "output_type": "stream",
     "text": [
      "2 9\n"
     ]
    }
   ],
   "source": [
    "x = 2\n",
    "def f(a):\n",
    "    x = a * a\n",
    "    return x\n",
    "y = f(3)\n",
    "print(x, y)"
   ]
  },
  {
   "cell_type": "code",
   "execution_count": 33,
   "metadata": {},
   "outputs": [
    {
     "name": "stdout",
     "output_type": "stream",
     "text": [
      "4\n",
      "True\n",
      "True\n",
      "2\n",
      "--f=\"c:\\Users\\Rabo Yusuf\\AppData\\Roaming\\jupyter\\runtime\\kernel-v2-380030QnAB4EdrnD.json\"\n",
      "[1, 2, 3]\n",
      "[3, 4]\n",
      "67  30  20  100  "
     ]
    }
   ],
   "source": [
    "def count_int(x):\n",
    "    return len(str(x))\n",
    "\n",
    "print(count_int(2345))\n",
    "x = 100\n",
    "print(2 < x <= 100)\n",
    "print(x > 2 and x <= 100)\n",
    "\n",
    "x = 2\n",
    "if x == 2:\n",
    "    print(x)\n",
    "else:\n",
    "    x\n",
    "import time\n",
    "from sys import argv\n",
    "time.asctime()\n",
    "def add(x, y):\n",
    "    return x + y\n",
    "print(argv[1])\n",
    "\n",
    "x = [1, 2, 3, 4]\n",
    "print(x[:-1])\n",
    "print(x[-2:])\n",
    "\n",
    "nums = [100,20, 30, 67]\n",
    "for num in nums[::-1]:\n",
    "    print(num,' ' ,end='')"
   ]
  },
  {
   "cell_type": "code",
   "execution_count": 39,
   "metadata": {},
   "outputs": [
    {
     "name": "stdout",
     "output_type": "stream",
     "text": [
      "0 0 0\n",
      "1 1 1\n",
      "2 4 8\n",
      "3 9 27\n",
      "4 16 64\n",
      "5 25 125\n",
      "6 36 216\n",
      "7 49 343\n",
      "8 64 512\n",
      "9 81 729\n",
      "a 3\n",
      "b 5\n",
      "c 6\n",
      "helloworld"
     ]
    }
   ],
   "source": [
    "for i  in range(10):\n",
    "   print(i, i*i, i*i*i)\n",
    "\n",
    "lett = ['a', 'b', 'c']\n",
    "nums = [3, 5, 6]\n",
    "for n, c in zip(lett, nums):\n",
    "    print(n,c)\n",
    "def sum(string):\n",
    "    for st in string:\n",
    "        print(st, end='')\n",
    "sum(['hello', 'world'])"
   ]
  },
  {
   "cell_type": "code",
   "execution_count": 56,
   "metadata": {},
   "outputs": [
    {
     "data": {
      "text/plain": [
       "24"
      ]
     },
     "execution_count": 56,
     "metadata": {},
     "output_type": "execute_result"
    }
   ],
   "source": [
    "def product(*argv):\n",
    "    result = 0\n",
    "    for num in argv:\n",
    "        result += num\n",
    "    return result\n",
    "product(2, 3, 4, 6)\n",
    "def factorial(num):\n",
    "    result = 1\n",
    "    for i in range(2, num + 1):\n",
    "        result *= i\n",
    "    return result\n",
    "factorial(90)\n",
    "factorial(4)"
   ]
  },
  {
   "cell_type": "code",
   "execution_count": 49,
   "metadata": {},
   "outputs": [
    {
     "data": {
      "text/plain": [
       "[123, 89, 56, 3]"
      ]
     },
     "execution_count": 49,
     "metadata": {},
     "output_type": "execute_result"
    }
   ],
   "source": [
    "def reverse_list(list_num):\n",
    "    result = []\n",
    "    for ind in range(len(list_num)):\n",
    "        result.append(list_num[-(ind + 1)])\n",
    "    return result\n",
    "reverse_list([3, 56, 89, 123])"
   ]
  },
  {
   "cell_type": "code",
   "execution_count": 65,
   "metadata": {},
   "outputs": [
    {
     "data": {
      "text/plain": [
       "100"
      ]
     },
     "execution_count": 65,
     "metadata": {},
     "output_type": "execute_result"
    }
   ],
   "source": [
    "def max(list_num):\n",
    "    max_num  = float('-inf')\n",
    "    for num in list_num:\n",
    "        if num > max_num:\n",
    "            max_num = num\n",
    "    return max_num\n",
    "max([1, 2, 8,100, 23, 67])"
   ]
  },
  {
   "cell_type": "code",
   "execution_count": 52,
   "metadata": {},
   "outputs": [
    {
     "data": {
      "text/plain": [
       "[3, 9, 17]"
      ]
     },
     "execution_count": 52,
     "metadata": {},
     "output_type": "execute_result"
    }
   ],
   "source": [
    "def cumulative_sum(a_list):\n",
    "    result = []\n",
    "    sum_num = 0\n",
    "    for num in a_list:\n",
    "        sum_num += num\n",
    "        result.append(sum_num)\n",
    "    return result\n",
    "cumulative_sum([3, 6, 8,])"
   ]
  },
  {
   "cell_type": "code",
   "execution_count": 66,
   "metadata": {},
   "outputs": [
    {
     "name": "stdout",
     "output_type": "stream",
     "text": [
      "[23, 4, 56, 1, 6]\n"
     ]
    }
   ],
   "source": [
    "def unique(list):\n",
    "    result = []\n",
    "    for num in list:\n",
    "        if num in result:\n",
    "            continue\n",
    "        else:\n",
    "            result.append(num)\n",
    "    return result\n",
    "print(unique([23, 4, 56, 4, 1, 6]))"
   ]
  },
  {
   "cell_type": "code",
   "execution_count": 74,
   "metadata": {},
   "outputs": [
    {
     "name": "stdout",
     "output_type": "stream",
     "text": [
      "[4]\n"
     ]
    }
   ],
   "source": [
    "def dups(list):\n",
    "    result = []\n",
    "    for num in list:\n",
    "        count = list.count(num)\n",
    "        if count > 1:\n",
    "            result.append(num)\n",
    "    return result\n",
    "print(unique([23, 4, 56, 4, 1, 6]))"
   ]
  },
  {
   "cell_type": "code",
   "execution_count": 104,
   "metadata": {},
   "outputs": [
    {
     "data": {
      "text/plain": [
       "[[23, 4, 56, 4, 1, 6], [1]]"
      ]
     },
     "execution_count": 104,
     "metadata": {},
     "output_type": "execute_result"
    }
   ],
   "source": [
    "def group(list, size):\n",
    "    result = []\n",
    "    list_slice = list[:]\n",
    "    step = len(list) // size\n",
    "    num_cover = size * step\n",
    "    for _ in range(step):\n",
    "        list_slice = list[:size]\n",
    "        result.append(list_slice)\n",
    "        list =list[size:]\n",
    "    list = list[:num_cover]\n",
    "    result.append(list)\n",
    "    return result\n",
    "group([23, 4, 56, 4, 1, 6, 1], 6)\n"
   ]
  },
  {
   "cell_type": "code",
   "execution_count": 118,
   "metadata": {},
   "outputs": [
    {
     "name": "stdout",
     "output_type": "stream",
     "text": [
      "[12, 45, 89]\n",
      "[1, 2, 6, 8, 9, 23]\n",
      "[[3, 2], [7, 6], [12, 3]]\n",
      "[[3, 2], [12, 3], [7, 6]]\n"
     ]
    }
   ],
   "source": [
    "sort_list = [89, 45, 12]\n",
    "sort_list.sort()\n",
    "print(sort_list)\n",
    "print(sorted([6, 1, 8, 23, 2, 9]))\n",
    "\n",
    "multi_dim = [[3, 2], [12, 3], [7, 6]]\n",
    "multi_dim.sort(key = lambda x : x[0])\n",
    "print(multi_dim)\n",
    "print(sorted(multi_dim, key = lambda x : x[1]))"
   ]
  },
  {
   "cell_type": "code",
   "execution_count": 127,
   "metadata": {},
   "outputs": [
    {
     "ename": "TypeError",
     "evalue": "'type' object is not iterable",
     "output_type": "error",
     "traceback": [
      "\u001b[1;31m---------------------------------------------------------------------------\u001b[0m",
      "\u001b[1;31mTypeError\u001b[0m                                 Traceback (most recent call last)",
      "\u001b[1;32mc:\\Users\\Rabo Yusuf\\Desktop\\Python-Crash-Course\\practical_python\\lesson_one.ipynb Cell 15\u001b[0m line \u001b[0;36m1\n\u001b[0;32m      <a href='vscode-notebook-cell:/c%3A/Users/Rabo%20Yusuf/Desktop/Python-Crash-Course/practical_python/lesson_one.ipynb#X23sZmlsZQ%3D%3D?line=7'>8</a>\u001b[0m         result\u001b[39m.\u001b[39mappend(words)\n\u001b[0;32m      <a href='vscode-notebook-cell:/c%3A/Users/Rabo%20Yusuf/Desktop/Python-Crash-Course/practical_python/lesson_one.ipynb#X23sZmlsZQ%3D%3D?line=8'>9</a>\u001b[0m     \u001b[39mreturn\u001b[39;00m result\n\u001b[1;32m---> <a href='vscode-notebook-cell:/c%3A/Users/Rabo%20Yusuf/Desktop/Python-Crash-Course/practical_python/lesson_one.ipynb#X23sZmlsZQ%3D%3D?line=9'>10</a>\u001b[0m lensort([\u001b[39m'\u001b[39;49m\u001b[39mpython\u001b[39;49m\u001b[39m'\u001b[39;49m, \u001b[39m'\u001b[39;49m\u001b[39mperl\u001b[39;49m\u001b[39m'\u001b[39;49m, \u001b[39m'\u001b[39;49m\u001b[39mjava\u001b[39;49m\u001b[39m'\u001b[39;49m, \u001b[39m'\u001b[39;49m\u001b[39mc\u001b[39;49m\u001b[39m'\u001b[39;49m, \u001b[39m'\u001b[39;49m\u001b[39mhaskell\u001b[39;49m\u001b[39m'\u001b[39;49m, \u001b[39m'\u001b[39;49m\u001b[39mruby\u001b[39;49m\u001b[39m'\u001b[39;49m])\n",
      "\u001b[1;32mc:\\Users\\Rabo Yusuf\\Desktop\\Python-Crash-Course\\practical_python\\lesson_one.ipynb Cell 15\u001b[0m line \u001b[0;36m3\n\u001b[0;32m      <a href='vscode-notebook-cell:/c%3A/Users/Rabo%20Yusuf/Desktop/Python-Crash-Course/practical_python/lesson_one.ipynb#X23sZmlsZQ%3D%3D?line=0'>1</a>\u001b[0m \u001b[39mdef\u001b[39;00m \u001b[39mlensort\u001b[39m(a_list):\n\u001b[0;32m      <a href='vscode-notebook-cell:/c%3A/Users/Rabo%20Yusuf/Desktop/Python-Crash-Course/practical_python/lesson_one.ipynb#X23sZmlsZQ%3D%3D?line=1'>2</a>\u001b[0m     result \u001b[39m=\u001b[39m []\n\u001b[1;32m----> <a href='vscode-notebook-cell:/c%3A/Users/Rabo%20Yusuf/Desktop/Python-Crash-Course/practical_python/lesson_one.ipynb#X23sZmlsZQ%3D%3D?line=2'>3</a>\u001b[0m     \u001b[39mfor\u001b[39;00m lett \u001b[39min\u001b[39;00m \u001b[39mlist\u001b[39m:\n\u001b[0;32m      <a href='vscode-notebook-cell:/c%3A/Users/Rabo%20Yusuf/Desktop/Python-Crash-Course/practical_python/lesson_one.ipynb#X23sZmlsZQ%3D%3D?line=3'>4</a>\u001b[0m         words \u001b[39m=\u001b[39m \u001b[39m'\u001b[39m\u001b[39m'\u001b[39m\n\u001b[0;32m      <a href='vscode-notebook-cell:/c%3A/Users/Rabo%20Yusuf/Desktop/Python-Crash-Course/practical_python/lesson_one.ipynb#X23sZmlsZQ%3D%3D?line=4'>5</a>\u001b[0m         \u001b[39mfor\u001b[39;00m lett1 \u001b[39min\u001b[39;00m \u001b[39mrange\u001b[39m(\u001b[39m1\u001b[39m, \u001b[39mlen\u001b[39m(\u001b[39mlist\u001b[39m)):\n",
      "\u001b[1;31mTypeError\u001b[0m: 'type' object is not iterable"
     ]
    }
   ],
   "source": [
    "def lensort(a_list):\n",
    "    result = []\n",
    "    for lett in a_list:\n",
    "        words = ''\n",
    "        for lett1 in range(1, len(a_list)):\n",
    "            if len(lett) < len(list[lett1]):\n",
    "                words = list[lett1]\n",
    "        result.append(words)\n",
    "    return result\n",
    "lensort(['python', 'perl', 'java', 'c', 'haskell', 'ruby'])"
   ]
  }
 ],
 "metadata": {
  "kernelspec": {
   "display_name": "base",
   "language": "python",
   "name": "python3"
  },
  "language_info": {
   "codemirror_mode": {
    "name": "ipython",
    "version": 3
   },
   "file_extension": ".py",
   "mimetype": "text/x-python",
   "name": "python",
   "nbconvert_exporter": "python",
   "pygments_lexer": "ipython3",
   "version": "3.10.9"
  }
 },
 "nbformat": 4,
 "nbformat_minor": 2
}
