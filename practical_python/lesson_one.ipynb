{
 "cells": [
  {
   "cell_type": "code",
   "execution_count": 1,
   "metadata": {},
   "outputs": [
    {
     "data": {
      "text/plain": [
       "50"
      ]
     },
     "execution_count": 1,
     "metadata": {},
     "output_type": "execute_result"
    }
   ],
   "source": [
    "def square(x):\n",
    "    return x * x\n",
    "\n",
    "\n",
    "f = square\n",
    "\n",
    "\n",
    "def sum_of_squares(f, x):\n",
    "    return f(x) + f(x)\n",
    "\n",
    "\n",
    "sum_of_squares(square, 5)\n"
   ]
  },
  {
   "cell_type": "code",
   "execution_count": 2,
   "metadata": {},
   "outputs": [
    {
     "data": {
      "text/plain": [
       "12.566370614359172"
      ]
     },
     "execution_count": 2,
     "metadata": {},
     "output_type": "execute_result"
    }
   ],
   "source": [
    "from math import pi\n",
    "\n",
    "def area(radius):\n",
    "    return pi * radius * radius\n",
    "area(2)"
   ]
  },
  {
   "cell_type": "code",
   "execution_count": 4,
   "metadata": {},
   "outputs": [
    {
     "data": {
      "text/plain": [
       "9"
      ]
     },
     "execution_count": 4,
     "metadata": {},
     "output_type": "execute_result"
    }
   ],
   "source": [
    "numcalls = 0\n",
    "def square(x):\n",
    "    global numcalls\n",
    "    numcalls = numcalls + 1\n",
    "    return x * x * numcalls\n",
    "square(3)"
   ]
  },
  {
   "cell_type": "code",
   "execution_count": 7,
   "metadata": {},
   "outputs": [
    {
     "name": "stdout",
     "output_type": "stream",
     "text": [
      "2 9\n"
     ]
    }
   ],
   "source": [
    "x = 2\n",
    "def f(a):\n",
    "    x = a * a\n",
    "    return x\n",
    "y = f(3)\n",
    "print(x, y)"
   ]
  },
  {
   "cell_type": "code",
   "execution_count": 33,
   "metadata": {},
   "outputs": [
    {
     "name": "stdout",
     "output_type": "stream",
     "text": [
      "4\n",
      "True\n",
      "True\n",
      "2\n",
      "--f=\"c:\\Users\\Rabo Yusuf\\AppData\\Roaming\\jupyter\\runtime\\kernel-v2-380030QnAB4EdrnD.json\"\n",
      "[1, 2, 3]\n",
      "[3, 4]\n",
      "67  30  20  100  "
     ]
    }
   ],
   "source": [
    "def count_int(x):\n",
    "    return len(str(x))\n",
    "\n",
    "print(count_int(2345))\n",
    "x = 100\n",
    "print(2 < x <= 100)\n",
    "print(x > 2 and x <= 100)\n",
    "\n",
    "x = 2\n",
    "if x == 2:\n",
    "    print(x)\n",
    "else:\n",
    "    x\n",
    "import time\n",
    "from sys import argv\n",
    "time.asctime()\n",
    "def add(x, y):\n",
    "    return x + y\n",
    "print(argv[1])\n",
    "\n",
    "x = [1, 2, 3, 4]\n",
    "print(x[:-1])\n",
    "print(x[-2:])\n",
    "\n",
    "nums = [100,20, 30, 67]\n",
    "for num in nums[::-1]:\n",
    "    print(num,' ' ,end='')"
   ]
  },
  {
   "cell_type": "code",
   "execution_count": 39,
   "metadata": {},
   "outputs": [
    {
     "name": "stdout",
     "output_type": "stream",
     "text": [
      "0 0 0\n",
      "1 1 1\n",
      "2 4 8\n",
      "3 9 27\n",
      "4 16 64\n",
      "5 25 125\n",
      "6 36 216\n",
      "7 49 343\n",
      "8 64 512\n",
      "9 81 729\n",
      "a 3\n",
      "b 5\n",
      "c 6\n",
      "helloworld"
     ]
    }
   ],
   "source": [
    "for i  in range(10):\n",
    "   print(i, i*i, i*i*i)\n",
    "\n",
    "lett = ['a', 'b', 'c']\n",
    "nums = [3, 5, 6]\n",
    "for n, c in zip(lett, nums):\n",
    "    print(n,c)\n",
    "def sum(string):\n",
    "    for st in string:\n",
    "        print(st, end='')\n",
    "sum(['hello', 'world'])"
   ]
  },
  {
   "cell_type": "code",
   "execution_count": 43,
   "metadata": {},
   "outputs": [
    {
     "data": {
      "text/plain": [
       "24"
      ]
     },
     "execution_count": 43,
     "metadata": {},
     "output_type": "execute_result"
    }
   ],
   "source": [
    "def product(*argv):\n",
    "    result = 0\n",
    "    for num in argv:\n",
    "        result += num\n",
    "    return result\n",
    "product(2, 3, 4, 6)\n",
    "def factorial(num):\n",
    "    result = 1\n",
    "    for i in range(2, num + 1):\n",
    "        result *= i\n",
    "    return result\n",
    "factorial(90)\n",
    "factorial(4)"
   ]
  },
  {
   "cell_type": "code",
   "execution_count": 48,
   "metadata": {},
   "outputs": [
    {
     "data": {
      "text/plain": [
       "[3, 56, 89, 123]"
      ]
     },
     "execution_count": 48,
     "metadata": {},
     "output_type": "execute_result"
    }
   ],
   "source": [
    "def reverse_list(list_num):\n",
    "    result = []\n",
    "    for ind in range(len(list_num)):\n",
    "        result.append(list_num[-(ind + 1)])\n",
    "    return result\n",
    "reverse_list([3, 56, 89, 123])"
   ]
  },
  {
   "cell_type": "code",
   "execution_count": null,
   "metadata": {},
   "outputs": [],
   "source": []
  }
 ],
 "metadata": {
  "kernelspec": {
   "display_name": "base",
   "language": "python",
   "name": "python3"
  },
  "language_info": {
   "codemirror_mode": {
    "name": "ipython",
    "version": 3
   },
   "file_extension": ".py",
   "mimetype": "text/x-python",
   "name": "python",
   "nbconvert_exporter": "python",
   "pygments_lexer": "ipython3",
   "version": "3.10.9"
  }
 },
 "nbformat": 4,
 "nbformat_minor": 2
}
