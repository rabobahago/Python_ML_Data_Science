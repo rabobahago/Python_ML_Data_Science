{
 "cells": [
  {
   "cell_type": "code",
   "execution_count": 1,
   "metadata": {},
   "outputs": [
    {
     "data": {
      "text/plain": [
       "57000"
      ]
     },
     "execution_count": 1,
     "metadata": {},
     "output_type": "execute_result"
    }
   ],
   "source": [
    "balance = 0\n",
    "def deposit(amount):\n",
    "    global balance\n",
    "    balance += amount\n",
    "    return balance\n",
    "def withdraw(amount):\n",
    "    global balance\n",
    "    balance -= amount\n",
    "    return balance\n",
    "\n",
    "deposit(60000)\n",
    "withdraw(3000)"
   ]
  },
  {
   "cell_type": "code",
   "execution_count": 3,
   "metadata": {},
   "outputs": [
    {
     "data": {
      "text/plain": [
       "100"
      ]
     },
     "execution_count": 3,
     "metadata": {},
     "output_type": "execute_result"
    }
   ],
   "source": [
    "def make_account():\n",
    "    return {'balance': 0}\n",
    "\n",
    "def deposit(account, amount):\n",
    "    account['balance'] += amount\n",
    "    return account['balance']\n",
    "\n",
    "def withdraw(account, amount):\n",
    "    account['balance'] -= amount\n",
    "    return account['balance']\n",
    "a = make_account()\n",
    "b = make_account()\n",
    "deposit(a, 100)\n"
   ]
  },
  {
   "cell_type": "code",
   "execution_count": 7,
   "metadata": {},
   "outputs": [
    {
     "name": "stdout",
     "output_type": "stream",
     "text": [
      "900\n",
      "850\n"
     ]
    }
   ],
   "source": [
    "class BankAccount:\n",
    "    def __init__(self) -> None:\n",
    "        self.balance = 0\n",
    "    def deposit(self, amount)->int:\n",
    "        self.balance += amount\n",
    "        return self.balance\n",
    "    def withdraw(self, amount)->int:\n",
    "        self.balance -= amount\n",
    "        return self.balance\n",
    "    def get_balance(self)->int:\n",
    "        return self.balance\n",
    "balance = BankAccount()\n",
    "balance.deposit(900)\n",
    "print(balance.get_balance())\n",
    "balance.withdraw(50)\n",
    "print(balance.get_balance())\n",
    "\n",
    "class MinimumBalance(BankAccount):\n",
    "    def __init__(self, minimum_balance):\n",
    "        BankAccount.__init__(self)\n",
    "        self.minimum_balance = minimum_balance\n",
    "    def withdraw(self, amount):\n",
    "        if self.balance - amount < self.minimum_balance:\n",
    "            print('Insufficient Fund')\n",
    "        else:\n",
    "            BankAccount.withdraw(self, amount)\n"
   ]
  },
  {
   "cell_type": "code",
   "execution_count": 10,
   "metadata": {},
   "outputs": [
    {
     "data": {
      "text/plain": [
       "80"
      ]
     },
     "execution_count": 10,
     "metadata": {},
     "output_type": "execute_result"
    }
   ],
   "source": [
    "nums = [90, 80, 23]\n",
    "num = iter(nums)\n",
    "next(num)\n",
    "next(num)"
   ]
  },
  {
   "cell_type": "code",
   "execution_count": 12,
   "metadata": {},
   "outputs": [
    {
     "data": {
      "text/plain": [
       "2"
      ]
     },
     "execution_count": 12,
     "metadata": {},
     "output_type": "execute_result"
    }
   ],
   "source": [
    "def get_small():\n",
    "    small = None\n",
    "    for num in [90, 100, 1000, 3000, 20000, 10, 2, 3]:\n",
    "        if small is None or num < small:\n",
    "            small = num\n",
    "    return small\n",
    "get_small()"
   ]
  },
  {
   "cell_type": "code",
   "execution_count": 26,
   "metadata": {},
   "outputs": [
    {
     "name": "stdout",
     "output_type": "stream",
     "text": [
      "6\n",
      "[4, 5]\n",
      "None\n",
      "[]\n",
      "123\n",
      "86\n",
      "299\n",
      "3\n",
      "average 99.66666666666667\n"
     ]
    }
   ],
   "source": [
    "nums = [2,4, 5, 6]\n",
    "print(nums.pop())\n",
    "nums.pop(0)\n",
    "print(nums)\n",
    "print(nums.remove(4))\n",
    "nums.append(8)\n",
    "nums.append(9)\n",
    "del nums[:]\n",
    "print(nums)\n",
    "nums = [90, 86,123]\n",
    "print(max(nums))\n",
    "print(min(nums))\n",
    "print(sum(nums))\n",
    "print(len(nums))\n",
    "print('average', (sum(nums) / len(nums)))"
   ]
  },
  {
   "cell_type": "code",
   "execution_count": 28,
   "metadata": {},
   "outputs": [
    {
     "name": "stdout",
     "output_type": "stream",
     "text": [
      "Average 45.0\n"
     ]
    }
   ],
   "source": [
    "count = 0\n",
    "total = 0\n",
    "while True:\n",
    "    inp = input('Enter a sum number to be computed')\n",
    "    if inp == 'done': break\n",
    "    count += 1\n",
    "    total += float(inp)\n",
    "print('Average', total / count)\n"
   ]
  },
  {
   "cell_type": "code",
   "execution_count": 36,
   "metadata": {},
   "outputs": [
    {
     "name": "stdout",
     "output_type": "stream",
     "text": [
      "[0, 1, 2, 3, 4, 5, 6, 7, 8, 9, 10]\n",
      "[2, 3, 4, 5, 6, 7, 8, 9, 10]\n"
     ]
    }
   ],
   "source": [
    "nums = list()\n",
    "for num in range(0, 11):\n",
    "    nums = nums + [num]\n",
    "print(nums)\n",
    "del nums[0 : 2]\n",
    "print(nums)"
   ]
  },
  {
   "cell_type": "code",
   "execution_count": 38,
   "metadata": {},
   "outputs": [
    {
     "name": "stdout",
     "output_type": "stream",
     "text": [
      "{'b': 1, 'r': 2, 'o': 2, 'n': 1, 't': 1, 's': 2, 'a': 1, 'u': 2}\n"
     ]
    }
   ],
   "source": [
    "word = 'brontosaurus'\n",
    "d = dict()\n",
    "for c in word:\n",
    "    d[c] = d.get(c, 0) + 1\n",
    "print(d)"
   ]
  },
  {
   "cell_type": "code",
   "execution_count": 43,
   "metadata": {},
   "outputs": [
    {
     "data": {
      "text/plain": [
       "{'Doe, John': '123-456-7890',\n",
       " 'Smith, Jane': '987-654-3210',\n",
       " 'Johnson, Bob': '555-123-4567'}"
      ]
     },
     "execution_count": 43,
     "metadata": {},
     "output_type": "execute_result"
    }
   ],
   "source": [
    "directory = {}\n",
    "\n",
    "# Adding entries to the directory\n",
    "directory[\"Doe, John\"] = \"123-456-7890\"\n",
    "directory[\"Smith, Jane\"] = \"987-654-3210\"\n",
    "directory[\"Johnson, Bob\"] = \"555-123-4567\"\n",
    "directory"
   ]
  },
  {
   "cell_type": "code",
   "execution_count": null,
   "metadata": {},
   "outputs": [],
   "source": []
  }
 ],
 "metadata": {
  "kernelspec": {
   "display_name": "base",
   "language": "python",
   "name": "python3"
  },
  "language_info": {
   "codemirror_mode": {
    "name": "ipython",
    "version": 3
   },
   "file_extension": ".py",
   "mimetype": "text/x-python",
   "name": "python",
   "nbconvert_exporter": "python",
   "pygments_lexer": "ipython3",
   "version": "3.10.9"
  }
 },
 "nbformat": 4,
 "nbformat_minor": 2
}
