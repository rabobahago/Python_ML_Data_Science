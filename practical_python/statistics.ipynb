{
 "cells": [
  {
   "cell_type": "code",
   "execution_count": 8,
   "metadata": {},
   "outputs": [
    {
     "name": "stdout",
     "output_type": "stream",
     "text": [
      "[1, 2, 3, 4, 5, 6, 7, 8, 9, 10, 11, 12, 13, 14, 15, 16, 17, 18, 19, 20, 21, 22, 23, 24, 25, 26, 27, 28, 29, 30, 31, 32, 33, 34, 35, 36, 37, 38, 39, 40, 41, 42, 43, 44, 45, 46, 47, 48, 49, 50, 51, 52, 53, 54, 55, 56, 57, 58, 59, 60, 61, 62, 63, 64, 65, 66, 67, 68, 69, 70, 71, 72, 73, 74, 75, 76, 77, 78, 79, 80, 81, 82, 83, 84, 85, 86, 87, 88, 89, 90, 91, 92, 93, 94, 95, 96, 97, 98, 99, 100, 101, 102, 103, 104, 105, 106, 107, 108, 109, 110, 111, 112, 113, 114, 115, 116, 117, 118, 119, 120, 121, 122, 123, 124, 125, 126, 127, 128, 129, 130, 131, 132, 133, 134, 135, 136, 137, 138, 139, 140, 141, 142, 143, 144, 145, 146, 147, 148, 149, 150, 151, 152, 153, 154, 155, 156, 157, 158, 159, 160, 161, 162, 163, 164, 165, 166, 167, 168, 169, 170, 171, 172, 173, 174, 175, 176, 177, 178, 179, 180, 181, 182, 183, 184, 185, 186, 187, 188, 189, 190, 191, 192, 193, 194, 195, 196, 197, 198, 199, 200, 201, 202, 203, 204]\n",
      "204\n",
      "204\n",
      "1\n"
     ]
    }
   ],
   "source": [
    "num_friends = [x for x in range(1, 205)]\n",
    "print(num_friends)\n",
    "num_points = len(num_friends)\n",
    "print(num_points)\n",
    "large_value = max(num_friends)\n",
    "print(large_value)\n",
    "small_value = min(num_friends)\n",
    "print(small_value)"
   ]
  },
  {
   "cell_type": "code",
   "execution_count": 9,
   "metadata": {},
   "outputs": [
    {
     "data": {
      "text/plain": [
       "102.5"
      ]
     },
     "execution_count": 9,
     "metadata": {},
     "output_type": "execute_result"
    }
   ],
   "source": [
    "num_friends = [x for x in range(1, 205)]\n",
    "def mean(x):\n",
    "    return sum(x) / len(x)\n",
    "mean(num_friends)"
   ]
  },
  {
   "cell_type": "code",
   "execution_count": 11,
   "metadata": {},
   "outputs": [
    {
     "data": {
      "text/plain": [
       "102.5"
      ]
     },
     "execution_count": 11,
     "metadata": {},
     "output_type": "execute_result"
    }
   ],
   "source": [
    "num_friends = [x for x in range(1, 205)]\n",
    "def median(x):\n",
    "    n = len(x)\n",
    "    sorted_x = sorted(x)\n",
    "    middle = n // 2\n",
    "    if n % 2 == 1:\n",
    "        return sorted_x[middle]\n",
    "    else:\n",
    "        lo = middle - 1\n",
    "        return (sorted_x[lo] + sorted_x[middle]) / 2\n",
    "median(num_friends)"
   ]
  },
  {
   "cell_type": "code",
   "execution_count": 30,
   "metadata": {},
   "outputs": [
    {
     "name": "stdout",
     "output_type": "stream",
     "text": [
      "[53, 76, 15, 42, 90, 18, 75, 19, 34, 47, 6, 66, 51, 43, 68, 38, 79, 30, 77, 76, 48, 73, 58, 42, 55, 46, 32, 65, 27, 24, 35, 15, 61, 62, 50, 34, 31, 100, 82, 71, 21, 20, 31, 56, 18, 60, 54, 2, 97, 7, 28, 1, 19, 39, 33, 88, 2, 52, 26, 17, 49, 87, 96, 82, 66, 22, 7, 91, 62, 51, 96, 72, 37, 93, 24, 5, 63, 23, 20, 55, 28, 86, 3, 78, 65, 92, 59, 98, 67, 80, 49, 53, 85, 10, 6, 85, 63, 14, 91, 29, 81, 95, 33, 4, 16, 26, 45, 81, 35, 64, 75, 44, 90, 54, 11, 67, 8, 69, 93, 12, 11, 56, 50, 92, 1, 40, 9, 97, 57, 63, 72, 88, 38, 17, 8, 100, 78, 39, 36, 10, 94, 69, 12, 22, 86, 5, 60, 71, 13, 73, 25, 89, 68, 32, 64, 30, 89, 41, 61, 94, 48, 99, 29, 4, 74, 46, 44, 21, 70, 43, 52, 37, 79, 98, 83, 16, 3, 84, 45, 57, 77, 40, 84, 74, 27, 13, 59, 25, 83, 23, 58, 87, 95, 9, 41, 14, 99, 47, 36, 70, 80]\n"
     ]
    }
   ],
   "source": [
    "import random\n",
    "num_friends = [x for x in range(1, 205)]\n",
    "def quantile(x,p):\n",
    "    lo = int(p * len(x))\n",
    "    return x[lo]\n",
    "quantile(num_friends, 0.10)\n",
    "quantile(num_friends, 0.25)\n",
    "quantile(num_friends, 0.75)\n",
    "quantile(num_friends, 0.90)\n"
   ]
  },
  {
   "cell_type": "code",
   "execution_count": 34,
   "metadata": {},
   "outputs": [
    {
     "name": "stdout",
     "output_type": "stream",
     "text": [
      "Counter()\n"
     ]
    },
    {
     "ename": "ValueError",
     "evalue": "max() arg is an empty sequence",
     "output_type": "error",
     "traceback": [
      "\u001b[1;31m---------------------------------------------------------------------------\u001b[0m",
      "\u001b[1;31mValueError\u001b[0m                                Traceback (most recent call last)",
      "\u001b[1;32mc:\\Users\\Rabo Yusuf\\Desktop\\Python-Crash-Course\\practical_python\\statistics.ipynb Cell 5\u001b[0m line \u001b[0;36m1\n\u001b[0;32m      <a href='vscode-notebook-cell:/c%3A/Users/Rabo%20Yusuf/Desktop/Python-Crash-Course/practical_python/statistics.ipynb#W4sZmlsZQ%3D%3D?line=7'>8</a>\u001b[0m     max_count \u001b[39m=\u001b[39m \u001b[39mmax\u001b[39m(counts\u001b[39m.\u001b[39mvalues())\n\u001b[0;32m      <a href='vscode-notebook-cell:/c%3A/Users/Rabo%20Yusuf/Desktop/Python-Crash-Course/practical_python/statistics.ipynb#W4sZmlsZQ%3D%3D?line=8'>9</a>\u001b[0m     \u001b[39mreturn\u001b[39;00m [x_i \u001b[39mfor\u001b[39;00m x_i, count \u001b[39min\u001b[39;00m counts\u001b[39m.\u001b[39mitems() \u001b[39mif\u001b[39;00m count \u001b[39m==\u001b[39m max_count]\n\u001b[1;32m---> <a href='vscode-notebook-cell:/c%3A/Users/Rabo%20Yusuf/Desktop/Python-Crash-Course/practical_python/statistics.ipynb#W4sZmlsZQ%3D%3D?line=9'>10</a>\u001b[0m mode(num_friends)\n",
      "\u001b[1;32mc:\\Users\\Rabo Yusuf\\Desktop\\Python-Crash-Course\\practical_python\\statistics.ipynb Cell 5\u001b[0m line \u001b[0;36m8\n\u001b[0;32m      <a href='vscode-notebook-cell:/c%3A/Users/Rabo%20Yusuf/Desktop/Python-Crash-Course/practical_python/statistics.ipynb#W4sZmlsZQ%3D%3D?line=5'>6</a>\u001b[0m counts \u001b[39m=\u001b[39m Counter(x)\n\u001b[0;32m      <a href='vscode-notebook-cell:/c%3A/Users/Rabo%20Yusuf/Desktop/Python-Crash-Course/practical_python/statistics.ipynb#W4sZmlsZQ%3D%3D?line=6'>7</a>\u001b[0m \u001b[39mprint\u001b[39m(counts)\n\u001b[1;32m----> <a href='vscode-notebook-cell:/c%3A/Users/Rabo%20Yusuf/Desktop/Python-Crash-Course/practical_python/statistics.ipynb#W4sZmlsZQ%3D%3D?line=7'>8</a>\u001b[0m max_count \u001b[39m=\u001b[39m \u001b[39mmax\u001b[39;49m(counts\u001b[39m.\u001b[39;49mvalues())\n\u001b[0;32m      <a href='vscode-notebook-cell:/c%3A/Users/Rabo%20Yusuf/Desktop/Python-Crash-Course/practical_python/statistics.ipynb#W4sZmlsZQ%3D%3D?line=8'>9</a>\u001b[0m \u001b[39mreturn\u001b[39;00m [x_i \u001b[39mfor\u001b[39;00m x_i, count \u001b[39min\u001b[39;00m counts\u001b[39m.\u001b[39mitems() \u001b[39mif\u001b[39;00m count \u001b[39m==\u001b[39m max_count]\n",
      "\u001b[1;31mValueError\u001b[0m: max() arg is an empty sequence"
     ]
    }
   ],
   "source": [
    "from collections import Counter\n",
    "from random_friends import get_friends\n",
    "num_friends = get_friends()\n",
    "def mode(x):\n",
    "    \"\"\"returns a list, might be more than one mode\"\"\"\n",
    "    counts = Counter(x)\n",
    "    print(counts)\n",
    "    max_count = max(counts.values())\n",
    "    return [x_i for x_i, count in counts.items() if count == max_count]\n",
    "mode(num_friends)"
   ]
  },
  {
   "cell_type": "code",
   "execution_count": null,
   "metadata": {},
   "outputs": [],
   "source": []
  }
 ],
 "metadata": {
  "kernelspec": {
   "display_name": "base",
   "language": "python",
   "name": "python3"
  },
  "language_info": {
   "codemirror_mode": {
    "name": "ipython",
    "version": 3
   },
   "file_extension": ".py",
   "mimetype": "text/x-python",
   "name": "python",
   "nbconvert_exporter": "python",
   "pygments_lexer": "ipython3",
   "version": "3.10.9"
  }
 },
 "nbformat": 4,
 "nbformat_minor": 2
}
