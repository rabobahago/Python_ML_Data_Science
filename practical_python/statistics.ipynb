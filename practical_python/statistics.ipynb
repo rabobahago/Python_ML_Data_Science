{
 "cells": [
  {
   "cell_type": "code",
   "execution_count": 8,
   "metadata": {},
   "outputs": [
    {
     "name": "stdout",
     "output_type": "stream",
     "text": [
      "[1, 2, 3, 4, 5, 6, 7, 8, 9, 10, 11, 12, 13, 14, 15, 16, 17, 18, 19, 20, 21, 22, 23, 24, 25, 26, 27, 28, 29, 30, 31, 32, 33, 34, 35, 36, 37, 38, 39, 40, 41, 42, 43, 44, 45, 46, 47, 48, 49, 50, 51, 52, 53, 54, 55, 56, 57, 58, 59, 60, 61, 62, 63, 64, 65, 66, 67, 68, 69, 70, 71, 72, 73, 74, 75, 76, 77, 78, 79, 80, 81, 82, 83, 84, 85, 86, 87, 88, 89, 90, 91, 92, 93, 94, 95, 96, 97, 98, 99, 100, 101, 102, 103, 104, 105, 106, 107, 108, 109, 110, 111, 112, 113, 114, 115, 116, 117, 118, 119, 120, 121, 122, 123, 124, 125, 126, 127, 128, 129, 130, 131, 132, 133, 134, 135, 136, 137, 138, 139, 140, 141, 142, 143, 144, 145, 146, 147, 148, 149, 150, 151, 152, 153, 154, 155, 156, 157, 158, 159, 160, 161, 162, 163, 164, 165, 166, 167, 168, 169, 170, 171, 172, 173, 174, 175, 176, 177, 178, 179, 180, 181, 182, 183, 184, 185, 186, 187, 188, 189, 190, 191, 192, 193, 194, 195, 196, 197, 198, 199, 200, 201, 202, 203, 204]\n",
      "204\n",
      "204\n",
      "1\n"
     ]
    }
   ],
   "source": [
    "num_friends = [x for x in range(1, 205)]\n",
    "print(num_friends)\n",
    "num_points = len(num_friends)\n",
    "print(num_points)\n",
    "large_value = max(num_friends)\n",
    "print(large_value)\n",
    "small_value = min(num_friends)\n",
    "print(small_value)"
   ]
  },
  {
   "cell_type": "code",
   "execution_count": 9,
   "metadata": {},
   "outputs": [
    {
     "data": {
      "text/plain": [
       "102.5"
      ]
     },
     "execution_count": 9,
     "metadata": {},
     "output_type": "execute_result"
    }
   ],
   "source": [
    "num_friends = [x for x in range(1, 205)]\n",
    "def mean(x):\n",
    "    return sum(x) / len(x)\n",
    "mean(num_friends)"
   ]
  },
  {
   "cell_type": "code",
   "execution_count": 11,
   "metadata": {},
   "outputs": [
    {
     "data": {
      "text/plain": [
       "102.5"
      ]
     },
     "execution_count": 11,
     "metadata": {},
     "output_type": "execute_result"
    }
   ],
   "source": [
    "num_friends = [x for x in range(1, 205)]\n",
    "def median(x):\n",
    "    n = len(x)\n",
    "    sorted_x = sorted(x)\n",
    "    middle = n // 2\n",
    "    if n % 2 == 1:\n",
    "        return sorted_x[middle]\n",
    "    else:\n",
    "        lo = middle - 1\n",
    "        return (sorted_x[lo] + sorted_x[middle]) / 2\n",
    "median(num_friends)"
   ]
  },
  {
   "cell_type": "code",
   "execution_count": 30,
   "metadata": {},
   "outputs": [
    {
     "name": "stdout",
     "output_type": "stream",
     "text": [
      "[53, 76, 15, 42, 90, 18, 75, 19, 34, 47, 6, 66, 51, 43, 68, 38, 79, 30, 77, 76, 48, 73, 58, 42, 55, 46, 32, 65, 27, 24, 35, 15, 61, 62, 50, 34, 31, 100, 82, 71, 21, 20, 31, 56, 18, 60, 54, 2, 97, 7, 28, 1, 19, 39, 33, 88, 2, 52, 26, 17, 49, 87, 96, 82, 66, 22, 7, 91, 62, 51, 96, 72, 37, 93, 24, 5, 63, 23, 20, 55, 28, 86, 3, 78, 65, 92, 59, 98, 67, 80, 49, 53, 85, 10, 6, 85, 63, 14, 91, 29, 81, 95, 33, 4, 16, 26, 45, 81, 35, 64, 75, 44, 90, 54, 11, 67, 8, 69, 93, 12, 11, 56, 50, 92, 1, 40, 9, 97, 57, 63, 72, 88, 38, 17, 8, 100, 78, 39, 36, 10, 94, 69, 12, 22, 86, 5, 60, 71, 13, 73, 25, 89, 68, 32, 64, 30, 89, 41, 61, 94, 48, 99, 29, 4, 74, 46, 44, 21, 70, 43, 52, 37, 79, 98, 83, 16, 3, 84, 45, 57, 77, 40, 84, 74, 27, 13, 59, 25, 83, 23, 58, 87, 95, 9, 41, 14, 99, 47, 36, 70, 80]\n"
     ]
    }
   ],
   "source": [
    "import random\n",
    "num_friends = [x for x in range(1, 205)]\n",
    "def quantile(x,p):\n",
    "    lo = int(p * len(x))\n",
    "    return x[lo]\n",
    "quantile(num_friends, 0.10)\n",
    "quantile(num_friends, 0.25)\n",
    "quantile(num_friends, 0.75)\n",
    "quantile(num_friends, 0.90)\n"
   ]
  },
  {
   "cell_type": "code",
   "execution_count": 13,
   "metadata": {},
   "outputs": [
    {
     "name": "stdout",
     "output_type": "stream",
     "text": [
      "[100, 99, 98, 97, 96, 95, 94, 93, 92, 91, 90, 89, 88, 87, 86, 85, 84, 83, 82, 81, 80, 79, 78, 77, 76, 75, 74, 73, 72, 71, 70, 69, 68, 67, 66, 65, 64, 63, 62, 61, 60, 59, 58, 57, 56, 55, 54, 53, 52, 51, 50, 49, 48, 47, 46, 45, 44, 43, 42, 41, 40, 39, 38, 37, 36, 35, 34, 33, 32, 31, 30, 29, 28, 27, 26, 25, 24, 23, 22, 21, 20, 19, 18, 17, 16, 15, 14, 13, 12, 11, 10, 9, 8, 7, 6, 5, 4, 3, 2, 1, 100, 99, 98, 97, 96, 95, 94, 93, 92, 91, 90, 89, 88, 87, 86, 85, 84, 83, 82, 81, 80, 79, 78, 77, 76, 75, 74, 73, 72, 71, 70, 69, 68, 67, 66, 65, 64, 63, 62, 61, 60, 59, 58, 57, 56, 55, 54, 53, 52, 51, 50, 49, 48, 47, 46, 45, 44, 43, 42, 41, 40, 39, 38, 37, 36, 35, 34, 33, 32, 31, 30, 29, 28, 27, 26, 25, 24, 23, 22, 21, 20, 19, 18, 17, 16, 15, 14, 13, 12, 11, 10, 9, 8, 7, 6, 5, 4, 3, 2, 1, 31]\n"
     ]
    },
    {
     "data": {
      "text/plain": [
       "99"
      ]
     },
     "execution_count": 13,
     "metadata": {},
     "output_type": "execute_result"
    }
   ],
   "source": [
    "from collections import Counter\n",
    "\n",
    "import random\n",
    "num_friends = list(range(100, 0, -1))\n",
    "num_friends = num_friends * 2\n",
    "    # Add some additional repetitions randomly\n",
    "additional_repetitions = random.randint(1, 10)\n",
    "for _ in range(additional_repetitions):\n",
    "    element_to_repeat = random.choice(num_friends)\n",
    "num_friends.append(element_to_repeat)\n",
    "\n",
    "    # Shuffle the list to make it more randomrandom.shuffle(num_friends)\n",
    "\n",
    "print(num_friends)\n",
    "def mode(x):\n",
    "    \"\"\"returns a list, might be more than one mode\"\"\"\n",
    "    dict_x = Counter(x)\n",
    "    count = max(dict_x.values())\n",
    "    return [i_x for i_x, value in dict_x.items() if count == value]\n",
    "\n",
    "mode(num_friends)\n",
    "\n",
    "def data_range(x):\n",
    "    return max(x) - min(x)\n",
    "data_range(num_friends)"
   ]
  },
  {
   "cell_type": "code",
   "execution_count": null,
   "metadata": {},
   "outputs": [],
   "source": []
  }
 ],
 "metadata": {
  "kernelspec": {
   "display_name": "base",
   "language": "python",
   "name": "python3"
  },
  "language_info": {
   "codemirror_mode": {
    "name": "ipython",
    "version": 3
   },
   "file_extension": ".py",
   "mimetype": "text/x-python",
   "name": "python",
   "nbconvert_exporter": "python",
   "pygments_lexer": "ipython3",
   "version": "3.10.9"
  }
 },
 "nbformat": 4,
 "nbformat_minor": 2
}
