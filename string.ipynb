{
 "cells": [
  {
   "cell_type": "code",
   "execution_count": 1,
   "metadata": {},
   "outputs": [
    {
     "name": "stdout",
     "output_type": "stream",
     "text": [
      "2\n",
      "0\n",
      "3\n"
     ]
    }
   ],
   "source": [
    "# Example 1\n",
    "\n",
    "word = 'by'\n",
    "print(len(word))\n",
    "\n",
    "\n",
    "# Example 2\n",
    "\n",
    "empty = ''\n",
    "print(len(empty))\n",
    "\n",
    "\n",
    "# Example 3\n",
    "\n",
    "i_am = 'I\\'m'\n",
    "print(len(i_am))"
   ]
  },
  {
   "cell_type": "code",
   "execution_count": 2,
   "metadata": {},
   "outputs": [
    {
     "name": "stdout",
     "output_type": "stream",
     "text": [
      "Hello World\n",
      "of people\n"
     ]
    }
   ],
   "source": [
    "string = '''Hello World\n",
    "of people'''\n",
    "print(string)"
   ]
  },
  {
   "cell_type": "code",
   "execution_count": null,
   "metadata": {},
   "outputs": [],
   "source": []
  },
  {
   "cell_type": "code",
   "execution_count": 11,
   "metadata": {},
   "outputs": [
    {
     "name": "stdout",
     "output_type": "stream",
     "text": [
      "Rabo Yusuf\n",
      "RaboRaboRaboRaboRaboRabo\n",
      "Rabo Yusuf\n",
      "36\n"
     ]
    }
   ],
   "source": [
    "first_name = 'Rabo'\n",
    "last_name = 'Yusuf'\n",
    "num = 6\n",
    "print(first_name + ' '+ last_name)\n",
    "print(first_name * num, sep=' ', end='\\n')\n",
    "first_name += ' ' + last_name\n",
    "print(first_name)\n",
    "num *= num\n",
    "print(num)"
   ]
  },
  {
   "cell_type": "code",
   "execution_count": 12,
   "metadata": {},
   "outputs": [
    {
     "name": "stdout",
     "output_type": "stream",
     "text": [
      "97\n",
      "32\n"
     ]
    }
   ],
   "source": [
    "# Demonstrating the ord() function.\n",
    "\n",
    "char_1 = 'a'\n",
    "char_2 = ' '  # space\n",
    "\n",
    "print(ord(char_1))\n",
    "print(ord(char_2))\n"
   ]
  },
  {
   "cell_type": "code",
   "execution_count": 13,
   "metadata": {},
   "outputs": [
    {
     "name": "stdout",
     "output_type": "stream",
     "text": [
      "a\n",
      "α\n"
     ]
    }
   ],
   "source": [
    "# Demonstrating the chr() function.\n",
    "\n",
    "print(chr(97))\n",
    "print(chr(945))\n"
   ]
  },
  {
   "cell_type": "code",
   "execution_count": 14,
   "metadata": {},
   "outputs": [
    {
     "name": "stdout",
     "output_type": "stream",
     "text": [
      "s i l l y   w a l k s \n"
     ]
    }
   ],
   "source": [
    "the_string = 'silly walks'\n",
    "\n",
    "for ix in range(len(the_string)):\n",
    "    print(the_string[ix], end=' ')\n",
    "\n",
    "print()\n"
   ]
  },
  {
   "cell_type": "code",
   "execution_count": null,
   "metadata": {},
   "outputs": [],
   "source": [
    "# Iterating through a string.\n",
    "\n",
    "the_string = 'silly walks'\n",
    "\n",
    "for character in the_string:\n",
    "    print(character, end=' ')\n",
    "\n",
    "print()\n"
   ]
  }
 ],
 "metadata": {
  "kernelspec": {
   "display_name": "base",
   "language": "python",
   "name": "python3"
  },
  "language_info": {
   "codemirror_mode": {
    "name": "ipython",
    "version": 3
   },
   "file_extension": ".py",
   "mimetype": "text/x-python",
   "name": "python",
   "nbconvert_exporter": "python",
   "pygments_lexer": "ipython3",
   "version": "3.10.9"
  }
 },
 "nbformat": 4,
 "nbformat_minor": 2
}
