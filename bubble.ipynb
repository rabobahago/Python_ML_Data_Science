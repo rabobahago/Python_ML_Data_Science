{
 "cells": [
  {
   "cell_type": "code",
   "execution_count": 1,
   "metadata": {},
   "outputs": [
    {
     "ename": "IndexError",
     "evalue": "list index out of range",
     "output_type": "error",
     "traceback": [
      "\u001b[1;31m---------------------------------------------------------------------------\u001b[0m",
      "\u001b[1;31mIndexError\u001b[0m                                Traceback (most recent call last)",
      "\u001b[1;32mc:\\Users\\Rabo Yusuf\\Desktop\\Python-Crash-Course\\bubble.ipynb Cell 1\u001b[0m line \u001b[0;36m7\n\u001b[0;32m      <a href='vscode-notebook-cell:/c%3A/Users/Rabo%20Yusuf/Desktop/Python-Crash-Course/bubble.ipynb#W0sZmlsZQ%3D%3D?line=4'>5</a>\u001b[0m swapped \u001b[39m=\u001b[39m \u001b[39mFalse\u001b[39;00m\n\u001b[0;32m      <a href='vscode-notebook-cell:/c%3A/Users/Rabo%20Yusuf/Desktop/Python-Crash-Course/bubble.ipynb#W0sZmlsZQ%3D%3D?line=5'>6</a>\u001b[0m \u001b[39mfor\u001b[39;00m i \u001b[39min\u001b[39;00m \u001b[39mrange\u001b[39m(\u001b[39mlen\u001b[39m(my_list)):\n\u001b[1;32m----> <a href='vscode-notebook-cell:/c%3A/Users/Rabo%20Yusuf/Desktop/Python-Crash-Course/bubble.ipynb#W0sZmlsZQ%3D%3D?line=6'>7</a>\u001b[0m     \u001b[39mif\u001b[39;00m my_list[i]\u001b[39m>\u001b[39m my_list[i \u001b[39m+\u001b[39;49m \u001b[39m1\u001b[39;49m]:\n\u001b[0;32m      <a href='vscode-notebook-cell:/c%3A/Users/Rabo%20Yusuf/Desktop/Python-Crash-Course/bubble.ipynb#W0sZmlsZQ%3D%3D?line=7'>8</a>\u001b[0m         swapped \u001b[39m=\u001b[39m \u001b[39mTrue\u001b[39;00m\n\u001b[0;32m      <a href='vscode-notebook-cell:/c%3A/Users/Rabo%20Yusuf/Desktop/Python-Crash-Course/bubble.ipynb#W0sZmlsZQ%3D%3D?line=8'>9</a>\u001b[0m         my_list[i], my_list[i \u001b[39m+\u001b[39m \u001b[39m1\u001b[39m] \u001b[39m=\u001b[39m my_list[i \u001b[39m+\u001b[39m \u001b[39m1\u001b[39m], my_list[i]\n",
      "\u001b[1;31mIndexError\u001b[0m: list index out of range"
     ]
    }
   ],
   "source": [
    "#Bubble sort\n",
    "my_list = [3, 5, 1, 90, 2, 4, 2]\n",
    "swapped = True\n",
    "while swapped:\n",
    "    swapped = False\n",
    "    for i in range(len(my_list)-1):\n",
    "        if my_list[i]> my_list[i + 1]:\n",
    "            swapped = True\n",
    "            my_list[i], my_list[i + 1] = my_list[i + 1], my_list[i]\n",
    "print(my_list)"
   ]
  },
  {
   "cell_type": "code",
   "execution_count": null,
   "metadata": {},
   "outputs": [],
   "source": []
  }
 ],
 "metadata": {
  "kernelspec": {
   "display_name": "base",
   "language": "python",
   "name": "python3"
  },
  "language_info": {
   "codemirror_mode": {
    "name": "ipython",
    "version": 3
   },
   "file_extension": ".py",
   "mimetype": "text/x-python",
   "name": "python",
   "nbconvert_exporter": "python",
   "pygments_lexer": "ipython3",
   "version": "3.10.9"
  }
 },
 "nbformat": 4,
 "nbformat_minor": 2
}
