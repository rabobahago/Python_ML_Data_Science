{
 "cells": [
  {
   "cell_type": "markdown",
   "metadata": {},
   "source": [
    "## Getting Data"
   ]
  },
  {
   "cell_type": "code",
   "execution_count": 5,
   "metadata": {},
   "outputs": [
    {
     "name": "stdout",
     "output_type": "stream",
     "text": [
      "['c:\\\\Users\\\\Rabo Yusuf\\\\anaconda3\\\\lib\\\\site-packages\\\\ipykernel_launcher.py', '--f=\"c:\\\\Users\\\\Rabo Yusuf\\\\AppData\\\\Roaming\\\\jupyter\\\\runtime\\\\kernel-v2-21529MwUjMneHout.json\"']\n",
      "c:\\Users\\Rabo Yusuf\\anaconda3\\lib\\site-packages\\ipykernel_launcher.py\n",
      "--f=\"c:\\Users\\Rabo Yusuf\\AppData\\Roaming\\jupyter\\runtime\\kernel-v2-21529MwUjMneHout.json\"\n"
     ]
    }
   ],
   "source": [
    "import sys, re\n",
    "print(sys.argv)\n",
    "print(sys.argv[0])\n",
    "print(sys.argv[1])\n"
   ]
  },
  {
   "cell_type": "code",
   "execution_count": 1,
   "metadata": {},
   "outputs": [],
   "source": [
    "import sys\n",
    "regex = sys.argv[0]\n",
    "for line in sys.stdin:\n",
    "# if it matches the regex, write it to stdout\n",
    "    if re.search(regex, line):\n",
    "        sys.stdout.write(line)\n",
    "\n",
    "# type SomeFile.txt | egrep.py \"[0-9]\" | line_count.py"
   ]
  },
  {
   "cell_type": "code",
   "execution_count": 8,
   "metadata": {},
   "outputs": [
    {
     "name": "stdout",
     "output_type": "stream",
     "text": [
      "3\n"
     ]
    }
   ],
   "source": [
    "import re\n",
    "start_with_at = 0\n",
    "with open('sometext.txt', 'r') as f:\n",
    "    for line in f:\n",
    "        for  word in line.split(' '):\n",
    "            if re.match('@', word):\n",
    "                start_with_at += 1\n",
    "print(start_with_at)"
   ]
  },
  {
   "cell_type": "code",
   "execution_count": 14,
   "metadata": {},
   "outputs": [
    {
     "data": {
      "text/plain": [
       "['Find out how to stream the Premier League, EFL, Scottish Premiership and more on Sky Sports with NOW.']"
      ]
     },
     "execution_count": 14,
     "metadata": {},
     "output_type": "execute_result"
    }
   ],
   "source": [
    "from bs4 import BeautifulSoup\n",
    "import requests\n",
    "html = requests.get(\"http://www.skysports.com\").text\n",
    "soup = BeautifulSoup(html, 'html5lib')\n",
    "first_paragraph = soup.find('p')\n",
    "first_paragraph\n",
    "text =soup.p.contents\n",
    "text"
   ]
  },
  {
   "cell_type": "code",
   "execution_count": null,
   "metadata": {},
   "outputs": [],
   "source": []
  }
 ],
 "metadata": {
  "kernelspec": {
   "display_name": "Python 3",
   "language": "python",
   "name": "python3"
  },
  "language_info": {
   "codemirror_mode": {
    "name": "ipython",
    "version": 3
   },
   "file_extension": ".py",
   "mimetype": "text/x-python",
   "name": "python",
   "nbconvert_exporter": "python",
   "pygments_lexer": "ipython3",
   "version": "3.10.9"
  }
 },
 "nbformat": 4,
 "nbformat_minor": 2
}
