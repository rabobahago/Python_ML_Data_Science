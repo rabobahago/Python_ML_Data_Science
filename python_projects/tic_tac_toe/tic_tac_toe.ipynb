{
 "cells": [
  {
   "cell_type": "code",
   "execution_count": null,
   "metadata": {},
   "outputs": [],
   "source": [
    "class Player:\n",
    "    def __init__(self, letter) -> None:\n",
    "        self.letter = letter\n",
    "\n",
    "    def get_move(self, game):\n",
    "        pass\n",
    "\n",
    "class RandomComputerPlayer(Player):\n",
    "    def __init__(self, letter) -> None:\n",
    "        super().__init__(letter)\n",
    "    def get_move(self, game):\n",
    "        pass\n",
    "class HumanPlayer(Player):\n",
    "    def __init__(self, letter) -> None:\n",
    "        super().__init__(letter)\n",
    "    def get_move(self, game):\n",
    "        pass\n"
   ]
  },
  {
   "cell_type": "code",
   "execution_count": null,
   "metadata": {},
   "outputs": [],
   "source": []
  }
 ],
 "metadata": {
  "language_info": {
   "name": "python"
  }
 },
 "nbformat": 4,
 "nbformat_minor": 2
}
