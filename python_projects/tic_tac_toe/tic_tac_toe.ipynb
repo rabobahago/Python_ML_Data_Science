{
 "cells": [
  {
   "cell_type": "code",
   "execution_count": 2,
   "metadata": {},
   "outputs": [
    {
     "ename": "TypeError",
     "evalue": "Player.__init__() missing 1 required positional argument: 'letter'",
     "output_type": "error",
     "traceback": [
      "\u001b[1;31m---------------------------------------------------------------------------\u001b[0m",
      "\u001b[1;31mTypeError\u001b[0m                                 Traceback (most recent call last)",
      "\u001b[1;32mc:\\Users\\Rabo Yusuf\\Desktop\\Python-Crash-Course\\python_projects\\tic_tac_toe\\tic_tac_toe.ipynb Cell 1\u001b[0m line \u001b[0;36m2\n\u001b[0;32m     <a href='vscode-notebook-cell:/c%3A/Users/Rabo%20Yusuf/Desktop/Python-Crash-Course/python_projects/tic_tac_toe/tic_tac_toe.ipynb#W0sZmlsZQ%3D%3D?line=18'>19</a>\u001b[0m     \u001b[39mdef\u001b[39;00m \u001b[39mget_move\u001b[39m(\u001b[39mself\u001b[39m, game):\n\u001b[0;32m     <a href='vscode-notebook-cell:/c%3A/Users/Rabo%20Yusuf/Desktop/Python-Crash-Course/python_projects/tic_tac_toe/tic_tac_toe.ipynb#W0sZmlsZQ%3D%3D?line=19'>20</a>\u001b[0m         \u001b[39mpass\u001b[39;00m\n\u001b[1;32m---> <a href='vscode-notebook-cell:/c%3A/Users/Rabo%20Yusuf/Desktop/Python-Crash-Course/python_projects/tic_tac_toe/tic_tac_toe.ipynb#W0sZmlsZQ%3D%3D?line=20'>21</a>\u001b[0m player \u001b[39m=\u001b[39m Player()\n\u001b[0;32m     <a href='vscode-notebook-cell:/c%3A/Users/Rabo%20Yusuf/Desktop/Python-Crash-Course/python_projects/tic_tac_toe/tic_tac_toe.ipynb#W0sZmlsZQ%3D%3D?line=21'>22</a>\u001b[0m \u001b[39mprint\u001b[39m(player\u001b[39m.\u001b[39mget_move())\n",
      "\u001b[1;31mTypeError\u001b[0m: Player.__init__() missing 1 required positional argument: 'letter'"
     ]
    }
   ],
   "source": [
    "import random\n",
    "import math\n",
    "\n",
    "class Player:\n",
    "    def __init__(self, letter) -> None:\n",
    "        self.letter = letter\n",
    "\n",
    "    def get_move(self, game):\n",
    "        square = random.choice(game.available_moves())\n",
    "        return square\n",
    "\n",
    "class RandomComputerPlayer(Player):\n",
    "    def __init__(self, letter) -> None:\n",
    "        super().__init__(letter)\n",
    "    def get_move(self, game):\n",
    "        pass\n",
    "class HumanPlayer(Player):\n",
    "    def __init__(self, letter):\n",
    "        super().__init__(letter)\n",
    "    def get_move(self, game):\n",
    "        valid_square = False\n",
    "        val = None\n",
    "        while not valid_square:\n",
    "            square = input(self.letter + '\\'s turn. Input move (0-9)')\n",
    "            try:\n",
    "                val = int(square)\n",
    "                if val not in game.available_move():\n",
    "                    raise ValueError\n",
    "                valid_square = True\n",
    "            except ValueError:\n",
    "                print('Invalid Square. Try again')\n",
    "        return val\n",
    "\n",
    "\n",
    "player = Player()\n",
    "print(player.get_move())"
   ]
  },
  {
   "cell_type": "code",
   "execution_count": null,
   "metadata": {},
   "outputs": [],
   "source": []
  }
 ],
 "metadata": {
  "kernelspec": {
   "display_name": "base",
   "language": "python",
   "name": "python3"
  },
  "language_info": {
   "codemirror_mode": {
    "name": "ipython",
    "version": 3
   },
   "file_extension": ".py",
   "mimetype": "text/x-python",
   "name": "python",
   "nbconvert_exporter": "python",
   "pygments_lexer": "ipython3",
   "version": "3.10.9"
  }
 },
 "nbformat": 4,
 "nbformat_minor": 2
}
