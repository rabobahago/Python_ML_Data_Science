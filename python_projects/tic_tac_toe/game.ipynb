{
 "cells": [
  {
   "cell_type": "code",
   "execution_count": 15,
   "metadata": {},
   "outputs": [
    {
     "name": "stdout",
     "output_type": "stream",
     "text": [
      "[' ', ' ', ' ', ' ', ' ', ' ', ' ', ' ', ' ']\n",
      "|   |   |   |\n",
      "|   |   |   |\n",
      "|   |   |   |\n",
      "None\n",
      "[['0', '1', '2'], ['3', '4', '5'], ['6', '7', '8']]\n",
      "None\n"
     ]
    }
   ],
   "source": [
    "class TicTacToe:\n",
    "    def __init__(self) -> None:\n",
    "        self.board = [' ' for i in range(9)]\n",
    "        self.current_winner = None\n",
    "\n",
    "    def print_board(self):\n",
    "        print(self.board)\n",
    "        for row in [self.board[i *3 : (i + 1) *3] for i in range(3)]:\n",
    "            print('| ' + ' | '.join(row) + ' |')\n",
    "    @staticmethod\n",
    "    def print_board_num():\n",
    "        number_board = [[str(i) for i in range(j * 3, (j + 1) *3)] for j in range(3)]\n",
    "        for row in number_board:\n",
    "            print('| ' + ' | '.join(row) + ' |')\n",
    "\n",
    "tic_tac_toe = TicTacToe()\n",
    "print(tic_tac_toe.print_board())\n",
    "print(tic_tac_toe.print_board_num())"
   ]
  },
  {
   "cell_type": "code",
   "execution_count": null,
   "metadata": {},
   "outputs": [],
   "source": []
  }
 ],
 "metadata": {
  "kernelspec": {
   "display_name": "base",
   "language": "python",
   "name": "python3"
  },
  "language_info": {
   "codemirror_mode": {
    "name": "ipython",
    "version": 3
   },
   "file_extension": ".py",
   "mimetype": "text/x-python",
   "name": "python",
   "nbconvert_exporter": "python",
   "pygments_lexer": "ipython3",
   "version": "3.10.9"
  }
 },
 "nbformat": 4,
 "nbformat_minor": 2
}
