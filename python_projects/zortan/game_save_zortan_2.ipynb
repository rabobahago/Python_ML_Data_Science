{
 "cells": [
  {
   "cell_type": "code",
   "execution_count": 1,
   "metadata": {},
   "outputs": [],
   "source": [
    "# import the stuff we require\n",
    "from typing import Final\n",
    "Character = dict[str, str | int]\n",
    "\n",
    "# superhero\n",
    "IRONMAN: Final[Character] = {'name': 'Ironman', 'attack_power': 250, 'life': 1000}\n",
    "BLACKWIDOW: Final[Character] = {'name': 'Blackwidow', 'attack_power': 180, 'life': 800}\n",
    "SPIDERMAN: Final[Character] = {'name': 'Spiderman', 'attack_power': 190, 'life': 700}\n",
    "HULK: Final[Character] = {'name': 'Hulk', 'attack_power': 300, 'life': 1100}\n",
    "\n",
    "# Super Villains\n",
    "THANOS: Final[Character] = {'name': 'Thanos', 'attack_power': 1500, 'life': 1500}\n",
    "REDSKULL: Final[Character] = {'name': 'Redskull', 'attack_power': 300, 'life': 800}\n",
    "PROXIMA: Final[Character] = {'name': 'Proxima', 'attack_power': 320, 'life': 800}\n",
    "\n",
    "# declare our constants\n",
    "IRONMAN_ATTACK_POWER: Final[int] = 250\n",
    "BLACKWIDOW_ATTACK_POWER: Final[int] = 180\n",
    "SPIDERMAN_ATTACK_POWER: Final[int] = 190\n",
    "HULK_ATTACK_POWER: Final[int] = 300\n",
    "\n",
    "# declare other variables\n",
    "thanos_life = 1500\n",
    "choice = 0\n",
    "attack_num = 0\n",
    "\n",
    "# declare helper messages\n",
    "WIN_MSG: Final[str] = \"You successfully saved Zortan!!! ✨ ✨ ✨\"\n",
    "LOST_MSG: Final[str] = \"Thanos killed Avengers and captured Zortan!! 💀 💀 💀\""
   ]
  },
  {
   "cell_type": "code",
   "execution_count": null,
   "metadata": {},
   "outputs": [],
   "source": []
  }
 ],
 "metadata": {
  "kernelspec": {
   "display_name": "base",
   "language": "python",
   "name": "python3"
  },
  "language_info": {
   "codemirror_mode": {
    "name": "ipython",
    "version": 3
   },
   "file_extension": ".py",
   "mimetype": "text/x-python",
   "name": "python",
   "nbconvert_exporter": "python",
   "pygments_lexer": "ipython3",
   "version": "3.10.9"
  }
 },
 "nbformat": 4,
 "nbformat_minor": 2
}
