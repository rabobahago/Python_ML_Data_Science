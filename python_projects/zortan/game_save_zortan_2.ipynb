{
 "cells": [
  {
   "cell_type": "code",
   "execution_count": 7,
   "metadata": {},
   "outputs": [
    {
     "name": "stdout",
     "output_type": "stream",
     "text": [
      "Attack: 1=>Blackwidow is going to fight with Thanos\n",
      "Attack: 2=>Ironman is going to fight with Proxima\n",
      "Attack: 3=>Ironman is going to fight with Thanos\n",
      "============================================================\n"
     ]
    }
   ],
   "source": [
    "# import the stuff we require\n",
    "from random import randint\n",
    "from typing import Final\n",
    "Character = dict[str, str | int]\n",
    "\n",
    "# superhero\n",
    "IRONMAN: Final[Character] = {'name': 'Ironman', 'attack_power': 250, 'life': 1000}\n",
    "BLACKWIDOW: Final[Character] = {'name': 'Blackwidow', 'attack_power': 180, 'life': 800}\n",
    "SPIDERMAN: Final[Character] = {'name': 'Spiderman', 'attack_power': 190, 'life': 700}\n",
    "HULK: Final[Character] = {'name': 'Hulk', 'attack_power': 300, 'life': 1100}\n",
    "\n",
    "# Super Villains\n",
    "THANOS: Final[Character] = {'name': 'Thanos', 'attack_power': 1500, 'life': 1500}\n",
    "REDSKULL: Final[Character] = {'name': 'Redskull', 'attack_power': 300, 'life': 800}\n",
    "PROXIMA: Final[Character] = {'name': 'Proxima', 'attack_power': 320, 'life': 800}\n",
    "\n",
    "# All superheros and Villains\n",
    "superheros: list[Character] = [IRONMAN, BLACKWIDOW, SPIDERMAN, HULK]\n",
    "villains: list[Character] = [THANOS, REDSKULL, PROXIMA]\n",
    "\n",
    "# helper variables\n",
    "hero_life = 0\n",
    "villain_life = 0\n",
    "\n",
    "# declare helper messages\n",
    "WIN_MSG: Final[str] = \"You successfully saved Zortan!!! ✨ ✨ ✨\"\n",
    "LOST_MSG: Final[str] = \"Thanos killed Avengers and captured Zortan!! 💀 💀 💀\"\n",
    "\n",
    "\n",
    "for attack in range(3):\n",
    "    # return random index with initial and final number included\n",
    "    hero_index = randint(0, 3)\n",
    "    villain_index = randint(0, 2)\n",
    "    # get current hero or villain\n",
    "    current_hero = superheros[hero_index]\n",
    "    current_villain = villains[villain_index]\n",
    "    #life\n",
    "    hero_life += current_hero['life']\n",
    "    villain_life += current_villain['life']\n",
    "    print(f\"Attack: {attack + 1}=>{current_hero['name']} is going to fight with {current_villain['name']}\")\n",
    "\n",
    "    #attack\n",
    "    hero_life -= current_villain['attack_power']\n",
    "    villain_life -= current_hero['attack_power']\n",
    "# print out seperated line\n",
    "print(\"=\" * 60)\n",
    "if hero_life >= villain_life:\n",
    "    print(WIN_MSG)\n",
    "else:\n",
    "    print(LOST_MSG)"
   ]
  },
  {
   "cell_type": "code",
   "execution_count": null,
   "metadata": {},
   "outputs": [],
   "source": []
  }
 ],
 "metadata": {
  "kernelspec": {
   "display_name": "base",
   "language": "python",
   "name": "python3"
  },
  "language_info": {
   "codemirror_mode": {
    "name": "ipython",
    "version": 3
   },
   "file_extension": ".py",
   "mimetype": "text/x-python",
   "name": "python",
   "nbconvert_exporter": "python",
   "pygments_lexer": "ipython3",
   "version": "3.10.9"
  }
 },
 "nbformat": 4,
 "nbformat_minor": 2
}
