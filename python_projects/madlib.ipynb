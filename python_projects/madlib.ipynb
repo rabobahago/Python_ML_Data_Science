{
 "cells": [
  {
   "cell_type": "code",
   "execution_count": 1,
   "metadata": {},
   "outputs": [
    {
     "name": "stdout",
     "output_type": "stream",
     "text": [
      "Computer programming is so Az! It make me so excited all the time because I love to add. Stay hydrated and asd like you are ddf\n"
     ]
    }
   ],
   "source": [
    "adj = input('adjective: ')\n",
    "verb1 = input('verb: ')\n",
    "verb2 = input('verb: ')\n",
    "famous_person = input('Famous Person:')\n",
    "madlib = f\"Computer programming is so {adj}! It make me so excited all the time because \\\n",
    "I love to {verb1}. Stay hydrated and {verb2} like you are {famous_person}\"\n",
    "print(madlib)"
   ]
  }
 ],
 "metadata": {
  "kernelspec": {
   "display_name": "base",
   "language": "python",
   "name": "python3"
  },
  "language_info": {
   "codemirror_mode": {
    "name": "ipython",
    "version": 3
   },
   "file_extension": ".py",
   "mimetype": "text/x-python",
   "name": "python",
   "nbconvert_exporter": "python",
   "pygments_lexer": "ipython3",
   "version": "3.10.9"
  }
 },
 "nbformat": 4,
 "nbformat_minor": 2
}
