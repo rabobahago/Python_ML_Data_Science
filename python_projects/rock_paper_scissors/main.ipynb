{
 "cells": [
  {
   "cell_type": "code",
   "execution_count": null,
   "metadata": {},
   "outputs": [],
   "source": [
    "import random\n",
    "def play():\n",
    "    user = input(\"what's your choice'r' for rock, 'p' for paper, 's' for scissors\\n\")\n",
    "    computer = random.choice(['r', 'p', 's'])\n",
    "    if user == computer:\n",
    "        return'it\\s a tie'\n",
    "    if is_win(user, computer):\n",
    "        return 'You won'\n",
    "    return 'You lost'\n",
    "\n",
    "\n",
    "def is_win(player, opponent):\n",
    "    if (player == 'r' and opponent == 's') or (player == 's' and opponent =='p') or (player =='p' and opponent =='r'):\n",
    "        return True\n",
    "\n",
    "print(play())"
   ]
  }
 ],
 "metadata": {
  "language_info": {
   "name": "python"
  }
 },
 "nbformat": 4,
 "nbformat_minor": 2
}
