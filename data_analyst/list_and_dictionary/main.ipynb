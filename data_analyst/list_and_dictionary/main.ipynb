{
 "cells": [
  {
   "cell_type": "code",
   "execution_count": 6,
   "metadata": {},
   "outputs": [],
   "source": [
    "# List\n",
    "f = open('la_weather.csv', 'r')\n",
    "f\n",
    "data = f.read()\n",
    "full_data = data.head()\n",
    "split_data = data.split('\\n')[:6]"
   ]
  },
  {
   "cell_type": "code",
   "execution_count": 18,
   "metadata": {},
   "outputs": [
    {
     "data": {
      "text/plain": [
       "6"
      ]
     },
     "execution_count": 18,
     "metadata": {},
     "output_type": "execute_result"
    }
   ],
   "source": [
    "\n",
    "full_data = []\n",
    "for row in split_data:\n",
    "    full_data.append(row.split(','))\n",
    "full_data\n",
    "count = 0\n",
    "for row in full_data[:6]:\n",
    "    count += 1\n",
    "count"
   ]
  },
  {
   "cell_type": "code",
   "execution_count": 17,
   "metadata": {},
   "outputs": [
    {
     "name": "stdout",
     "output_type": "stream",
     "text": [
      "[1, 2, 3, 4, 5]\n",
      "['Sunny', 'Sunny', 'Sunny', 'Sunny', 'Sunny']\n",
      "5\n"
     ]
    }
   ],
   "source": [
    "days = []\n",
    "weather = []\n",
    "count = 0\n",
    "for row in full_data[1:]:\n",
    "    days.append(int(row[0]))\n",
    "    weather.append(row[1])\n",
    "    count += 1\n",
    "print(days)\n",
    "print(weather)\n",
    "print(count)\n"
   ]
  },
  {
   "cell_type": "code",
   "execution_count": 1,
   "metadata": {},
   "outputs": [
    {
     "data": {
      "text/plain": [
       "{'FDR': 1, 'Lincoln': 2, 'Aquaman': 3}"
      ]
     },
     "execution_count": 1,
     "metadata": {},
     "output_type": "execute_result"
    }
   ],
   "source": [
    "president_ranks = {}\n",
    "president_ranks[\"FDR\"] = 1\n",
    "president_ranks[\"Lincoln\"] = 2\n",
    "president_ranks[\"Aquaman\"] = 3\n",
    "president_ranks\n"
   ]
  },
  {
   "cell_type": "code",
   "execution_count": 3,
   "metadata": {},
   "outputs": [
    {
     "data": {
      "text/plain": [
       "{'Tom': 80, 'Jim': 75, 'Ann': 85}"
      ]
     },
     "execution_count": 3,
     "metadata": {},
     "output_type": "execute_result"
    }
   ],
   "source": [
    "students = {\n",
    "    \"Tom\": 60,\n",
    "    \"Jim\": 70\n",
    "}\n",
    "students[\"Ann\"] = 85\n",
    "students[\"Tom\"] = 80\n",
    "students[\"Jim\"] = students[\"Jim\"] + 5\n",
    "students"
   ]
  },
  {
   "cell_type": "code",
   "execution_count": 7,
   "metadata": {},
   "outputs": [
    {
     "data": {
      "text/plain": [
       "['Day,Type of Weather', '1,Sunny', '2,Sunny', '3,Sunny', '4,Sunny', '5,Sunny']"
      ]
     },
     "execution_count": 7,
     "metadata": {},
     "output_type": "execute_result"
    }
   ],
   "source": [
    "split_data\n",
    "# weather_types = [\"Rain\",\"Sunny\",\"Fog\",\"Fog-Rain\",\"Thunderstorm\",\"Type of Weather\"]\n",
    "# weather_type_found = [] #verify each weather type occurs in weather\n",
    "# for w_type in weather_types:\n",
    "#     if w_type in new_weather:\n",
    "#         weather_type_found.append(w_type)"
   ]
  },
  {
   "cell_type": "code",
   "execution_count": null,
   "metadata": {},
   "outputs": [],
   "source": []
  }
 ],
 "metadata": {
  "kernelspec": {
   "display_name": "base",
   "language": "python",
   "name": "python3"
  },
  "language_info": {
   "codemirror_mode": {
    "name": "ipython",
    "version": 3
   },
   "file_extension": ".py",
   "mimetype": "text/x-python",
   "name": "python",
   "nbconvert_exporter": "python",
   "pygments_lexer": "ipython3",
   "version": "3.10.9"
  }
 },
 "nbformat": 4,
 "nbformat_minor": 2
}
