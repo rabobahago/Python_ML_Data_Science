{
 "cells": [
  {
   "cell_type": "code",
   "execution_count": 2,
   "metadata": {},
   "outputs": [
    {
     "data": {
      "text/plain": [
       "'Day,Type of Weather\\n1,Sunny\\n2,Sunny\\n3,Sunny\\n4,Sunny\\n5,Sunny\\n6,Rain\\n7,Sunny\\n8,Sunny\\n9,Fog\\n10,Rain\\n11,Sunny\\n12,Sunny\\n13,Sunny\\n14,Sunny\\n15,Sunny\\n16,Fog\\n17,Sunny\\n18,Sunny\\n19,Sunny\\n20,Sunny\\n21,Sunny\\n22,Sunny\\n23,Rain\\n24,Fog-Rain\\n25,Rain\\n26,Fog-Rain\\n27,Rain\\n28,Sunny\\n29,Sunny\\n30,Sunny\\n31,Sunny\\n32,Sunny\\n33,Rain\\n34,Sunny\\n35,Fog\\n36,Fog\\n37,Sunny\\n38,Sunny\\n39,Rain\\n40,Sunny\\n41,Sunny\\n42,Sunny\\n43,Sunny\\n44,Sunny\\n45,Fog\\n46,Sunny\\n47,Sunny\\n48,Fog\\n49,Sunny\\n50,Rain\\n51,Sunny\\n52,Sunny\\n53,Sunny\\n54,Sunny\\n55,Sunny\\n56,Sunny\\n57,Sunny\\n58,Sunny\\n59,Sunny\\n60,Sunny\\n61,Sunny\\n62,Rain\\n63,Fog\\n64,Fog\\n65,Sunny\\n66,Rain\\n67,Rain\\n68,Sunny\\n69,Sunny\\n70,Sunny\\n71,Fog\\n72,Fog\\n73,Fog\\n74,Fog\\n75,Fog\\n76,Sunny\\n77,Sunny\\n78,Sunny\\n79,Sunny\\n80,Sunny\\n81,Fog\\n82,Sunny\\n83,Sunny\\n84,Fog\\n85,Sunny\\n86,Fog\\n87,Fog\\n88,Fog\\n89,Fog\\n90,Rain\\n91,Sunny\\n92,Fog\\n93,Fog\\n94,Fog\\n95,Sunny\\n96,Sunny\\n97,Sunny\\n98,Sunny\\n99,Fog\\n100,Sunny\\n101,Sunny\\n102,Sunny\\n103,Sunny\\n104,Sunny\\n105,Rain\\n106,Sunny\\n107,Sunny\\n108,Sunny\\n109,Sunny\\n110,Fog\\n111,Fog\\n112,Fog\\n113,Sunny\\n114,Rain\\n115,Sunny\\n116,Sunny\\n117,Sunny\\n118,Fog\\n119,Fog\\n120,Sunny\\n121,Sunny\\n122,Fog\\n123,Sunny\\n124,Sunny\\n125,Rain\\n126,Rain\\n127,Rain\\n128,Sunny\\n129,Thunderstorm\\n130,Fog\\n131,Sunny\\n132,Fog\\n133,Sunny\\n134,Fog\\n135,Fog\\n136,Sunny\\n137,Sunny\\n138,Sunny\\n139,Sunny\\n140,Fog\\n141,Fog\\n142,Sunny\\n143,Sunny\\n144,Sunny\\n145,Sunny\\n146,Sunny\\n147,Sunny\\n148,Sunny\\n149,Fog\\n150,Fog\\n151,Sunny\\n152,Sunny\\n153,Sunny\\n154,Sunny\\n155,Sunny\\n156,Sunny\\n157,Fog\\n158,Fog\\n159,Sunny\\n160,Sunny\\n161,Sunny\\n162,Sunny\\n163,Fog\\n164,Fog\\n165,Fog\\n166,Sunny\\n167,Sunny\\n168,Fog\\n169,Fog\\n170,Fog\\n171,Sunny\\n172,Sunny\\n173,Sunny\\n174,Sunny\\n175,Sunny\\n176,Fog\\n177,Fog\\n178,Fog\\n179,Fog\\n180,Fog\\n181,Sunny\\n182,Fog\\n183,Fog\\n184,Fog\\n185,Fog\\n186,Sunny\\n187,Sunny\\n188,Sunny\\n189,Sunny\\n190,Fog\\n191,Sunny\\n192,Fog-Rain\\n193,Fog\\n194,Fog\\n195,Sunny\\n196,Fog\\n197,Sunny\\n198,Fog\\n199,Fog\\n200,Fog\\n201,Sunny\\n202,Rain\\n203,Fog\\n204,Fog\\n205,Fog\\n206,Fog\\n207,Fog-Rain\\n208,Sunny\\n209,Sunny\\n210,Fog\\n211,Sunny\\n212,Sunny\\n213,Fog\\n214,Fog\\n215,Sunny\\n216,Sunny\\n217,Fog\\n218,Fog\\n219,Fog\\n220,Sunny\\n221,Sunny\\n222,Sunny\\n223,Sunny\\n224,Fog\\n225,Fog\\n226,Fog\\n227,Fog\\n228,Fog\\n229,Fog\\n230,Fog\\n231,Fog\\n232,Fog\\n233,Fog\\n234,Sunny\\n235,Fog\\n236,Fog\\n237,Fog\\n238,Fog\\n239,Sunny\\n240,Fog\\n241,Fog\\n242,Fog\\n243,Sunny\\n244,Sunny\\n245,Fog\\n246,Sunny\\n247,Fog\\n248,Fog\\n249,Sunny\\n250,Sunny\\n251,Fog\\n252,Fog\\n253,Fog\\n254,Sunny\\n255,Sunny\\n256,Fog\\n257,Fog\\n258,Sunny\\n259,Fog\\n260,Fog\\n261,Fog\\n262,Fog\\n263,Fog\\n264,Sunny\\n265,Sunny\\n266,Sunny\\n267,Fog\\n268,Sunny\\n269,Sunny\\n270,Sunny\\n271,Sunny\\n272,Sunny\\n273,Sunny\\n274,Fog\\n275,Sunny\\n276,Fog\\n277,Sunny\\n278,Sunny\\n279,Sunny\\n280,Sunny\\n281,Fog\\n282,Rain\\n283,Sunny\\n284,Sunny\\n285,Sunny\\n286,Sunny\\n287,Sunny\\n288,Sunny\\n289,Sunny\\n290,Sunny\\n291,Sunny\\n292,Fog\\n293,Fog\\n294,Fog\\n295,Fog\\n296,Sunny\\n297,Sunny\\n298,Fog\\n299,Fog\\n300,Fog\\n301,Sunny\\n302,Sunny\\n303,Sunny\\n304,Sunny\\n305,Sunny\\n306,Sunny\\n307,Sunny\\n308,Sunny\\n309,Fog\\n310,Sunny\\n311,Sunny\\n312,Fog\\n313,Fog\\n314,Sunny\\n315,Fog\\n316,Fog\\n317,Sunny\\n318,Sunny\\n319,Fog\\n320,Sunny\\n321,Sunny\\n322,Fog\\n323,Sunny\\n324,Rain\\n325,Rain\\n326,Rain\\n327,Sunny\\n328,Sunny\\n329,Sunny\\n330,Sunny\\n331,Sunny\\n332,Sunny\\n333,Rain\\n334,Sunny\\n335,Sunny\\n336,Sunny\\n337,Sunny\\n338,Sunny\\n339,Sunny\\n340,Sunny\\n341,Rain\\n342,Sunny\\n343,Sunny\\n344,Sunny\\n345,Sunny\\n346,Fog\\n347,Fog\\n348,Sunny\\n349,Sunny\\n350,Sunny\\n351,Sunny\\n352,Sunny\\n353,Rain\\n354,Sunny\\n355,Sunny\\n356,Sunny\\n357,Fog\\n358,Sunny\\n359,Sunny\\n360,Sunny\\n361,Sunny\\n362,Sunny\\n363,Fog\\n364,Fog\\n365,Fog'"
      ]
     },
     "execution_count": 2,
     "metadata": {},
     "output_type": "execute_result"
    }
   ],
   "source": [
    "f = open('la_weather.csv', 'r')\n",
    "f\n",
    "data = f.read()\n",
    "split_data = data.split('\\n')"
   ]
  },
  {
   "cell_type": "code",
   "execution_count": 7,
   "metadata": {},
   "outputs": [
    {
     "ename": "AttributeError",
     "evalue": "'list' object has no attribute 'split'",
     "output_type": "error",
     "traceback": [
      "\u001b[1;31m---------------------------------------------------------------------------\u001b[0m",
      "\u001b[1;31mAttributeError\u001b[0m                            Traceback (most recent call last)",
      "Cell \u001b[1;32mIn[7], line 1\u001b[0m\n\u001b[1;32m----> 1\u001b[0m split_data \u001b[38;5;241m=\u001b[39m \u001b[43mdata\u001b[49m\u001b[38;5;241;43m.\u001b[39;49m\u001b[43msplit\u001b[49m(\u001b[38;5;124m'\u001b[39m\u001b[38;5;130;01m\\n\u001b[39;00m\u001b[38;5;124m'\u001b[39m)\n\u001b[0;32m      2\u001b[0m full_data \u001b[38;5;241m=\u001b[39m []\n\u001b[0;32m      3\u001b[0m \u001b[38;5;28;01mfor\u001b[39;00m row \u001b[38;5;129;01min\u001b[39;00m split_data: \n",
      "\u001b[1;31mAttributeError\u001b[0m: 'list' object has no attribute 'split'"
     ]
    }
   ],
   "source": [
    "split_data = data.split('\\n')\n",
    "full_data = []\n",
    "for row in split_data:\n",
    "    full_data.append(row.split(','))\n",
    "full_data"
   ]
  },
  {
   "cell_type": "code",
   "execution_count": null,
   "metadata": {},
   "outputs": [],
   "source": []
  }
 ],
 "metadata": {
  "kernelspec": {
   "display_name": "base",
   "language": "python",
   "name": "python3"
  },
  "language_info": {
   "codemirror_mode": {
    "name": "ipython",
    "version": 3
   },
   "file_extension": ".py",
   "mimetype": "text/x-python",
   "name": "python",
   "nbconvert_exporter": "python",
   "pygments_lexer": "ipython3",
   "version": "3.10.9"
  }
 },
 "nbformat": 4,
 "nbformat_minor": 2
}
