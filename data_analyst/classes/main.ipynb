{
 "cells": [
  {
   "cell_type": "code",
   "execution_count": 1,
   "metadata": {},
   "outputs": [
    {
     "name": "stdout",
     "output_type": "stream",
     "text": [
      "<class 'type'>\n"
     ]
    }
   ],
   "source": [
    "class Dataset():\n",
    "    def __init__(self):\n",
    "        self.type = \"csv\"\n",
    "\n",
    "dataset = Dataset()\n",
    "print(type(Dataset))"
   ]
  },
  {
   "cell_type": "code",
   "execution_count": null,
   "metadata": {},
   "outputs": [],
   "source": [
    "class Dataset():\n",
    "    def __init__(self,data):\n",
    "        self.type = \"csv\"\n",
    "        self.data = data\n",
    "\n",
    "import csv\n",
    "f = open('nfl.csv')\n",
    "csvread = csv.reader(f)\n",
    "nfl_data = list(csvread)\n",
    "\n",
    "nfl_dataset = Dataset(nfl_data)\n",
    "dataset_data = nfl_dataset.data\n",
    "dataset_data[0:10]"
   ]
  }
 ],
 "metadata": {
  "kernelspec": {
   "display_name": "base",
   "language": "python",
   "name": "python3"
  },
  "language_info": {
   "codemirror_mode": {
    "name": "ipython",
    "version": 3
   },
   "file_extension": ".py",
   "mimetype": "text/x-python",
   "name": "python",
   "nbconvert_exporter": "python",
   "pygments_lexer": "ipython3",
   "version": "3.10.9"
  }
 },
 "nbformat": 4,
 "nbformat_minor": 2
}
