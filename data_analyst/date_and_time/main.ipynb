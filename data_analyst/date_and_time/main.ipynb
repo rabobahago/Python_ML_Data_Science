{
 "cells": [
  {
   "cell_type": "code",
   "execution_count": 4,
   "metadata": {},
   "outputs": [
    {
     "name": "stdout",
     "output_type": "stream",
     "text": [
      "today 2024-01-08\n",
      "year 2024\n",
      "month 1\n",
      "day 8\n"
     ]
    }
   ],
   "source": [
    "from datetime import date\n",
    "today = date.today()\n",
    "print('today', today)\n",
    "print('year', today.year)\n",
    "print('month', today.month)\n",
    "print('day', today.day)"
   ]
  },
  {
   "cell_type": "code",
   "execution_count": 6,
   "metadata": {},
   "outputs": [
    {
     "name": "stdout",
     "output_type": "stream",
     "text": [
      "2019-11-04\n"
     ]
    }
   ],
   "source": [
    "from datetime import date\n",
    "\n",
    "my_date = date(2019, 11, 4)\n",
    "print(my_date)"
   ]
  },
  {
   "cell_type": "code",
   "execution_count": 13,
   "metadata": {},
   "outputs": [
    {
     "name": "stdout",
     "output_type": "stream",
     "text": [
      "1704720480.8647149\n",
      "2024-01-08\n",
      "2020-03-18\n"
     ]
    }
   ],
   "source": [
    "from datetime import date\n",
    "import time\n",
    "\n",
    "timestamp = time.time()\n",
    "print(timestamp)\n",
    "d = date.fromtimestamp(timestamp)\n",
    "print(d)\n",
    "t = date.fromisoformat('2020-03-18')\n",
    "print(t)"
   ]
  },
  {
   "cell_type": "code",
   "execution_count": 18,
   "metadata": {},
   "outputs": [
    {
     "name": "stdout",
     "output_type": "stream",
     "text": [
      "2024-01-08\n",
      "0\n",
      "1992-01-16\n"
     ]
    }
   ],
   "source": [
    "from datetime import date\n",
    "\n",
    "d = date(2024, 1, 8)\n",
    "print(d)\n",
    "day = d.weekday()\n",
    "print(day) #monday\n",
    "\n",
    "d = d.replace(year=1992, month=1, day=16)\n",
    "print(d)\n"
   ]
  },
  {
   "cell_type": "code",
   "execution_count": 20,
   "metadata": {},
   "outputs": [
    {
     "name": "stdout",
     "output_type": "stream",
     "text": [
      "1\n"
     ]
    }
   ],
   "source": [
    "from datetime import date\n",
    "\n",
    "d = date(2024, 1, 8)\n",
    "print(d.isoweekday())"
   ]
  },
  {
   "cell_type": "code",
   "execution_count": 27,
   "metadata": {},
   "outputs": [
    {
     "name": "stdout",
     "output_type": "stream",
     "text": [
      "hour 11\n",
      "minute 23\n",
      "second 45\n",
      "microsecond 6\n"
     ]
    }
   ],
   "source": [
    "from datetime import time\n",
    "t = time(11, 23, 45, 6)\n",
    "print('hour', t.hour)\n",
    "print('minute', t.minute)\n",
    "print('second', t.second)\n",
    "print('microsecond', t.microsecond)"
   ]
  },
  {
   "cell_type": "code",
   "execution_count": null,
   "metadata": {},
   "outputs": [],
   "source": [
    "import time\n",
    "class Student:\n",
    "    def take_nap(self, seconds):\n",
    "        print('I am tired, want to take a nap')\n",
    "        time.sleep(seconds)\n",
    "        print('I really slept well today')"
   ]
  }
 ],
 "metadata": {
  "kernelspec": {
   "display_name": "base",
   "language": "python",
   "name": "python3"
  },
  "language_info": {
   "codemirror_mode": {
    "name": "ipython",
    "version": 3
   },
   "file_extension": ".py",
   "mimetype": "text/x-python",
   "name": "python",
   "nbconvert_exporter": "python",
   "pygments_lexer": "ipython3",
   "version": "3.10.9"
  }
 },
 "nbformat": 4,
 "nbformat_minor": 2
}
