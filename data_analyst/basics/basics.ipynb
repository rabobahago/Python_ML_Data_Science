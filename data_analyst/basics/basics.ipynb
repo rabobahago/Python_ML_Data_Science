{
 "cells": [
  {
   "cell_type": "code",
   "execution_count": 1,
   "metadata": {},
   "outputs": [
    {
     "name": "stdout",
     "output_type": "stream",
     "text": [
      "234\n"
     ]
    }
   ],
   "source": [
    "print(234)"
   ]
  },
  {
   "cell_type": "code",
   "execution_count": 5,
   "metadata": {},
   "outputs": [
    {
     "name": "stdout",
     "output_type": "stream",
     "text": [
      "<_io.TextIOWrapper name='crime_rates.csv' mode='r' encoding='UTF-8'>\n",
      "Albuquerque,749\n",
      "Anaheim,371\n",
      "Anchorage,828\n",
      "Arlington,503\n",
      "Atlanta,1379\n",
      "Aurora,425\n",
      "Austin,408\n",
      "Bakersfield,542\n",
      "Baltimore,1405\n",
      "Boston,835\n",
      "Buffalo,1288\n",
      "Charlotte-Mecklenburg,647\n",
      "Cincinnati,974\n",
      "Cleveland,1383\n",
      "Colorado Springs,455\n",
      "Corpus Christi,658\n",
      "Dallas,675\n",
      "Denver,615\n",
      "Detroit,2122\n",
      "El Paso,423\n",
      "Fort Wayne,362\n",
      "Fort Worth,587\n",
      "Fresno,543\n",
      "Greensboro,563\n",
      "Henderson,168\n",
      "Houston,992\n",
      "Indianapolis,1185\n",
      "Jacksonville,617\n",
      "Jersey City,734\n",
      "Kansas City,1263\n",
      "Las Vegas,784\n",
      "Lexington,352\n",
      "Lincoln,397\n",
      "Long Beach,575\n",
      "Los Angeles,481\n",
      "Louisville Metro,598\n",
      "Memphis,1750\n",
      "Mesa,399\n",
      "Miami,1172\n",
      "Milwaukee,1294\n",
      "Minneapolis,992\n",
      "Mobile,522\n",
      "Nashville,1216\n",
      "New Orleans,815\n",
      "New York,639\n",
      "Newark,1154\n",
      "Oakland,1993\n",
      "Oklahoma City,919\n",
      "Omaha,594\n",
      "Philadelphia,1160\n",
      "Phoenix,636\n",
      "Pittsburgh,752\n",
      "Plano,130\n",
      "Portland,517\n",
      "Raleigh,423\n",
      "Riverside,443\n",
      "Sacramento,738\n",
      "San Antonio,503\n",
      "San Diego,413\n",
      "San Francisco,704\n",
      "San Jose,363\n",
      "Santa Ana,401\n",
      "Seattle,597\n",
      "St. Louis,1776\n",
      "St. Paul,722\n",
      "Stockton,1548\n",
      "Tampa,616\n",
      "Toledo,1171\n",
      "Tucson,724\n",
      "Tulsa,990\n",
      "Virginia Beach,169\n",
      "Washington,1177\n",
      "Wichita,742\n"
     ]
    }
   ],
   "source": [
    "f = open('crime_rates.csv', 'r')\n",
    "print(f)\n",
    "data = f.read()\n",
    "print(data)\n"
   ]
  },
  {
   "cell_type": "code",
   "execution_count": 10,
   "metadata": {},
   "outputs": [
    {
     "name": "stdout",
     "output_type": "stream",
     "text": [
      "['john', 'plastic', 'joe']\n"
     ]
    }
   ],
   "source": [
    "sample = \"john,plastic,joe\"\n",
    "print(sample.split(','))\n"
   ]
  },
  {
   "cell_type": "code",
   "execution_count": 12,
   "metadata": {},
   "outputs": [
    {
     "name": "stdout",
     "output_type": "stream",
     "text": [
      "['Albuquerque,749', 'Anaheim,371', 'Anchorage,828', 'Arlington,503', 'Atlanta,1379', 'Aurora,425', 'Austin,408', 'Bakersfield,542', 'Baltimore,1405', 'Boston,835', 'Buffalo,1288', 'Charlotte-Mecklenburg,647', 'Cincinnati,974', 'Cleveland,1383', 'Colorado Springs,455', 'Corpus Christi,658', 'Dallas,675', 'Denver,615', 'Detroit,2122', 'El Paso,423', 'Fort Wayne,362', 'Fort Worth,587', 'Fresno,543', 'Greensboro,563', 'Henderson,168', 'Houston,992', 'Indianapolis,1185', 'Jacksonville,617', 'Jersey City,734', 'Kansas City,1263', 'Las Vegas,784', 'Lexington,352', 'Lincoln,397', 'Long Beach,575', 'Los Angeles,481', 'Louisville Metro,598', 'Memphis,1750', 'Mesa,399', 'Miami,1172', 'Milwaukee,1294', 'Minneapolis,992', 'Mobile,522', 'Nashville,1216', 'New Orleans,815', 'New York,639', 'Newark,1154', 'Oakland,1993', 'Oklahoma City,919', 'Omaha,594', 'Philadelphia,1160', 'Phoenix,636', 'Pittsburgh,752', 'Plano,130', 'Portland,517', 'Raleigh,423', 'Riverside,443', 'Sacramento,738', 'San Antonio,503', 'San Diego,413', 'San Francisco,704', 'San Jose,363', 'Santa Ana,401', 'Seattle,597', 'St. Louis,1776', 'St. Paul,722', 'Stockton,1548', 'Tampa,616', 'Toledo,1171', 'Tucson,724', 'Tulsa,990', 'Virginia Beach,169', 'Washington,1177', 'Wichita,742']\n"
     ]
    }
   ],
   "source": [
    "#convert to array of data seperated by a new line\n",
    "row = data.split('\\n')\n",
    "print(row)"
   ]
  },
  {
   "cell_type": "code",
   "execution_count": null,
   "metadata": {},
   "outputs": [],
   "source": [
    "ten_row = row[:10]"
   ]
  }
 ],
 "metadata": {
  "kernelspec": {
   "display_name": "base",
   "language": "python",
   "name": "python3"
  },
  "language_info": {
   "codemirror_mode": {
    "name": "ipython",
    "version": 3
   },
   "file_extension": ".py",
   "mimetype": "text/x-python",
   "name": "python",
   "nbconvert_exporter": "python",
   "pygments_lexer": "ipython3",
   "version": "3.10.9"
  }
 },
 "nbformat": 4,
 "nbformat_minor": 2
}
