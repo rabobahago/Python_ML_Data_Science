{
 "cells": [
  {
   "cell_type": "code",
   "execution_count": null,
   "metadata": {},
   "outputs": [],
   "source": [
    "# import the reader function from the csv module\n",
    "from csv import reader\n",
    "\n",
    "# use the python built-in function open()\n",
    "# to open the children.csv file\n",
    "opened_file = open('arworks.csv')\n",
    "\n",
    "# use csv.reader() to parse the data from\n",
    "# the opened file\n",
    "read_file = reader(opened_file)\n",
    "\n",
    "# use list() to convert the read file\n",
    "# into a list of lists format\n",
    "children = list(read_file)\n",
    "\n",
    "# remove the first row of the data, which\n",
    "# contains the column names\n",
    "children = children[1:]\n"
   ]
  }
 ],
 "metadata": {
  "language_info": {
   "name": "python"
  }
 },
 "nbformat": 4,
 "nbformat_minor": 2
}
