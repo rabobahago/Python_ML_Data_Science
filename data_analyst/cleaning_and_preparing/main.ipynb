{
 "cells": [
  {
   "cell_type": "code",
   "execution_count": 18,
   "metadata": {},
   "outputs": [
    {
     "data": {
      "text/plain": [
       "[['Dress Macleod From Tartan Sets',\n",
       "  'Sarah Charlesworth',\n",
       "  'American',\n",
       "  '1947',\n",
       "  '2013',\n",
       "  'Female',\n",
       "  '1986',\n",
       "  'Prints & Illustrated Books']]"
      ]
     },
     "execution_count": 18,
     "metadata": {},
     "output_type": "execute_result"
    }
   ],
   "source": [
    "# import the reader function from the csv module\n",
    "from csv import reader\n",
    "\n",
    "# use the python built-in function open()\n",
    "# to open the children.csv file\n",
    "opened_file = open('arworks.csv')\n",
    "\n",
    "# use csv.reader() to parse the data from\n",
    "# the opened file\n",
    "read_file = reader(opened_file)\n",
    "\n",
    "# use list() to convert the read file\n",
    "# into a list of lists format\n",
    "children = list(read_file)\n",
    "\n",
    "# remove the first row of the data, which\n",
    "# contains the column names\n",
    "children = children[1:2]\n",
    "def replace_braces(data):\n",
    "    for row in data:\n",
    "        nationality = row[2].replace('(','')\n",
    "        gender = row[5].replace('(','')\n",
    "        nationality = nationality.replace(')', '')\n",
    "        gender = gender.replace(')', '')\n",
    "        row[2] = nationality\n",
    "        row[5] = gender\n",
    "        if nationality[2] == '':\n",
    "            nationality[2].replace('', 'Nationality unknown')\n",
    "\n",
    "    return data\n",
    "clean_braces = replace_braces(children)\n",
    "clean_braces\n",
    "def title_(data):\n",
    "    for row in data:\n",
    "        clean_title = row[0].title()\n",
    "        row[0] = clean_title\n",
    "    return data\n",
    "clean_title = title_(clean_braces)\n",
    "clean_title\n",
    "def gender_fix(data):\n",
    "    for row in data:\n",
    "        row[5].title()\n",
    "        if row[5] == '':\n",
    "            row[5].replace('', \"Gender Unknown/Other\")\n",
    "    return data\n",
    "clean_gender = gender_fix(clean_title)\n",
    "clean_gender"
   ]
  },
  {
   "cell_type": "code",
   "execution_count": null,
   "metadata": {},
   "outputs": [],
   "source": [
    "strings = [\"good!\", \"morn?ing\", \"good?!\", \"morniZZZZng\"]\n",
    "bad_chars = [\"!\", \"?\", \"Z\"]\n",
    "def strip_characters(string):\n",
    "    for char in bad_chars:\n",
    "        string = string.replace(char,\"\")\n",
    "    return string\n",
    "cleaned_strings = []\n",
    "for s in strings:\n",
    "    s = strip_characters(s)\n",
    "    cleaned_strings.append(s)\n",
    "\n",
    "print(cleaned_strings)"
   ]
  }
 ],
 "metadata": {
  "kernelspec": {
   "display_name": "base",
   "language": "python",
   "name": "python3"
  },
  "language_info": {
   "codemirror_mode": {
    "name": "ipython",
    "version": 3
   },
   "file_extension": ".py",
   "mimetype": "text/x-python",
   "name": "python",
   "nbconvert_exporter": "python",
   "pygments_lexer": "ipython3",
   "version": "3.10.9"
  }
 },
 "nbformat": 4,
 "nbformat_minor": 2
}
