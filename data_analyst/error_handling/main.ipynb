{
 "cells": [
  {
   "cell_type": "code",
   "execution_count": 2,
   "metadata": {},
   "outputs": [
    {
     "data": {
      "text/plain": [
       "[['last_name', 'first_name', 'birthday', 'gender', 'type', 'state', 'party'],\n",
       " ['Abercrombie', 'Neil', '6/26/1938', 'M', 'Rep', 'HI', 'D'],\n",
       " ['Ackerman', 'Gary', '11/19/1942', 'M', 'Rep', 'NY', 'D'],\n",
       " ['Aderholt', 'Robert', '7/22/1965', 'M', 'Rep', 'AL', 'R'],\n",
       " ['Akaka', 'Daniel', '9/11/1924', 'M', 'Sen', 'HI', 'D']]"
      ]
     },
     "execution_count": 2,
     "metadata": {},
     "output_type": "execute_result"
    }
   ],
   "source": [
    "import csv\n",
    "f = open(\"legislators.csv\")\n",
    "csvread = csv.reader(f)\n",
    "legislators = list(csvread)\n",
    "\n",
    "legislators[0:5]\n"
   ]
  },
  {
   "cell_type": "code",
   "execution_count": 3,
   "metadata": {},
   "outputs": [
    {
     "data": {
      "text/plain": [
       "['M', 'M', 'M', 'M', 'M']"
      ]
     },
     "execution_count": 3,
     "metadata": {},
     "output_type": "execute_result"
    }
   ],
   "source": [
    "gender = []\n",
    "for row in legislators[1:]:\n",
    "    gender.append(row[3])\n",
    "\n",
    "gender[0:5]"
   ]
  },
  {
   "cell_type": "code",
   "execution_count": null,
   "metadata": {},
   "outputs": [],
   "source": []
  }
 ],
 "metadata": {
  "kernelspec": {
   "display_name": "base",
   "language": "python",
   "name": "python3"
  },
  "language_info": {
   "codemirror_mode": {
    "name": "ipython",
    "version": 3
   },
   "file_extension": ".py",
   "mimetype": "text/x-python",
   "name": "python",
   "nbconvert_exporter": "python",
   "pygments_lexer": "ipython3",
   "version": "3.10.9"
  }
 },
 "nbformat": 4,
 "nbformat_minor": 2
}
