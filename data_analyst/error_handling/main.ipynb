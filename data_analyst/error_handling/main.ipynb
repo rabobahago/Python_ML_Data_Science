{
 "cells": [
  {
   "cell_type": "code",
   "execution_count": 2,
   "metadata": {},
   "outputs": [
    {
     "data": {
      "text/plain": [
       "[['last_name', 'first_name', 'birthday', 'gender', 'type', 'state', 'party'],\n",
       " ['Abercrombie', 'Neil', '6/26/1938', 'M', 'Rep', 'HI', 'D'],\n",
       " ['Ackerman', 'Gary', '11/19/1942', 'M', 'Rep', 'NY', 'D'],\n",
       " ['Aderholt', 'Robert', '7/22/1965', 'M', 'Rep', 'AL', 'R'],\n",
       " ['Akaka', 'Daniel', '9/11/1924', 'M', 'Sen', 'HI', 'D']]"
      ]
     },
     "execution_count": 2,
     "metadata": {},
     "output_type": "execute_result"
    }
   ],
   "source": [
    "import csv\n",
    "f = open(\"legislators.csv\")\n",
    "csvread = csv.reader(f)\n",
    "legislators = list(csvread)\n",
    "\n",
    "legislators[0:5]\n"
   ]
  },
  {
   "cell_type": "code",
   "execution_count": 3,
   "metadata": {},
   "outputs": [
    {
     "data": {
      "text/plain": [
       "['M', 'M', 'M', 'M', 'M']"
      ]
     },
     "execution_count": 3,
     "metadata": {},
     "output_type": "execute_result"
    }
   ],
   "source": [
    "gender = []\n",
    "for row in legislators[1:]:\n",
    "    gender.append(row[3])\n",
    "\n",
    "gender[0:5]"
   ]
  },
  {
   "cell_type": "code",
   "execution_count": 4,
   "metadata": {},
   "outputs": [
    {
     "name": "stdout",
     "output_type": "stream",
     "text": [
      "{'', 'F', 'M'}\n"
     ]
    }
   ],
   "source": [
    "print(set(gender))"
   ]
  },
  {
   "cell_type": "code",
   "execution_count": 5,
   "metadata": {},
   "outputs": [
    {
     "name": "stdout",
     "output_type": "stream",
     "text": [
      "{'I', 'D', 'R'}\n"
     ]
    }
   ],
   "source": [
    "party = []\n",
    "for row in legislators[1:]:\n",
    "    party.append(row[6])\n",
    "print(set(party))"
   ]
  },
  {
   "cell_type": "code",
   "execution_count": 6,
   "metadata": {},
   "outputs": [
    {
     "name": "stdout",
     "output_type": "stream",
     "text": [
      "[['last_name', 'first_name', 'birthday', 'gender', 'type', 'state', 'party'], ['Abercrombie', 'Neil', '6/26/1938', 'M', 'Rep', 'HI', 'D'], ['Ackerman', 'Gary', '11/19/1942', 'M', 'Rep', 'NY', 'D'], ['Aderholt', 'Robert', '7/22/1965', 'M', 'Rep', 'AL', 'R'], ['Akaka', 'Daniel', '9/11/1924', 'M', 'Sen', 'HI', 'D'], ['Allard', 'Wayne', '12/2/1943', 'M', 'Sen', 'CO', 'R'], ['Andrews', 'Robert', '8/4/1957', 'M', 'Rep', 'NJ', 'D'], ['Allen', 'Thomas', '4/16/1945', '', 'Rep', 'ME', 'D'], ['Akin', 'W.', '7/5/1947', 'M', 'Rep', 'MO', 'R'], ['Alexander', 'Lamar', '7/3/1940', 'M', 'Sen', 'TN', 'R'], ['Alexander', 'Rodney', '12/5/1946', 'M', 'Rep', 'LA', 'R'], ['Altmire', 'Jason', '3/7/1968', 'M', 'Rep', 'PA', 'D'], ['Arcuri', 'Michael', '6/11/1959', 'M', 'Rep', 'NY', 'D'], ['Adler', 'John', '8/23/1959', 'M', 'Rep', 'NJ', 'D'], ['Austria', 'Steve', '10/12/1958', 'M', 'Rep', 'OH', 'R'], ['Adams', 'Sandy', '12/14/1956', 'F', 'Rep', 'FL', 'R'], ['Amash', 'Justin', '4/18/1980', 'M', 'Rep', 'MI', 'R'], ['Ayotte', 'Kelly', '6/27/1968', 'F', 'Sen', 'NH', 'R'], ['Amodei', 'Mark', '6/12/1958', 'M', 'Rep', 'NV', 'R'], ['Bachus', 'Spencer', '12/28/1947', 'M', 'Rep', 'AL', 'R']]\n"
     ]
    }
   ],
   "source": [
    "print(legislators[0:20])"
   ]
  },
  {
   "cell_type": "code",
   "execution_count": 7,
   "metadata": {},
   "outputs": [],
   "source": [
    "\n",
    "for row in legislators:\n",
    "    if row[3] == '':\n",
    "        row[3] = 'M'"
   ]
  },
  {
   "cell_type": "code",
   "execution_count": 8,
   "metadata": {},
   "outputs": [
    {
     "data": {
      "text/plain": [
       "['1938', '1942', '1965', '1924', '1943']"
      ]
     },
     "execution_count": 8,
     "metadata": {},
     "output_type": "execute_result"
    }
   ],
   "source": [
    "birth_years = []\n",
    "for row in legislators[1:]:\n",
    "    parts = row[2].split(\"/\")\n",
    "    birth_years.append(parts[2])\n",
    "birth_years[0:5]"
   ]
  },
  {
   "cell_type": "code",
   "execution_count": null,
   "metadata": {},
   "outputs": [],
   "source": []
  }
 ],
 "metadata": {
  "kernelspec": {
   "display_name": "base",
   "language": "python",
   "name": "python3"
  },
  "language_info": {
   "codemirror_mode": {
    "name": "ipython",
    "version": 3
   },
   "file_extension": ".py",
   "mimetype": "text/x-python",
   "name": "python",
   "nbconvert_exporter": "python",
   "pygments_lexer": "ipython3",
   "version": "3.10.9"
  }
 },
 "nbformat": 4,
 "nbformat_minor": 2
}
