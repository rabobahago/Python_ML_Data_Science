{
 "cells": [
  {
   "cell_type": "code",
   "execution_count": 2,
   "metadata": {},
   "outputs": [
    {
     "name": "stdout",
     "output_type": "stream",
     "text": [
      "ABC\n",
      "ACB\n",
      "BAC\n",
      "BCA\n",
      "CAB\n",
      "CBA\n"
     ]
    }
   ],
   "source": [
    "for first in \"ABC\": # iterate A-C\n",
    "    for second in \"ABC\": # iiterate between A-C\n",
    "        if first != second: #No duplicate\n",
    "            for third in \"ABC\": # Iterate btw A-C\n",
    "                if third != second and third != first: # no duplicate\n",
    "                    print(first + second + third)"
   ]
  },
  {
   "cell_type": "code",
   "execution_count": 3,
   "metadata": {},
   "outputs": [
    {
     "name": "stdout",
     "output_type": "stream",
     "text": [
      "None\n",
      "yusuf\n"
     ]
    }
   ],
   "source": [
    "names = {'rabo': 'yusuf', 'amos':'jeroo'}\n",
    "print(names.get('luke'))\n",
    "print(names.get('rabo'))"
   ]
  },
  {
   "cell_type": "code",
   "execution_count": 4,
   "metadata": {},
   "outputs": [
    {
     "name": "stdout",
     "output_type": "stream",
     "text": [
      "My only detail print out is 200\n"
     ]
    }
   ],
   "source": [
    "detail: dict[str, str | bool | int | float] = {'num': 200, 'mass': 23.7, \"is_open\": True}\n",
    "print(f\"My only detail print out is {detail.get('num')}\")"
   ]
  },
  {
   "cell_type": "code",
   "execution_count": 7,
   "metadata": {},
   "outputs": [
    {
     "name": "stdout",
     "output_type": "stream",
     "text": [
      "{'a', 'k', 'r', 'w', 'm', 'n', 'o', 'f', 's', 'e', 't'}\n",
      "{'kara', 'hello', 'people', 'het', 'world'}\n",
      "{'kara', 'wild', 'hello', 'tea', 'people', 'het', 'week', 'world'}\n"
     ]
    }
   ],
   "source": [
    "words: str = 'awerofmfkfkeesewrrrtmnmm'\n",
    "unique_letter = set(words)\n",
    "print(unique_letter)\n",
    "sentence = 'hello world people hello kara het'\n",
    "unique_word = set(sentence.split())\n",
    "print(unique_word)\n",
    "unique_word.update(['week', 'tea', 'wild', 'tea'])\n",
    "print(unique_word)\n"
   ]
  },
  {
   "cell_type": "code",
   "execution_count": null,
   "metadata": {},
   "outputs": [],
   "source": []
  }
 ],
 "metadata": {
  "kernelspec": {
   "display_name": "base",
   "language": "python",
   "name": "python3"
  },
  "language_info": {
   "codemirror_mode": {
    "name": "ipython",
    "version": 3
   },
   "file_extension": ".py",
   "mimetype": "text/x-python",
   "name": "python",
   "nbconvert_exporter": "python",
   "pygments_lexer": "ipython3",
   "version": "3.10.9"
  }
 },
 "nbformat": 4,
 "nbformat_minor": 2
}
