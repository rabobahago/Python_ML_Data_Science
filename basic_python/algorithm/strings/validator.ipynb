{
 "cells": [
  {
   "cell_type": "code",
   "execution_count": 1,
   "metadata": {},
   "outputs": [
    {
     "name": "stdout",
     "output_type": "stream",
     "text": [
      "IBAN entered is too short.\n"
     ]
    }
   ],
   "source": [
    "# IBAN Validator.\n",
    "\n",
    "iban = input(\"Enter IBAN, please: \")\n",
    "iban = iban.replace(' ','')\n",
    "\n",
    "if not iban.isalnum():\n",
    "    print(\"You have entered invalid characters.\")\n",
    "elif len(iban) < 15:\n",
    "    print(\"IBAN entered is too short.\")\n",
    "elif len(iban) > 31:\n",
    "    print(\"IBAN entered is too long.\")\n",
    "else:\n",
    "    iban = (iban[4:] + iban[0:4]).upper()\n",
    "    iban2 = ''\n",
    "    for ch in iban:\n",
    "        if ch.isdigit():\n",
    "            iban2 += ch\n",
    "        else:\n",
    "            iban2 += str(10 + ord(ch) - ord('A'))\n",
    "    iban = int(iban2)\n",
    "    if iban % 97 == 1:\n",
    "        print(\"IBAN entered is valid.\")\n",
    "    else:\n",
    "        print(\"IBAN entered is invalid.\")"
   ]
  },
  {
   "cell_type": "code",
   "execution_count": null,
   "metadata": {},
   "outputs": [],
   "source": []
  }
 ],
 "metadata": {
  "kernelspec": {
   "display_name": "base",
   "language": "python",
   "name": "python3"
  },
  "language_info": {
   "codemirror_mode": {
    "name": "ipython",
    "version": 3
   },
   "file_extension": ".py",
   "mimetype": "text/x-python",
   "name": "python",
   "nbconvert_exporter": "python",
   "pygments_lexer": "ipython3",
   "version": "3.10.9"
  }
 },
 "nbformat": 4,
 "nbformat_minor": 2
}
