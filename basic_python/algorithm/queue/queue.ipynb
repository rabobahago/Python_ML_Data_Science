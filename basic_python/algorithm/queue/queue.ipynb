{
 "cells": [
  {
   "cell_type": "code",
   "execution_count": 5,
   "metadata": {},
   "outputs": [
    {
     "name": "stdout",
     "output_type": "stream",
     "text": [
      "100\n",
      "4950\n",
      "50\n",
      "3725\n"
     ]
    }
   ],
   "source": [
    "class Queue:\n",
    "    def __init__(self) -> None:\n",
    "        self.queue = []\n",
    "    def put(self, val):\n",
    "        self.queue.append(val)\n",
    "    def get(self):\n",
    "        val = self.queue[0]\n",
    "        del self.queue[0]\n",
    "        return val\n",
    "class AddingQueue:\n",
    "    def __init__(self):\n",
    "        Queue.__init__(self)\n",
    "        self.__sum = 0\n",
    "        self.__counter = 0\n",
    "    def put(self, val):\n",
    "        self.__sum += val\n",
    "        self.__counter +=1\n",
    "        Queue.put(self, val)\n",
    "    def get(self):\n",
    "        val = Queue.get(self)\n",
    "        self.__sum -= val\n",
    "        self.__counter -= 1\n",
    "        return val\n",
    "    def get_counter(self):\n",
    "        return self.__counter\n",
    "    def get_sum(self):\n",
    "        return self.__sum\n",
    "queue = AddingQueue()\n",
    "for i in range(100):\n",
    "    queue.put(i)\n",
    "print(queue.get_counter())\n",
    "print(queue.get_sum())\n",
    "for i in range(50):\n",
    "    queue.get()\n",
    "print(queue.get_counter())\n",
    "print(queue.get_sum())\n"
   ]
  },
  {
   "cell_type": "code",
   "execution_count": null,
   "metadata": {},
   "outputs": [],
   "source": []
  }
 ],
 "metadata": {
  "kernelspec": {
   "display_name": "base",
   "language": "python",
   "name": "python3"
  },
  "language_info": {
   "codemirror_mode": {
    "name": "ipython",
    "version": 3
   },
   "file_extension": ".py",
   "mimetype": "text/x-python",
   "name": "python",
   "nbconvert_exporter": "python",
   "pygments_lexer": "ipython3",
   "version": "3.10.9"
  }
 },
 "nbformat": 4,
 "nbformat_minor": 2
}
