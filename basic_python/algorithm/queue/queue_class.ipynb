{
 "cells": [
  {
   "cell_type": "code",
   "execution_count": 1,
   "metadata": {},
   "outputs": [
    {
     "name": "stdout",
     "output_type": "stream",
     "text": [
      "20\n",
      "2\n",
      "False\n",
      "20\n"
     ]
    }
   ],
   "source": [
    "class Queue:\n",
    "    def __init__(self):\n",
    "        self.queue_items = []\n",
    "    def push(self, _item):\n",
    "        self.queue_items.append(_item)\n",
    "    def peek(self):\n",
    "        return self.queue_items[0]\n",
    "    def pop(self):\n",
    "        remove = self.peek()\n",
    "        self.queue_items.remove(remove)\n",
    "        return remove\n",
    "    def is_empty(self):\n",
    "        return len(self.queue_items) == 0\n",
    "    def size(self):\n",
    "        return len(self.queue_items)\n",
    "queue = Queue()\n",
    "queue.push(20)\n",
    "queue.push(300)\n",
    "print(queue.peek())\n",
    "print(queue.size())\n",
    "print(queue.is_empty())\n",
    "print(queue.pop())"
   ]
  },
  {
   "cell_type": "code",
   "execution_count": null,
   "metadata": {},
   "outputs": [],
   "source": []
  }
 ],
 "metadata": {
  "kernelspec": {
   "display_name": "base",
   "language": "python",
   "name": "python3"
  },
  "language_info": {
   "codemirror_mode": {
    "name": "ipython",
    "version": 3
   },
   "file_extension": ".py",
   "mimetype": "text/x-python",
   "name": "python",
   "nbconvert_exporter": "python",
   "pygments_lexer": "ipython3",
   "version": "3.10.9"
  }
 },
 "nbformat": 4,
 "nbformat_minor": 2
}
