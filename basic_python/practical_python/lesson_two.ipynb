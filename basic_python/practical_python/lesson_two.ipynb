{
 "cells": [
  {
   "cell_type": "code",
   "execution_count": 15,
   "metadata": {},
   "outputs": [
    {
     "name": "stdout",
     "output_type": "stream",
     "text": [
      "respectively. mode append and write read, in file binary a open to used be should 'ab' 'wb', 'rb', windows On does. windows but files text from files binary distinguish not does Unix"
     ]
    }
   ],
   "source": [
    "def file_open(filename):\n",
    "    file = open(filename, 'r')\n",
    "    text =file.read().split()[::-1]\n",
    "    text = ' '.join(text)\n",
    "    print(text, end='')\n",
    "file_open('text.txt')"
   ]
  },
  {
   "cell_type": "code",
   "execution_count": 2,
   "metadata": {},
   "outputs": [
    {
     "data": {
      "text/plain": [
       "[(1, 'a'), (2, 'b'), (3, 'c')]"
      ]
     },
     "execution_count": 2,
     "metadata": {},
     "output_type": "execute_result"
    }
   ],
   "source": [
    "def zip_zip(list_1, list_2):\n",
    "    result = [(x, y) for x,y in zip(list_1, list_2)]\n",
    "    return result\n",
    "zip_zip([1, 2, 3], [\"a\", \"b\", \"c\"])"
   ]
  },
  {
   "cell_type": "code",
   "execution_count": 11,
   "metadata": {},
   "outputs": [
    {
     "name": "stdout",
     "output_type": "stream",
     "text": [
      "[0, 1, 4, 9, 16, 25, 36, 49, 64, 81, 100]\n",
      "[2, 4, 6, 8, 10]\n"
     ]
    }
   ],
   "source": [
    "square =lambda x :  x * x\n",
    "result = map(square, range(11))\n",
    "print(list(result))\n",
    "even = lambda x : x % 2 == 0\n",
    "result = filter(even, range(1, 11))\n",
    "print(list(result))"
   ]
  },
  {
   "cell_type": "code",
   "execution_count": 8,
   "metadata": {},
   "outputs": [
    {
     "data": {
      "text/plain": [
       "[(1, 1, 2), (1, 2, 3), (1, 3, 4), (2, 2, 4)]"
      ]
     },
     "execution_count": 8,
     "metadata": {},
     "output_type": "execute_result"
    }
   ],
   "source": [
    "def triplets(n):\n",
    "    result = []\n",
    "    for a in range(1, n):\n",
    "        for b in range(a, n):\n",
    "            c = a + b\n",
    "            if c < n:\n",
    "                ci = (a, b, c)\n",
    "                result.append(ci)\n",
    "    return result\n",
    "triplets(5)"
   ]
  },
  {
   "cell_type": "code",
   "execution_count": 5,
   "metadata": {},
   "outputs": [
    {
     "data": {
      "text/plain": [
       "[[None, None, None], [None, None, None]]"
      ]
     },
     "execution_count": 5,
     "metadata": {},
     "output_type": "execute_result"
    }
   ],
   "source": [
    "def array(first, second):\n",
    "    return [[None for _ in range(second)] for _ in range(first)]\n",
    "array(2, 3)"
   ]
  },
  {
   "cell_type": "code",
   "execution_count": 11,
   "metadata": {},
   "outputs": [],
   "source": [
    "import csv\n",
    "\n",
    "def parse_csv(file_path):\n",
    "    # Open the CSV file in read mode\n",
    "    file = open(file_path, 'r')\n",
    "        # Create a CSV reader object\n",
    "    reader = csv.reader(file)\n",
    "\n",
    "        # Read each row from the CSV file and store it in a list\n",
    "    data = [row for row in reader]\n",
    "\n",
    "    # Return the parsed data as a list of lists\n",
    "    return data\n"
   ]
  },
  {
   "cell_type": "code",
   "execution_count": 15,
   "metadata": {},
   "outputs": [
    {
     "name": "stdout",
     "output_type": "stream",
     "text": [
      "{'__name__': '__main__', '__doc__': 'Automatically created module for IPython interactive environment', '__package__': None, '__loader__': None, '__spec__': None, '__builtin__': <module 'builtins' (built-in)>, '__builtins__': <module 'builtins' (built-in)>, '_ih': ['', 'def triplets(n):\\n    result = []\\n    for a in range(1, n):\\n        for b in range(a, n):\\n            with a + b as c\\n            if c < n:\\n                ci = (a, b, c)\\n                result.append(ci)\\n    return result  \\ntriplets(5)', 'def triplets(n):\\n    result = []\\n    for a in range(1, n):\\n        for b in range(a, n):\\n            c = a + b\\n            if c < n:\\n                ci = (a, b, c)\\n                result.append(ci)\\n    return result  \\ntriplets(5)', \"import csv\\n\\ndef parse_csv(file_path):\\n    # Open the CSV file in read mode\\n    with open(file_path, 'r') as file:\\n        # Create a CSV reader object\\n        reader = csv.reader(file)\\n\\n        # Read each row from the CSV file and store it in a list\\n        data = [row for row in reader]\\n\\n    # Return the parsed data as a list of lists\\n    return data\\n\\n# Example usage:\\ncsv_file_path = 'a.csv'\\ncsv_data = parse_csv(csv_file_path)\\n\\n# Print the parsed CSV data\\nprint(csv_data)\\nparse_csv('a.csv')\", \"import csv\\n\\ndef parse_csv(file_path):\\n    # Open the CSV file in read mode\\n    file = open(file_path, 'r')\\n        # Create a CSV reader object\\n    reader = csv.reader(file)\\n\\n        # Read each row from the CSV file and store it in a list\\n    data = [row for row in reader]\\n\\n    # Return the parsed data as a list of lists\\n    return data\\n\\n# Example usage:\\ncsv_file_path = 'a.csv'\\ncsv_data = parse_csv(csv_file_path)\\n\\n# Print the parsed CSV data\\nprint(csv_data)\\nparse_csv('a.csv')\", \"import csv\\n\\ndef parse_csv(file_path):\\n    # Open the CSV file in read mode\\n    file = open(file_path, 'r')\\n        # Create a CSV reader object\\n    reader = csv.reader(file)\\n\\n        # Read each row from the CSV file and store it in a list\\n    data = [row for row in reader]\\n\\n    # Return the parsed data as a list of lists\\n    return data\\n\\n# Example usage:\\ncsv_file_path = 'a.csv'\\ncsv_data = parse_csv(csv_file_path)\\n\\n# Print the parsed CSV data\\nprint(csv_data)\\nparse_csv('a.csv')\", 'def triplets(n):\\n    result = []\\n    for a in range(1, n):\\n        for b in range(a, n):\\n            with a + b as c:\\n                if c < n:\\n                    ci = (a, b, c)\\n                    result.append(ci)\\n    return result\\ntriplets(5)', 'def triplets(n):\\n    result = []\\n    for a in range(1, n):\\n        for b in range(a, n):\\n            with a + b as c:\\n                if c < n:\\n                    ci = (a, b, c)\\n                    result.append(ci)\\n    return result\\ntriplets(5)', 'def triplets(n):\\n    result = []\\n    for a in range(1, n):\\n        for b in range(a, n):\\n            c = a + b\\n            if c < n:\\n                ci = (a, b, c)\\n                result.append(ci)\\n    return result\\ntriplets(5)', \"import csv\\n\\ndef parse_csv(file_path):\\n    # Open the CSV file in read mode\\n    file = open(file_path, 'r')\\n        # Create a CSV reader object\\n    reader = csv.reader(file)\\n\\n        # Read each row from the CSV file and store it in a list\\n    data = [row for row in reader]\\n\\n    # Return the parsed data as a list of lists\\n    return data\\n\\n# Example usage:\\ncsv_file_path = 'a.csv'\\ncsv_data = parse_csv(csv_file_path)\", \"import csv\\n\\ndef parse_csv(file_path):\\n    # Open the CSV file in read mode\\n    file = open(file_path, 'r')\\n        # Create a CSV reader object\\n    reader = csv.reader(file)\\n\\n        # Read each row from the CSV file and store it in a list\\n    data = [row for row in reader]\\n\\n    # Return the parsed data as a list of lists\\n    return data\", \"import csv\\n\\ndef parse_csv(file_path):\\n    # Open the CSV file in read mode\\n    file = open(file_path, 'r')\\n        # Create a CSV reader object\\n    reader = csv.reader(file)\\n\\n        # Read each row from the CSV file and store it in a list\\n    data = [row for row in reader]\\n\\n    # Return the parsed data as a list of lists\\n    return data\", \"d = {'x': 1, 'y': 2, 'z': 3}\\nd.get('x', 5)\\nd.get('p', 5)\", \"d = {'x': 1, 'y': 2, 'z': 3}\\nd.get('x', 5)\\nd.get('p')\", \"d = {'x': 1, 'y': 2, 'z': 3}\\nd.get('x', 5)\\nd.get('p', 5)\", \"d = {'x': 1, 'y': 2, 'z': 3}\\nd.get('x', 5)\\nd.get('p', 5)\\na = 200\\ndef get_global(): \\n    print(globals())\\nget_global()\"], '_oh': {2: [(1, 1, 2), (1, 2, 3), (1, 3, 4), (2, 2, 4)], 8: [(1, 1, 2), (1, 2, 3), (1, 3, 4), (2, 2, 4)], 12: 5, 14: 5}, '_dh': [WindowsPath('c:/Users/Rabo Yusuf/Desktop/Python-Crash-Course/practical_python'), WindowsPath('c:/Users/Rabo Yusuf/Desktop/Python-Crash-Course/practical_python')], 'In': ['', 'def triplets(n):\\n    result = []\\n    for a in range(1, n):\\n        for b in range(a, n):\\n            with a + b as c\\n            if c < n:\\n                ci = (a, b, c)\\n                result.append(ci)\\n    return result  \\ntriplets(5)', 'def triplets(n):\\n    result = []\\n    for a in range(1, n):\\n        for b in range(a, n):\\n            c = a + b\\n            if c < n:\\n                ci = (a, b, c)\\n                result.append(ci)\\n    return result  \\ntriplets(5)', \"import csv\\n\\ndef parse_csv(file_path):\\n    # Open the CSV file in read mode\\n    with open(file_path, 'r') as file:\\n        # Create a CSV reader object\\n        reader = csv.reader(file)\\n\\n        # Read each row from the CSV file and store it in a list\\n        data = [row for row in reader]\\n\\n    # Return the parsed data as a list of lists\\n    return data\\n\\n# Example usage:\\ncsv_file_path = 'a.csv'\\ncsv_data = parse_csv(csv_file_path)\\n\\n# Print the parsed CSV data\\nprint(csv_data)\\nparse_csv('a.csv')\", \"import csv\\n\\ndef parse_csv(file_path):\\n    # Open the CSV file in read mode\\n    file = open(file_path, 'r')\\n        # Create a CSV reader object\\n    reader = csv.reader(file)\\n\\n        # Read each row from the CSV file and store it in a list\\n    data = [row for row in reader]\\n\\n    # Return the parsed data as a list of lists\\n    return data\\n\\n# Example usage:\\ncsv_file_path = 'a.csv'\\ncsv_data = parse_csv(csv_file_path)\\n\\n# Print the parsed CSV data\\nprint(csv_data)\\nparse_csv('a.csv')\", \"import csv\\n\\ndef parse_csv(file_path):\\n    # Open the CSV file in read mode\\n    file = open(file_path, 'r')\\n        # Create a CSV reader object\\n    reader = csv.reader(file)\\n\\n        # Read each row from the CSV file and store it in a list\\n    data = [row for row in reader]\\n\\n    # Return the parsed data as a list of lists\\n    return data\\n\\n# Example usage:\\ncsv_file_path = 'a.csv'\\ncsv_data = parse_csv(csv_file_path)\\n\\n# Print the parsed CSV data\\nprint(csv_data)\\nparse_csv('a.csv')\", 'def triplets(n):\\n    result = []\\n    for a in range(1, n):\\n        for b in range(a, n):\\n            with a + b as c:\\n                if c < n:\\n                    ci = (a, b, c)\\n                    result.append(ci)\\n    return result\\ntriplets(5)', 'def triplets(n):\\n    result = []\\n    for a in range(1, n):\\n        for b in range(a, n):\\n            with a + b as c:\\n                if c < n:\\n                    ci = (a, b, c)\\n                    result.append(ci)\\n    return result\\ntriplets(5)', 'def triplets(n):\\n    result = []\\n    for a in range(1, n):\\n        for b in range(a, n):\\n            c = a + b\\n            if c < n:\\n                ci = (a, b, c)\\n                result.append(ci)\\n    return result\\ntriplets(5)', \"import csv\\n\\ndef parse_csv(file_path):\\n    # Open the CSV file in read mode\\n    file = open(file_path, 'r')\\n        # Create a CSV reader object\\n    reader = csv.reader(file)\\n\\n        # Read each row from the CSV file and store it in a list\\n    data = [row for row in reader]\\n\\n    # Return the parsed data as a list of lists\\n    return data\\n\\n# Example usage:\\ncsv_file_path = 'a.csv'\\ncsv_data = parse_csv(csv_file_path)\", \"import csv\\n\\ndef parse_csv(file_path):\\n    # Open the CSV file in read mode\\n    file = open(file_path, 'r')\\n        # Create a CSV reader object\\n    reader = csv.reader(file)\\n\\n        # Read each row from the CSV file and store it in a list\\n    data = [row for row in reader]\\n\\n    # Return the parsed data as a list of lists\\n    return data\", \"import csv\\n\\ndef parse_csv(file_path):\\n    # Open the CSV file in read mode\\n    file = open(file_path, 'r')\\n        # Create a CSV reader object\\n    reader = csv.reader(file)\\n\\n        # Read each row from the CSV file and store it in a list\\n    data = [row for row in reader]\\n\\n    # Return the parsed data as a list of lists\\n    return data\", \"d = {'x': 1, 'y': 2, 'z': 3}\\nd.get('x', 5)\\nd.get('p', 5)\", \"d = {'x': 1, 'y': 2, 'z': 3}\\nd.get('x', 5)\\nd.get('p')\", \"d = {'x': 1, 'y': 2, 'z': 3}\\nd.get('x', 5)\\nd.get('p', 5)\", \"d = {'x': 1, 'y': 2, 'z': 3}\\nd.get('x', 5)\\nd.get('p', 5)\\na = 200\\ndef get_global(): \\n    print(globals())\\nget_global()\"], 'Out': {2: [(1, 1, 2), (1, 2, 3), (1, 3, 4), (2, 2, 4)], 8: [(1, 1, 2), (1, 2, 3), (1, 3, 4), (2, 2, 4)], 12: 5, 14: 5}, 'get_ipython': <bound method InteractiveShell.get_ipython of <ipykernel.zmqshell.ZMQInteractiveShell object at 0x0000017472BF9CC0>>, 'exit': <IPython.core.autocall.ZMQExitAutocall object at 0x0000017472C03250>, 'quit': <IPython.core.autocall.ZMQExitAutocall object at 0x0000017472C03250>, 'open': <function open at 0x000001747147E200>, '_': 5, '__': 5, '___': [(1, 1, 2), (1, 2, 3), (1, 3, 4), (2, 2, 4)], '__vsc_ipynb_file__': 'c:\\\\Users\\\\Rabo Yusuf\\\\Desktop\\\\Python-Crash-Course\\\\practical_python\\\\lesson_two.ipynb', '_i': \"d = {'x': 1, 'y': 2, 'z': 3}\\nd.get('x', 5)\\nd.get('p', 5)\", '_ii': \"d = {'x': 1, 'y': 2, 'z': 3}\\nd.get('x', 5)\\nd.get('p')\", '_iii': \"d = {'x': 1, 'y': 2, 'z': 3}\\nd.get('x', 5)\\nd.get('p', 5)\", '_i1': 'def triplets(n):\\n    result = []\\n    for a in range(1, n):\\n        for b in range(a, n):\\n            with a + b as c\\n            if c < n:\\n                ci = (a, b, c)\\n                result.append(ci)\\n    return result  \\ntriplets(5)', '_i2': 'def triplets(n):\\n    result = []\\n    for a in range(1, n):\\n        for b in range(a, n):\\n            c = a + b\\n            if c < n:\\n                ci = (a, b, c)\\n                result.append(ci)\\n    return result  \\ntriplets(5)', 'triplets': <function triplets at 0x0000017474D61510>, '_2': [(1, 1, 2), (1, 2, 3), (1, 3, 4), (2, 2, 4)], '_i3': \"import csv\\n\\ndef parse_csv(file_path):\\n    # Open the CSV file in read mode\\n    with open(file_path, 'r') as file:\\n        # Create a CSV reader object\\n        reader = csv.reader(file)\\n\\n        # Read each row from the CSV file and store it in a list\\n        data = [row for row in reader]\\n\\n    # Return the parsed data as a list of lists\\n    return data\\n\\n# Example usage:\\ncsv_file_path = 'a.csv'\\ncsv_data = parse_csv(csv_file_path)\\n\\n# Print the parsed CSV data\\nprint(csv_data)\\nparse_csv('a.csv')\", 'csv': <module 'csv' from 'c:\\\\Users\\\\Rabo Yusuf\\\\anaconda3\\\\lib\\\\csv.py'>, 'parse_csv': <function parse_csv at 0x0000017474D62DD0>, 'csv_file_path': 'a.csv', '_i4': \"import csv\\n\\ndef parse_csv(file_path):\\n    # Open the CSV file in read mode\\n    file = open(file_path, 'r')\\n        # Create a CSV reader object\\n    reader = csv.reader(file)\\n\\n        # Read each row from the CSV file and store it in a list\\n    data = [row for row in reader]\\n\\n    # Return the parsed data as a list of lists\\n    return data\\n\\n# Example usage:\\ncsv_file_path = 'a.csv'\\ncsv_data = parse_csv(csv_file_path)\\n\\n# Print the parsed CSV data\\nprint(csv_data)\\nparse_csv('a.csv')\", '_i5': \"import csv\\n\\ndef parse_csv(file_path):\\n    # Open the CSV file in read mode\\n    file = open(file_path, 'r')\\n        # Create a CSV reader object\\n    reader = csv.reader(file)\\n\\n        # Read each row from the CSV file and store it in a list\\n    data = [row for row in reader]\\n\\n    # Return the parsed data as a list of lists\\n    return data\\n\\n# Example usage:\\ncsv_file_path = 'a.csv'\\ncsv_data = parse_csv(csv_file_path)\\n\\n# Print the parsed CSV data\\nprint(csv_data)\\nparse_csv('a.csv')\", '_i6': 'def triplets(n):\\n    result = []\\n    for a in range(1, n):\\n        for b in range(a, n):\\n            with a + b as c:\\n                if c < n:\\n                    ci = (a, b, c)\\n                    result.append(ci)\\n    return result\\ntriplets(5)', '_i7': 'def triplets(n):\\n    result = []\\n    for a in range(1, n):\\n        for b in range(a, n):\\n            with a + b as c:\\n                if c < n:\\n                    ci = (a, b, c)\\n                    result.append(ci)\\n    return result\\ntriplets(5)', '_i8': 'def triplets(n):\\n    result = []\\n    for a in range(1, n):\\n        for b in range(a, n):\\n            c = a + b\\n            if c < n:\\n                ci = (a, b, c)\\n                result.append(ci)\\n    return result\\ntriplets(5)', '_8': [(1, 1, 2), (1, 2, 3), (1, 3, 4), (2, 2, 4)], '_i9': \"import csv\\n\\ndef parse_csv(file_path):\\n    # Open the CSV file in read mode\\n    file = open(file_path, 'r')\\n        # Create a CSV reader object\\n    reader = csv.reader(file)\\n\\n        # Read each row from the CSV file and store it in a list\\n    data = [row for row in reader]\\n\\n    # Return the parsed data as a list of lists\\n    return data\\n\\n# Example usage:\\ncsv_file_path = 'a.csv'\\ncsv_data = parse_csv(csv_file_path)\", '_i10': \"import csv\\n\\ndef parse_csv(file_path):\\n    # Open the CSV file in read mode\\n    file = open(file_path, 'r')\\n        # Create a CSV reader object\\n    reader = csv.reader(file)\\n\\n        # Read each row from the CSV file and store it in a list\\n    data = [row for row in reader]\\n\\n    # Return the parsed data as a list of lists\\n    return data\", '_i11': \"import csv\\n\\ndef parse_csv(file_path):\\n    # Open the CSV file in read mode\\n    file = open(file_path, 'r')\\n        # Create a CSV reader object\\n    reader = csv.reader(file)\\n\\n        # Read each row from the CSV file and store it in a list\\n    data = [row for row in reader]\\n\\n    # Return the parsed data as a list of lists\\n    return data\", '_i12': \"d = {'x': 1, 'y': 2, 'z': 3}\\nd.get('x', 5)\\nd.get('p', 5)\", 'd': {'x': 1, 'y': 2, 'z': 3}, '_12': 5, '_i13': \"d = {'x': 1, 'y': 2, 'z': 3}\\nd.get('x', 5)\\nd.get('p')\", '_i14': \"d = {'x': 1, 'y': 2, 'z': 3}\\nd.get('x', 5)\\nd.get('p', 5)\", '_14': 5, '_i15': \"d = {'x': 1, 'y': 2, 'z': 3}\\nd.get('x', 5)\\nd.get('p', 5)\\na = 200\\ndef get_global(): \\n    print(globals())\\nget_global()\", 'a': 200, 'get_global': <function get_global at 0x0000017474D63400>}\n"
     ]
    }
   ],
   "source": [
    "d = {'x': 1, 'y': 2, 'z': 3}\n",
    "d.get('x', 5)\n",
    "d.get('p', 5)\n",
    "a = 200\n",
    "def get_global():\n",
    "    print(globals())\n",
    "get_global()"
   ]
  },
  {
   "cell_type": "code",
   "execution_count": 33,
   "metadata": {},
   "outputs": [
    {
     "name": "stdout",
     "output_type": "stream",
     "text": [
      "{'a': 3, 'x': 1, 'y': 2}\n"
     ]
    }
   ],
   "source": [
    "def valuesort(d):\n",
    "    # Sort the dictionary items based on their keys\n",
    "    dict = {}\n",
    "    sorted_items = sorted(d.items(), key=lambda x: x)\n",
    "    for x, y in sorted_items:\n",
    "        dict[x]  = y\n",
    "    # Extract the values from the sorted items\n",
    "    # sorted_values = [item[1] for item in sorted_items]\n",
    "\n",
    "    return dict\n",
    "\n",
    "# Example usage\n",
    "result = valuesort({'x': 1, 'y': 2, 'a': 3})\n",
    "print(result)"
   ]
  },
  {
   "cell_type": "code",
   "execution_count": 42,
   "metadata": {},
   "outputs": [
    {
     "data": {
      "text/plain": [
       "{1: 'x', 2: 'y', 3: 'z'}"
      ]
     },
     "execution_count": 42,
     "metadata": {},
     "output_type": "execute_result"
    }
   ],
   "source": [
    "def invertdict(dict):\n",
    "    sorted_dict = {}\n",
    "    sorted_items = sorted(dict.items(), key = lambda x: x)\n",
    "    for x, y in sorted_items:\n",
    "        sorted_dict[y] = x\n",
    "    return sorted_dict\n",
    "invertdict({'x': 1, 'y': 2, 'z': 3})\n"
   ]
  },
  {
   "cell_type": "code",
   "execution_count": null,
   "metadata": {},
   "outputs": [],
   "source": []
  }
 ],
 "metadata": {
  "kernelspec": {
   "display_name": "base",
   "language": "python",
   "name": "python3"
  },
  "language_info": {
   "codemirror_mode": {
    "name": "ipython",
    "version": 3
   },
   "file_extension": ".py",
   "mimetype": "text/x-python",
   "name": "python",
   "nbconvert_exporter": "python",
   "pygments_lexer": "ipython3",
   "version": "3.10.9"
  }
 },
 "nbformat": 4,
 "nbformat_minor": 2
}
