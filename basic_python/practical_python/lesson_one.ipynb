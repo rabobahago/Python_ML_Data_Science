{
 "cells": [
  {
   "cell_type": "code",
   "execution_count": 1,
   "metadata": {},
   "outputs": [
    {
     "data": {
      "text/plain": [
       "50"
      ]
     },
     "execution_count": 1,
     "metadata": {},
     "output_type": "execute_result"
    }
   ],
   "source": [
    "def square(x):\n",
    "    return x * x\n",
    "\n",
    "\n",
    "f = square\n",
    "\n",
    "\n",
    "def sum_of_squares(f, x):\n",
    "    return f(x) + f(x)\n",
    "\n",
    "\n",
    "sum_of_squares(square, 5)\n"
   ]
  },
  {
   "cell_type": "code",
   "execution_count": 2,
   "metadata": {},
   "outputs": [
    {
     "data": {
      "text/plain": [
       "12.566370614359172"
      ]
     },
     "execution_count": 2,
     "metadata": {},
     "output_type": "execute_result"
    }
   ],
   "source": [
    "from math import pi\n",
    "\n",
    "def area(radius):\n",
    "    return pi * radius * radius\n",
    "area(2)"
   ]
  },
  {
   "cell_type": "code",
   "execution_count": 4,
   "metadata": {},
   "outputs": [
    {
     "data": {
      "text/plain": [
       "9"
      ]
     },
     "execution_count": 4,
     "metadata": {},
     "output_type": "execute_result"
    }
   ],
   "source": [
    "numcalls = 0\n",
    "def square(x):\n",
    "    global numcalls\n",
    "    numcalls = numcalls + 1\n",
    "    return x * x * numcalls\n",
    "square(3)"
   ]
  },
  {
   "cell_type": "code",
   "execution_count": 7,
   "metadata": {},
   "outputs": [
    {
     "name": "stdout",
     "output_type": "stream",
     "text": [
      "2 9\n"
     ]
    }
   ],
   "source": [
    "x = 2\n",
    "def f(a):\n",
    "    x = a * a\n",
    "    return x\n",
    "y = f(3)\n",
    "print(x, y)"
   ]
  },
  {
   "cell_type": "code",
   "execution_count": 33,
   "metadata": {},
   "outputs": [
    {
     "name": "stdout",
     "output_type": "stream",
     "text": [
      "4\n",
      "True\n",
      "True\n",
      "2\n",
      "--f=\"c:\\Users\\Rabo Yusuf\\AppData\\Roaming\\jupyter\\runtime\\kernel-v2-380030QnAB4EdrnD.json\"\n",
      "[1, 2, 3]\n",
      "[3, 4]\n",
      "67  30  20  100  "
     ]
    }
   ],
   "source": [
    "def count_int(x):\n",
    "    return len(str(x))\n",
    "\n",
    "print(count_int(2345))\n",
    "x = 100\n",
    "print(2 < x <= 100)\n",
    "print(x > 2 and x <= 100)\n",
    "\n",
    "x = 2\n",
    "if x == 2:\n",
    "    print(x)\n",
    "else:\n",
    "    x\n",
    "import time\n",
    "from sys import argv\n",
    "time.asctime()\n",
    "def add(x, y):\n",
    "    return x + y\n",
    "print(argv[1])\n",
    "\n",
    "x = [1, 2, 3, 4]\n",
    "print(x[:-1])\n",
    "print(x[-2:])\n",
    "\n",
    "nums = [100,20, 30, 67]\n",
    "for num in nums[::-1]:\n",
    "    print(num,' ' ,end='')"
   ]
  },
  {
   "cell_type": "code",
   "execution_count": 39,
   "metadata": {},
   "outputs": [
    {
     "name": "stdout",
     "output_type": "stream",
     "text": [
      "0 0 0\n",
      "1 1 1\n",
      "2 4 8\n",
      "3 9 27\n",
      "4 16 64\n",
      "5 25 125\n",
      "6 36 216\n",
      "7 49 343\n",
      "8 64 512\n",
      "9 81 729\n",
      "a 3\n",
      "b 5\n",
      "c 6\n",
      "helloworld"
     ]
    }
   ],
   "source": [
    "for i  in range(10):\n",
    "   print(i, i*i, i*i*i)\n",
    "\n",
    "lett = ['a', 'b', 'c']\n",
    "nums = [3, 5, 6]\n",
    "for n, c in zip(lett, nums):\n",
    "    print(n,c)\n",
    "def sum(string):\n",
    "    for st in string:\n",
    "        print(st, end='')\n",
    "sum(['hello', 'world'])"
   ]
  },
  {
   "cell_type": "code",
   "execution_count": 56,
   "metadata": {},
   "outputs": [
    {
     "data": {
      "text/plain": [
       "24"
      ]
     },
     "execution_count": 56,
     "metadata": {},
     "output_type": "execute_result"
    }
   ],
   "source": [
    "def product(*argv):\n",
    "    result = 0\n",
    "    for num in argv:\n",
    "        result += num\n",
    "    return result\n",
    "product(2, 3, 4, 6)\n",
    "def factorial(num):\n",
    "    result = 1\n",
    "    for i in range(2, num + 1):\n",
    "        result *= i\n",
    "    return result\n",
    "factorial(90)\n",
    "factorial(4)"
   ]
  },
  {
   "cell_type": "code",
   "execution_count": 49,
   "metadata": {},
   "outputs": [
    {
     "data": {
      "text/plain": [
       "[123, 89, 56, 3]"
      ]
     },
     "execution_count": 49,
     "metadata": {},
     "output_type": "execute_result"
    }
   ],
   "source": [
    "def reverse_list(list_num):\n",
    "    result = []\n",
    "    for ind in range(len(list_num)):\n",
    "        result.append(list_num[-(ind + 1)])\n",
    "    return result\n",
    "reverse_list([3, 56, 89, 123])"
   ]
  },
  {
   "cell_type": "code",
   "execution_count": 65,
   "metadata": {},
   "outputs": [
    {
     "data": {
      "text/plain": [
       "100"
      ]
     },
     "execution_count": 65,
     "metadata": {},
     "output_type": "execute_result"
    }
   ],
   "source": [
    "def max(list_num):\n",
    "    max_num  = float('-inf')\n",
    "    for num in list_num:\n",
    "        if num > max_num:\n",
    "            max_num = num\n",
    "    return max_num\n",
    "max([1, 2, 8,100, 23, 67])"
   ]
  },
  {
   "cell_type": "code",
   "execution_count": 52,
   "metadata": {},
   "outputs": [
    {
     "data": {
      "text/plain": [
       "[3, 9, 17]"
      ]
     },
     "execution_count": 52,
     "metadata": {},
     "output_type": "execute_result"
    }
   ],
   "source": [
    "def cumulative_sum(a_list):\n",
    "    result = []\n",
    "    sum_num = 0\n",
    "    for num in a_list:\n",
    "        sum_num += num\n",
    "        result.append(sum_num)\n",
    "    return result\n",
    "cumulative_sum([3, 6, 8,])"
   ]
  },
  {
   "cell_type": "code",
   "execution_count": 66,
   "metadata": {},
   "outputs": [
    {
     "name": "stdout",
     "output_type": "stream",
     "text": [
      "[23, 4, 56, 1, 6]\n"
     ]
    }
   ],
   "source": [
    "def unique(list):\n",
    "    result = []\n",
    "    for num in list:\n",
    "        if num in result:\n",
    "            continue\n",
    "        else:\n",
    "            result.append(num)\n",
    "    return result\n",
    "print(unique([23, 4, 56, 4, 1, 6]))"
   ]
  },
  {
   "cell_type": "code",
   "execution_count": 74,
   "metadata": {},
   "outputs": [
    {
     "name": "stdout",
     "output_type": "stream",
     "text": [
      "[4]\n"
     ]
    }
   ],
   "source": [
    "def dups(list):\n",
    "    result = []\n",
    "    for num in list:\n",
    "        count = list.count(num)\n",
    "        if count > 1:\n",
    "            result.append(num)\n",
    "    return result\n",
    "print(unique([23, 4, 56, 4, 1, 6]))"
   ]
  },
  {
   "cell_type": "code",
   "execution_count": 104,
   "metadata": {},
   "outputs": [
    {
     "data": {
      "text/plain": [
       "[[23, 4, 56, 4, 1, 6], [1]]"
      ]
     },
     "execution_count": 104,
     "metadata": {},
     "output_type": "execute_result"
    }
   ],
   "source": [
    "def group(list, size):\n",
    "    result = []\n",
    "    list_slice = list[:]\n",
    "    step = len(list) // size\n",
    "    num_cover = size * step\n",
    "    for _ in range(step):\n",
    "        list_slice = list[:size]\n",
    "        result.append(list_slice)\n",
    "        list =list[size:]\n",
    "    list = list[:num_cover]\n",
    "    result.append(list)\n",
    "    return result\n",
    "group([23, 4, 56, 4, 1, 6, 1], 6)\n"
   ]
  },
  {
   "cell_type": "code",
   "execution_count": 118,
   "metadata": {},
   "outputs": [
    {
     "name": "stdout",
     "output_type": "stream",
     "text": [
      "[12, 45, 89]\n",
      "[1, 2, 6, 8, 9, 23]\n",
      "[[3, 2], [7, 6], [12, 3]]\n",
      "[[3, 2], [12, 3], [7, 6]]\n"
     ]
    }
   ],
   "source": [
    "sort_list = [89, 45, 12]\n",
    "sort_list.sort()\n",
    "print(sort_list)\n",
    "print(sorted([6, 1, 8, 23, 2, 9]))\n",
    "\n",
    "multi_dim = [[3, 2], [12, 3], [7, 6]]\n",
    "multi_dim.sort(key = lambda x : x[0])\n",
    "print(multi_dim)\n",
    "print(sorted(multi_dim, key = lambda x : x[1]))"
   ]
  },
  {
   "cell_type": "code",
   "execution_count": 136,
   "metadata": {},
   "outputs": [
    {
     "data": {
      "text/plain": [
       "['haskell', 'python', 'ruby', 'java', 'perl', 'c']"
      ]
     },
     "execution_count": 136,
     "metadata": {},
     "output_type": "execute_result"
    }
   ],
   "source": [
    "def lensort(list):\n",
    "    result = sorted(list, key = lambda x : len(x))[::-1]\n",
    "    return result\n",
    "lensort(['python', 'perl', 'java', 'c', 'haskell', 'ruby'])"
   ]
  },
  {
   "cell_type": "code",
   "execution_count": 156,
   "metadata": {},
   "outputs": [
    {
     "data": {
      "text/plain": [
       "['python', 'java']"
      ]
     },
     "execution_count": 156,
     "metadata": {},
     "output_type": "execute_result"
    }
   ],
   "source": [
    "def unique(list, key = None):\n",
    "    unique_list = set()\n",
    "    result = []\n",
    "    for elem in list:\n",
    "        seen = elem if key is None else key(elem)\n",
    "        if seen not in unique_list:\n",
    "            unique_list.add(seen)\n",
    "            result.append(seen)\n",
    "    return result\n",
    "unique([\"python\", \"java\", \"Python\", \"Java\"], key=lambda s: s.lower())"
   ]
  },
  {
   "cell_type": "code",
   "execution_count": 163,
   "metadata": {},
   "outputs": [
    {
     "name": "stdout",
     "output_type": "stream",
     "text": [
      "Hello world\n",
      "u,r,k\n"
     ]
    }
   ],
   "source": [
    "print(' '.join(['Hello', 'world']))\n",
    "print(','.join(['u', 'r', 'k']))"
   ]
  },
  {
   "cell_type": "code",
   "execution_count": 7,
   "metadata": {},
   "outputs": [
    {
     "name": "stdout",
     "output_type": "stream",
     "text": [
      "Hello World\n",
      "you\n",
      "weed\n",
      "200 hello\n",
      "3000 Thousand\n"
     ]
    }
   ],
   "source": [
    "print('Hello World\\n'.strip())\n",
    "print('andyou'.strip('and'))\n",
    "print('weedlll'.strip('lll'))\n",
    "print('%s %s' % ('200', 'hello'))\n",
    "print('%d %s' % (3000, 'Thousand'))"
   ]
  },
  {
   "cell_type": "code",
   "execution_count": 1,
   "metadata": {},
   "outputs": [
    {
     "data": {
      "text/plain": [
       "['a.c', 'x.c', 'a.py', 'b.py', 'bar.txt', 'foo.txt']"
      ]
     },
     "execution_count": 1,
     "metadata": {},
     "output_type": "execute_result"
    }
   ],
   "source": [
    "def extsort(file_list):\n",
    "    return sorted(file_list, key=lambda x: x.split(\".\")[-1])\n",
    "extsort(['a.c', 'a.py', 'b.py', 'bar.txt', 'foo.txt', 'x.c'])"
   ]
  },
  {
   "cell_type": "code",
   "execution_count": 17,
   "metadata": {},
   "outputs": [
    {
     "name": "stdout",
     "output_type": "stream",
     "text": [
      "Milky Way in Sun\n",
      "True\n",
      "True\n",
      "True\n",
      "False\n",
      "False\n",
      "False\n",
      "20000\n"
     ]
    }
   ],
   "source": [
    "class Star:\n",
    "    def __init__(self, name, galaxy) -> None:\n",
    "        self.name = name\n",
    "        self.galaxy = galaxy\n",
    "    def __str__(self):\n",
    "        return self.galaxy + ' in ' + self.name\n",
    "star = Star('Sun', 'Milky Way')\n",
    "print(star)\n",
    "\n",
    "class Moon(Star):\n",
    "    pass\n",
    "moon = Moon('sun', 'Like way')\n",
    "note_order = Moon('red', 'galaxy')\n",
    "print(issubclass(Moon, Star))\n",
    "print(isinstance(star, Star))\n",
    "print(isinstance(moon, Star))\n",
    "print(star is moon)\n",
    "print(Star is Moon)\n",
    "print(note_order is moon)\n",
    "class ColorStar(Star):\n",
    "    def __init__(self, name, galaxy, age)->None:\n",
    "        Star.__init__(self, name, galaxy)\n",
    "        self.age = age\n",
    "    def __str__(self)->str:\n",
    "        return str(self.age)\n",
    "color = ColorStar('red', 'Like Red', 20000)\n",
    "print(color)\n"
   ]
  },
  {
   "cell_type": "code",
   "execution_count": 25,
   "metadata": {},
   "outputs": [
    {
     "name": "stdout",
     "output_type": "stream",
     "text": [
      "True\n",
      "False\n",
      "True\n",
      "True\n",
      "True\n",
      "False\n"
     ]
    }
   ],
   "source": [
    "class Animal:\n",
    "    def __init__(self, name, age):\n",
    "        self.name = name\n",
    "        self.age = age\n",
    "    def __str__(self):\n",
    "        return 'Name is '+ self.name + ' and the age ' + str(self.age)\n",
    "    def get_age(self) -> int:\n",
    "        return self.age\n",
    "\n",
    "class Pig(Animal):\n",
    "    def __init__(self, name, age, num_legs):\n",
    "        Animal.__init__(self,name, age)\n",
    "        self.num_legs = num_legs\n",
    "    def get_legs(self):\n",
    "        return self.num_legs\n",
    "\n",
    "pig = Pig('pig', 23, 4)\n",
    "redPig = pig\n",
    "print(redPig is pig)\n",
    "animal = Animal('goat', 12)\n",
    "print(pig is animal)\n",
    "print(isinstance(pig, Animal))\n",
    "print(isinstance(pig, Pig))\n",
    "print(issubclass(Pig, Animal))\n",
    "print(isinstance(Pig, Animal))\n"
   ]
  },
  {
   "cell_type": "code",
   "execution_count": 27,
   "metadata": {},
   "outputs": [
    {
     "name": "stdout",
     "output_type": "stream",
     "text": [
      "200 201\n"
     ]
    }
   ],
   "source": [
    "class Level1:\n",
    "    var = 100\n",
    "    def fun(self):\n",
    "        return 101\n",
    "\n",
    "\n",
    "class Level2(Level1):\n",
    "    var = 200\n",
    "    def fun(self):\n",
    "        return 201\n",
    "\n",
    "\n",
    "class Level3(Level2):\n",
    "    pass\n",
    "\n",
    "\n",
    "obj = Level3()\n",
    "\n",
    "print(obj.var, obj.fun())"
   ]
  },
  {
   "cell_type": "code",
   "execution_count": 28,
   "metadata": {},
   "outputs": [
    {
     "name": "stdout",
     "output_type": "stream",
     "text": [
      "do_it from One\n",
      "do_it from Two\n"
     ]
    }
   ],
   "source": [
    "class One:\n",
    "    def do_it(self):\n",
    "        print(\"do_it from One\")\n",
    "\n",
    "    def doanything(self):\n",
    "        self.do_it()\n",
    "\n",
    "\n",
    "class Two(One):\n",
    "    def do_it(self):\n",
    "        print(\"do_it from Two\")\n",
    "\n",
    "\n",
    "one = One()\n",
    "two = Two()\n",
    "\n",
    "one.doanything()\n",
    "two.doanything() # this is know as polymorphism"
   ]
  },
  {
   "cell_type": "code",
   "execution_count": null,
   "metadata": {},
   "outputs": [],
   "source": [
    "import time\n",
    "\n",
    "class Tracks:\n",
    "    def change_direction(self, left, on):\n",
    "        print(\"tracks: \", left, on)\n",
    "\n",
    "\n",
    "class Wheels:\n",
    "    def change_direction(self, left, on):\n",
    "        print(\"wheels: \", left, on)\n",
    "\n",
    "\n",
    "class Vehicle:\n",
    "    def __init__(self, controller):\n",
    "        self.controller = controller\n",
    "\n",
    "    def turn(self, left):\n",
    "        self.controller.change_direction(left, True)\n",
    "        time.sleep(0.25)\n",
    "        self.controller.change_direction(left, False)\n",
    "\n",
    "\n",
    "wheeled = Vehicle(Wheels())\n",
    "tracked = Vehicle(Tracks())\n",
    "\n",
    "wheeled.turn(True)\n",
    "tracked.turn(False)\n"
   ]
  }
 ],
 "metadata": {
  "kernelspec": {
   "display_name": "base",
   "language": "python",
   "name": "python3"
  },
  "language_info": {
   "codemirror_mode": {
    "name": "ipython",
    "version": 3
   },
   "file_extension": ".py",
   "mimetype": "text/x-python",
   "name": "python",
   "nbconvert_exporter": "python",
   "pygments_lexer": "ipython3",
   "version": "3.10.9"
  }
 },
 "nbformat": 4,
 "nbformat_minor": 2
}
