{
 "cells": [
  {
   "cell_type": "code",
   "execution_count": 2,
   "metadata": {},
   "outputs": [
    {
     "name": "stdout",
     "output_type": "stream",
     "text": [
      "[1, 2, 2, 3, 4, 5, 90]\n"
     ]
    }
   ],
   "source": [
    "#Bubble sort\n",
    "my_list = [3, 5, 1, 90, 2, 4, 2]\n",
    "swapped = True\n",
    "while swapped:\n",
    "    swapped = False\n",
    "    for i in range(len(my_list)-1):\n",
    "        if my_list[i]> my_list[i + 1]:\n",
    "            swapped = True\n",
    "            my_list[i], my_list[i + 1] = my_list[i + 1], my_list[i]\n",
    "print(my_list)"
   ]
  },
  {
   "cell_type": "code",
   "execution_count": 3,
   "metadata": {},
   "outputs": [
    {
     "name": "stdout",
     "output_type": "stream",
     "text": [
      "[2, 4, 6, 8, 10]\n"
     ]
    }
   ],
   "source": [
    "my_list = [8, 10, 6, 2, 4]\n",
    "my_list.sort()\n",
    "print(my_list)"
   ]
  },
  {
   "cell_type": "code",
   "execution_count": 4,
   "metadata": {},
   "outputs": [
    {
     "name": "stdout",
     "output_type": "stream",
     "text": [
      "[5, 3, 1, 2, 4]\n",
      "[4, 2, 1, 3, 5]\n"
     ]
    }
   ],
   "source": [
    "lst = [5, 3, 1, 2, 4]\n",
    "print(lst)\n",
    "\n",
    "lst.reverse()\n",
    "print(lst)"
   ]
  },
  {
   "cell_type": "code",
   "execution_count": 5,
   "metadata": {},
   "outputs": [
    {
     "name": "stdout",
     "output_type": "stream",
     "text": [
      "[1]\n",
      "[8, 6]\n"
     ]
    }
   ],
   "source": [
    "# Copying the entire list.\n",
    "list_1 = [1]\n",
    "list_2 = list_1[:]\n",
    "list_1[0] = 2\n",
    "print(list_2)\n",
    "\n",
    "# Copying some part of the list.\n",
    "my_list = [10, 8, 6, 4, 2]\n",
    "new_list = my_list[1:3]\n",
    "print(new_list)\n"
   ]
  },
  {
   "cell_type": "code",
   "execution_count": 6,
   "metadata": {},
   "outputs": [
    {
     "name": "stdout",
     "output_type": "stream",
     "text": [
      "[8, 6, 4]\n"
     ]
    }
   ],
   "source": [
    "my_list = [10, 8, 6, 4, 2]\n",
    "new_list = my_list[1:-1]\n",
    "print(new_list)\n"
   ]
  },
  {
   "cell_type": "code",
   "execution_count": 7,
   "metadata": {},
   "outputs": [
    {
     "name": "stdout",
     "output_type": "stream",
     "text": [
      "[]\n"
     ]
    }
   ],
   "source": [
    "my_list = [10, 8, 6, 4, 2]\n",
    "new_list = my_list[-1:1]\n",
    "print(new_list)"
   ]
  },
  {
   "cell_type": "code",
   "execution_count": 8,
   "metadata": {},
   "outputs": [
    {
     "name": "stdout",
     "output_type": "stream",
     "text": [
      "[4, 2]\n"
     ]
    }
   ],
   "source": [
    "my_list = [10, 8, 6, 4, 2]\n",
    "new_list = my_list[3:]\n",
    "print(new_list)"
   ]
  },
  {
   "cell_type": "code",
   "execution_count": 15,
   "metadata": {},
   "outputs": [
    {
     "name": "stdout",
     "output_type": "stream",
     "text": [
      "[10, 8, 6, 4, 2]\n"
     ]
    }
   ],
   "source": [
    "my_list = [10, 8, 6, 4, 2]\n",
    "new_list = my_list[:]\n",
    "print(new_list)\n"
   ]
  },
  {
   "cell_type": "code",
   "execution_count": 16,
   "metadata": {},
   "outputs": [
    {
     "name": "stdout",
     "output_type": "stream",
     "text": [
      "True\n"
     ]
    }
   ],
   "source": [
    "print(2 in my_list)"
   ]
  },
  {
   "cell_type": "code",
   "execution_count": 17,
   "metadata": {},
   "outputs": [
    {
     "name": "stdout",
     "output_type": "stream",
     "text": [
      "False\n"
     ]
    }
   ],
   "source": [
    "print(2 not in my_list)"
   ]
  },
  {
   "cell_type": "code",
   "execution_count": 18,
   "metadata": {},
   "outputs": [
    {
     "name": "stdout",
     "output_type": "stream",
     "text": [
      "80\n"
     ]
    }
   ],
   "source": [
    "my_list = [23, 4, 5, 60, 80, 45]\n",
    "largest = my_list[0]\n",
    "for i in range(1,len(my_list)):\n",
    "    if my_list[i] > largest:\n",
    "        largest = my_list[i]\n",
    "print(largest)"
   ]
  },
  {
   "cell_type": "code",
   "execution_count": 21,
   "metadata": {},
   "outputs": [
    {
     "name": "stdout",
     "output_type": "stream",
     "text": [
      "80\n"
     ]
    }
   ],
   "source": [
    "largest = my_list[0]\n",
    "for element in my_list:\n",
    "    if element > largest:\n",
    "        largest = element\n",
    "print(largest)"
   ]
  },
  {
   "cell_type": "code",
   "execution_count": 22,
   "metadata": {},
   "outputs": [
    {
     "name": "stdout",
     "output_type": "stream",
     "text": [
      "80\n"
     ]
    }
   ],
   "source": [
    "largest = my_list[0]\n",
    "for elem in my_list[1:]:\n",
    "    if elem > largest:\n",
    "        largest = elem\n",
    "print(largest)"
   ]
  },
  {
   "cell_type": "code",
   "execution_count": 25,
   "metadata": {},
   "outputs": [
    {
     "name": "stdout",
     "output_type": "stream",
     "text": [
      "The element 5 was found at index 5\n"
     ]
    }
   ],
   "source": [
    "my_list = [2, 4, 12, 1, 2, 5, 80]\n",
    "elem = 5\n",
    "found = False\n",
    "for i in range(len(my_list)):\n",
    "    found = my_list[i] == elem\n",
    "    if found:\n",
    "        break\n",
    "if found:\n",
    "    print(f'The element {elem} was found at index {i}')\n",
    "else:\n",
    "    print('element not found')"
   ]
  },
  {
   "cell_type": "code",
   "execution_count": 26,
   "metadata": {},
   "outputs": [
    {
     "name": "stdout",
     "output_type": "stream",
     "text": [
      "4\n"
     ]
    }
   ],
   "source": [
    "drawn = [5, 11, 9, 42, 3, 49]\n",
    "bets = [3, 7, 11, 42, 34, 49]\n",
    "hits = 0\n",
    "\n",
    "for elem in drawn:\n",
    "    if elem in bets:\n",
    "        hits += 1\n",
    "print(hits)\n"
   ]
  },
  {
   "cell_type": "code",
   "execution_count": 27,
   "metadata": {},
   "outputs": [
    {
     "name": "stdout",
     "output_type": "stream",
     "text": [
      "['A', 'B', 'C', 'D']\n"
     ]
    }
   ],
   "source": [
    "sample_list = [\"A\", \"B\", \"C\", \"D\", \"E\"]\n",
    "new_list = sample_list[:-1]\n",
    "print(new_list)"
   ]
  },
  {
   "cell_type": "code",
   "execution_count": 29,
   "metadata": {},
   "outputs": [
    {
     "name": "stdout",
     "output_type": "stream",
     "text": [
      "The list with unique elements only:\n",
      "[1, 2, 4, 4, 1, 4, 2, 6, 2, 9]\n",
      "[1, 2, 4, 6, 9]\n"
     ]
    }
   ],
   "source": [
    "my_list = [1, 2, 4, 4, 1, 4, 2, 6, 2, 9]\n",
    "my_newlist = []\n",
    "for elem in my_list:\n",
    "    if elem in my_newlist:\n",
    "        continue\n",
    "    else:\n",
    "        my_newlist.append(elem)\n",
    "print(\"The list with unique elements only:\")\n",
    "print(my_list)\n",
    "print(my_newlist)\n"
   ]
  },
  {
   "cell_type": "code",
   "execution_count": 31,
   "metadata": {},
   "outputs": [
    {
     "name": "stdout",
     "output_type": "stream",
     "text": [
      "[3, 4, 5]\n",
      "[1, 2]\n",
      "[4, 5]\n"
     ]
    }
   ],
   "source": [
    "my_list = [1, 2, 3, 4, 5]\n",
    "slice_one = my_list[2: ]\n",
    "slice_two = my_list[ :2]\n",
    "slice_three = my_list[-2: ]\n",
    "\n",
    "print(slice_one)  # outputs: [3, 4, 5]\n",
    "print(slice_two)  # outputs: [1, 2]\n",
    "print(slice_three)  # outputs: [4, 5]"
   ]
  },
  {
   "cell_type": "code",
   "execution_count": 32,
   "metadata": {},
   "outputs": [
    {
     "name": "stdout",
     "output_type": "stream",
     "text": [
      "[]\n"
     ]
    }
   ],
   "source": [
    "del my_list[:]\n",
    "print(my_list)"
   ]
  },
  {
   "cell_type": "code",
   "execution_count": null,
   "metadata": {},
   "outputs": [],
   "source": []
  }
 ],
 "metadata": {
  "kernelspec": {
   "display_name": "base",
   "language": "python",
   "name": "python3"
  },
  "language_info": {
   "codemirror_mode": {
    "name": "ipython",
    "version": 3
   },
   "file_extension": ".py",
   "mimetype": "text/x-python",
   "name": "python",
   "nbconvert_exporter": "python",
   "pygments_lexer": "ipython3",
   "version": "3.10.9"
  }
 },
 "nbformat": 4,
 "nbformat_minor": 2
}
