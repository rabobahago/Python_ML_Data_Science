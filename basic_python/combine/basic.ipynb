{
 "cells": [
  {
   "cell_type": "code",
   "execution_count": 7,
   "metadata": {},
   "outputs": [
    {
     "data": {
      "text/plain": [
       "'TPoyrtohnotno  ciosu rtshees  lianr gTeosrto nCtiot yb yi nB oCdaennasdeao'"
      ]
     },
     "execution_count": 7,
     "metadata": {},
     "output_type": "execute_result"
    }
   ],
   "source": [
    "slogan = \"Python under Linux is great\"\n",
    "slogan[::3]\n",
    "s = \"Toronto is the largest City in Canada\"\n",
    "t = \"Python courses in Toronto by Bodenseo\"\n",
    "s = ''.join([''.join(x) for x in zip(s,t)])\n",
    "s"
   ]
  },
  {
   "cell_type": "code",
   "execution_count": 11,
   "metadata": {},
   "outputs": [
    {
     "data": {
      "text/plain": [
       "[('house', 'Haus'), ('cat', ''), ('red', 'rot')]"
      ]
     },
     "execution_count": 11,
     "metadata": {},
     "output_type": "execute_result"
    }
   ],
   "source": [
    "w = {\"house\": \"Haus\", \"cat\": \"\", \"red\": \"rot\"}\n",
    "items_view = w.items()\n",
    "items = list(items_view)\n",
    "items"
   ]
  },
  {
   "cell_type": "code",
   "execution_count": 15,
   "metadata": {},
   "outputs": [
    {
     "data": {
      "text/plain": [
       "{'pizza': 'Italy',\n",
       " 'sauerkraut': 'Germany',\n",
       " 'paella': 'Spain',\n",
       " 'hamburger': 'USA'}"
      ]
     },
     "execution_count": 15,
     "metadata": {},
     "output_type": "execute_result"
    }
   ],
   "source": [
    "dishes = [\"pizza\", \"sauerkraut\", \"paella\", \"hamburger\"]\n",
    "countries = [\"Italy\", \"Germany\", \"Spain\", \"USA\"]\n",
    "country_specialities_zip = zip(dishes,countries)\n",
    "dict(country_specialities_zip)"
   ]
  },
  {
   "cell_type": "code",
   "execution_count": 39,
   "metadata": {},
   "outputs": [
    {
     "name": "stdout",
     "output_type": "stream",
     "text": [
      "67\n",
      "78\n",
      "{'price', 'age', 'tea', 'week'}\n"
     ]
    }
   ],
   "source": [
    "def merge_dict_sum(dict1, dict2):\n",
    "    for key, value in dict2.items():\n",
    "        if key in dict1:\n",
    "            print(value)\n",
    "            dict1[key] += value\n",
    "        else:\n",
    "            dict1[key] = value\n",
    "    dict3 = dict1.copy()\n",
    "    return dict3\n",
    "obj = {'price': 45, 'age': 67, 'week': 34}\n",
    "obj1 = {'price': 67, 'age': 78, 'tea': 67}\n",
    "merge_dict_sum(obj, obj1)\n"
   ]
  },
  {
   "cell_type": "code",
   "execution_count": 42,
   "metadata": {},
   "outputs": [
    {
     "data": {
      "text/plain": [
       "{'price': 179, 'age': 223, 'tea': 134, 'week': 34}"
      ]
     },
     "execution_count": 42,
     "metadata": {},
     "output_type": "execute_result"
    }
   ],
   "source": [
    "def merge_dict(dict1, dict2):\n",
    "   return {k: dict1.get(k, 0) + dict2.get(k, 0) for k in set(dict1) | set(dict2)}\n",
    "merge_dict(obj, obj1)"
   ]
  },
  {
   "cell_type": "code",
   "execution_count": 29,
   "metadata": {},
   "outputs": [
    {
     "data": {
      "text/plain": [
       "528.37"
      ]
     },
     "execution_count": 29,
     "metadata": {},
     "output_type": "execute_result"
    }
   ],
   "source": [
    "supermarket = { \"milk\": {\"quantity\": 20, \"price\": 1.19},\n",
    "\"biscuits\": {\"quantity\": 32, \"price\": 1.45},\n",
    "\"butter\": {\"quantity\": 20, \"price\": 2.29},\n",
    "\"cheese\": {\"quantity\": 15, \"price\": 1.90},\n",
    "\"bread\": {\"quantity\": 15, \"price\": 2.59},\n",
    "\"cookies\": {\"quantity\": 20, \"price\": 4.99},\n",
    "\"yogurt\": {\"quantity\": 18, \"price\": 3.65},\n",
    "\"apples\": {\"quantity\": 35, \"price\": 3.15},\n",
    "\"oranges\": {\"quantity\": 40, \"price\": 0.99},\n",
    "\"bananas\": {\"quantity\": 23, \"price\": 1.29}}\n",
    "total = 0\n",
    "for item in supermarket:\n",
    "    total += supermarket[item]['quantity'] * supermarket[item]['price']\n",
    "total"
   ]
  },
  {
   "cell_type": "code",
   "execution_count": 14,
   "metadata": {},
   "outputs": [
    {
     "name": "stdout",
     "output_type": "stream",
     "text": [
      "('Zurich', 415367) ('Geneva', 201818) ('Basel', 177654) ('Lausanne', 139111) ('Bern', 133883) ('Winterthur', 111851)\n",
      "('Zurich', 'Geneva', 'Basel', 'Lausanne', 'Bern', 'Winterthur')\n",
      "(415367, 201818, 177654, 139111, 133883, 111851)\n"
     ]
    },
    {
     "data": {
      "text/plain": [
       "{'Zurich': 415367,\n",
       " 'Geneva': 201818,\n",
       " 'Basel': 177654,\n",
       " 'Lausanne': 139111,\n",
       " 'Bern': 133883,\n",
       " 'Winterthur': 111851}"
      ]
     },
     "execution_count": 14,
     "metadata": {},
     "output_type": "execute_result"
    }
   ],
   "source": [
    "cities_and_population = [(\"Zurich\", 415367),(\"Geneva\", 201818),(\"Basel\", 177654),(\"Lausanne\", 139111),(\"Bern\", 133883),(\"Winterthur\", 111851)]\n",
    "print(*cities_and_population)\n",
    "\n",
    "cities, population = zip(*cities_and_population)\n",
    "print(cities)\n",
    "print(population)\n",
    "dict_ci = dict(zip(cities, population))\n",
    "dict_ci"
   ]
  },
  {
   "cell_type": "markdown",
   "metadata": {},
   "source": [
    "####  Set can't contain immutable object"
   ]
  },
  {
   "cell_type": "code",
   "execution_count": 24,
   "metadata": {},
   "outputs": [
    {
     "data": {
      "text/plain": [
       "{(3, 6), 'Berlin', 'London', 'Paris', 'Perl', 'Python'}"
      ]
     },
     "execution_count": 24,
     "metadata": {},
     "output_type": "execute_result"
    }
   ],
   "source": [
    "cities = set((\"Python\",\"Perl\", \"Paris\", \"Berlin\", \"London\", (3, 6)))\n",
    "cities"
   ]
  },
  {
   "cell_type": "code",
   "execution_count": 34,
   "metadata": {},
   "outputs": [
    {
     "data": {
      "text/plain": [
       "{'blue', 'green', 'red', 'yellow'}"
      ]
     },
     "execution_count": 34,
     "metadata": {},
     "output_type": "execute_result"
    }
   ],
   "source": [
    "colours = {\"red\",\"green\"}\n",
    "colours.add(\"yellow\")\n",
    "colours.add('blue')\n",
    "colours"
   ]
  },
  {
   "cell_type": "code",
   "execution_count": 42,
   "metadata": {},
   "outputs": [
    {
     "name": "stdout",
     "output_type": "stream",
     "text": [
      "{'Konstanz', 'Freiburg', 'Stuttgart'}\n",
      "set()\n"
     ]
    }
   ],
   "source": [
    "cities = {\"Stuttgart\", \"Konstanz\", \"Freiburg\"}\n",
    "c_cities = cities.copy()\n",
    "cities.clear()\n",
    "print(c_cities)\n",
    "print(cities)"
   ]
  },
  {
   "cell_type": "code",
   "execution_count": 57,
   "metadata": {},
   "outputs": [
    {
     "name": "stdout",
     "output_type": "stream",
     "text": [
      "diff {'d', 'e', 'a'}\n",
      "union {'d', 'b', 'e', 'a', 'c'}\n",
      "intersection {'b', 'c'}\n",
      "{'d', 'e', 'a'}\n",
      "None\n"
     ]
    }
   ],
   "source": [
    "x = {\"a\",\"b\",\"c\",\"d\",\"e\"}\n",
    "y = {\"b\",\"c\"}\n",
    "z = {\"c\",\"d\"}\n",
    "print('diff', x - y)\n",
    "print('union', x | y)\n",
    "print('intersection', x & y)\n",
    "x -=  y\n",
    "print(x)\n",
    "print(x.discard('d'))"
   ]
  },
  {
   "cell_type": "code",
   "execution_count": 67,
   "metadata": {},
   "outputs": [
    {
     "name": "stdout",
     "output_type": "stream",
     "text": [
      "y subset of x True\n",
      "x superset of y True\n"
     ]
    }
   ],
   "source": [
    "x = {\"a\",\"b\",\"c\",\"d\",\"e\"}\n",
    "y = {\"b\",\"c\"}\n",
    "print('y subset of x',y <= x)\n",
    "print('x superset of y', x >= y)"
   ]
  },
  {
   "cell_type": "code",
   "execution_count": 12,
   "metadata": {},
   "outputs": [],
   "source": [
    "my_turple = (1, 3, 4, 5)\n"
   ]
  },
  {
   "cell_type": "code",
   "execution_count": 53,
   "metadata": {},
   "outputs": [],
   "source": [
    "my_list = list(range(100))\n",
    "my_special = [item for item in my_list if item % 2 == 0 and item > 50]"
   ]
  },
  {
   "cell_type": "code",
   "execution_count": 54,
   "metadata": {},
   "outputs": [
    {
     "name": "stdout",
     "output_type": "stream",
     "text": [
      "[52, 54, 56, 58, 60, 62, 64, 66, 68, 70, 72, 74, 76, 78, 80, 82, 84, 86, 88, 90, 92, 94, 96, 98]\n"
     ]
    }
   ],
   "source": [
    "print(my_special)"
   ]
  },
  {
   "cell_type": "code",
   "execution_count": 56,
   "metadata": {},
   "outputs": [
    {
     "data": {
      "text/plain": [
       "['Hello',\n",
       " 'world,',\n",
       " 'I',\n",
       " 'love',\n",
       " 'people',\n",
       " 'tough',\n",
       " 'character.',\n",
       " 'who',\n",
       " 'are',\n",
       " 'you',\n",
       " 'my',\n",
       " 'brother']"
      ]
     },
     "execution_count": 56,
     "metadata": {},
     "output_type": "execute_result"
    }
   ],
   "source": [
    "my_words = 'Hello world, I love people tough character. who are you my brother'\n",
    "[word for word in my_words.split()]"
   ]
  },
  {
   "cell_type": "code",
   "execution_count": 62,
   "metadata": {},
   "outputs": [
    {
     "data": {
      "text/plain": [
       "[['hello', 'world,', 'i', 'love', 'people', 'tough', 'character'],\n",
       " ['who', 'are', 'you', 'my', 'brother']]"
      ]
     },
     "execution_count": 62,
     "metadata": {},
     "output_type": "execute_result"
    }
   ],
   "source": [
    "def return_lower(word):\n",
    "    return word.lower()\n",
    "[[return_lower(item) for item in sentence.split()] for sentence in my_words.split('.')]"
   ]
  },
  {
   "cell_type": "code",
   "execution_count": 1,
   "metadata": {},
   "outputs": [
    {
     "data": {
      "text/plain": [
       "{'a': 6, 'b': 60, 'c': 54, 'd': 100}"
      ]
     },
     "execution_count": 1,
     "metadata": {},
     "output_type": "execute_result"
    }
   ],
   "source": [
    "my_list_tuple = [('a',6), ('b', 60), ('c', 54), ('d', 100)]\n",
    "{item[0]: item[1] for item in my_list_tuple}"
   ]
  },
  {
   "cell_type": "code",
   "execution_count": 3,
   "metadata": {},
   "outputs": [
    {
     "name": "stdout",
     "output_type": "stream",
     "text": [
      "(1, 3, 44)\n",
      "{'getall': 'Name'}\n"
     ]
    }
   ],
   "source": [
    "def getNum(*args, **kwargs):\n",
    "    print(args)\n",
    "    print(kwargs)\n",
    "    return None\n",
    "getNum(1, 3, 44, getall ='Name')"
   ]
  },
  {
   "cell_type": "code",
   "execution_count": 6,
   "metadata": {},
   "outputs": [
    {
     "name": "stdout",
     "output_type": "stream",
     "text": [
      "False\n",
      "{90, 5}\n"
     ]
    }
   ],
   "source": [
    "names = set()\n",
    "names.add(5)\n",
    "names.add(90)\n",
    "print(3 in names)\n",
    "print(names)"
   ]
  },
  {
   "cell_type": "code",
   "execution_count": 18,
   "metadata": {},
   "outputs": [
    {
     "name": "stdout",
     "output_type": "stream",
     "text": [
      "[1, 2, 3, 4, 5, 6, 7, 8, 9, 10]\n"
     ]
    }
   ],
   "source": [
    "li = list(range(1, 10 + 1))\n",
    "print(li)"
   ]
  },
  {
   "cell_type": "code",
   "execution_count": 19,
   "metadata": {},
   "outputs": [
    {
     "name": "stdout",
     "output_type": "stream",
     "text": [
      "[1, 3, 4, 5, 6, 7, 8, 9, 10]\n"
     ]
    }
   ],
   "source": [
    "li.remove(2)\n",
    "print(li)"
   ]
  },
  {
   "cell_type": "code",
   "execution_count": 20,
   "metadata": {},
   "outputs": [
    {
     "name": "stdout",
     "output_type": "stream",
     "text": [
      "[1, 4, 5, 6, 7, 8, 9, 10]\n",
      "2\n",
      "[1, 4, 5, 6, 7, 8, 9, 10]\n"
     ]
    }
   ],
   "source": [
    "li.pop(1)\n",
    "print(li)\n",
    "print(li.index(5))\n",
    "print(li)"
   ]
  },
  {
   "cell_type": "code",
   "execution_count": 21,
   "metadata": {},
   "outputs": [
    {
     "name": "stdout",
     "output_type": "stream",
     "text": [
      "85\n"
     ]
    }
   ],
   "source": [
    "print((45).__add__(40))"
   ]
  },
  {
   "cell_type": "code",
   "execution_count": 23,
   "metadata": {},
   "outputs": [
    {
     "name": "stdout",
     "output_type": "stream",
     "text": [
      "2\n"
     ]
    }
   ],
   "source": [
    "print(4 // 2)"
   ]
  },
  {
   "cell_type": "code",
   "execution_count": 24,
   "metadata": {},
   "outputs": [
    {
     "name": "stdout",
     "output_type": "stream",
     "text": [
      "[3000, 60, 89, 700, 567, 123, 345, 680]\n"
     ]
    }
   ],
   "source": [
    "num = [60, 89, 700, 567,123, 345,680]\n",
    "num.insert(0, 3000)\n",
    "print(num)"
   ]
  },
  {
   "cell_type": "code",
   "execution_count": 25,
   "metadata": {},
   "outputs": [
    {
     "name": "stdout",
     "output_type": "stream",
     "text": [
      "1\n"
     ]
    }
   ],
   "source": [
    "print(num.count(123))"
   ]
  },
  {
   "cell_type": "code",
   "execution_count": 29,
   "metadata": {},
   "outputs": [
    {
     "name": "stdout",
     "output_type": "stream",
     "text": [
      "[60, 89, 567, 123, 345, 680]\n"
     ]
    }
   ],
   "source": [
    "num = [60, 89, 700, 567,123, 345,680]\n",
    "num.remove(700)\n",
    "print(num)"
   ]
  },
  {
   "cell_type": "code",
   "execution_count": 30,
   "metadata": {},
   "outputs": [
    {
     "name": "stdout",
     "output_type": "stream",
     "text": [
      "[60, 89, 700, 567, 345, 680]\n"
     ]
    }
   ],
   "source": [
    "num = [60, 89, 700, 567,123, 345,680]\n",
    "del num[4]\n",
    "print(num)"
   ]
  },
  {
   "cell_type": "code",
   "execution_count": 31,
   "metadata": {},
   "outputs": [
    {
     "name": "stdout",
     "output_type": "stream",
     "text": [
      "[60, 89, 700, 567, 123, 345, 680, 5000000]\n"
     ]
    }
   ],
   "source": [
    "num = [60, 89, 700, 567,123, 345,680]\n",
    "num.append(5000000)\n",
    "print(num)"
   ]
  },
  {
   "cell_type": "code",
   "execution_count": 32,
   "metadata": {},
   "outputs": [
    {
     "name": "stdout",
     "output_type": "stream",
     "text": [
      "[60, 89, 700, 567, 123, 345]\n"
     ]
    }
   ],
   "source": [
    "num = [60, 89, 700, 567,123, 345,680]\n",
    "num.pop()\n",
    "print(num)"
   ]
  },
  {
   "cell_type": "code",
   "execution_count": 33,
   "metadata": {},
   "outputs": [
    {
     "name": "stdout",
     "output_type": "stream",
     "text": [
      "[89, 700, 567, 123, 345, 680]\n"
     ]
    }
   ],
   "source": [
    "num = [60, 89, 700, 567,123, 345,680]\n",
    "num.pop(0)\n",
    "print(num)"
   ]
  },
  {
   "cell_type": "code",
   "execution_count": 35,
   "metadata": {},
   "outputs": [
    {
     "name": "stdout",
     "output_type": "stream",
     "text": [
      "2\n"
     ]
    }
   ],
   "source": [
    "num = [60, 89, 700, 567,123, 345,680]\n",
    "print(num.index(700))"
   ]
  },
  {
   "cell_type": "code",
   "execution_count": 37,
   "metadata": {},
   "outputs": [
    {
     "name": "stdout",
     "output_type": "stream",
     "text": [
      "[60, 89, 123, 345, 567, 680, 700, 4000]\n"
     ]
    }
   ],
   "source": [
    "num = [4000, 60, 89, 700, 567,123, 345,680]\n",
    "num.sort()\n",
    "print(num)"
   ]
  },
  {
   "cell_type": "code",
   "execution_count": 38,
   "metadata": {},
   "outputs": [
    {
     "name": "stdout",
     "output_type": "stream",
     "text": [
      "[[1, 2, 3, 4], [1, 2, 3, 4], [1, 2, 3, 4]]\n"
     ]
    }
   ],
   "source": [
    "my_list = [1,2,3,4]\n",
    "A = [my_list]*3\n",
    "print(A)"
   ]
  },
  {
   "cell_type": "code",
   "execution_count": 40,
   "metadata": {},
   "outputs": [
    {
     "name": "stdout",
     "output_type": "stream",
     "text": [
      "[[20, 40, 8], [20, 40, 8], [20, 40, 8], [20, 40, 8]]\n"
     ]
    }
   ],
   "source": [
    "my_list = [20, 40, 8]\n",
    "dim = [my_list] * 4\n",
    "print(dim)"
   ]
  },
  {
   "cell_type": "code",
   "execution_count": 3,
   "metadata": {},
   "outputs": [
    {
     "name": "stdout",
     "output_type": "stream",
     "text": [
      "['Rabo', 'Yusuf', \"we's\"]\n"
     ]
    }
   ],
   "source": [
    "name ='Rabo Yusuf\\nwe\\'s'\n",
    "print(name.split())"
   ]
  },
  {
   "cell_type": "code",
   "execution_count": 4,
   "metadata": {},
   "outputs": [
    {
     "name": "stdout",
     "output_type": "stream",
     "text": [
      "['Rabo y', 's', 'f']\n"
     ]
    }
   ],
   "source": [
    "name = 'Rabo yusuf'\n",
    "print(name.split('u'))"
   ]
  },
  {
   "cell_type": "code",
   "execution_count": 7,
   "metadata": {},
   "outputs": [
    {
     "name": "stdout",
     "output_type": "stream",
     "text": [
      "2\n",
      "(2,)\n",
      "True\n"
     ]
    }
   ],
   "source": [
    "tuple = 2, 4, 500\n",
    "print(tuple[0])\n",
    "print(tuple[:1])\n",
    "print(2 in tuple)"
   ]
  },
  {
   "cell_type": "code",
   "execution_count": 22,
   "metadata": {},
   "outputs": [
    {
     "name": "stdout",
     "output_type": "stream",
     "text": [
      "True\n",
      "5\n",
      "{True, 2, 4, 6, 1000, 9, 'goal'}\n",
      "{2, 4}\n",
      "{1000, 'goal'}\n",
      "False\n",
      "{True, 2, 4, 6, 1000, 9, 'goal'}\n",
      "{2, 4}\n",
      "{1000, 'goal'}\n",
      "False\n",
      "None\n",
      "{2, 4, 1000, 200, 'goal'}\n",
      "{4, 1000, 200, 'goal'}\n"
     ]
    }
   ],
   "source": [
    "my_set = {2, 4, 6, 9, True}\n",
    "print(2.in my_set)\n",
    "print(len(my_set))\n",
    "my_set1 = {'goal', 2, 4, 1000}\n",
    "print(my_set | my_set1)\n",
    "print(my_set1 & my_set)\n",
    "print(my_set1 - my_set)\n",
    "print(my_set1 <= my_set)\n",
    "print(my_set1.union(my_set))\n",
    "print(my_set1.intersection(my_set))\n",
    "print(my_set1.difference(my_set))\n",
    "print(my_set1.issubset(my_set))\n",
    "print(my_set1.add(200))\n",
    "print(my_set1)\n",
    "my_set1.pop()\n",
    "print(my_set1)"
   ]
  },
  {
   "cell_type": "code",
   "execution_count": 29,
   "metadata": {},
   "outputs": [
    {
     "name": "stdout",
     "output_type": "stream",
     "text": [
      "['c', 'a', 't', 'd', 'o', 'g', 'r', 'b', 'i']\n"
     ]
    }
   ],
   "source": [
    "word_list = ['cat','dog','rabbit']\n",
    "unique_letter = []\n",
    "for word in word_list:\n",
    "    for letter in word:\n",
    "        if letter not in  unique_letter:\n",
    "            unique_letter.append(letter)\n",
    "\n",
    "print(unique_letter)\n"
   ]
  },
  {
   "cell_type": "code",
   "execution_count": 28,
   "metadata": {},
   "outputs": [
    {
     "name": "stdout",
     "output_type": "stream",
     "text": [
      "['c', 'a', 't', 'd', 'o', 'g', 'r', 'b', 'i']\n"
     ]
    }
   ],
   "source": [
    "word_list = ['cat','dog','rabbit']\n",
    "unique_letter = []\n",
    "[[unique_letter.append(letter) for letter in word if letter not in unique_letter ] for word in word_list]\n",
    "print(unique_letter)"
   ]
  },
  {
   "cell_type": "code",
   "execution_count": 5,
   "metadata": {},
   "outputs": [
    {
     "data": {
      "text/plain": [
       "3333"
      ]
     },
     "execution_count": 5,
     "metadata": {},
     "output_type": "execute_result"
    }
   ],
   "source": [
    "\n",
    "def max_num(my_list):\n",
    "    max = my_list[0]\n",
    "    for num in my_list:\n",
    "        if max <= num:\n",
    "            max = num\n",
    "    return max\n",
    "max_num([34,1000,3333, 0, -234])"
   ]
  },
  {
   "cell_type": "code",
   "execution_count": 6,
   "metadata": {},
   "outputs": [],
   "source": [
    "def find_min_n2(lst):\n",
    "    # Initialize the minimum value as the first element in the list\n",
    "    min_val = lst[0]\n",
    "\n",
    "    # Compare each number to every other number in the list\n",
    "    for i in range(len(lst)):\n",
    "        for j in range(len(lst)):\n",
    "            if lst[i] < lst[j]:\n",
    "                min_val = lst[i]\n",
    "\n",
    "    return min_val"
   ]
  },
  {
   "cell_type": "code",
   "execution_count": 12,
   "metadata": {},
   "outputs": [
    {
     "data": {
      "text/plain": [
       "True"
      ]
     },
     "execution_count": 12,
     "metadata": {},
     "output_type": "execute_result"
    }
   ],
   "source": [
    "def anagram(str, str1):\n",
    "    if len(str) != len(str1):\n",
    "        return False\n",
    "    my_list1 = {}\n",
    "    my_list2 = {}\n",
    "    for lett in str:\n",
    "        if lett in my_list1:\n",
    "            my_list1[lett] += 1\n",
    "        else:\n",
    "            my_list1[lett] = 1\n",
    "    for lett in str1:\n",
    "        if lett in my_list2:\n",
    "            my_list2 += 1\n",
    "        else:\n",
    "            my_list2[lett] = 1\n",
    "    return my_list2 == my_list1\n",
    "anagram('heart', 'earth')\n",
    "anagram('abcd','dcba')"
   ]
  },
  {
   "cell_type": "code",
   "execution_count": 1,
   "metadata": {},
   "outputs": [
    {
     "name": "stdout",
     "output_type": "stream",
     "text": [
      "x = 100\n"
     ]
    }
   ],
   "source": [
    "x = 100\n",
    "print('x = ' + str(x))"
   ]
  },
  {
   "cell_type": "code",
   "execution_count": 2,
   "metadata": {},
   "outputs": [
    {
     "name": "stdout",
     "output_type": "stream",
     "text": [
      "x =  20 y =  30\n"
     ]
    }
   ],
   "source": [
    "x, y = 20, 30\n",
    "print('x = ', x, 'y = ', y)"
   ]
  },
  {
   "cell_type": "code",
   "execution_count": 4,
   "metadata": {},
   "outputs": [],
   "source": [
    "z, y = 200, 500\n",
    "del z, y\n"
   ]
  },
  {
   "cell_type": "code",
   "execution_count": 5,
   "metadata": {},
   "outputs": [
    {
     "name": "stdout",
     "output_type": "stream",
     "text": [
      "800\n"
     ]
    }
   ],
   "source": [
    "N233 = 800\n",
    "print(N233)"
   ]
  },
  {
   "cell_type": "code",
   "execution_count": 15,
   "metadata": {},
   "outputs": [
    {
     "name": "stdout",
     "output_type": "stream",
     "text": [
      "<class 'int'> <class 'float'> <class 'float'> <class 'float'> <class 'float'>\n",
      "Rabo Yusuf\n"
     ]
    }
   ],
   "source": [
    "x = round(46.893)\n",
    "y = round(56.67900, 2)\n",
    "z = round(20.66999, 0)\n",
    "b = round(234455.7899, -1) #234450.0\n",
    "t = round(356477.899393, -2) #356400.0\n",
    "print(type(x), type(y), type(z), type(b), type(t))\n",
    "print('Rabo Yusuf')"
   ]
  },
  {
   "cell_type": "code",
   "execution_count": 16,
   "metadata": {},
   "outputs": [
    {
     "name": "stdout",
     "output_type": "stream",
     "text": [
      "90***80 "
     ]
    }
   ],
   "source": [
    "x, y = 90, 80\n",
    "print(x, y, sep='***', end=' ')"
   ]
  },
  {
   "cell_type": "code",
   "execution_count": 17,
   "metadata": {},
   "outputs": [
    {
     "name": "stdout",
     "output_type": "stream",
     "text": [
      "0\n"
     ]
    }
   ],
   "source": [
    "print(2//45)"
   ]
  },
  {
   "cell_type": "code",
   "execution_count": 19,
   "metadata": {},
   "outputs": [
    {
     "name": "stdout",
     "output_type": "stream",
     "text": [
      "90\n"
     ]
    }
   ],
   "source": [
    "print(90 // 1)"
   ]
  },
  {
   "cell_type": "code",
   "execution_count": 20,
   "metadata": {},
   "outputs": [
    {
     "name": "stdout",
     "output_type": "stream",
     "text": [
      "1.1102230246251565e-16\n"
     ]
    }
   ],
   "source": [
    "x, y = 1, 3\n",
    "one_tenth = x / y\n",
    "z = x - one_tenth - one_tenth -one_tenth\n",
    "print(z)"
   ]
  },
  {
   "cell_type": "code",
   "execution_count": 22,
   "metadata": {},
   "outputs": [
    {
     "name": "stdout",
     "output_type": "stream",
     "text": [
      "temperature in celcius =  148.88888888888889\n"
     ]
    }
   ],
   "source": [
    "f = int(input('Please, enter temperature in farenheith'))\n",
    "fifth_ninth = 5 / 9\n",
    "c = fifth_ninth * (f - 32)\n",
    "print('temperature in celcius = ', c)"
   ]
  },
  {
   "cell_type": "code",
   "execution_count": 29,
   "metadata": {},
   "outputs": [
    {
     "name": "stdout",
     "output_type": "stream",
     "text": [
      "662 h : 27 m : 1648 sec\n"
     ]
    }
   ],
   "source": [
    "seconds = int(input('time in seconds'))\n",
    "hours = seconds // 3600\n",
    "seconds = seconds % 3600\n",
    "minutes = seconds // 60\n",
    "print(hours,'h', ':',minutes, 'm',':', seconds,'sec')"
   ]
  },
  {
   "cell_type": "code",
   "execution_count": 31,
   "metadata": {},
   "outputs": [
    {
     "name": "stdout",
     "output_type": "stream",
     "text": [
      "[0200]\n"
     ]
    }
   ],
   "source": [
    "# Request input from the user\n",
    "num = int(input(\"Please enter an integer in the range 0...9999: \"))\n",
    "# Attenuate the number if necessary\n",
    "if num < 0: # Make sure number is not too small\n",
    "    num = 0\n",
    "if num > 9999: # Make sure number is not too big\n",
    "    num = 9999\n",
    "print(end=\"[\") # Print left brace\n",
    "# Extract and print thousands-place digit\n",
    "digit = num//1000 # Determine the thousands-place digit\n",
    "print(digit, end=\"\") # Print the thousands-place digit\n",
    "num %= 1000 # Discard thousands-place digit\n",
    "# Extract and print hundreds-place digit\n",
    "digit = num//100 # Determine the hundreds-place digit\n",
    "print(digit, end=\"\") # Print the hundreds-place digit\n",
    "num %= 100 # Discard hundreds-place digit\n",
    "# Extract and print tens-place digit\n",
    "digit = num//10 # Determine the tens-place digit\n",
    "print(digit, end=\"\") # Print the tens-place digit\n",
    "num %= 10 # Discard tens-place digit\n",
    "# Remainder is the one-place digit\n",
    "print(num, end=\"\") # Print the ones-place digit\n",
    "print(\"]\") # Print right brace"
   ]
  },
  {
   "cell_type": "code",
   "execution_count": 32,
   "metadata": {},
   "outputs": [
    {
     "name": "stdout",
     "output_type": "stream",
     "text": [
      "1\n"
     ]
    }
   ],
   "source": [
    "if x < 0:\n",
    "    pass\n",
    "# Do nothing (This will not work!)\n",
    "else:\n",
    "    print(x)"
   ]
  },
  {
   "cell_type": "code",
   "execution_count": null,
   "metadata": {},
   "outputs": [],
   "source": [
    "number_of_rows = 3\n",
    "number_of_columns = 2\n",
    "arr_2d=[]\n",
    "for x in range(number_of_rows):\n",
    "   column_elements=[]\n",
    "   for y in range(number_of_columns):\n",
    "       # Enter the all the values w.r.t to a particular column\n",
    "       column_elements.append(0)\n",
    "   #Append the column to the array.\n",
    "   arr_2d.append(column_elements)\n",
    "\n",
    "print(arr_2d)"
   ]
  }
 ],
 "metadata": {
  "kernelspec": {
   "display_name": "base",
   "language": "python",
   "name": "python3"
  },
  "language_info": {
   "codemirror_mode": {
    "name": "ipython",
    "version": 3
   },
   "file_extension": ".py",
   "mimetype": "text/x-python",
   "name": "python",
   "nbconvert_exporter": "python",
   "pygments_lexer": "ipython3",
   "version": "3.10.9"
  },
  "orig_nbformat": 4
 },
 "nbformat": 4,
 "nbformat_minor": 2
}
