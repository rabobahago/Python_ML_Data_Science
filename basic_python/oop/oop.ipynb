{
 "cells": [
  {
   "cell_type": "code",
   "execution_count": 12,
   "metadata": {},
   "outputs": [
    {
     "name": "stdout",
     "output_type": "stream",
     "text": [
      "the side \"a\" is 200 and side \"b\" is 600\n",
      "10\n",
      "10\n",
      "the side \"a\" is 300 and side \"b\" is 500\n",
      "Dog: Dog, Breed: Rinnoo\n"
     ]
    }
   ],
   "source": [
    "class Box:\n",
    "    # class variable/members\n",
    "    all = 10\n",
    "    def __init__(self, side_a, side_b):\n",
    "        # instance variables/members\n",
    "        self.side_a = side_a\n",
    "        self.side_b = side_b\n",
    "    def __repr__(self):\n",
    "        print('<class \"Box\">')\n",
    "    def __str__(self)-> str:\n",
    "        return f'the side \"a\" is {self.side_a} and side \"b\" is {self.side_b}'\n",
    "p1 = Box(200, 600)\n",
    "print(p1)\n",
    "print(p1.all)\n",
    "print(Box.all)\n",
    "\n",
    "p2 = Box(side_a=300, side_b= 500,)\n",
    "print(p2)\n",
    "\n",
    "class Animal:\n",
    "    def __init__(self, name:str, age:int, num_leg: int) -> None:\n",
    "        self.name = name\n",
    "        self.age = age\n",
    "        self.num_leg = num_leg\n",
    "    def __str__(self)->None:\n",
    "        return f'name is {self.name}'\n",
    "    def talk(self):\n",
    "        return f'The {self.name} can\"t for now'\n",
    "\n",
    "class Dog(Animal):\n",
    "    def __init__(self, name:str, age: int, num_leg: int, sound: str):\n",
    "        super().__init__( name, age, num_leg)\n",
    "        self.sound = sound\n",
    "        self.type = \"Dog\"\n",
    "    def __str__(self)->str:\n",
    "        return f'{self.type}: {self.type}, Breed: {self.name}'\n",
    "\n",
    "animal = Dog(name='Rinnoo', age=56, num_leg=4, sound='woof woof')\n",
    "print(animal)\n"
   ]
  },
  {
   "cell_type": "code",
   "execution_count": 11,
   "metadata": {},
   "outputs": [
    {
     "name": "stdout",
     "output_type": "stream",
     "text": [
      "Rabo Yusuf\n",
      "Staff name=>: Rabo Yusuf, ID: 2353\n",
      "Staff name=>: Rabo Yusuf, ID: 1234\n",
      "November 17, 2023\n",
      "20\n"
     ]
    }
   ],
   "source": [
    "from __future__ import annotations\n",
    "from enum import Enum, auto\n",
    "from datetime import datetime\n",
    "\n",
    "class Role(Enum):\n",
    "    ASSOCIATE = auto()\n",
    "    SUPERVISOR = auto()\n",
    "    MANAGER = auto()\n",
    "\n",
    "class Person:\n",
    "    def __init__(self, fname:str, lname:str):\n",
    "        self.fname = fname\n",
    "        self.lname = lname\n",
    "    def __str__(self)->str:\n",
    "        return f'{self.fname} {self.lname}'\n",
    "    @property\n",
    "    def fullname(self)->str:\n",
    "        return f'{self.fname} {self.lname}'\n",
    "p1 = Person('Rabo', \"Yusuf\")\n",
    "print(p1)\n",
    "class Staff(Person):\n",
    "    def __init__(self, fname:str, lname:str, staff_id: int, role:Role):\n",
    "        super().__init__(fname, lname)\n",
    "        self.staff_id = staff_id\n",
    "        self.is_staff = True\n",
    "        self.role = role\n",
    "        self._date_joined = datetime.now()\n",
    "\n",
    "        match role:\n",
    "            case Role.ASSOCIATE:\n",
    "                self.__salary: float = 15\n",
    "            case Role.SUPERVISOR:\n",
    "                self.__salary:float = 20\n",
    "            case Role.MANAGER:\n",
    "                self.__salary: float = 25\n",
    "    def __str__(self)->str:\n",
    "        return f'Staff name=>: {self.fullname}, ID: {self.staff_id}'\n",
    "    @classmethod\n",
    "    def new(cls, person:Person, staff_id:int, role:Role)->Staff:\n",
    "        return cls(person.fname, person.lname, staff_id, role)\n",
    "    @property\n",
    "    def joined_on(self)->str:\n",
    "        return f\"{self._date_joined.strftime('%B %d, %Y')}\"\n",
    "    @property\n",
    "    def salary(self)->float:\n",
    "        return self.__salary\n",
    "p1 = Staff('Rabo','Yusuf', 2353, Role.MANAGER)\n",
    "print(p1)\n",
    "p2 = Staff.new(p1, 1234, Role.SUPERVISOR)\n",
    "print(p2)\n",
    "print(p2.joined_on)\n",
    "print(p2.salary)"
   ]
  },
  {
   "cell_type": "code",
   "execution_count": 26,
   "metadata": {},
   "outputs": [
    {
     "name": "stdout",
     "output_type": "stream",
     "text": [
      "Luciano Ramalho: Fluent Python (2015)\n",
      "The genre of the book High Adventure is autobiography\n",
      "High Adventure is older, it was published in 1956\n",
      "Fluent Python and Norma were published in 2015\n",
      "Books in the crime genre:\n",
      "Sofi Oksanen: Norma\n",
      "Jo Nesbø: The Snowman\n"
     ]
    }
   ],
   "source": [
    "from datetime import date\n",
    "class Book:\n",
    "    def __init__(self, name: str, author: str, genre:str, year:date):\n",
    "        self.name = name\n",
    "        self.author = author\n",
    "        self.genre = genre\n",
    "        self.year = year\n",
    "python = Book(\"Fluent Python\", \"Luciano Ramalho\", \"programming\", 2015)\n",
    "everest = Book(\"High Adventure\", \"Edmund Hillary\", \"autobiography\", 1956)\n",
    "norma = Book(\"Norma\", \"Sofi Oksanen\", \"crime\", 2015)\n",
    "\n",
    "print(f\"{python.author}: {python.name} ({python.year})\")\n",
    "print(f\"The genre of the book {everest.name} is {everest.genre}\")\n",
    "def older_book(book1:Book, book2: Book):\n",
    "    if book1.year == book2.year:\n",
    "        print(f'{book1.name} and {book2.name} were published in {book2.year}')\n",
    "    else:\n",
    "        if book2.year < book1.year:\n",
    "            print(f'{book2.name} is older, it was published in {book2.year}')\n",
    "\n",
    "        else:\n",
    "            print(f'{book1.name} is older, it was published in {book1.year}')\n",
    "older_book(python, everest)\n",
    "older_book(python, norma)\n",
    "def books_of_genre(books: list, genre: str):\n",
    "    return [book for book in books if genre == book.genre ]\n",
    "\n",
    "books = [python, everest, norma, Book(\"The Snowman\", \"Jo Nesbø\", \"crime\", 2007)]\n",
    "\n",
    "print(\"Books in the crime genre:\")\n",
    "for book in books_of_genre(books, \"crime\"):\n",
    "    print(f\"{book.author}: {book.name}\")"
   ]
  },
  {
   "cell_type": "code",
   "execution_count": 18,
   "metadata": {},
   "outputs": [
    {
     "name": "stdout",
     "output_type": "stream",
     "text": [
      "Fluffy\n",
      "dog\n",
      "2017\n"
     ]
    }
   ],
   "source": [
    "from datetime import date\n",
    "class Pet:\n",
    "    def __init__(self, name:str, species:str, year_of_birth:date):\n",
    "        self.name = name\n",
    "        self.species = species\n",
    "        self.year_of_birth = year_of_birth\n",
    "def new_pet(name:str, species:str, year_of_birth):\n",
    "    new_pet = Pet(name, species, year_of_birth)\n",
    "    return new_pet\n",
    "fluffy = new_pet(\"Fluffy\", \"dog\", 2017)\n",
    "print(fluffy.name)\n",
    "print(fluffy.species)\n",
    "print(fluffy.year_of_birth)"
   ]
  },
  {
   "cell_type": "code",
   "execution_count": 31,
   "metadata": {},
   "outputs": [
    {
     "name": "stdout",
     "output_type": "stream",
     "text": [
      "The withdrawal was successful, the balance is now 500.0\n",
      "The withdrawal was unsuccessful, the balance is insufficient\n"
     ]
    }
   ],
   "source": [
    "class BankAccount:\n",
    "    def __init__(self, account_number: str, owner: str, balance: float, annual_interest: float):\n",
    "        self.account_number = account_number\n",
    "        self.owner = owner\n",
    "        self.balance = balance\n",
    "        self.annual_interest = annual_interest\n",
    "    def deposit_to_account(self, amount:float):\n",
    "        self.balance += amount\n",
    "    def add_interest(self):\n",
    "        self.balance += self.balance * self.annual_interest\n",
    "    def withdraw(self, amount: float):\n",
    "        if amount < self.balance and self.balance >= 100:\n",
    "            self.balance -= amount\n",
    "            return True\n",
    "        return False\n",
    "peters_account = BankAccount(\"12345-678\", \"Peter Python\", 1500.0, 0.015)\n",
    "\n",
    "if peters_account.withdraw(1000):\n",
    "    print(\"The withdrawal was successful, the balance is now\", peters_account.balance)\n",
    "else:\n",
    "    print(\"The withdrawal was unsuccessful, the balance is insufficient\")\n",
    "\n",
    "# Yritetään uudestaan\n",
    "if peters_account.withdraw(1000):\n",
    "    print(\"The withdrawal was successful, the balance is now\", peters_account.balance)\n",
    "else:\n",
    "    print(\"The withdrawal was unsuccessful, the balance is insufficient\")"
   ]
  },
  {
   "cell_type": "code",
   "execution_count": 32,
   "metadata": {},
   "outputs": [
    {
     "name": "stdout",
     "output_type": "stream",
     "text": [
      "The withdrawal was unsuccessful, the balance is insufficient\n",
      "The balance is now: -500.0\n"
     ]
    }
   ],
   "source": [
    "peters_account = BankAccount(\"12345-678\", \"Peter Python\", 1500.0, 0.015)\n",
    "\n",
    "# Attempt to withdraw 2000\n",
    "if peters_account.withdraw(2000):\n",
    "    print(\"The withdrawal was successful, the balance is now\", peters_account.balance)\n",
    "else:\n",
    "    print(\"The withdrawal was unsuccessful, the balance is insufficient\")\n",
    "\n",
    "    # \"Force\" the withdrawal of 2000\n",
    "    peters_account.balance -= 2000\n",
    "\n",
    "print(\"The balance is now:\", peters_account.balance)"
   ]
  },
  {
   "cell_type": "code",
   "execution_count": 37,
   "metadata": {},
   "outputs": [
    {
     "name": "stdout",
     "output_type": "stream",
     "text": [
      "Your credit card number is: ******778788\n",
      "Insufficient Fund and your balance is: 1000.0\n",
      "This account name is: Rabo Yusuf\n"
     ]
    }
   ],
   "source": [
    "class CreditCard:\n",
    "    def __init__(self,  number: str, name: str, balance: float = 8.0):\n",
    "        self.name = name\n",
    "        self.__balance = balance\n",
    "        self.__number = number\n",
    "    def __str__(self):\n",
    "        return f'This account name is: {self.name}'\n",
    "    #getter\n",
    "    @property\n",
    "    def retrive_balance(self):\n",
    "        return self.__balance\n",
    "    #setter\n",
    "    @retrive_balance.setter\n",
    "    def deposit_money(self, amount:float):\n",
    "        if amount > 0:\n",
    "            self.__balance += amount\n",
    "        else:\n",
    "            raise ValueError(\"The amount must not be below zero\")\n",
    "\n",
    "    def withdral_money(self, amount:float):\n",
    "        if amount > 0 and self.__balance - amount >= 1000:\n",
    "            self.__balance -= amount\n",
    "        else:\n",
    "            print(f'Insufficient Fund and your balance is: {self.__balance}')\n",
    "\n",
    "    def card_number(self):\n",
    "        credit = \"******\"+str(self.__number)[6:len(str(self.__number))]\n",
    "        print(f'Your credit card number is: {credit}')\n",
    "\n",
    "credit_card = CreditCard('234577778788', 'houses iowa', 1000.0)\n",
    "\n",
    "credit_card.retrive_balance\n",
    "credit_card.card_number()\n",
    "credit_card.withdral_money(34.0)\n",
    "credit_card.name = 'Rabo Yusuf'\n",
    "credit_card.name\n",
    "print(credit_card)\n"
   ]
  },
  {
   "cell_type": "code",
   "execution_count": 66,
   "metadata": {},
   "outputs": [
    {
     "data": {
      "text/plain": [
       "'rabobahago'"
      ]
     },
     "execution_count": 66,
     "metadata": {},
     "output_type": "execute_result"
    }
   ],
   "source": [
    "import re\n",
    "class Recipient:\n",
    "    def __init__(self, email, name):\n",
    "        if self.__check_email(email):\n",
    "            self.__email = email\n",
    "        else:\n",
    "            raise ValueError('The email is not valid')\n",
    "\n",
    "        if self.__check_name(name):\n",
    "            self.__name = name\n",
    "        else:\n",
    "            raise ValueError('The name is not valid')\n",
    "\n",
    "    @property\n",
    "    def get_name(self):\n",
    "            return self.__name\n",
    "    @get_name.setter\n",
    "    def set_name(self, name):\n",
    "        if self.__check_name(name):\n",
    "            self.__name = name\n",
    "        else:\n",
    "            raise ValueError('The name is not valid')\n",
    "\n",
    "    def __check_email(self, email):\n",
    "        # Regular expression pattern for validating email\n",
    "        email_pattern = re.compile(r'^[\\w\\.-]+@[\\w\\.-]+\\.\\w+$')\n",
    "        return bool(email_pattern.match(email))\n",
    "    def __check_name(self, name):\n",
    "        return len(name) > 3 and name.isalpha()\n",
    "recipient = Recipient('rabobahago@gmail.com', 'rabobahago')\n",
    "recipient.get_name\n"
   ]
  },
  {
   "cell_type": "code",
   "execution_count": null,
   "metadata": {},
   "outputs": [],
   "source": []
  }
 ],
 "metadata": {
  "kernelspec": {
   "display_name": "base",
   "language": "python",
   "name": "python3"
  },
  "language_info": {
   "codemirror_mode": {
    "name": "ipython",
    "version": 3
   },
   "file_extension": ".py",
   "mimetype": "text/x-python",
   "name": "python",
   "nbconvert_exporter": "python",
   "pygments_lexer": "ipython3",
   "version": "3.10.9"
  }
 },
 "nbformat": 4,
 "nbformat_minor": 2
}
