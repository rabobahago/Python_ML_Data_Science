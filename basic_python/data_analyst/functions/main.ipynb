{
 "cells": [
  {
   "cell_type": "code",
   "execution_count": 26,
   "metadata": {},
   "outputs": [
    {
     "name": "stdout",
     "output_type": "stream",
     "text": [
      "['movie_title,director_name,color,duration,actor_1_name,language,country,title_year', 'Avatar,James Cameron,Color,178,CCH Pounder,English,USA,2009']\n"
     ]
    }
   ],
   "source": [
    "f = open('movie_metadata.csv', 'r', encoding='utf8')\n",
    "movies = f.read()\n",
    "split_movies = movies.split('\\n')\n",
    "print(split_movies[:2])"
   ]
  },
  {
   "cell_type": "code",
   "execution_count": 17,
   "metadata": {},
   "outputs": [
    {
     "data": {
      "text/plain": [
       "[['movie_title',\n",
       "  'director_name',\n",
       "  'color',\n",
       "  'duration',\n",
       "  'actor_1_name',\n",
       "  'language',\n",
       "  'country',\n",
       "  'title_year'],\n",
       " ['Avatar',\n",
       "  'James Cameron',\n",
       "  'Color',\n",
       "  '178',\n",
       "  'CCH Pounder',\n",
       "  'English',\n",
       "  'USA',\n",
       "  '2009']]"
      ]
     },
     "execution_count": 17,
     "metadata": {},
     "output_type": "execute_result"
    }
   ],
   "source": [
    "movies_data = []\n",
    "for row in split_movies:\n",
    "    movies_data.append(row.split(','))\n",
    "movies_data[:2]"
   ]
  },
  {
   "cell_type": "code",
   "execution_count": 22,
   "metadata": {},
   "outputs": [
    {
     "name": "stdout",
     "output_type": "stream",
     "text": [
      "['James Cameron', 'Gore Verbinski', 'Sam Mendes', 'Christopher Nolan', 'JJ Abrams', 'Andrew Stanton', 'Sam Raimi']\n",
      "['Avatar', \"Pirates of the Caribbean: At World's End\", 'Spectre', 'The Dark Knight Rises', 'Star Wars: Episode VII - The Force Awakens', 'John Carter', 'Spider-Man 3']\n"
     ]
    }
   ],
   "source": [
    "def get_names_title(input_):\n",
    "    names = []\n",
    "    titles = []\n",
    "    for row in input_:\n",
    "        names.append(row[1])\n",
    "        titles.append(row[0])\n",
    "    return names[1:8], titles[1:8]\n",
    "names, titles = get_names_title(movies_data)\n",
    "print(names)\n",
    "print(titles)"
   ]
  },
  {
   "cell_type": "code",
   "execution_count": 23,
   "metadata": {},
   "outputs": [
    {
     "data": {
      "text/plain": [
       "True"
      ]
     },
     "execution_count": 23,
     "metadata": {},
     "output_type": "execute_result"
    }
   ],
   "source": [
    "def is_usa(movie):\n",
    "    if movie[6] == 'USA':\n",
    "        return True\n",
    "    else:\n",
    "        return False\n",
    "\n",
    "wonder_woman = ['Wonder Woman','Patty Jenkins','Color',141,'Gal Gadot','English','USA',2017]\n",
    "wonder_woman_USA = is_usa(wonder_woman)\n",
    "wonder_woman_USA"
   ]
  },
  {
   "cell_type": "code",
   "execution_count": 24,
   "metadata": {},
   "outputs": [
    {
     "data": {
      "text/plain": [
       "True"
      ]
     },
     "execution_count": 24,
     "metadata": {},
     "output_type": "execute_result"
    }
   ],
   "source": [
    "def index_equals_str(input_list,index,input_string):\n",
    "    if input_list[index] == input_string:\n",
    "        return True\n",
    "    else:\n",
    "        return False\n",
    "\n",
    "wonder_woman_in_color = index_equals_str(index=2,input_string=\"Color\",input_list=wonder_woman)\n",
    "wonder_woman_in_color"
   ]
  },
  {
   "cell_type": "code",
   "execution_count": 31,
   "metadata": {},
   "outputs": [
    {
     "data": {
      "text/plain": [
       "3732"
      ]
     },
     "execution_count": 31,
     "metadata": {},
     "output_type": "execute_result"
    }
   ],
   "source": [
    "\n",
    "movie_data= [] #create list of lists\n",
    "for row in split_movies:\n",
    "    movie_data.append(row.split(\",\"))\n",
    "\n",
    "def feature_counter(input_list,index,input_string,header = False):\n",
    "    counter = 0\n",
    "    if header:\n",
    "        input_list = input_list[1:]\n",
    "    for row in input_list:\n",
    "        if row[index] == input_string:\n",
    "            counter += 1\n",
    "    return counter\n",
    "\n",
    "feature_counter(movie_data,6,'USA',header = True)"
   ]
  },
  {
   "cell_type": "code",
   "execution_count": 32,
   "metadata": {},
   "outputs": [
    {
     "name": "stdout",
     "output_type": "stream",
     "text": [
      "{'japan_films': 22, 'color_films': 4714, 'films_in_english': 4611}\n"
     ]
    }
   ],
   "source": [
    "def summary_statistics(input_list):\n",
    "    num_japan_films = feature_counter(input_list,6,'Japan',True)\n",
    "    num_color_films = feature_counter(input_list,2,\"Color\",True)\n",
    "    num_films_in_english = feature_counter(input_list,5,\"English\",True)\n",
    "    summary_dict = {\"japan_films\" : num_japan_films, \"color_films\" : num_color_films, \"films_in_english\" : num_films_in_english}\n",
    "    return summary_dict\n",
    "\n",
    "summary = summary_statistics(movie_data)\n",
    "print(summary)"
   ]
  },
  {
   "cell_type": "code",
   "execution_count": null,
   "metadata": {},
   "outputs": [],
   "source": []
  }
 ],
 "metadata": {
  "kernelspec": {
   "display_name": "base",
   "language": "python",
   "name": "python3"
  },
  "language_info": {
   "codemirror_mode": {
    "name": "ipython",
    "version": 3
   },
   "file_extension": ".py",
   "mimetype": "text/x-python",
   "name": "python",
   "nbconvert_exporter": "python",
   "pygments_lexer": "ipython3",
   "version": "3.10.9"
  }
 },
 "nbformat": 4,
 "nbformat_minor": 2
}
