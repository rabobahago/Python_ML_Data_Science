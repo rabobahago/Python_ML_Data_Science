{
 "cells": [
  {
   "cell_type": "code",
   "execution_count": 1,
   "metadata": {},
   "outputs": [
    {
     "data": {
      "text/plain": [
       "9.9498743710662"
      ]
     },
     "execution_count": 1,
     "metadata": {},
     "output_type": "execute_result"
    }
   ],
   "source": [
    "import math\n",
    "root = math.sqrt(99)\n",
    "root"
   ]
  },
  {
   "cell_type": "code",
   "execution_count": 2,
   "metadata": {},
   "outputs": [
    {
     "data": {
      "text/plain": [
       "78"
      ]
     },
     "execution_count": 2,
     "metadata": {},
     "output_type": "execute_result"
    }
   ],
   "source": [
    "foor_ = math.floor(78.89)\n",
    "foor_"
   ]
  },
  {
   "cell_type": "code",
   "execution_count": 4,
   "metadata": {},
   "outputs": [
    {
     "data": {
      "text/plain": [
       "5.744562646538029"
      ]
     },
     "execution_count": 4,
     "metadata": {},
     "output_type": "execute_result"
    }
   ],
   "source": [
    "import math as m\n",
    "root = m.sqrt(33)\n",
    "root"
   ]
  },
  {
   "cell_type": "code",
   "execution_count": 5,
   "metadata": {},
   "outputs": [
    {
     "data": {
      "text/plain": [
       "9.486832980505138"
      ]
     },
     "execution_count": 5,
     "metadata": {},
     "output_type": "execute_result"
    }
   ],
   "source": [
    "from math import *\n",
    "root = sqrt(90)\n",
    "root"
   ]
  },
  {
   "cell_type": "code",
   "execution_count": 12,
   "metadata": {},
   "outputs": [
    {
     "data": {
      "text/plain": [
       "[['year', 'week', 'winner', 'loser'],\n",
       " ['2009', '1', 'Pittsburgh Steelers', 'Tennessee Titans'],\n",
       " ['2009', '1', 'Minnesota Vikings', 'Cleveland Browns'],\n",
       " ['2009', '1', 'New York Giants', 'Washington Redskins'],\n",
       " ['2009', '1', 'San Francisco 49ers', 'Arizona Cardinals'],\n",
       " ['2009', '1', 'Seattle Seahawks', 'St. Louis Rams'],\n",
       " ['2009', '1', 'Philadelphia Eagles', 'Carolina Panthers'],\n",
       " ['2009', '1', 'New York Jets', 'Houston Texans'],\n",
       " ['2009', '1', 'Atlanta Falcons', 'Miami Dolphins'],\n",
       " ['2009', '1', 'Baltimore Ravens', 'Kansas City Chiefs'],\n",
       " ['2009', '1', 'Indianapolis Colts', 'Jacksonville Jaguars'],\n",
       " ['2009', '1', 'New Orleans Saints', 'Detroit Lions'],\n",
       " ['2009', '1', 'Denver Broncos', 'Cincinnati Bengals'],\n",
       " ['2009', '1', 'Green Bay Packers', 'Chicago Bears'],\n",
       " ['2009', '1', 'Dallas Cowboys', 'Tampa Bay Buccaneers'],\n",
       " ['2009', '1', 'New England Patriots', 'Buffalo Bills'],\n",
       " ['2009', '1', 'San Diego Chargers', 'Oakland Raiders'],\n",
       " ['2009', '2', 'New York Giants', 'Dallas Cowboys'],\n",
       " ['2009', '2', 'Chicago Bears', 'Pittsburgh Steelers'],\n",
       " ['2009', '2', 'Oakland Raiders', 'Kansas City Chiefs'],\n",
       " ['2009', '2', 'Washington Redskins', 'St. Louis Rams'],\n",
       " ['2009', '2', 'Baltimore Ravens', 'San Diego Chargers'],\n",
       " ['2009', '2', 'San Francisco 49ers', 'Seattle Seahawks'],\n",
       " ['2009', '2', 'Buffalo Bills', 'Tampa Bay Buccaneers'],\n",
       " ['2009', '2', 'New York Jets', 'New England Patriots'],\n",
       " ['2009', '2', 'New Orleans Saints', 'Philadelphia Eagles'],\n",
       " ['2009', '2', 'Atlanta Falcons', 'Carolina Panthers'],\n",
       " ['2009', '2', 'Cincinnati Bengals', 'Green Bay Packers'],\n",
       " ['2009', '2', 'Denver Broncos', 'Cleveland Browns'],\n",
       " ['2009', '2', 'Arizona Cardinals', 'Jacksonville Jaguars'],\n",
       " ['2009', '2', 'Houston Texans', 'Tennessee Titans'],\n",
       " ['2009', '2', 'Minnesota Vikings', 'Detroit Lions'],\n",
       " ['2009', '2', 'Indianapolis Colts', 'Miami Dolphins'],\n",
       " ['2009', '3', 'San Diego Chargers', 'Miami Dolphins'],\n",
       " ['2009', '3', 'New Orleans Saints', 'Buffalo Bills'],\n",
       " ['2009', '3', 'New York Giants', 'Tampa Bay Buccaneers'],\n",
       " ['2009', '3', 'New York Jets', 'Tennessee Titans'],\n",
       " ['2009', '3', 'Cincinnati Bengals', 'Pittsburgh Steelers'],\n",
       " ['2009', '3', 'Minnesota Vikings', 'San Francisco 49ers'],\n",
       " ['2009', '3', 'Detroit Lions', 'Washington Redskins'],\n",
       " ['2009', '3', 'Philadelphia Eagles', 'Kansas City Chiefs'],\n",
       " ['2009', '3', 'Jacksonville Jaguars', 'Houston Texans'],\n",
       " ['2009', '3', 'New England Patriots', 'Atlanta Falcons'],\n",
       " ['2009', '3', 'Chicago Bears', 'Seattle Seahawks'],\n",
       " ['2009', '3', 'Baltimore Ravens', 'Cleveland Browns'],\n",
       " ['2009', '3', 'Indianapolis Colts', 'Arizona Cardinals'],\n",
       " ['2009', '3', 'Denver Broncos', 'Oakland Raiders'],\n",
       " ['2009', '3', 'Green Bay Packers', 'St. Louis Rams'],\n",
       " ['2009', '3', 'Dallas Cowboys', 'Carolina Panthers'],\n",
       " ['2009', '4', 'Houston Texans', 'Oakland Raiders'],\n",
       " ['2009', '4', 'San Francisco 49ers', 'St. Louis Rams'],\n",
       " ['2009', '4', 'New England Patriots', 'Baltimore Ravens'],\n",
       " ['2009', '4', 'Pittsburgh Steelers', 'San Diego Chargers'],\n",
       " ['2009', '4', 'Washington Redskins', 'Tampa Bay Buccaneers'],\n",
       " ['2009', '4', 'Jacksonville Jaguars', 'Tennessee Titans'],\n",
       " ['2009', '4', 'New Orleans Saints', 'New York Jets'],\n",
       " ['2009', '4', 'New York Giants', 'Kansas City Chiefs'],\n",
       " ['2009', '4', 'Indianapolis Colts', 'Seattle Seahawks'],\n",
       " ['2009', '4', 'Chicago Bears', 'Detroit Lions'],\n",
       " ['2009', '4', 'Denver Broncos', 'Dallas Cowboys'],\n",
       " ['2009', '4', 'Cincinnati Bengals', 'Cleveland Browns'],\n",
       " ['2009', '4', 'Miami Dolphins', 'Buffalo Bills'],\n",
       " ['2009', '4', 'Minnesota Vikings', 'Green Bay Packers'],\n",
       " ['2009', '5', 'Arizona Cardinals', 'Houston Texans'],\n",
       " ['2009', '5', 'Philadelphia Eagles', 'Tampa Bay Buccaneers'],\n",
       " ['2009', '5', 'Carolina Panthers', 'Washington Redskins'],\n",
       " ['2009', '5', 'Atlanta Falcons', 'San Francisco 49ers'],\n",
       " ['2009', '5', 'New York Giants', 'Oakland Raiders'],\n",
       " ['2009', '5', 'Pittsburgh Steelers', 'Detroit Lions'],\n",
       " ['2009', '5', 'Denver Broncos', 'New England Patriots'],\n",
       " ['2009', '5', 'Minnesota Vikings', 'St. Louis Rams'],\n",
       " ['2009', '5', 'Seattle Seahawks', 'Jacksonville Jaguars'],\n",
       " ['2009', '5', 'Dallas Cowboys', 'Kansas City Chiefs'],\n",
       " ['2009', '5', 'Indianapolis Colts', 'Tennessee Titans'],\n",
       " ['2009', '5', 'Cleveland Browns', 'Buffalo Bills'],\n",
       " ['2009', '5', 'Cincinnati Bengals', 'Baltimore Ravens'],\n",
       " ['2009', '5', 'Miami Dolphins', 'New York Jets'],\n",
       " ['2009', '6', 'Oakland Raiders', 'Philadelphia Eagles'],\n",
       " ['2009', '6', 'Arizona Cardinals', 'Seattle Seahawks'],\n",
       " ['2009', '6', 'Atlanta Falcons', 'Chicago Bears'],\n",
       " ['2009', '6', 'Carolina Panthers', 'Tampa Bay Buccaneers'],\n",
       " ['2009', '6', 'New Orleans Saints', 'New York Giants'],\n",
       " ['2009', '6', 'Jacksonville Jaguars', 'St. Louis Rams'],\n",
       " ['2009', '6', 'Minnesota Vikings', 'Baltimore Ravens'],\n",
       " ['2009', '6', 'New England Patriots', 'Tennessee Titans'],\n",
       " ['2009', '6', 'Kansas City Chiefs', 'Washington Redskins'],\n",
       " ['2009', '6', 'Houston Texans', 'Cincinnati Bengals'],\n",
       " ['2009', '6', 'Green Bay Packers', 'Detroit Lions'],\n",
       " ['2009', '6', 'Pittsburgh Steelers', 'Cleveland Browns'],\n",
       " ['2009', '6', 'Buffalo Bills', 'New York Jets'],\n",
       " ['2009', '6', 'Denver Broncos', 'San Diego Chargers'],\n",
       " ['2009', '7', 'Arizona Cardinals', 'New York Giants'],\n",
       " ['2009', '7', 'Indianapolis Colts', 'St. Louis Rams'],\n",
       " ['2009', '7', 'Cincinnati Bengals', 'Chicago Bears'],\n",
       " ['2009', '7', 'New Orleans Saints', 'Miami Dolphins'],\n",
       " ['2009', '7', 'Dallas Cowboys', 'Atlanta Falcons'],\n",
       " ['2009', '7', 'San Diego Chargers', 'Kansas City Chiefs'],\n",
       " ['2009', '7', 'New York Jets', 'Oakland Raiders'],\n",
       " ['2009', '7', 'Houston Texans', 'San Francisco 49ers'],\n",
       " ['2009', '7', 'New England Patriots', 'Tampa Bay Buccaneers'],\n",
       " ['2009', '7', 'Pittsburgh Steelers', 'Minnesota Vikings'],\n",
       " ['2009', '7', 'Green Bay Packers', 'Cleveland Browns'],\n",
       " ['2009', '7', 'Buffalo Bills', 'Carolina Panthers'],\n",
       " ['2009', '7', 'Philadelphia Eagles', 'Washington Redskins'],\n",
       " ['2009', '8', 'Minnesota Vikings', 'Green Bay Packers'],\n",
       " ['2009', '8', 'Miami Dolphins', 'New York Jets'],\n",
       " ['2009', '8', 'Tennessee Titans', 'Jacksonville Jaguars'],\n",
       " ['2009', '8', 'Dallas Cowboys', 'Seattle Seahawks'],\n",
       " ['2009', '8', 'Baltimore Ravens', 'Denver Broncos'],\n",
       " ['2009', '8', 'Chicago Bears', 'Cleveland Browns'],\n",
       " ['2009', '8', 'Carolina Panthers', 'Arizona Cardinals'],\n",
       " ['2009', '8', 'Indianapolis Colts', 'San Francisco 49ers'],\n",
       " ['2009', '8', 'St. Louis Rams', 'Detroit Lions'],\n",
       " ['2009', '8', 'San Diego Chargers', 'Oakland Raiders'],\n",
       " ['2009', '8', 'Houston Texans', 'Buffalo Bills'],\n",
       " ['2009', '8', 'Philadelphia Eagles', 'New York Giants'],\n",
       " ['2009', '8', 'New Orleans Saints', 'Atlanta Falcons'],\n",
       " ['2009', '9', 'Atlanta Falcons', 'Washington Redskins'],\n",
       " ['2009', '9', 'Cincinnati Bengals', 'Baltimore Ravens'],\n",
       " ['2009', '9', 'Tennessee Titans', 'San Francisco 49ers'],\n",
       " ['2009', '9', 'New England Patriots', 'Miami Dolphins'],\n",
       " ['2009', '9', 'Jacksonville Jaguars', 'Kansas City Chiefs'],\n",
       " ['2009', '9', 'Indianapolis Colts', 'Houston Texans'],\n",
       " ['2009', '9', 'Tampa Bay Buccaneers', 'Green Bay Packers'],\n",
       " ['2009', '9', 'Seattle Seahawks', 'Detroit Lions'],\n",
       " ['2009', '9', 'Dallas Cowboys', 'Philadelphia Eagles'],\n",
       " ['2009', '9', 'New Orleans Saints', 'Carolina Panthers'],\n",
       " ['2009', '9', 'Arizona Cardinals', 'Chicago Bears'],\n",
       " ['2009', '9', 'San Diego Chargers', 'New York Giants'],\n",
       " ['2009', '9', 'Pittsburgh Steelers', 'Denver Broncos'],\n",
       " ['2009', '10', 'San Francisco 49ers', 'Chicago Bears'],\n",
       " ['2009', '10', 'New Orleans Saints', 'St. Louis Rams'],\n",
       " ['2009', '10', 'Indianapolis Colts', 'New England Patriots'],\n",
       " ['2009', '10', 'San Diego Chargers', 'Philadelphia Eagles'],\n",
       " ['2009', '10', 'Arizona Cardinals', 'Seattle Seahawks'],\n",
       " ['2009', '10', 'Miami Dolphins', 'Tampa Bay Buccaneers'],\n",
       " ['2009', '10', 'Kansas City Chiefs', 'Oakland Raiders'],\n",
       " ['2009', '10', 'Jacksonville Jaguars', 'New York Jets'],\n",
       " ['2009', '10', 'Minnesota Vikings', 'Detroit Lions'],\n",
       " ['2009', '10', 'Carolina Panthers', 'Atlanta Falcons'],\n",
       " ['2009', '10', 'Tennessee Titans', 'Buffalo Bills'],\n",
       " ['2009', '10', 'Cincinnati Bengals', 'Pittsburgh Steelers'],\n",
       " ['2009', '10', 'Green Bay Packers', 'Dallas Cowboys'],\n",
       " ['2009', '10', 'Washington Redskins', 'Denver Broncos'],\n",
       " ['2009', '10', 'Baltimore Ravens', 'Cleveland Browns'],\n",
       " ['2009', '11', 'Miami Dolphins', 'Carolina Panthers'],\n",
       " ['2009', '11', 'Philadelphia Eagles', 'Chicago Bears'],\n",
       " ['2009', '11', 'Kansas City Chiefs', 'Pittsburgh Steelers'],\n",
       " ['2009', '11', 'San Diego Chargers', 'Denver Broncos'],\n",
       " ['2009', '11', 'Minnesota Vikings', 'Seattle Seahawks'],\n",
       " ['2009', '11', 'Green Bay Packers', 'San Francisco 49ers'],\n",
       " ['2009', '11', 'Dallas Cowboys', 'Washington Redskins'],\n",
       " ['2009', '11', 'New England Patriots', 'New York Jets'],\n",
       " ['2009', '11', 'New Orleans Saints', 'Tampa Bay Buccaneers'],\n",
       " ['2009', '11', 'New York Giants', 'Atlanta Falcons'],\n",
       " ['2009', '11', 'Jacksonville Jaguars', 'Buffalo Bills'],\n",
       " ['2009', '11', 'Oakland Raiders', 'Cincinnati Bengals'],\n",
       " ['2009', '11', 'Detroit Lions', 'Cleveland Browns'],\n",
       " ['2009', '11', 'Indianapolis Colts', 'Baltimore Ravens'],\n",
       " ['2009', '11', 'Arizona Cardinals', 'St. Louis Rams'],\n",
       " ['2009', '11', 'Tennessee Titans', 'Houston Texans'],\n",
       " ['2009', '12', 'Denver Broncos', 'New York Giants'],\n",
       " ['2009', '12', 'Green Bay Packers', 'Detroit Lions'],\n",
       " ['2009', '12', 'Dallas Cowboys', 'Oakland Raiders'],\n",
       " ['2009', '12', 'Baltimore Ravens', 'Pittsburgh Steelers'],\n",
       " ['2009', '12', 'Seattle Seahawks', 'St. Louis Rams'],\n",
       " ['2009', '12', 'Atlanta Falcons', 'Tampa Bay Buccaneers'],\n",
       " ['2009', '12', 'Philadelphia Eagles', 'Washington Redskins'],\n",
       " ['2009', '12', 'Buffalo Bills', 'Miami Dolphins'],\n",
       " ['2009', '12', 'San Diego Chargers', 'Kansas City Chiefs'],\n",
       " ['2009', '12', 'San Francisco 49ers', 'Jacksonville Jaguars'],\n",
       " ['2009', '12', 'Tennessee Titans', 'Arizona Cardinals'],\n",
       " ['2009', '12', 'Indianapolis Colts', 'Houston Texans'],\n",
       " ['2009', '12', 'Cincinnati Bengals', 'Cleveland Browns'],\n",
       " ['2009', '12', 'Minnesota Vikings', 'Chicago Bears'],\n",
       " ['2009', '12', 'New York Jets', 'Carolina Panthers'],\n",
       " ['2009', '12', 'New Orleans Saints', 'New England Patriots'],\n",
       " ['2009', '13', 'New York Jets', 'Buffalo Bills'],\n",
       " ['2009', '13', 'Seattle Seahawks', 'San Francisco 49ers'],\n",
       " ['2009', '13', 'San Diego Chargers', 'Cleveland Browns'],\n",
       " ['2009', '13', 'Chicago Bears', 'St. Louis Rams'],\n",
       " ['2009', '13', 'Oakland Raiders', 'Pittsburgh Steelers'],\n",
       " ['2009', '13', 'Philadelphia Eagles', 'Atlanta Falcons'],\n",
       " ['2009', '13', 'Indianapolis Colts', 'Tennessee Titans'],\n",
       " ['2009', '13', 'Carolina Panthers', 'Tampa Bay Buccaneers'],\n",
       " ['2009', '13', 'Miami Dolphins', 'New England Patriots'],\n",
       " ['2009', '13', 'New York Giants', 'Dallas Cowboys'],\n",
       " ['2009', '13', 'Denver Broncos', 'Kansas City Chiefs'],\n",
       " ['2009', '13', 'Cincinnati Bengals', 'Detroit Lions'],\n",
       " ['2009', '13', 'Jacksonville Jaguars', 'Houston Texans'],\n",
       " ['2009', '13', 'Arizona Cardinals', 'Minnesota Vikings'],\n",
       " ['2009', '13', 'New Orleans Saints', 'Washington Redskins'],\n",
       " ['2009', '13', 'Green Bay Packers', 'Baltimore Ravens'],\n",
       " ['2009', '14', 'Cleveland Browns', 'Pittsburgh Steelers'],\n",
       " ['2009', '14', 'New York Jets', 'Tampa Bay Buccaneers'],\n",
       " ['2009', '14', 'Philadelphia Eagles', 'New York Giants'],\n",
       " ['2009', '14', 'Tennessee Titans', 'St. Louis Rams'],\n",
       " ['2009', '14', 'San Diego Chargers', 'Dallas Cowboys'],\n",
       " ['2009', '14', 'Houston Texans', 'Seattle Seahawks'],\n",
       " ['2009', '14', 'Washington Redskins', 'Oakland Raiders'],\n",
       " ['2009', '14', 'New Orleans Saints', 'Atlanta Falcons'],\n",
       " ['2009', '14', 'Miami Dolphins', 'Jacksonville Jaguars'],\n",
       " ['2009', '14', 'Buffalo Bills', 'Kansas City Chiefs'],\n",
       " ['2009', '14', 'New England Patriots', 'Carolina Panthers'],\n",
       " ['2009', '14', 'Minnesota Vikings', 'Cincinnati Bengals'],\n",
       " ['2009', '14', 'Indianapolis Colts', 'Denver Broncos'],\n",
       " ['2009', '14', 'Baltimore Ravens', 'Detroit Lions'],\n",
       " ['2009', '14', 'Green Bay Packers', 'Chicago Bears'],\n",
       " ['2009', '14', 'San Francisco 49ers', 'Arizona Cardinals'],\n",
       " ['2009', '15', 'Indianapolis Colts', 'Jacksonville Jaguars'],\n",
       " ['2009', '15', 'Dallas Cowboys', 'New Orleans Saints'],\n",
       " ['2009', '15', 'Carolina Panthers', 'Minnesota Vikings'],\n",
       " ['2009', '15', 'New England Patriots', 'Buffalo Bills'],\n",
       " ['2009', '15', 'Oakland Raiders', 'Denver Broncos'],\n",
       " ['2009', '15', 'Philadelphia Eagles', 'San Francisco 49ers'],\n",
       " ['2009', '15', 'Tampa Bay Buccaneers', 'Seattle Seahawks'],\n",
       " ['2009', '15', 'Tennessee Titans', 'Miami Dolphins'],\n",
       " ['2009', '15', 'Houston Texans', 'St. Louis Rams'],\n",
       " ['2009', '15', 'Pittsburgh Steelers', 'Green Bay Packers'],\n",
       " ['2009', '15', 'Atlanta Falcons', 'New York Jets'],\n",
       " ['2009', '15', 'Baltimore Ravens', 'Chicago Bears'],\n",
       " ['2009', '15', 'San Diego Chargers', 'Cincinnati Bengals'],\n",
       " ['2009', '15', 'Cleveland Browns', 'Kansas City Chiefs'],\n",
       " ['2009', '15', 'Arizona Cardinals', 'Detroit Lions'],\n",
       " ['2009', '15', 'New York Giants', 'Washington Redskins'],\n",
       " ['2009', '16', 'San Diego Chargers', 'Tennessee Titans'],\n",
       " ['2009', '16', 'Cleveland Browns', 'Oakland Raiders'],\n",
       " ['2009', '16', 'Arizona Cardinals', 'St. Louis Rams'],\n",
       " ['2009', '16', 'Pittsburgh Steelers', 'Baltimore Ravens'],\n",
       " ['2009', '16', 'Green Bay Packers', 'Seattle Seahawks'],\n",
       " ['2009', '16', 'Tampa Bay Buccaneers', 'New Orleans Saints'],\n",
       " ['2009', '16', 'New York Jets', 'Indianapolis Colts'],\n",
       " ['2009', '16', 'Cincinnati Bengals', 'Kansas City Chiefs'],\n",
       " ['2009', '16', 'Dallas Cowboys', 'Washington Redskins'],\n",
       " ['2009', '16', 'New England Patriots', 'Jacksonville Jaguars'],\n",
       " ['2009', '16', 'Houston Texans', 'Miami Dolphins'],\n",
       " ['2009', '16', 'San Francisco 49ers', 'Detroit Lions']]"
      ]
     },
     "execution_count": 12,
     "metadata": {},
     "output_type": "execute_result"
    }
   ],
   "source": [
    "import csv\n",
    "f = open(\"nfl.csv\")\n",
    "csvreader = csv.reader(f)\n",
    "nfl = list(csvreader)\n",
    "patriots_wins = 0\n",
    "nfl"
   ]
  },
  {
   "cell_type": "code",
   "execution_count": 11,
   "metadata": {},
   "outputs": [
    {
     "name": "stdout",
     "output_type": "stream",
     "text": [
      "20\n"
     ]
    }
   ],
   "source": [
    "for row in nfl:\n",
    "    if row[2] == \"New England Patriots\":\n",
    "        patriots_wins += 1\n",
    "print(patriots_wins)"
   ]
  },
  {
   "cell_type": "code",
   "execution_count": 13,
   "metadata": {},
   "outputs": [],
   "source": [
    "def nfl_wins(team_name):\n",
    "    team_wins = 0\n",
    "    for row in nfl:\n",
    "        if row[2] == team_name:\n",
    "            team_wins += 1\n",
    "    return team_wins"
   ]
  },
  {
   "cell_type": "code",
   "execution_count": 14,
   "metadata": {},
   "outputs": [
    {
     "data": {
      "text/plain": [
       "10"
      ]
     },
     "execution_count": 14,
     "metadata": {},
     "output_type": "execute_result"
    }
   ],
   "source": [
    "cowboys_wins = nfl_wins(\"Dallas Cowboys\")\n",
    "cowboys_wins"
   ]
  },
  {
   "cell_type": "code",
   "execution_count": null,
   "metadata": {},
   "outputs": [],
   "source": []
  }
 ],
 "metadata": {
  "kernelspec": {
   "display_name": "base",
   "language": "python",
   "name": "python3"
  },
  "language_info": {
   "codemirror_mode": {
    "name": "ipython",
    "version": 3
   },
   "file_extension": ".py",
   "mimetype": "text/x-python",
   "name": "python",
   "nbconvert_exporter": "python",
   "pygments_lexer": "ipython3",
   "version": "3.10.9"
  }
 },
 "nbformat": 4,
 "nbformat_minor": 2
}
