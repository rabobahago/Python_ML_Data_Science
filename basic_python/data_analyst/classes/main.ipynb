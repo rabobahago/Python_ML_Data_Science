{
 "cells": [
  {
   "cell_type": "code",
   "execution_count": 1,
   "metadata": {},
   "outputs": [
    {
     "name": "stdout",
     "output_type": "stream",
     "text": [
      "<class 'type'>\n"
     ]
    }
   ],
   "source": [
    "class Dataset():\n",
    "    def __init__(self):\n",
    "        self.type = \"csv\"\n",
    "\n",
    "dataset = Dataset()\n",
    "print(type(Dataset))"
   ]
  },
  {
   "cell_type": "code",
   "execution_count": 3,
   "metadata": {},
   "outputs": [
    {
     "data": {
      "text/plain": [
       "[['year', 'week', 'winner', 'loser'],\n",
       " ['2009', '1', 'Pittsburgh Steelers', 'Tennessee Titans'],\n",
       " ['2009', '1', 'Minnesota Vikings', 'Cleveland Browns'],\n",
       " ['2009', '1', 'New York Giants', 'Washington Redskins'],\n",
       " ['2009', '1', 'San Francisco 49ers', 'Arizona Cardinals'],\n",
       " ['2009', '1', 'Seattle Seahawks', 'St. Louis Rams'],\n",
       " ['2009', '1', 'Philadelphia Eagles', 'Carolina Panthers'],\n",
       " ['2009', '1', 'New York Jets', 'Houston Texans'],\n",
       " ['2009', '1', 'Atlanta Falcons', 'Miami Dolphins'],\n",
       " ['2009', '1', 'Baltimore Ravens', 'Kansas City Chiefs']]"
      ]
     },
     "execution_count": 3,
     "metadata": {},
     "output_type": "execute_result"
    }
   ],
   "source": [
    "class Dataset():\n",
    "    def __init__(self,data):\n",
    "        self.type = \"csv\"\n",
    "        self.data = data\n",
    "\n",
    "import csv\n",
    "f = open('nfl.csv')\n",
    "csvread = csv.reader(f)\n",
    "nfl_data = list(csvread)\n",
    "\n",
    "nfl_dataset = Dataset(nfl_data)\n",
    "dataset_data = nfl_dataset.data\n",
    "dataset_data[0:10]"
   ]
  },
  {
   "cell_type": "code",
   "execution_count": 4,
   "metadata": {},
   "outputs": [
    {
     "name": "stdout",
     "output_type": "stream",
     "text": [
      "[['year', 'week', 'winner', 'loser'], ['2009', '1', 'Pittsburgh Steelers', 'Tennessee Titans'], ['2009', '1', 'Minnesota Vikings', 'Cleveland Browns'], ['2009', '1', 'New York Giants', 'Washington Redskins'], ['2009', '1', 'San Francisco 49ers', 'Arizona Cardinals'], ['2009', '1', 'Seattle Seahawks', 'St. Louis Rams'], ['2009', '1', 'Philadelphia Eagles', 'Carolina Panthers'], ['2009', '1', 'New York Jets', 'Houston Texans'], ['2009', '1', 'Atlanta Falcons', 'Miami Dolphins'], ['2009', '1', 'Baltimore Ravens', 'Kansas City Chiefs']]\n"
     ]
    }
   ],
   "source": [
    "class Dataset():\n",
    "    def __init__(self,data):\n",
    "        self.type = \"csv\"\n",
    "        self.data = data\n",
    "\n",
    "    def print_data(self,num_rows):\n",
    "        print(self.data[0:num_rows])\n",
    "\n",
    "nfl_dataset = Dataset(nfl_data)\n",
    "nfl_dataset.print_data(10)"
   ]
  },
  {
   "cell_type": "code",
   "execution_count": 5,
   "metadata": {},
   "outputs": [
    {
     "name": "stdout",
     "output_type": "stream",
     "text": [
      "['year', 'week', 'winner', 'loser']\n"
     ]
    }
   ],
   "source": [
    "class Dataset():\n",
    "    def __init__(self,data):\n",
    "        self.type = \"csv\"\n",
    "        self.header = data[0]\n",
    "        self.data = data[1:]\n",
    "\n",
    "    def print_data(self,num_rows):\n",
    "        print(self.data[0:num_rows])\n",
    "\n",
    "nfl_dataset = Dataset(nfl_data)\n",
    "nfl_header = nfl_dataset.header\n",
    "print(nfl_header)"
   ]
  },
  {
   "cell_type": "code",
   "execution_count": 6,
   "metadata": {},
   "outputs": [
    {
     "name": "stdout",
     "output_type": "stream",
     "text": [
      "['2009', '2009', '2009', '2009', '2009', '2009', '2009', '2009', '2009', '2009']\n",
      "None\n"
     ]
    }
   ],
   "source": [
    "class Dataset():\n",
    "    def __init__(self,data):\n",
    "        self.type = \"csv\"\n",
    "        self.header = data[0]\n",
    "        self.data = data[1:]\n",
    "\n",
    "    def print_data(self,num_rows):\n",
    "        print(self.data[0:num_rows])\n",
    "\n",
    "    def column(self,label):\n",
    "        if label not in self.header:\n",
    "            return None\n",
    "        else:\n",
    "            for idx, element in enumerate(self.header):\n",
    "                if label == element:\n",
    "                   index = idx\n",
    "                col = []\n",
    "            for row in self.data:\n",
    "                col.append(row[index])\n",
    "        return col\n",
    "\n",
    "nfl_dataset = Dataset(nfl_data)\n",
    "year_column = nfl_dataset.column('year')\n",
    "player_column = nfl_dataset.column('player')\n",
    "print(year_column[0:10])\n",
    "print(player_column)"
   ]
  },
  {
   "cell_type": "code",
   "execution_count": 7,
   "metadata": {},
   "outputs": [
    {
     "name": "stdout",
     "output_type": "stream",
     "text": [
      "[['2009', '1', 'Pittsburgh Steelers', 'Tennessee Titans'], ['2009', '1', 'Minnesota Vikings', 'Cleveland Browns'], ['2009', '1', 'New York Giants', 'Washington Redskins'], ['2009', '1', 'San Francisco 49ers', 'Arizona Cardinals'], ['2009', '1', 'Seattle Seahawks', 'St. Louis Rams'], ['2009', '1', 'Philadelphia Eagles', 'Carolina Panthers'], ['2009', '1', 'New York Jets', 'Houston Texans'], ['2009', '1', 'Atlanta Falcons', 'Miami Dolphins'], ['2009', '1', 'Baltimore Ravens', 'Kansas City Chiefs'], ['2009', '1', 'Indianapolis Colts', 'Jacksonville Jaguars']]\n"
     ]
    }
   ],
   "source": [
    "class Dataset():\n",
    "    def __init__(self,data):\n",
    "        self.type = \"csv\"\n",
    "        self.header = data[0]\n",
    "        self.data = data[1:]\n",
    "\n",
    "    def print_data(self,num_rows):\n",
    "        print(self.data[0:num_rows])\n",
    "\n",
    "    def column(self,label):\n",
    "        if label not in self.header:\n",
    "            return None\n",
    "        else:\n",
    "            for idx, element in enumerate(self.header):\n",
    "                if label == element:\n",
    "                   index = idx\n",
    "                col = []\n",
    "            for row in self.data:\n",
    "                col.append(row[index])\n",
    "        return col\n",
    "\n",
    "    def count_unique(self,label):\n",
    "        return len(set(self.column(label)))\n",
    "\n",
    "    def __str__(self):\n",
    "        return str(self.data[0:10])\n",
    "\n",
    "nfl_dataset = Dataset(nfl_data)\n",
    "print(nfl_dataset)"
   ]
  },
  {
   "cell_type": "code",
   "execution_count": null,
   "metadata": {},
   "outputs": [],
   "source": []
  }
 ],
 "metadata": {
  "kernelspec": {
   "display_name": "base",
   "language": "python",
   "name": "python3"
  },
  "language_info": {
   "codemirror_mode": {
    "name": "ipython",
    "version": 3
   },
   "file_extension": ".py",
   "mimetype": "text/x-python",
   "name": "python",
   "nbconvert_exporter": "python",
   "pygments_lexer": "ipython3",
   "version": "3.10.9"
  }
 },
 "nbformat": 4,
 "nbformat_minor": 2
}
