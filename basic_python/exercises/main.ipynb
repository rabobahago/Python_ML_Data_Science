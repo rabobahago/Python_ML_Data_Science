{
 "cells": [
  {
   "cell_type": "code",
   "execution_count": 1,
   "metadata": {},
   "outputs": [
    {
     "name": "stdout",
     "output_type": "stream",
     "text": [
      "145\n"
     ]
    }
   ],
   "source": [
    "i = 0\n",
    "sum_ = 0\n",
    "while True:\n",
    "    if i >= 10:\n",
    "        break\n",
    "    sum_ = sum_ + i + 10\n",
    "    i += 1\n",
    "print(sum_)"
   ]
  },
  {
   "cell_type": "code",
   "execution_count": 2,
   "metadata": {},
   "outputs": [
    {
     "name": "stdout",
     "output_type": "stream",
     "text": [
      "1 * 0 = 0\n",
      "1 * 1 = 1\n",
      "1 * 2 = 2\n",
      "1 * 3 = 3\n",
      "1 * 4 = 4\n",
      "2 * 0 = 0\n",
      "2 * 1 = 2\n",
      "2 * 2 = 4\n",
      "2 * 3 = 6\n",
      "2 * 4 = 8\n",
      "3 * 0 = 0\n",
      "3 * 1 = 3\n",
      "3 * 2 = 6\n",
      "3 * 3 = 9\n",
      "3 * 4 = 12\n",
      "4 * 0 = 0\n",
      "4 * 1 = 4\n",
      "4 * 2 = 8\n",
      "4 * 3 = 12\n",
      "4 * 4 = 16\n",
      "5 * 0 = 0\n",
      "5 * 1 = 5\n",
      "5 * 2 = 10\n",
      "5 * 3 = 15\n",
      "5 * 4 = 20\n",
      "150\n"
     ]
    }
   ],
   "source": [
    "i = 0\n",
    "output = 0\n",
    "while i < 5:\n",
    "    i += 1\n",
    "    j = 0\n",
    "    while j < 5:\n",
    "\n",
    "        print(f'{i} * {j} = {i * j}')\n",
    "        output += i * j\n",
    "        j += 1\n",
    "print(output)"
   ]
  },
  {
   "cell_type": "code",
   "execution_count": 3,
   "metadata": {},
   "outputs": [
    {
     "name": "stdout",
     "output_type": "stream",
     "text": [
      "7\n"
     ]
    }
   ],
   "source": [
    "result = 0\n",
    "while True:\n",
    "    num = int(input('Enter a number or type -1 to quit: '))\n",
    "    if num <= 0:\n",
    "        break\n",
    "    if num >= 7:\n",
    "        continue\n",
    "    result += num\n",
    "print(result)\n"
   ]
  },
  {
   "cell_type": "code",
   "execution_count": 6,
   "metadata": {},
   "outputs": [
    {
     "name": "stdout",
     "output_type": "stream",
     "text": [
      "even 0\n",
      "odd 1\n",
      "odd 3\n",
      "odd 5\n",
      "odd 7\n",
      "odd 9\n",
      "odd 1\n",
      "odd 3\n",
      "odd 5\n",
      "odd 7\n",
      "odd 9\n"
     ]
    }
   ],
   "source": [
    "limit = int(input('Enter a positive to generate even and odd numbers: '))\n",
    "i = 0\n",
    "while i < limit:\n",
    "    if i % 2 == 0:\n",
    "        print('even', i)\n",
    "    j = 0\n",
    "    i += 1\n",
    "    while True:\n",
    "        if j >10:\n",
    "            break\n",
    "        if j % 2 != 0:\n",
    "            print('odd', j)\n",
    "        j += 1"
   ]
  },
  {
   "cell_type": "code",
   "execution_count": 7,
   "metadata": {},
   "outputs": [
    {
     "name": "stdout",
     "output_type": "stream",
     "text": [
      "2 * 1 = 2\n",
      "2 * 2 = 4\n"
     ]
    }
   ],
   "source": [
    "giving_num = int(input('Please type in a number:'))\n",
    "while i < giving_num:\n",
    "\n",
    "    j = 1\n",
    "    while j < giving_num:\n",
    "\n",
    "        print(f'{i} * {j} = {i * j}')\n",
    "        j += 1\n",
    "    i += 1"
   ]
  },
  {
   "cell_type": "code",
   "execution_count": 8,
   "metadata": {},
   "outputs": [
    {
     "name": "stdout",
     "output_type": "stream",
     "text": [
      "1\n",
      "3\n",
      "2\n"
     ]
    }
   ],
   "source": [
    "num = int(input('Enter a positive number'))\n",
    "left = 1\n",
    "right = num\n",
    "while left < right:\n",
    "    print(left)\n",
    "    print(right)\n",
    "    left +=1\n",
    "    right -= 1\n",
    "    if left == right:\n",
    "        print(left)"
   ]
  },
  {
   "cell_type": "code",
   "execution_count": 9,
   "metadata": {},
   "outputs": [
    {
     "name": "stdout",
     "output_type": "stream",
     "text": [
      "2\n",
      "1\n",
      "4\n",
      "3\n"
     ]
    }
   ],
   "source": [
    "num = int(input('Enter a positive number'))\n",
    "i = 1\n",
    "j = 2\n",
    "\n",
    "while True:\n",
    "    if i >= num:\n",
    "        break\n",
    "    print(j)\n",
    "    print(i)\n",
    "    i += 2\n",
    "    j += 2"
   ]
  },
  {
   "cell_type": "code",
   "execution_count": 10,
   "metadata": {},
   "outputs": [
    {
     "name": "stdout",
     "output_type": "stream",
     "text": [
      "2\n",
      "1\n",
      "3\n"
     ]
    }
   ],
   "source": [
    "number = int(input(\"Please type in a number: \"))\n",
    "\n",
    "index = 1\n",
    "while index < number:\n",
    "    print(index+1)\n",
    "    print(index)\n",
    "    index += 2\n",
    "\n",
    "if index <= number:\n",
    "    print(index)"
   ]
  },
  {
   "cell_type": "code",
   "execution_count": 11,
   "metadata": {},
   "outputs": [
    {
     "name": "stdout",
     "output_type": "stream",
     "text": [
      "1 1\n",
      "1 2\n",
      "1 3\n",
      "101\n",
      "2 1\n",
      "2 2\n",
      "2 3\n",
      "010\n",
      "3 1\n",
      "3 2\n",
      "3 3\n",
      "101\n"
     ]
    }
   ],
   "source": [
    "def chessboard(num):\n",
    "    i = 1\n",
    "    while i <= num:\n",
    "        j = 1\n",
    "        row = \"\"\n",
    "        while j <= num:\n",
    "            print(i, j)\n",
    "            if (i + j) % 2 == 0:\n",
    "                row += \"1\"\n",
    "            else:\n",
    "                row += \"0\"\n",
    "            j += 1\n",
    "        print(row)\n",
    "        i += 1\n",
    "\n",
    "# Testing the function\n",
    "if __name__ == \"__main__\":\n",
    "    chessboard(3)"
   ]
  },
  {
   "cell_type": "code",
   "execution_count": 12,
   "metadata": {},
   "outputs": [
    {
     "name": "stdout",
     "output_type": "stream",
     "text": [
      "Sample output:\n",
      "aba\n",
      "bab\n",
      "aba\n",
      "\n",
      "aybab\n",
      "ybabt\n",
      "babtu\n",
      "abtua\n",
      "btuay\n"
     ]
    }
   ],
   "source": [
    "def squared(string, size):\n",
    "    length = len(string)\n",
    "    i = 0\n",
    "    while i < size:\n",
    "        j = 0\n",
    "        while j < size:\n",
    "            print(string[(i + j) % length], end=\"\")\n",
    "            j += 1\n",
    "        print()\n",
    "        i += 1\n",
    "\n",
    "# Testing the function\n",
    "print(\"Sample output:\")\n",
    "squared(\"ab\", 3)\n",
    "print()\n",
    "squared(\"aybabtu\", 5)"
   ]
  },
  {
   "cell_type": "code",
   "execution_count": 15,
   "metadata": {},
   "outputs": [
    {
     "name": "stdout",
     "output_type": "stream",
     "text": [
      "#######\n",
      "#######\n",
      "#######\n",
      "#######\n",
      "#######\n",
      "\n",
      "#######\n",
      "#######\n"
     ]
    }
   ],
   "source": [
    "def print_hash():\n",
    "    print('#' * 7)\n",
    "def box_of_hashes(num):\n",
    "    i = 0\n",
    "    while i < num:\n",
    "        print_hash()\n",
    "        i += 1\n",
    "box_of_hashes(5)\n",
    "print()\n",
    "box_of_hashes(2)"
   ]
  },
  {
   "cell_type": "code",
   "execution_count": 17,
   "metadata": {},
   "outputs": [
    {
     "name": "stdout",
     "output_type": "stream",
     "text": [
      "#####\n",
      "#####\n",
      "#####\n",
      "#####\n",
      "#####\n",
      "\n",
      "###\n",
      "###\n",
      "###\n"
     ]
    }
   ],
   "source": [
    "def print_hash(num):\n",
    "    print('#' * num)\n",
    "def square_of_hashes(num):\n",
    "    i = 0\n",
    "    while i < num:\n",
    "        print_hash(num)\n",
    "        i += 1\n",
    "square_of_hashes(5)\n",
    "print()\n",
    "square_of_hashes(3)"
   ]
  },
  {
   "cell_type": "code",
   "execution_count": 18,
   "metadata": {},
   "outputs": [
    {
     "name": "stdout",
     "output_type": "stream",
     "text": [
      "*****\n",
      "*****\n",
      "*****\n",
      "*****\n",
      "*****\n",
      "\n",
      "ooo\n",
      "ooo\n",
      "ooo\n"
     ]
    }
   ],
   "source": [
    "def print_hash(num, char):\n",
    "    print(char * num)\n",
    "def square(num, char):\n",
    "    i = 0\n",
    "    while i < num:\n",
    "        print_hash(num, char)\n",
    "        i += 1\n",
    "square(5, \"*\")\n",
    "print()\n",
    "square(3, \"o\")"
   ]
  },
  {
   "cell_type": "code",
   "execution_count": 23,
   "metadata": {},
   "outputs": [
    {
     "name": "stdout",
     "output_type": "stream",
     "text": [
      "#\n",
      "##\n",
      "###\n",
      "####\n",
      "#####\n",
      "######\n",
      "\n",
      "#\n",
      "##\n",
      "###\n"
     ]
    }
   ],
   "source": [
    "def triangle(num):\n",
    "    i = 0\n",
    "    row = ''\n",
    "    while i < num:\n",
    "        row += '#'\n",
    "        print(row)\n",
    "        i += 1\n",
    "triangle(6)\n",
    "print()\n",
    "triangle(3)"
   ]
  },
  {
   "cell_type": "code",
   "execution_count": 25,
   "metadata": {},
   "outputs": [
    {
     "name": "stdout",
     "output_type": "stream",
     "text": [
      "X\n",
      "XX\n",
      "XXX\n",
      "XXXX\n",
      "XXXXX\n",
      "*****\n",
      "*****\n",
      "*****\n",
      "\n",
      "o\n",
      "oo\n",
      "++\n",
      "++\n",
      "++\n",
      "++\n",
      "\n",
      ".\n",
      "..\n",
      "...\n"
     ]
    }
   ],
   "source": [
    "def shape(num1, char1, num2, char2):\n",
    "    i = 0\n",
    "    row = ''\n",
    "    while i < num1:\n",
    "        row += char1\n",
    "        print(row)\n",
    "        i += 1\n",
    "    j = 0\n",
    "    while j < num2:\n",
    "        print(char2 * num1)\n",
    "        j += 1\n",
    "shape(5, \"X\", 3, \"*\")\n",
    "print()\n",
    "shape(2, \"o\", 4, \"+\")\n",
    "print()\n",
    "shape(3, \".\", 0, \",\")"
   ]
  },
  {
   "cell_type": "code",
   "execution_count": 44,
   "metadata": {},
   "outputs": [
    {
     "name": "stdout",
     "output_type": "stream",
     "text": [
      "a spruce!\n",
      "  *\n",
      " ***\n",
      "*****\n",
      "  *\n",
      "\n",
      "a spruce!\n",
      "    *\n",
      "   ***\n",
      "  *****\n",
      " *******\n",
      "*********\n",
      "    *\n"
     ]
    }
   ],
   "source": [
    "def spruce(num):\n",
    "    print(\"a spruce!\")\n",
    "    i = 1\n",
    "    while i <= num:\n",
    "        spaces = \" \" * (num - i)\n",
    "        stars = \"*\" * (2*i - 1)\n",
    "        print(spaces + stars)\n",
    "        i += 1\n",
    "    print(\" \" * (num - 1) + \"*\")\n",
    "\n",
    "# Test cases\n",
    "spruce(3)\n",
    "print()\n",
    "spruce(5)"
   ]
  },
  {
   "cell_type": "code",
   "execution_count": 2,
   "metadata": {},
   "outputs": [
    {
     "name": "stdout",
     "output_type": "stream",
     "text": [
      "-4\n",
      "-3\n",
      "-2\n",
      "-1\n",
      "0\n",
      "1\n",
      "2\n",
      "3\n",
      "4\n"
     ]
    }
   ],
   "source": [
    "def neg_to_pos(num):\n",
    "    j = - num\n",
    "    while j <= num:\n",
    "        print(j)\n",
    "        j += 1\n",
    "neg_to_pos(4)"
   ]
  },
  {
   "cell_type": "code",
   "execution_count": 25,
   "metadata": {},
   "outputs": [
    {
     "name": "stdout",
     "output_type": "stream",
     "text": [
      "True\n",
      "True\n",
      "True\n",
      "False\n",
      "False\n"
     ]
    }
   ],
   "source": [
    "def anagrams(word1, word2):\n",
    "    hash_ = {}\n",
    "    if len(word1) != len(word2):\n",
    "        return False\n",
    "    for letter in word2:\n",
    "        if letter in hash_:\n",
    "            hash_[letter] += 1\n",
    "        else:\n",
    "            hash_[letter] = 1\n",
    "    for letter in word1:\n",
    "        if letter not in  hash_ or hash_[letter] == 0:\n",
    "            return False\n",
    "        else:\n",
    "            hash_[letter] -= 1\n",
    "\n",
    "    return True\n",
    "\n",
    "print(anagrams(\"tame\", \"meta\")) # True\n",
    "print(anagrams(\"tame\", \"mate\")) # True\n",
    "print(anagrams(\"tame\", \"team\")) # True\n",
    "print(anagrams(\"tabby\", \"batty\")) # False\n",
    "print(anagrams(\"python\", \"java\")) # False\n"
   ]
  },
  {
   "cell_type": "code",
   "execution_count": 12,
   "metadata": {},
   "outputs": [
    {
     "name": "stdout",
     "output_type": "stream",
     "text": [
      " 9 - - - 8 - 3 - -\n",
      " - - - 2 5 - 7 - -\n",
      " - 2 - 3 - - - - 4\n",
      " - 9 4 - - - - - -\n",
      " - - - 7 3 - 5 6 -\n",
      " 7 - 5 - 6 - 4 - -\n",
      " - - 7 8 - 3 9 - -\n",
      " - - 1 - - - - - 3\n",
      " 3 - - - - - - - 2\n"
     ]
    }
   ],
   "source": [
    "sudoku = [\n",
    "  [9, 0, 0, 0, 8, 0, 3, 0, 0],\n",
    "  [0, 0, 0, 2, 5, 0, 7, 0, 0],\n",
    "  [0, 2, 0, 3, 0, 0, 0, 0, 4],\n",
    "  [0, 9, 4, 0, 0, 0, 0, 0, 0],\n",
    "  [0, 0, 0, 7, 3, 0, 5, 6, 0],\n",
    "  [7, 0, 5, 0, 6, 0, 4, 0, 0],\n",
    "  [0, 0, 7, 8, 0, 3, 9, 0, 0],\n",
    "  [0, 0, 1, 0, 0, 0, 0, 0, 3],\n",
    "  [3, 0, 0, 0, 0, 0, 0, 0, 2]\n",
    "]\n",
    "\n",
    "def print_grid(sudoku):\n",
    "    for row in sudoku:\n",
    "        for square in row:\n",
    "            if square > 0:\n",
    "                print(f' {square}', end='')\n",
    "            else:\n",
    "                print(f' -', end = '')\n",
    "        print()\n",
    "print_grid(sudoku)"
   ]
  },
  {
   "cell_type": "code",
   "execution_count": 34,
   "metadata": {},
   "outputs": [
    {
     "name": "stdout",
     "output_type": "stream",
     "text": [
      "True\n",
      "False\n"
     ]
    }
   ],
   "source": [
    "sudoku = [\n",
    "  [9, 0, 0, 0, 8, 0, 3, 0, 0],\n",
    "  [2, 0, 0, 2, 5, 0, 7, 0, 0],\n",
    "  [0, 2, 0, 3, 0, 0, 0, 0, 4],\n",
    "  [2, 9, 4, 0, 0, 0, 0, 0, 0],\n",
    "  [0, 0, 0, 7, 3, 0, 5, 6, 0],\n",
    "  [7, 0, 5, 0, 6, 0, 4, 0, 0],\n",
    "  [0, 0, 7, 8, 0, 3, 9, 0, 0],\n",
    "  [0, 0, 1, 0, 0, 0, 0, 0, 3],\n",
    "  [3, 0, 0, 0, 0, 0, 0, 0, 2]\n",
    "]\n",
    "def row_correct(sudoku: list, row_no: int):\n",
    "    result = []\n",
    "    for elem in sudoku[row_no]:\n",
    "\n",
    "        if elem != 0:\n",
    "            result.append(elem)\n",
    "\n",
    "\n",
    "    return not len(result) != len(set(result))\n",
    "\n",
    "\n",
    "\n",
    "print(row_correct(sudoku, 0))\n",
    "print(row_correct(sudoku, 1))"
   ]
  },
  {
   "cell_type": "code",
   "execution_count": 47,
   "metadata": {},
   "outputs": [
    {
     "name": "stdout",
     "output_type": "stream",
     "text": [
      "False\n",
      "True\n"
     ]
    }
   ],
   "source": [
    "sudoku = [\n",
    "  [9, 0, 0, 0, 8, 0, 3, 0, 0],\n",
    "  [2, 0, 0, 2, 5, 0, 7, 0, 0],\n",
    "  [0, 2, 0, 3, 0, 0, 0, 0, 4],\n",
    "  [2, 9, 4, 0, 0, 0, 0, 0, 0],\n",
    "  [0, 0, 0, 7, 3, 0, 5, 6, 0],\n",
    "  [7, 0, 5, 0, 6, 0, 4, 0, 0],\n",
    "  [0, 0, 7, 8, 0, 3, 9, 0, 0],\n",
    "  [0, 0, 1, 0, 0, 0, 0, 0, 3],\n",
    "  [3, 0, 0, 0, 0, 0, 0, 0, 2]\n",
    "]\n",
    "\n",
    "def column_correct(sudoku: list, column_no: int):\n",
    "    result = []\n",
    "    i = 0\n",
    "    while i < len(sudoku):\n",
    "\n",
    "        if sudoku[i][column_no] != 0:\n",
    "            result.append(sudoku[i][column_no])\n",
    "        i += 1\n",
    "    return not len(result) != len(set(result))\n",
    "print(column_correct(sudoku, 0))\n",
    "print(column_correct(sudoku, 1))"
   ]
  },
  {
   "cell_type": "code",
   "execution_count": 49,
   "metadata": {},
   "outputs": [
    {
     "name": "stdout",
     "output_type": "stream",
     "text": [
      "even\n"
     ]
    }
   ],
   "source": [
    "x = 20\n",
    "print(\"even\" if x%2 == 0 else \"odd\")"
   ]
  },
  {
   "cell_type": "code",
   "execution_count": null,
   "metadata": {},
   "outputs": [],
   "source": []
  }
 ],
 "metadata": {
  "kernelspec": {
   "display_name": "Python 3",
   "language": "python",
   "name": "python3"
  },
  "language_info": {
   "codemirror_mode": {
    "name": "ipython",
    "version": 3
   },
   "file_extension": ".py",
   "mimetype": "text/x-python",
   "name": "python",
   "nbconvert_exporter": "python",
   "pygments_lexer": "ipython3",
   "version": "3.10.9"
  }
 },
 "nbformat": 4,
 "nbformat_minor": 2
}
