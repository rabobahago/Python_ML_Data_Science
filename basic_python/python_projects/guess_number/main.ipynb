{
 "cells": [
  {
   "cell_type": "code",
   "execution_count": 3,
   "metadata": {},
   "outputs": [
    {
     "name": "stdout",
     "output_type": "stream",
     "text": [
      "Sorry, Guess again. Too high\n",
      "Sorry, Guess again. Too high\n",
      "Sorry, Guess again. Too low\n",
      "Sorry, Guess again. Too low\n",
      "Sorry, Guess again. Too low\n",
      "Yay, you guess the number 4\n"
     ]
    }
   ],
   "source": [
    "import random\n",
    "\n",
    "def guess(x):\n",
    "    random_number = random.randint(1, x)\n",
    "    guess = 0\n",
    "    while guess != random_number:\n",
    "        guess = int(input(f\"Guess a number between 1 and {x}\"))\n",
    "        if guess < random_number:\n",
    "            print('Sorry, Guess again. Too low')\n",
    "        elif guess > random_number:\n",
    "            print('Sorry, Guess again. Too high')\n",
    "    print(f'Yay, you guess the number {random_number}')\n",
    "guess(10)"
   ]
  },
  {
   "cell_type": "code",
   "execution_count": 2,
   "metadata": {},
   "outputs": [
    {
     "name": "stdout",
     "output_type": "stream",
     "text": [
      "Yay, The computer guessed your number, 1, currently\n"
     ]
    }
   ],
   "source": [
    "import random\n",
    "def computer_guess(x):\n",
    "    low = 1\n",
    "    high = x\n",
    "    feedback = ''\n",
    "    while feedback != 'c':\n",
    "        if low != high:\n",
    "            guess = random.randint(low, high)\n",
    "        else:\n",
    "            guess = low\n",
    "        guess = random.randint(low, high)\n",
    "        feedback = input(f'Is guess too high (H), too low (L), or current (C)').lower()\n",
    "        if feedback == 'h':\n",
    "            high = guess - 1\n",
    "        elif feedback == 'l':\n",
    "            low = guess + 1\n",
    "    print(f'Yay, The computer guessed your number, {guess}, currently')\n",
    "computer_guess(10)"
   ]
  },
  {
   "cell_type": "code",
   "execution_count": null,
   "metadata": {},
   "outputs": [],
   "source": []
  }
 ],
 "metadata": {
  "kernelspec": {
   "display_name": "base",
   "language": "python",
   "name": "python3"
  },
  "language_info": {
   "codemirror_mode": {
    "name": "ipython",
    "version": 3
   },
   "file_extension": ".py",
   "mimetype": "text/x-python",
   "name": "python",
   "nbconvert_exporter": "python",
   "pygments_lexer": "ipython3",
   "version": "3.10.9"
  }
 },
 "nbformat": 4,
 "nbformat_minor": 2
}
