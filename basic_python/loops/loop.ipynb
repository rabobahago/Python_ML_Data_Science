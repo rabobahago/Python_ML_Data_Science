{
 "cells": [
  {
   "cell_type": "code",
   "execution_count": 1,
   "metadata": {},
   "outputs": [
    {
     "name": "stdout",
     "output_type": "stream",
     "text": [
      "21 18 15 12 9 6 3 "
     ]
    }
   ],
   "source": [
    "for num in range(21, 1, -3):\n",
    "    print(num, end=' ')"
   ]
  },
  {
   "cell_type": "code",
   "execution_count": 2,
   "metadata": {},
   "outputs": [
    {
     "name": "stdout",
     "output_type": "stream",
     "text": [
      "0 1 2 3 4 5 6 7 8 9 10 11 12 13 14 15 16 17 18 19 20 21 22 23 24 25 26 27 28 29 30 31 32 33 34 35 36 37 38 39 40 41 42 43 44 45 46 47 48 49 50 51 52 53 54 55 56 57 58 59 60 61 62 63 64 65 66 67 68 69 70 71 72 73 74 75 76 77 78 79 80 81 82 83 84 85 86 87 88 89 "
     ]
    }
   ],
   "source": [
    "for num in range(90):\n",
    "    print(num, end=' ')"
   ]
  },
  {
   "cell_type": "code",
   "execution_count": 3,
   "metadata": {},
   "outputs": [
    {
     "name": "stdout",
     "output_type": "stream",
     "text": [
      "1 3 5 7 9 11 13 15 17 19 21 23 25 27 29 31 33 35 37 39 "
     ]
    }
   ],
   "source": [
    "for num in range(1, 40, 2):\n",
    "    print(num, end=' ')"
   ]
  },
  {
   "cell_type": "code",
   "execution_count": 5,
   "metadata": {},
   "outputs": [
    {
     "name": "stdout",
     "output_type": "stream",
     "text": [
      "-5 -4 -3 -2 -1 0 1 2 3 4 "
     ]
    }
   ],
   "source": [
    "for num in range(-5, 5):\n",
    "    print(num, end=' ')"
   ]
  },
  {
   "cell_type": "code",
   "execution_count": 8,
   "metadata": {},
   "outputs": [
    {
     "name": "stdout",
     "output_type": "stream",
     "text": [
      "  1           10\n",
      "  2          100\n",
      "  3         1000\n",
      "  4        10000\n",
      "  5       100000\n",
      "  6      1000000\n",
      "  7     10000000\n",
      "  8    100000000\n",
      "  9   1000000000\n",
      " 10  10000000000\n"
     ]
    }
   ],
   "source": [
    "for num in range(1, 11):\n",
    "    print('{0:>3} {1:>12}'.format(num, 10 ** num))"
   ]
  },
  {
   "cell_type": "code",
   "execution_count": 10,
   "metadata": {},
   "outputs": [
    {
     "name": "stdout",
     "output_type": "stream",
     "text": [
      "(0) \n",
      "(1) \n",
      "(2) \n",
      "(3) \n",
      "(4) \n",
      "(200) \n",
      "(6) \n",
      "(7) \n",
      "(8) \n",
      "(9) \n"
     ]
    }
   ],
   "source": [
    "for num in range(10):\n",
    "   # print(num)\n",
    "    if num == 5:\n",
    "        num = 200\n",
    "    print('({})'.format(num), end = ' ')\n",
    "    print()"
   ]
  },
  {
   "cell_type": "code",
   "execution_count": 12,
   "metadata": {},
   "outputs": [
    {
     "name": "stdout",
     "output_type": "stream",
     "text": [
      "[A][B][C][D][E][F]\n"
     ]
    }
   ],
   "source": [
    "for c in 'ABCDEF':\n",
    "    print('[', c, ']', end='', sep='')\n",
    "print()"
   ]
  },
  {
   "cell_type": "code",
   "execution_count": 24,
   "metadata": {},
   "outputs": [
    {
     "name": "stdout",
     "output_type": "stream",
     "text": [
      "    1   2   3   4   5   6   7   8   9  10\n",
      " +----------------------------------------\n",
      "  1 |  2 |  3 |  4 |  5 |  6 |  7 |  8 |  9 | 10 |  10  20  30  40  50  60  70  80  90 100\n"
     ]
    }
   ],
   "source": [
    "# size = int(input('Enter the size of time table'))\n",
    "# print('    ', end='')\n",
    "# for i in range(1, size + 1):\n",
    "#     print('{0:>4}'.format(i), end='')\n",
    "# print()\n",
    "# print('    +', end='')\n",
    "# for num in range(1, size + 1):\n",
    "#     print('----', end=' ' )\n",
    "# for row in range(1, size + 1):\n",
    "#     print('{0:3} |'.format(row), end='')\n",
    "#     for column in range(1, size + 1):\n",
    "#         product = row*column # Compute product\n",
    "#     print('{0:4}'.format(product), end='') # Display product\n",
    "#     print()\n",
    "# Get the number of rows and columns in the table\n",
    "size = int(input(\"Please enter the table size: \"))\n",
    "# Print a size x size multiplication table\n",
    "# First, print heading: 1 2 3 4 5 etc.\n",
    "print(\" \", end='')\n",
    "# Print column heading\n",
    "for column in range(1, size + 1):\n",
    "    print('{0:4}'.format(column), end='') # Display column number\n",
    "print() # Go down to the next line\n",
    "# Print line separator: +------------------\n",
    "print(\" +\", end='')\n",
    "for column in range(1, size + 1):\n",
    "    print('----', end='') # Display line\n",
    "print() # Drop down to next line\n",
    "# Print table contents\n",
    "for row in range(1, size + 1):\n",
    "    print('{0:3} |'.format(row), end='') # Print heading for this row\n",
    "for column in range(1, size + 1):\n",
    "    product = row*column # Compute product\n",
    "    print('{0:4}'.format(product), end='') # Display product\n",
    "print()\n"
   ]
  }
 ],
 "metadata": {
  "kernelspec": {
   "display_name": "base",
   "language": "python",
   "name": "python3"
  },
  "language_info": {
   "codemirror_mode": {
    "name": "ipython",
    "version": 3
   },
   "file_extension": ".py",
   "mimetype": "text/x-python",
   "name": "python",
   "nbconvert_exporter": "python",
   "pygments_lexer": "ipython3",
   "version": "3.10.9"
  }
 },
 "nbformat": 4,
 "nbformat_minor": 2
}
