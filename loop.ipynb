{
 "cells": [
  {
   "cell_type": "code",
   "execution_count": 1,
   "metadata": {},
   "outputs": [
    {
     "name": "stdout",
     "output_type": "stream",
     "text": [
      "The largest number is: 34\n"
     ]
    }
   ],
   "source": [
    "largest_num = -999999999\n",
    "num = int(input('Enter a number or type -1 to stop:'))\n",
    "while num !=-1:\n",
    "    if num > largest_num:\n",
    "        largest_num = num\n",
    "    num = int(input('Enter a number or type -1 to stop:'))\n",
    "# Print the largest number.\n",
    "print(\"The largest number is:\", largest_num)\n"
   ]
  },
  {
   "cell_type": "code",
   "execution_count": 3,
   "metadata": {},
   "outputs": [
    {
     "name": "stdout",
     "output_type": "stream",
     "text": [
      "Odd numbers count: 1\n",
      "Even numbers count: 0\n"
     ]
    }
   ],
   "source": [
    "# A program that reads a sequence of numbers\n",
    "# and counts how many numbers are even and how many are odd.\n",
    "# The program terminates when zero is entered.\n",
    "\n",
    "odd_numbers = 0\n",
    "even_numbers = 0\n",
    "\n",
    "# Read the first number.\n",
    "number = int(input(\"Enter a number or type 0 to stop: \"))\n",
    "\n",
    "# 0 terminates execution.\n",
    "while number != 0:\n",
    "    # Check if the number is odd.\n",
    "    if number % 2 == 1:\n",
    "        # Increase the odd_numbers counter.\n",
    "        odd_numbers += 1\n",
    "    else:\n",
    "        # Increase the even_numbers counter.\n",
    "        even_numbers += 1\n",
    "    # Read the next number.\n",
    "    number = int(input(\"Enter a number or type 0 to stop: \"))\n",
    "\n",
    "# Print results.\n",
    "print(\"Odd numbers count:\", odd_numbers)\n",
    "print(\"Even numbers count:\", even_numbers)\n"
   ]
  },
  {
   "cell_type": "code",
   "execution_count": 5,
   "metadata": {},
   "outputs": [
    {
     "name": "stdout",
     "output_type": "stream",
     "text": [
      "Inside the loop. 10\n",
      "Inside the loop. 9\n",
      "Inside the loop. 8\n",
      "Inside the loop. 7\n",
      "Inside the loop. 6\n",
      "Inside the loop. 5\n",
      "Inside the loop. 4\n",
      "Inside the loop. 3\n",
      "Inside the loop. 2\n",
      "Inside the loop. 1\n",
      "Outside the loop. 0\n"
     ]
    }
   ],
   "source": [
    "counter = 10\n",
    "while counter != 0:\n",
    "    print(\"Inside the loop.\", counter)\n",
    "    counter -= 1\n",
    "print(\"Outside the loop.\", counter)\n"
   ]
  },
  {
   "cell_type": "code",
   "execution_count": 2,
   "metadata": {},
   "outputs": [
    {
     "name": "stdout",
     "output_type": "stream",
     "text": [
      "Ha ha! You're stuck in my loop!\n",
      "Ha ha! You're stuck in my loop!\n",
      "Ha ha! You're stuck in my loop!\n",
      "Ha ha! You're stuck in my loop!\n",
      "Ha ha! You're stuck in my loop!\n",
      "Ha ha! You're stuck in my loop!\n",
      "Ha ha! You're stuck in my loop!\n",
      "Ha ha! You're stuck in my loop!\n",
      "Ha ha! You're stuck in my loop!\n",
      "Ha ha! You're stuck in my loop!\n",
      "Ha ha! You're stuck in my loop!\n",
      "Ha ha! You're stuck in my loop!\n",
      "Ha ha! You're stuck in my loop!\n",
      "Ha ha! You're stuck in my loop!\n",
      "Ha ha! You're stuck in my loop!\n",
      "Ha ha! You're stuck in my loop!\n",
      "Ha ha! You're stuck in my loop!\n",
      "Ha ha! You're stuck in my loop!\n",
      "Well done, muggle! You are free now.\n"
     ]
    }
   ],
   "source": [
    "secret_number = 90\n",
    "choose_number = int(input('Choose a number'))\n",
    "while choose_number != secret_number:\n",
    "    if choose_number != secret_number:\n",
    "        print(\"Ha ha! You're stuck in my loop!\")\n",
    "        choose_number = int(input('choose a number'))\n",
    "    else:\n",
    "        print('woow, you got it')\n",
    "print(\"Well done, muggle! You are free now.\")"
   ]
  },
  {
   "cell_type": "code",
   "execution_count": 3,
   "metadata": {},
   "outputs": [
    {
     "name": "stdout",
     "output_type": "stream",
     "text": [
      "range(0, 100)\n"
     ]
    }
   ],
   "source": [
    "print(range(100))"
   ]
  },
  {
   "cell_type": "code",
   "execution_count": 4,
   "metadata": {},
   "outputs": [
    {
     "name": "stdout",
     "output_type": "stream",
     "text": [
      "range(100, 1)\n"
     ]
    }
   ],
   "source": [
    "print(range(100, 1))"
   ]
  },
  {
   "cell_type": "code",
   "execution_count": 5,
   "metadata": {},
   "outputs": [
    {
     "name": "stdout",
     "output_type": "stream",
     "text": [
      "range(1, 100)\n"
     ]
    }
   ],
   "source": [
    "print(range(1, 100))"
   ]
  },
  {
   "cell_type": "code",
   "execution_count": 6,
   "metadata": {},
   "outputs": [
    {
     "name": "stdout",
     "output_type": "stream",
     "text": [
      "0\n",
      "1\n",
      "2\n",
      "3\n",
      "4\n",
      "5\n",
      "6\n",
      "7\n",
      "8\n",
      "9\n"
     ]
    }
   ],
   "source": [
    "for i in range(10):\n",
    "    print(i)"
   ]
  },
  {
   "cell_type": "code",
   "execution_count": 8,
   "metadata": {},
   "outputs": [
    {
     "name": "stdout",
     "output_type": "stream",
     "text": [
      "3\n",
      "4\n",
      "5\n",
      "6\n",
      "7\n",
      "8\n",
      "9\n",
      "10\n",
      "11\n",
      "12\n",
      "13\n",
      "14\n",
      "15\n"
     ]
    }
   ],
   "source": [
    "for i in range(3, 16):\n",
    "    print(i)"
   ]
  },
  {
   "cell_type": "code",
   "execution_count": 9,
   "metadata": {},
   "outputs": [
    {
     "name": "stdout",
     "output_type": "stream",
     "text": [
      "The number at i:  50\n",
      "The number at i:  51\n",
      "The number at i:  52\n",
      "The number at i:  53\n",
      "The number at i:  54\n",
      "The number at i:  55\n",
      "The number at i:  56\n",
      "The number at i:  57\n",
      "The number at i:  58\n",
      "The number at i:  59\n",
      "The number at i:  60\n",
      "The number at i:  61\n",
      "The number at i:  62\n",
      "The number at i:  63\n",
      "The number at i:  64\n",
      "The number at i:  65\n",
      "The number at i:  66\n",
      "The number at i:  67\n",
      "The number at i:  68\n",
      "The number at i:  69\n",
      "The number at i:  70\n",
      "The number at i:  71\n",
      "The number at i:  72\n",
      "The number at i:  73\n",
      "The number at i:  74\n",
      "The number at i:  75\n",
      "The number at i:  76\n",
      "The number at i:  77\n",
      "The number at i:  78\n",
      "The number at i:  79\n",
      "The number at i:  80\n",
      "The number at i:  81\n",
      "The number at i:  82\n",
      "The number at i:  83\n",
      "The number at i:  84\n",
      "The number at i:  85\n",
      "The number at i:  86\n",
      "The number at i:  87\n",
      "The number at i:  88\n",
      "The number at i:  89\n",
      "The number at i:  90\n",
      "The number at i:  91\n",
      "The number at i:  92\n",
      "The number at i:  93\n",
      "The number at i:  94\n",
      "The number at i:  95\n",
      "The number at i:  96\n",
      "The number at i:  97\n",
      "The number at i:  98\n",
      "The number at i:  99\n"
     ]
    }
   ],
   "source": [
    "for num in range(50, 100):\n",
    "    print('The number at i: ', num)"
   ]
  },
  {
   "cell_type": "code",
   "execution_count": 11,
   "metadata": {},
   "outputs": [
    {
     "name": "stdout",
     "output_type": "stream",
     "text": [
      "The value of i is currently 1\n",
      "The value of i is currently 3\n",
      "The value of i is currently 5\n",
      "The value of i is currently 7\n",
      "The value of i is currently 9\n",
      "The value of i is currently 11\n",
      "The value of i is currently 13\n",
      "The value of i is currently 15\n",
      "The value of i is currently 17\n",
      "The value of i is currently 19\n",
      "The value of i is currently 21\n",
      "The value of i is currently 23\n",
      "The value of i is currently 25\n",
      "The value of i is currently 27\n",
      "The value of i is currently 29\n",
      "The value of i is currently 31\n",
      "The value of i is currently 33\n",
      "The value of i is currently 35\n",
      "The value of i is currently 37\n",
      "The value of i is currently 39\n",
      "The value of i is currently 41\n",
      "The value of i is currently 43\n",
      "The value of i is currently 45\n",
      "The value of i is currently 47\n",
      "The value of i is currently 49\n",
      "The value of i is currently 51\n",
      "The value of i is currently 53\n",
      "The value of i is currently 55\n",
      "The value of i is currently 57\n",
      "The value of i is currently 59\n",
      "The value of i is currently 61\n",
      "The value of i is currently 63\n",
      "The value of i is currently 65\n",
      "The value of i is currently 67\n",
      "The value of i is currently 69\n",
      "The value of i is currently 71\n",
      "The value of i is currently 73\n",
      "The value of i is currently 75\n",
      "The value of i is currently 77\n",
      "The value of i is currently 79\n",
      "The value of i is currently 81\n",
      "The value of i is currently 83\n",
      "The value of i is currently 85\n",
      "The value of i is currently 87\n",
      "The value of i is currently 89\n",
      "The value of i is currently 91\n",
      "The value of i is currently 93\n",
      "The value of i is currently 95\n",
      "The value of i is currently 97\n",
      "The value of i is currently 99\n"
     ]
    }
   ],
   "source": [
    "for num in range(1, 100, 2):\n",
    "    print(\"The value of i is currently\", num)"
   ]
  },
  {
   "cell_type": "code",
   "execution_count": 12,
   "metadata": {},
   "outputs": [],
   "source": [
    "for i in range(1, 1):\n",
    "    print(\"The value of i is currently\", i)"
   ]
  },
  {
   "cell_type": "code",
   "execution_count": 15,
   "metadata": {},
   "outputs": [
    {
     "name": "stdout",
     "output_type": "stream",
     "text": [
      "2 to the power of 0 is 1\n",
      "2 to the power of 1 is 2\n",
      "2 to the power of 2 is 4\n",
      "2 to the power of 3 is 8\n",
      "2 to the power of 4 is 16\n",
      "2 to the power of 5 is 32\n",
      "2 to the power of 6 is 64\n",
      "2 to the power of 7 is 128\n",
      "2 to the power of 8 is 256\n",
      "2 to the power of 9 is 512\n",
      "2 to the power of 10 is 1024\n",
      "2 to the power of 11 is 2048\n",
      "2 to the power of 12 is 4096\n",
      "2 to the power of 13 is 8192\n",
      "2 to the power of 14 is 16384\n",
      "2 to the power of 15 is 32768\n"
     ]
    }
   ],
   "source": [
    "power = 1\n",
    "for expo in range(16):\n",
    "    print(\"2 to the power of\", expo, \"is\", power)\n",
    "    power *= 2\n"
   ]
  },
  {
   "cell_type": "code",
   "execution_count": 16,
   "metadata": {},
   "outputs": [
    {
     "name": "stdout",
     "output_type": "stream",
     "text": [
      "4\n"
     ]
    }
   ],
   "source": [
    "counter = 2\n",
    "counter *= 2\n",
    "print(counter)"
   ]
  },
  {
   "cell_type": "code",
   "execution_count": 17,
   "metadata": {},
   "outputs": [
    {
     "ename": "NameError",
     "evalue": "name 'largest_number' is not defined",
     "output_type": "error",
     "traceback": [
      "\u001b[1;31m---------------------------------------------------------------------------\u001b[0m",
      "\u001b[1;31mNameError\u001b[0m                                 Traceback (most recent call last)",
      "\u001b[1;32mc:\\Users\\Rabo Yusuf\\Desktop\\Python-Crash-Course\\loop.ipynb Cell 15\u001b[0m line \u001b[0;36m1\n\u001b[0;32m      <a href='vscode-notebook-cell:/c%3A/Users/Rabo%20Yusuf/Desktop/Python-Crash-Course/loop.ipynb#X20sZmlsZQ%3D%3D?line=6'>7</a>\u001b[0m         largest_number \u001b[39m=\u001b[39m number\n\u001b[0;32m      <a href='vscode-notebook-cell:/c%3A/Users/Rabo%20Yusuf/Desktop/Python-Crash-Course/loop.ipynb#X20sZmlsZQ%3D%3D?line=8'>9</a>\u001b[0m \u001b[39mif\u001b[39;00m counter \u001b[39m!=\u001b[39m \u001b[39m0\u001b[39m:\n\u001b[1;32m---> <a href='vscode-notebook-cell:/c%3A/Users/Rabo%20Yusuf/Desktop/Python-Crash-Course/loop.ipynb#X20sZmlsZQ%3D%3D?line=9'>10</a>\u001b[0m     \u001b[39mprint\u001b[39m(\u001b[39m\"\u001b[39m\u001b[39mThe largest number is\u001b[39m\u001b[39m\"\u001b[39m, largest_number)\n\u001b[0;32m     <a href='vscode-notebook-cell:/c%3A/Users/Rabo%20Yusuf/Desktop/Python-Crash-Course/loop.ipynb#X20sZmlsZQ%3D%3D?line=10'>11</a>\u001b[0m \u001b[39melse\u001b[39;00m:\n\u001b[0;32m     <a href='vscode-notebook-cell:/c%3A/Users/Rabo%20Yusuf/Desktop/Python-Crash-Course/loop.ipynb#X20sZmlsZQ%3D%3D?line=11'>12</a>\u001b[0m     \u001b[39mprint\u001b[39m(\u001b[39m\"\u001b[39m\u001b[39mYou haven\u001b[39m\u001b[39m'\u001b[39m\u001b[39mt entered any number.\u001b[39m\u001b[39m\"\u001b[39m)\n",
      "\u001b[1;31mNameError\u001b[0m: name 'largest_number' is not defined"
     ]
    }
   ],
   "source": [
    "while True:\n",
    "    number = int(input(\"Enter a number or type -1 to end the program: \"))\n",
    "    if number == -1:\n",
    "        break\n",
    "    counter += 1\n",
    "    if number > largest_number:\n",
    "        largest_number = number\n",
    "\n",
    "if counter != 0:\n",
    "    print(\"The largest number is\", largest_number)\n",
    "else:\n",
    "    print(\"You haven't entered any number.\")\n"
   ]
  },
  {
   "cell_type": "code",
   "execution_count": 28,
   "metadata": {},
   "outputs": [
    {
     "name": "stdout",
     "output_type": "stream",
     "text": [
      "B\n",
      "S\n",
      "T\n",
      "M\n",
      "S\n"
     ]
    }
   ],
   "source": [
    "user_words = input('Enter word')\n",
    "for word in user_words.upper():\n",
    "    if word =='A':\n",
    "        continue\n",
    "    if word == 'E':\n",
    "        continue\n",
    "    if word == 'I':\n",
    "        continue\n",
    "    if word == 'O':\n",
    "        continue\n",
    "    if word == 'U':\n",
    "        continue\n",
    "    else:\n",
    "        print(word)"
   ]
  },
  {
   "cell_type": "code",
   "execution_count": 29,
   "metadata": {},
   "outputs": [
    {
     "name": "stdout",
     "output_type": "stream",
     "text": [
      "1\n",
      "2\n",
      "3\n",
      "4\n",
      "else: 5\n"
     ]
    }
   ],
   "source": [
    "i = 1\n",
    "while i < 5:\n",
    "    print(i)\n",
    "    i += 1\n",
    "else:\n",
    "    print(\"else:\", i)\n"
   ]
  },
  {
   "cell_type": "code",
   "execution_count": 30,
   "metadata": {},
   "outputs": [
    {
     "name": "stdout",
     "output_type": "stream",
     "text": [
      "else: 5\n"
     ]
    }
   ],
   "source": [
    "i = 5\n",
    "while i < 5:\n",
    "    print(i)\n",
    "    i += 1\n",
    "else:\n",
    "    print(\"else:\", i)"
   ]
  },
  {
   "cell_type": "code",
   "execution_count": 31,
   "metadata": {},
   "outputs": [
    {
     "name": "stdout",
     "output_type": "stream",
     "text": [
      "0\n",
      "1\n",
      "2\n",
      "3\n",
      "4\n",
      "else: 4\n"
     ]
    }
   ],
   "source": [
    "for i in range(5):\n",
    "    print(i)\n",
    "else:\n",
    "    print(\"else:\", i)"
   ]
  },
  {
   "cell_type": "code",
   "execution_count": 32,
   "metadata": {},
   "outputs": [
    {
     "name": "stdout",
     "output_type": "stream",
     "text": [
      "else: 111\n"
     ]
    }
   ],
   "source": [
    "i = 111\n",
    "for i in range(2, 1):\n",
    "    print(i)\n",
    "else:\n",
    "    print(\"else:\", i)"
   ]
  },
  {
   "cell_type": "code",
   "execution_count": 37,
   "metadata": {},
   "outputs": [
    {
     "name": "stdout",
     "output_type": "stream",
     "text": [
      "john.smith"
     ]
    }
   ],
   "source": [
    "for ch in \"john.smith@pythoninstitute.org\":\n",
    "    if ch == \"@\":\n",
    "        break\n",
    "    print(ch, end='')"
   ]
  },
  {
   "cell_type": "code",
   "execution_count": 38,
   "metadata": {},
   "outputs": [
    {
     "name": "stdout",
     "output_type": "stream",
     "text": [
      "x165x318x651x"
     ]
    }
   ],
   "source": [
    "for digit in \"0165031806510\":\n",
    "    if digit == '0':\n",
    "        digit = 'x'\n",
    "    print(digit, end='')"
   ]
  },
  {
   "cell_type": "code",
   "execution_count": 39,
   "metadata": {},
   "outputs": [
    {
     "name": "stdout",
     "output_type": "stream",
     "text": [
      "x165x318x651x"
     ]
    }
   ],
   "source": [
    "for digit in \"0165031806510\":\n",
    "    if digit == \"0\":\n",
    "        print(\"x\", end=\"\")\n",
    "        continue\n",
    "    print(digit, end=\"\")"
   ]
  },
  {
   "cell_type": "code",
   "execution_count": 49,
   "metadata": {},
   "outputs": [
    {
     "name": "stdout",
     "output_type": "stream",
     "text": [
      "The height of the pyramid is: 3\n"
     ]
    }
   ],
   "source": [
    "blocks = int(input(\"Enter the number of blocks:\"))\n",
    "\n",
    "height = 0\n",
    "blocks_used = 0\n",
    "\n",
    "for layer in range(1, blocks + 1):\n",
    "    if blocks_used + layer <= blocks:\n",
    "        height += 1\n",
    "        blocks_used += layer\n",
    "    else:\n",
    "        break\n",
    "\n",
    "print(\"The height of the pyramid is:\", height)"
   ]
  },
  {
   "cell_type": "code",
   "execution_count": 50,
   "metadata": {},
   "outputs": [
    {
     "name": "stdout",
     "output_type": "stream",
     "text": [
      "Collatz sequence:\n",
      "20\n",
      "10\n",
      "5\n",
      "16\n",
      "8\n",
      "4\n",
      "2\n",
      "1\n",
      "Number of steps: 7\n"
     ]
    }
   ],
   "source": [
    "c0 = int(input(\"Enter a natural number:\"))\n",
    "steps = 0\n",
    "\n",
    "print(\"Collatz sequence:\")\n",
    "print(c0)\n",
    "\n",
    "while c0 != 1:\n",
    "    if c0 % 2 == 0:\n",
    "        c0 = c0 // 2\n",
    "    else:\n",
    "        c0 = 3 * c0 + 1\n",
    "    steps += 1\n",
    "    print(c0)\n",
    "\n",
    "print(\"Number of steps:\", steps)"
   ]
  },
  {
   "cell_type": "code",
   "execution_count": 51,
   "metadata": {},
   "outputs": [
    {
     "name": "stdout",
     "output_type": "stream",
     "text": [
      "False\n"
     ]
    }
   ],
   "source": [
    "print(not True)"
   ]
  },
  {
   "cell_type": "code",
   "execution_count": 52,
   "metadata": {},
   "outputs": [
    {
     "name": "stdout",
     "output_type": "stream",
     "text": [
      "-3\n"
     ]
    }
   ],
   "source": [
    "print(~2)"
   ]
  },
  {
   "cell_type": "code",
   "execution_count": 54,
   "metadata": {},
   "outputs": [
    {
     "name": "stdout",
     "output_type": "stream",
     "text": [
      "2\n"
     ]
    }
   ],
   "source": [
    "print(~-3)"
   ]
  },
  {
   "cell_type": "code",
   "execution_count": 55,
   "metadata": {},
   "outputs": [
    {
     "name": "stdout",
     "output_type": "stream",
     "text": [
      "0\n"
     ]
    }
   ],
   "source": [
    "print(2 & 4)"
   ]
  },
  {
   "cell_type": "code",
   "execution_count": 56,
   "metadata": {},
   "outputs": [
    {
     "name": "stdout",
     "output_type": "stream",
     "text": [
      "1\n"
     ]
    }
   ],
   "source": [
    "print(1 & 1)"
   ]
  },
  {
   "cell_type": "code",
   "execution_count": 57,
   "metadata": {},
   "outputs": [
    {
     "name": "stdout",
     "output_type": "stream",
     "text": [
      "2\n"
     ]
    }
   ],
   "source": [
    "print(2 & 2)"
   ]
  },
  {
   "cell_type": "code",
   "execution_count": 58,
   "metadata": {},
   "outputs": [
    {
     "name": "stdout",
     "output_type": "stream",
     "text": [
      "32\n"
     ]
    }
   ],
   "source": [
    "print(100 & 34)"
   ]
  },
  {
   "cell_type": "code",
   "execution_count": 59,
   "metadata": {},
   "outputs": [
    {
     "name": "stdout",
     "output_type": "stream",
     "text": [
      "3\n"
     ]
    }
   ],
   "source": [
    "print(11 & 3)"
   ]
  },
  {
   "cell_type": "code",
   "execution_count": 1,
   "metadata": {},
   "outputs": [
    {
     "name": "stdout",
     "output_type": "stream",
     "text": [
      "Original list contents: [10, 5, 7, 2, 1]\n",
      "\n",
      "Previous list contents: [111, 5, 7, 2, 1]\n",
      "Previous list contents: [111, 1, 7, 2, 1]\n",
      "\n",
      "List length: 5\n"
     ]
    }
   ],
   "source": [
    "numbers = [10, 5, 7, 2, 1]\n",
    "print(\"Original list contents:\", numbers)  # Printing original list contents.\n",
    "\n",
    "numbers[0] = 111\n",
    "print(\"\\nPrevious list contents:\", numbers)  # Printing previous list contents.\n",
    "\n",
    "numbers[1] = numbers[4]  # Copying value of the fifth element to the second.\n",
    "print(\"Previous list contents:\", numbers)  # Printing previous list contents.\n",
    "\n",
    "print(\"\\nList length:\", len(numbers))  #"
   ]
  },
  {
   "cell_type": "code",
   "execution_count": 2,
   "metadata": {},
   "outputs": [
    {
     "name": "stdout",
     "output_type": "stream",
     "text": [
      "Previous list content: [111, 1, 7, 2, 1]\n",
      "\n",
      "List's length: 5\n",
      "New list's length: 4\n",
      "\n",
      "New list content: [111, 7, 2, 1]\n"
     ]
    }
   ],
   "source": [
    "numbers[1] = numbers[4]  # Copying value of the fifth element to the second.\n",
    "print(\"Previous list content:\", numbers)  # Printing previous list content.\n",
    "\n",
    "print(\"\\nList's length:\", len(numbers))  # Printing previous list length.\n",
    "\n",
    "###\n",
    "\n",
    "del numbers[1]  # Removing the second element from the list.\n",
    "print(\"New list's length:\", len(numbers))  # Printing new list length.\n",
    "print(\"\\nNew list content:\", numbers)  # Printing current list content.\n",
    "\n",
    "###"
   ]
  },
  {
   "cell_type": "code",
   "execution_count": 7,
   "metadata": {},
   "outputs": [
    {
     "name": "stdout",
     "output_type": "stream",
     "text": [
      "5\n",
      "[1, 2, 12, 4, 5]\n",
      "[1, 2, 12, 4, 5, 2]\n"
     ]
    }
   ],
   "source": [
    "hat_list = [1, 2, 3, 4, 5]  # This is an existing list of numbers hidden in the hat.\n",
    "\n",
    "# Step 1: write a line of code that prompts the user\n",
    "num = int(input('Enter a number: '))\n",
    "# to replace the middle number with an integer number entered by the user.\n",
    "middle = int(len(hat_list) / 2)\n",
    "hat_list[middle] = num\n",
    "\n",
    "# Step 2: write a line of code that removes the last element from the list.\n",
    "hat_list[len(hat_list)-1]\n",
    "# Step 3: write a line of code that prints the length of the existing list.\n",
    "print(len(hat_list))\n",
    "print(hat_list)\n",
    "hat_list.append(2)\n",
    "print(hat_list)\n"
   ]
  },
  {
   "cell_type": "code",
   "execution_count": 8,
   "metadata": {},
   "outputs": [
    {
     "name": "stdout",
     "output_type": "stream",
     "text": [
      "[5, 4, 3, 2, 1]\n"
     ]
    }
   ],
   "source": [
    "my_list = []  # Creating an empty list.\n",
    "\n",
    "for i in range(5):\n",
    "    my_list.insert(0, i + 1)\n",
    "\n",
    "print(my_list)"
   ]
  },
  {
   "cell_type": "code",
   "execution_count": 15,
   "metadata": {},
   "outputs": [
    {
     "name": "stdout",
     "output_type": "stream",
     "text": [
      "[1, 2, 4]\n",
      "[-1, 2, 4]\n",
      "[600, -1, 2, 4]\n"
     ]
    }
   ],
   "source": [
    "num = [2, 4]\n",
    "print([1] + num)\n",
    "num[:0] = [-1]\n",
    "print(num)\n",
    "num.insert(0, 600)\n",
    "print(num)\n"
   ]
  },
  {
   "cell_type": "code",
   "execution_count": 20,
   "metadata": {},
   "outputs": [
    {
     "name": "stdout",
     "output_type": "stream",
     "text": [
      "1\n",
      "2\n",
      "5\n"
     ]
    }
   ],
   "source": [
    "num = [1, 2, 5]\n",
    "for n in range(len(num)):\n",
    "    print(num[n])"
   ]
  },
  {
   "cell_type": "code",
   "execution_count": 21,
   "metadata": {},
   "outputs": [
    {
     "name": "stdout",
     "output_type": "stream",
     "text": [
      "27\n"
     ]
    }
   ],
   "source": [
    "my_list = [10, 1, 8, 3, 5]\n",
    "total = 0\n",
    "\n",
    "for i in my_list:\n",
    "    total += i\n",
    "\n",
    "print(total)\n"
   ]
  },
  {
   "cell_type": "code",
   "execution_count": 24,
   "metadata": {},
   "outputs": [
    {
     "name": "stdout",
     "output_type": "stream",
     "text": [
      "10\n",
      "1\n",
      "8\n",
      "3\n",
      "5\n"
     ]
    }
   ],
   "source": [
    "for num in my_list:\n",
    "    print(num)"
   ]
  },
  {
   "cell_type": "code",
   "execution_count": 2,
   "metadata": {},
   "outputs": [
    {
     "name": "stdout",
     "output_type": "stream",
     "text": [
      "[5, 3, 8, 1, 10]\n"
     ]
    }
   ],
   "source": [
    "my_list = [10, 1, 8, 3, 5]\n",
    "my_list[0], my_list[len(my_list)-1] = my_list[len(my_list)-1], my_list[0]\n",
    "my_list[1], my_list[len(my_list)-2] = my_list[len(my_list)-2], my_list[1]\n",
    "print(my_list)"
   ]
  },
  {
   "cell_type": "code",
   "execution_count": 6,
   "metadata": {},
   "outputs": [
    {
     "name": "stdout",
     "output_type": "stream",
     "text": [
      "range(0, 2)\n",
      "[5, 4, 3, 2, 1]\n"
     ]
    }
   ],
   "source": [
    "my_list = [1, 2, 3, 4, 5]\n",
    "print(range(len(my_list)//2))\n",
    "for i in range(len(my_list)//2):\n",
    "    my_list[i], my_list[len(my_list) - i -1] = my_list[len(my_list) - i -1], my_list[i]\n",
    "print(my_list)"
   ]
  },
  {
   "cell_type": "code",
   "execution_count": 11,
   "metadata": {},
   "outputs": [
    {
     "name": "stdout",
     "output_type": "stream",
     "text": [
      "[]\n",
      "['John Lennon', 'Paul McCartney', 'George Harrison']\n",
      "['John Lennon', 'Paul McCartney', 'George Harrison', 'Stu Sutcliffe', 'Peter Best']\n",
      "['John Lennon', 'Paul McCartney', 'Stu Sutcliffe']\n",
      "[' Ringo Starr', 'John Lennon', 'Paul McCartney', 'Stu Sutcliffe']\n"
     ]
    }
   ],
   "source": [
    "# Write a program that reflects these changes and lets you practice with the concept of lists. Your task is to:\n",
    "\n",
    "# step 1: create an empty list named beatles;\n",
    "# step 2: use the append() method to add the following members of the band to the list: John Lennon, Paul McCartney, and George Harrison;\n",
    "# step 3: use the for loop and the append() method to prompt the user to add the following members of the band to the list: Stu Sutcliffe, and Pete Best;\n",
    "# step 4: use the del instruction to remove Stu Sutcliffe and Pete Best from the list;\n",
    "# step 5: use the insert() method to add Ringo Starr to the beginning of the list.\n",
    "\n",
    "beatles = []\n",
    "print(beatles)\n",
    "beatles.append(\"John Lennon\")\n",
    "beatles.append(\"Paul McCartney\")\n",
    "beatles.append(\"George Harrison\")\n",
    "print(beatles)\n",
    "for i in range(2):\n",
    "    user_add = input('Enter a name')\n",
    "    beatles.append(user_add)\n",
    "print(beatles)\n",
    "del beatles[len(beatles)-1]\n",
    "del beatles[len(beatles)-2]\n",
    "print(beatles)\n",
    "beatles.insert(0, ' Ringo Starr')\n",
    "print(beatles)"
   ]
  },
  {
   "cell_type": "code",
   "execution_count": null,
   "metadata": {},
   "outputs": [],
   "source": []
  }
 ],
 "metadata": {
  "kernelspec": {
   "display_name": "base",
   "language": "python",
   "name": "python3"
  },
  "language_info": {
   "codemirror_mode": {
    "name": "ipython",
    "version": 3
   },
   "file_extension": ".py",
   "mimetype": "text/x-python",
   "name": "python",
   "nbconvert_exporter": "python",
   "pygments_lexer": "ipython3",
   "version": "3.10.9"
  }
 },
 "nbformat": 4,
 "nbformat_minor": 2
}
