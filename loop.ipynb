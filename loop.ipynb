{
 "cells": [
  {
   "cell_type": "code",
   "execution_count": 1,
   "metadata": {},
   "outputs": [
    {
     "name": "stdout",
     "output_type": "stream",
     "text": [
      "The largest number is: 34\n"
     ]
    }
   ],
   "source": [
    "largest_num = -999999999\n",
    "num = int(input('Enter a number or type -1 to stop:'))\n",
    "while num !=-1:\n",
    "    if num > largest_num:\n",
    "        largest_num = num\n",
    "    num = int(input('Enter a number or type -1 to stop:'))\n",
    "# Print the largest number.\n",
    "print(\"The largest number is:\", largest_num)\n"
   ]
  },
  {
   "cell_type": "code",
   "execution_count": 3,
   "metadata": {},
   "outputs": [
    {
     "name": "stdout",
     "output_type": "stream",
     "text": [
      "Odd numbers count: 1\n",
      "Even numbers count: 0\n"
     ]
    }
   ],
   "source": [
    "# A program that reads a sequence of numbers\n",
    "# and counts how many numbers are even and how many are odd.\n",
    "# The program terminates when zero is entered.\n",
    "\n",
    "odd_numbers = 0\n",
    "even_numbers = 0\n",
    "\n",
    "# Read the first number.\n",
    "number = int(input(\"Enter a number or type 0 to stop: \"))\n",
    "\n",
    "# 0 terminates execution.\n",
    "while number != 0:\n",
    "    # Check if the number is odd.\n",
    "    if number % 2 == 1:\n",
    "        # Increase the odd_numbers counter.\n",
    "        odd_numbers += 1\n",
    "    else:\n",
    "        # Increase the even_numbers counter.\n",
    "        even_numbers += 1\n",
    "    # Read the next number.\n",
    "    number = int(input(\"Enter a number or type 0 to stop: \"))\n",
    "\n",
    "# Print results.\n",
    "print(\"Odd numbers count:\", odd_numbers)\n",
    "print(\"Even numbers count:\", even_numbers)\n"
   ]
  },
  {
   "cell_type": "code",
   "execution_count": 5,
   "metadata": {},
   "outputs": [
    {
     "name": "stdout",
     "output_type": "stream",
     "text": [
      "Inside the loop. 10\n",
      "Inside the loop. 9\n",
      "Inside the loop. 8\n",
      "Inside the loop. 7\n",
      "Inside the loop. 6\n",
      "Inside the loop. 5\n",
      "Inside the loop. 4\n",
      "Inside the loop. 3\n",
      "Inside the loop. 2\n",
      "Inside the loop. 1\n",
      "Outside the loop. 0\n"
     ]
    }
   ],
   "source": [
    "counter = 10\n",
    "while counter != 0:\n",
    "    print(\"Inside the loop.\", counter)\n",
    "    counter -= 1\n",
    "print(\"Outside the loop.\", counter)\n"
   ]
  },
  {
   "cell_type": "code",
   "execution_count": 1,
   "metadata": {},
   "outputs": [
    {
     "name": "stdout",
     "output_type": "stream",
     "text": [
      "Ha ha! You're stuck in my loop!\n",
      "Ha ha! You're stuck in my loop!\n",
      "Ha ha! You're stuck in my loop!\n"
     ]
    }
   ],
   "source": [
    "secret_number = 90\n",
    "choose_number = int(input('Choose a number'))\n",
    "while choose_number != secret_number:\n",
    "    if choose_number != secret_number:\n",
    "        print(\"Ha ha! You're stuck in my loop!\")\n",
    "        choose_number = int(input('choose a number'))\n",
    "    else:\n",
    "        print('woow, you got it')\n",
    "print(\"Well done, muggle! You are free now.\")"
   ]
  },
  {
   "cell_type": "code",
   "execution_count": null,
   "metadata": {},
   "outputs": [],
   "source": []
  }
 ],
 "metadata": {
  "kernelspec": {
   "display_name": "base",
   "language": "python",
   "name": "python3"
  },
  "language_info": {
   "codemirror_mode": {
    "name": "ipython",
    "version": 3
   },
   "file_extension": ".py",
   "mimetype": "text/x-python",
   "name": "python",
   "nbconvert_exporter": "python",
   "pygments_lexer": "ipython3",
   "version": "3.10.9"
  }
 },
 "nbformat": 4,
 "nbformat_minor": 2
}
