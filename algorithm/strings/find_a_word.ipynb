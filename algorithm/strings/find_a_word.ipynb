{
 "cells": [
  {
   "cell_type": "code",
   "execution_count": 2,
   "metadata": {},
   "outputs": [
    {
     "name": "stdout",
     "output_type": "stream",
     "text": [
      "Yes\n"
     ]
    }
   ],
   "source": [
    "def find_a_word(str_1, str_2):\n",
    "    for i in range(len(str_1)):\n",
    "        if str_1[i] not in str_2:\n",
    "            return 'No'\n",
    "        else:\n",
    "            str_2 = str_2[i:]\n",
    "    return 'Yes'\n",
    "print(find_a_word(\"dog\", \"vcxzxduybfdsobywuefgas\"))\n",
    "print(find_a_word(\"dog\", \"vcxzxdcybfdstbywuefsas\"))"
   ]
  },
  {
   "cell_type": "code",
   "execution_count": null,
   "metadata": {},
   "outputs": [],
   "source": []
  }
 ],
 "metadata": {
  "kernelspec": {
   "display_name": "base",
   "language": "python",
   "name": "python3"
  },
  "language_info": {
   "codemirror_mode": {
    "name": "ipython",
    "version": 3
   },
   "file_extension": ".py",
   "mimetype": "text/x-python",
   "name": "python",
   "nbconvert_exporter": "python",
   "pygments_lexer": "ipython3",
   "version": "3.10.9"
  }
 },
 "nbformat": 4,
 "nbformat_minor": 2
}
