{
 "cells": [
  {
   "cell_type": "code",
   "execution_count": 7,
   "metadata": {},
   "outputs": [
    {
     "name": "stdout",
     "output_type": "stream",
     "text": [
      "XFS\n"
     ]
    }
   ],
   "source": [
    "# The Caesar Cipher: encrypting a message\n",
    "text = input('Enter a text')\n",
    "cipher = ''\n",
    "for char in text:\n",
    "    #if not letter skip\n",
    "    if not text.isalpha():\n",
    "        continue\n",
    "    #change to Capital LETTER\n",
    "    char = char.upper()\n",
    "    #convert the character ascii code and add 1 to gain new position\n",
    "    asc = ord(char) + 1\n",
    "    #compare the ascii with that of z if greater make this current ascii equal to ascii of capital A\n",
    "    if asc > ord('Z'):\n",
    "        asc = ord('A')\n",
    "       # concante all cipher together\n",
    "    cipher += chr(asc)\n",
    "print(cipher)\n"
   ]
  },
  {
   "cell_type": "code",
   "execution_count": 8,
   "metadata": {},
   "outputs": [
    {
     "name": "stdout",
     "output_type": "stream",
     "text": [
      "\n"
     ]
    }
   ],
   "source": [
    "# The Caesar Cipher: decrypting a message\n",
    "text = input('Enter the text')\n",
    "cipher = ''\n",
    "for message in text:\n",
    "    if not message.isalpha():\n",
    "        continue\n",
    "    message = message.upper()\n",
    "    asc = ord(message)-1\n",
    "    if asc < ord('A'):\n",
    "        asc = ord('Z')\n",
    "    cipher += chr(asc)\n",
    "print(cipher)\n"
   ]
  },
  {
   "cell_type": "code",
   "execution_count": null,
   "metadata": {},
   "outputs": [],
   "source": []
  }
 ],
 "metadata": {
  "kernelspec": {
   "display_name": "base",
   "language": "python",
   "name": "python3"
  },
  "language_info": {
   "codemirror_mode": {
    "name": "ipython",
    "version": 3
   },
   "file_extension": ".py",
   "mimetype": "text/x-python",
   "name": "python",
   "nbconvert_exporter": "python",
   "pygments_lexer": "ipython3",
   "version": "3.10.9"
  }
 },
 "nbformat": 4,
 "nbformat_minor": 2
}
