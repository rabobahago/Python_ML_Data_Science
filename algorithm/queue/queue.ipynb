{
 "cells": [
  {
   "cell_type": "code",
   "execution_count": 4,
   "metadata": {},
   "outputs": [
    {
     "name": "stdout",
     "output_type": "stream",
     "text": [
      "100\n",
      "4950\n"
     ]
    },
    {
     "ename": "AttributeError",
     "evalue": "'AddingQueue' object has no attribute 'self'",
     "output_type": "error",
     "traceback": [
      "\u001b[1;31m---------------------------------------------------------------------------\u001b[0m",
      "\u001b[1;31mAttributeError\u001b[0m                            Traceback (most recent call last)",
      "\u001b[1;32mc:\\Users\\Rabo Yusuf\\Desktop\\Python-Crash-Course\\algorithm\\queue\\queue.ipynb Cell 1\u001b[0m line \u001b[0;36m3\n\u001b[0;32m     <a href='vscode-notebook-cell:/c%3A/Users/Rabo%20Yusuf/Desktop/Python-Crash-Course/algorithm/queue/queue.ipynb#W0sZmlsZQ%3D%3D?line=31'>32</a>\u001b[0m \u001b[39mprint\u001b[39m(queue\u001b[39m.\u001b[39mget_sum())\n\u001b[0;32m     <a href='vscode-notebook-cell:/c%3A/Users/Rabo%20Yusuf/Desktop/Python-Crash-Course/algorithm/queue/queue.ipynb#W0sZmlsZQ%3D%3D?line=32'>33</a>\u001b[0m \u001b[39mfor\u001b[39;00m i \u001b[39min\u001b[39;00m \u001b[39mrange\u001b[39m(\u001b[39m50\u001b[39m):\n\u001b[1;32m---> <a href='vscode-notebook-cell:/c%3A/Users/Rabo%20Yusuf/Desktop/Python-Crash-Course/algorithm/queue/queue.ipynb#W0sZmlsZQ%3D%3D?line=33'>34</a>\u001b[0m     queue\u001b[39m.\u001b[39;49mget()\n\u001b[0;32m     <a href='vscode-notebook-cell:/c%3A/Users/Rabo%20Yusuf/Desktop/Python-Crash-Course/algorithm/queue/queue.ipynb#W0sZmlsZQ%3D%3D?line=34'>35</a>\u001b[0m \u001b[39mprint\u001b[39m(queue\u001b[39m.\u001b[39mget_counter())\n\u001b[0;32m     <a href='vscode-notebook-cell:/c%3A/Users/Rabo%20Yusuf/Desktop/Python-Crash-Course/algorithm/queue/queue.ipynb#W0sZmlsZQ%3D%3D?line=35'>36</a>\u001b[0m \u001b[39mprint\u001b[39m(queue\u001b[39m.\u001b[39mget_sum())\n",
      "\u001b[1;32mc:\\Users\\Rabo Yusuf\\Desktop\\Python-Crash-Course\\algorithm\\queue\\queue.ipynb Cell 1\u001b[0m line \u001b[0;36m2\n\u001b[0;32m     <a href='vscode-notebook-cell:/c%3A/Users/Rabo%20Yusuf/Desktop/Python-Crash-Course/algorithm/queue/queue.ipynb#W0sZmlsZQ%3D%3D?line=18'>19</a>\u001b[0m \u001b[39mdef\u001b[39;00m \u001b[39mget\u001b[39m(\u001b[39mself\u001b[39m):\n\u001b[1;32m---> <a href='vscode-notebook-cell:/c%3A/Users/Rabo%20Yusuf/Desktop/Python-Crash-Course/algorithm/queue/queue.ipynb#W0sZmlsZQ%3D%3D?line=19'>20</a>\u001b[0m     val \u001b[39m=\u001b[39m Queue\u001b[39m.\u001b[39;49mget(\u001b[39mself\u001b[39;49m)\n\u001b[0;32m     <a href='vscode-notebook-cell:/c%3A/Users/Rabo%20Yusuf/Desktop/Python-Crash-Course/algorithm/queue/queue.ipynb#W0sZmlsZQ%3D%3D?line=20'>21</a>\u001b[0m     \u001b[39mself\u001b[39m\u001b[39m.\u001b[39m__sum \u001b[39m-\u001b[39m\u001b[39m=\u001b[39m val\n\u001b[0;32m     <a href='vscode-notebook-cell:/c%3A/Users/Rabo%20Yusuf/Desktop/Python-Crash-Course/algorithm/queue/queue.ipynb#W0sZmlsZQ%3D%3D?line=21'>22</a>\u001b[0m     \u001b[39mself\u001b[39m\u001b[39m.\u001b[39m__counter \u001b[39m-\u001b[39m\u001b[39m=\u001b[39m \u001b[39m1\u001b[39m\n",
      "\u001b[1;32mc:\\Users\\Rabo Yusuf\\Desktop\\Python-Crash-Course\\algorithm\\queue\\queue.ipynb Cell 1\u001b[0m line \u001b[0;36m8\n\u001b[0;32m      <a href='vscode-notebook-cell:/c%3A/Users/Rabo%20Yusuf/Desktop/Python-Crash-Course/algorithm/queue/queue.ipynb#W0sZmlsZQ%3D%3D?line=5'>6</a>\u001b[0m \u001b[39mdef\u001b[39;00m \u001b[39mget\u001b[39m(\u001b[39mself\u001b[39m):\n\u001b[0;32m      <a href='vscode-notebook-cell:/c%3A/Users/Rabo%20Yusuf/Desktop/Python-Crash-Course/algorithm/queue/queue.ipynb#W0sZmlsZQ%3D%3D?line=6'>7</a>\u001b[0m     val \u001b[39m=\u001b[39m \u001b[39mself\u001b[39m\u001b[39m.\u001b[39mqueue[\u001b[39m0\u001b[39m]\n\u001b[1;32m----> <a href='vscode-notebook-cell:/c%3A/Users/Rabo%20Yusuf/Desktop/Python-Crash-Course/algorithm/queue/queue.ipynb#W0sZmlsZQ%3D%3D?line=7'>8</a>\u001b[0m     \u001b[39mdel\u001b[39;00m \u001b[39mself\u001b[39;49m\u001b[39m.\u001b[39;49mself[\u001b[39m0\u001b[39m]\n\u001b[0;32m      <a href='vscode-notebook-cell:/c%3A/Users/Rabo%20Yusuf/Desktop/Python-Crash-Course/algorithm/queue/queue.ipynb#W0sZmlsZQ%3D%3D?line=8'>9</a>\u001b[0m     \u001b[39mreturn\u001b[39;00m val\n",
      "\u001b[1;31mAttributeError\u001b[0m: 'AddingQueue' object has no attribute 'self'"
     ]
    }
   ],
   "source": [
    "class Queue:\n",
    "    def __init__(self) -> None:\n",
    "        self.queue = []\n",
    "    def put(self, val):\n",
    "        self.queue.append(val)\n",
    "    def get(self):\n",
    "        val = self.queue[0]\n",
    "        del self.queue[0]\n",
    "        return val\n",
    "class AddingQueue:\n",
    "    def __init__(self):\n",
    "        Queue.__init__(self)\n",
    "        self.__sum = 0\n",
    "        self.__counter = 0\n",
    "    def put(self, val):\n",
    "        self.__sum += val\n",
    "        self.__counter +=1\n",
    "        Queue.put(self, val)\n",
    "    def get(self):\n",
    "        val = Queue.get(self)\n",
    "        self.__sum -= val\n",
    "        self.__counter -= 1\n",
    "        return val\n",
    "    def get_counter(self):\n",
    "        return self.__counter\n",
    "    def get_sum(self):\n",
    "        return self.__sum\n",
    "queue = AddingQueue()\n",
    "for i in range(100):\n",
    "    queue.put(i)\n",
    "print(queue.get_counter())\n",
    "print(queue.get_sum())\n",
    "for i in range(50):\n",
    "    queue.get()\n",
    "print(queue.get_counter())\n",
    "print(queue.get_sum())\n"
   ]
  },
  {
   "cell_type": "code",
   "execution_count": null,
   "metadata": {},
   "outputs": [],
   "source": []
  }
 ],
 "metadata": {
  "kernelspec": {
   "display_name": "base",
   "language": "python",
   "name": "python3"
  },
  "language_info": {
   "codemirror_mode": {
    "name": "ipython",
    "version": 3
   },
   "file_extension": ".py",
   "mimetype": "text/x-python",
   "name": "python",
   "nbconvert_exporter": "python",
   "pygments_lexer": "ipython3",
   "version": "3.10.9"
  }
 },
 "nbformat": 4,
 "nbformat_minor": 2
}
