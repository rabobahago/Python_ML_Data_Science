{
 "cells": [
  {
   "cell_type": "code",
   "execution_count": null,
   "metadata": {},
   "outputs": [],
   "source": [
    "class Stack:\n",
    "    def __init__(self):\n",
    "        self.queue_items = []\n",
    "    def push(self, _item):\n",
    "        self.queue_items.append(_item)\n",
    "    def peek(self):\n",
    "        return self.queue_items[0]\n",
    "    def pop(self):\n",
    "        remove = self.peek()\n",
    "        self.queue_items.remove(remove)\n",
    "        return remove\n",
    "    def is_empty(self):\n",
    "        return len(self.queue_items) == 0\n",
    "    def size(self):\n",
    "        return len(self.queue_items)\n",
    "stack = Stack()\n",
    "stack.push(20)\n",
    "stack.push(300)\n",
    "print(stack.peek())\n",
    "print(stack.size())\n",
    "print(stack.is_empty())\n",
    "print(stack.pop())"
   ]
  }
 ],
 "metadata": {
  "language_info": {
   "name": "python"
  }
 },
 "nbformat": 4,
 "nbformat_minor": 2
}
