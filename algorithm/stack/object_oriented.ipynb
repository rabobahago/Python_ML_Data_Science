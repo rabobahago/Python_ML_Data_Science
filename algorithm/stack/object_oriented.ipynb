{
 "cells": [
  {
   "cell_type": "code",
   "execution_count": 8,
   "metadata": {},
   "outputs": [
    {
     "name": "stdout",
     "output_type": "stream",
     "text": [
      "[]\n",
      "1\n",
      "2\n",
      "3\n",
      "10\n"
     ]
    }
   ],
   "source": [
    "class Stack:\n",
    "    def __init__(self):\n",
    "        self.stack_list = []\n",
    "    def push(self, elem):\n",
    "        self.stack_list.append(elem)\n",
    "    def pop(self):\n",
    "        val = self.stack_list[-1]\n",
    "        del self.stack_list[-1]\n",
    "        return val\n",
    "stack = Stack()\n",
    "print(stack.stack_list)\n",
    "stack.push(3)\n",
    "stack.push(2)\n",
    "stack.push(1)\n",
    "\n",
    "print(stack.pop())\n",
    "print(stack.pop())\n",
    "print(stack.pop())\n",
    "class AddingStack:\n",
    "    def __init__(self):\n",
    "        Stack.__init__(self)\n",
    "        self.__sum = 0\n",
    "    def push(self, val)->None:\n",
    "        self.__sum += val\n",
    "        Stack.push(self,val)\n",
    "    def pop(self)->None:\n",
    "        val = Stack.pop(self)\n",
    "        self.__sum -= val\n",
    "        return val\n",
    "\n",
    "    def get_sum(self):\n",
    "        return self.__sum\n",
    "stack_in = AddingStack()\n",
    "for i in range(5):\n",
    "    stack_in.push(i)\n",
    "print(stack_in.get_sum())\n",
    "for i in range(4):\n",
    "    stack_in.pop()\n",
    "print(stack_in.get_sum())"
   ]
  },
  {
   "cell_type": "code",
   "execution_count": null,
   "metadata": {},
   "outputs": [],
   "source": []
  }
 ],
 "metadata": {
  "kernelspec": {
   "display_name": "base",
   "language": "python",
   "name": "python3"
  },
  "language_info": {
   "codemirror_mode": {
    "name": "ipython",
    "version": 3
   },
   "file_extension": ".py",
   "mimetype": "text/x-python",
   "name": "python",
   "nbconvert_exporter": "python",
   "pygments_lexer": "ipython3",
   "version": "3.10.9"
  }
 },
 "nbformat": 4,
 "nbformat_minor": 2
}
