{
 "cells": [
  {
   "cell_type": "code",
   "execution_count": 4,
   "metadata": {},
   "outputs": [
    {
     "name": "stdout",
     "output_type": "stream",
     "text": [
      "300\n",
      "2\n"
     ]
    }
   ],
   "source": [
    "class Stack:\n",
    "    def __init__(self):\n",
    "        self.stack_items = []\n",
    "    def push(self, _item):\n",
    "        self.stack_items.append(_item)\n",
    "    def peek(self):\n",
    "        return self.stack_items[len(self.stack_items)-1]\n",
    "    def pop(self):\n",
    "        remove = self.peek()\n",
    "        self.stack_items.remove(remove)\n",
    "        return remove\n",
    "    def is_empty(self):\n",
    "        return len(self.stack_items) == 0\n",
    "    def size(self):\n",
    "        return len(self.stack_items)\n",
    "stack = Stack()\n",
    "stack.push(20)\n",
    "stack.push(300)\n",
    "print(stack.peek())\n",
    "print(stack.size())\n",
    "print(stack.is_empty())\n",
    "print(stack.pop())"
   ]
  },
  {
   "cell_type": "code",
   "execution_count": null,
   "metadata": {},
   "outputs": [],
   "source": []
  }
 ],
 "metadata": {
  "kernelspec": {
   "display_name": "base",
   "language": "python",
   "name": "python3"
  },
  "language_info": {
   "codemirror_mode": {
    "name": "ipython",
    "version": 3
   },
   "file_extension": ".py",
   "mimetype": "text/x-python",
   "name": "python",
   "nbconvert_exporter": "python",
   "pygments_lexer": "ipython3",
   "version": "3.10.9"
  }
 },
 "nbformat": 4,
 "nbformat_minor": 2
}
