{
 "cells": [
  {
   "cell_type": "code",
   "execution_count": 3,
   "metadata": {},
   "outputs": [
    {
     "name": "stdout",
     "output_type": "stream",
     "text": [
      "(768, 9)\n"
     ]
    }
   ],
   "source": [
    "import csv\n",
    "import numpy as np\n",
    "\n",
    "filename = 'pima-indians-diabetes.data.csv'\n",
    "\n",
    "# Open the file in text mode with utf-8 encoding\n",
    "with open(filename, 'r', encoding='utf-8') as raw_data:\n",
    "    # Create a CSV reader|\n",
    "    reader = csv.reader(raw_data, delimiter=',', quoting=csv.QUOTE_NONE)\n",
    "\n",
    "    # Skip the header row\n",
    "    next(reader, None)\n",
    "\n",
    "    # Read the data and convert it to a NumPy array of floats\n",
    "    x = list(reader)\n",
    "    data = np.array(x).astype('float')\n",
    "\n",
    "# Print the shape of the resulting array\n",
    "print(data.shape)"
   ]
  },
  {
   "cell_type": "code",
   "execution_count": 4,
   "metadata": {},
   "outputs": [
    {
     "name": "stdout",
     "output_type": "stream",
     "text": [
      "(769, 9)\n",
      "preg     object\n",
      "plas     object\n",
      "pres     object\n",
      "skin     object\n",
      "test     object\n",
      "mass     object\n",
      "pedi     object\n",
      "age      object\n",
      "class    object\n",
      "dtype: object\n"
     ]
    }
   ],
   "source": [
    "# Load CSV using Pandas\n",
    "from pandas import read_csv\n",
    "filename = 'pima-indians-diabetes.data.csv'\n",
    "names = ['preg', 'plas', 'pres', 'skin', 'test', 'mass', 'pedi', 'age', 'class']\n",
    "\n",
    "data = read_csv(filename, names=names)\n",
    "print(data.shape)\n",
    "types = data.dtypes\n",
    "print(types)"
   ]
  },
  {
   "cell_type": "code",
   "execution_count": 13,
   "metadata": {},
   "outputs": [
    {
     "name": "stdout",
     "output_type": "stream",
     "text": [
      "<bound method NDFrame.tail of        preg plas pres skin test mass   pedi  age class\n",
      "count   769  769  769  769  769  769    769  769   769\n",
      "unique   18  137   48   52  187  249    518   53     3\n",
      "top       1  100   70    0    0   32  0.254   22     0\n",
      "freq    135   17   57  227  374   13      6   72   500>\n",
      "class\n",
      "0          500\n",
      "1          268\n",
      "Outcome      1\n",
      "dtype: int64\n",
      "age\n",
      "21     63\n",
      "22     72\n",
      "23     38\n",
      "24     46\n",
      "25     48\n",
      "26     33\n",
      "27     32\n",
      "28     35\n",
      "29     29\n",
      "30     21\n",
      "31     24\n",
      "32     16\n",
      "33     17\n",
      "34     14\n",
      "35     10\n",
      "36     16\n",
      "37     19\n",
      "38     16\n",
      "39     12\n",
      "40     13\n",
      "41     22\n",
      "42     18\n",
      "43     13\n",
      "44      8\n",
      "45     15\n",
      "46     13\n",
      "47      6\n",
      "48      5\n",
      "49      5\n",
      "50      8\n",
      "51      8\n",
      "52      8\n",
      "53      5\n",
      "54      6\n",
      "55      4\n",
      "56      3\n",
      "57      5\n",
      "58      7\n",
      "59      3\n",
      "60      5\n",
      "61      2\n",
      "62      4\n",
      "63      4\n",
      "64      1\n",
      "65      3\n",
      "66      4\n",
      "67      3\n",
      "68      1\n",
      "69      2\n",
      "70      1\n",
      "72      1\n",
      "81      1\n",
      "Age     1\n",
      "dtype: int64\n"
     ]
    }
   ],
   "source": [
    "\n",
    "filename = \"pima-indians-diabetes.data.csv\"\n",
    "names = ['preg', 'plas', 'pres', 'skin', 'test', 'mass', 'pedi', 'age', 'class']\n",
    "data = read_csv(filename, names=names)\n",
    "description = data.describe()\n",
    "print(description.tail)\n",
    "group_ = data.groupby('class').size()\n",
    "\n",
    "group_2 = data.groupby('age').size()\n",
    "print(group_)\n",
    "print(group_2)\n"
   ]
  },
  {
   "cell_type": "code",
   "execution_count": 17,
   "metadata": {},
   "outputs": [
    {
     "name": "stdout",
     "output_type": "stream",
     "text": [
      "Empty DataFrame\n",
      "Columns: []\n",
      "Index: []\n"
     ]
    },
    {
     "name": "stderr",
     "output_type": "stream",
     "text": [
      "C:\\Users\\Rabo Yusuf\\AppData\\Local\\Temp\\ipykernel_2796\\3497272648.py:12: FutureWarning: The default value of numeric_only in DataFrame.corr is deprecated. In a future version, it will default to False. Select only valid columns or specify the value of numeric_only to silence this warning.\n",
      "  correlations = data.corr(method='pearson')\n"
     ]
    }
   ],
   "source": [
    "from pandas import read_csv\n",
    "from pandas import set_option\n",
    "\n",
    "filename = \"pima-indians-diabetes.data.csv\"\n",
    "names = ['preg', 'plas', 'pres', 'skin', 'test', 'mass', 'pedi', 'age', 'class']\n",
    "data = read_csv(filename, names=names)\n",
    "\n",
    "# Remove the following two lines if you don't want to set display width and precision\n",
    "# set_option('display.width', 100)\n",
    "# set_option('precision', 3)\n",
    "\n",
    "correlations = data.corr(method='pearson')\n",
    "print(correlations)"
   ]
  },
  {
   "cell_type": "code",
   "execution_count": 18,
   "metadata": {},
   "outputs": [
    {
     "name": "stdout",
     "output_type": "stream",
     "text": [
      "Series([], dtype: float64)\n"
     ]
    },
    {
     "name": "stderr",
     "output_type": "stream",
     "text": [
      "C:\\Users\\Rabo Yusuf\\AppData\\Local\\Temp\\ipykernel_2796\\3089010771.py:6: FutureWarning: The default value of numeric_only in DataFrame.skew is deprecated. In a future version, it will default to False. In addition, specifying 'numeric_only=None' is deprecated. Select only valid columns or specify the value of numeric_only to silence this warning.\n",
      "  skew = data.skew()\n"
     ]
    }
   ],
   "source": [
    "# Skew for each attribute\n",
    "from pandas import read_csv\n",
    "filename = \"pima-indians-diabetes.data.csv\"\n",
    "names = ['preg', 'plas', 'pres', 'skin', 'test', 'mass', 'pedi', 'age', 'class']\n",
    "data = read_csv(filename, names=names)\n",
    "skew = data.skew()\n",
    "print(skew)"
   ]
  },
  {
   "cell_type": "code",
   "execution_count": null,
   "metadata": {},
   "outputs": [],
   "source": []
  }
 ],
 "metadata": {
  "kernelspec": {
   "display_name": "base",
   "language": "python",
   "name": "python3"
  },
  "language_info": {
   "codemirror_mode": {
    "name": "ipython",
    "version": 3
   },
   "file_extension": ".py",
   "mimetype": "text/x-python",
   "name": "python",
   "nbconvert_exporter": "python",
   "pygments_lexer": "ipython3",
   "version": "3.10.9"
  }
 },
 "nbformat": 4,
 "nbformat_minor": 2
}
