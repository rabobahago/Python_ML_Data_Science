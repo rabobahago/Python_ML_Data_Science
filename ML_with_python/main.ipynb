{
 "cells": [
  {
   "cell_type": "markdown",
   "metadata": {},
   "source": [
    "### Rescale Data"
   ]
  },
  {
   "cell_type": "code",
   "execution_count": 1,
   "metadata": {},
   "outputs": [
    {
     "name": "stdout",
     "output_type": "stream",
     "text": [
      "[[0.35 0.74 0.59 0.35 0.   0.5  0.23 0.48]\n",
      " [0.06 0.43 0.54 0.29 0.   0.4  0.12 0.17]\n",
      " [0.47 0.92 0.52 0.   0.   0.35 0.25 0.18]\n",
      " [0.06 0.45 0.54 0.23 0.11 0.42 0.04 0.  ]\n",
      " [0.   0.69 0.33 0.35 0.2  0.64 0.94 0.2 ]]\n"
     ]
    }
   ],
   "source": [
    "from sklearn.preprocessing import MinMaxScaler\n",
    "from numpy import set_printoptions\n",
    "from pandas import read_csv\n",
    "filename = 'data/diabetes.csv'\n",
    "\n",
    "names = ['preg', 'plas', 'pres', 'skin', 'test', 'mass', 'pedi', 'age', 'class']\n",
    "dataframe = read_csv(filename, names=names)\n",
    "array = dataframe.values[1:]\n",
    "X = array[:, 0:8]\n",
    "X\n",
    "Y = array[:, 8]\n",
    "Y\n",
    "scaler = MinMaxScaler(feature_range=(0,1))\n",
    "rescaledX =scaler.fit_transform(X)\n",
    "set_printoptions(precision=2)\n",
    "print(rescaledX[0: 5, :])"
   ]
  },
  {
   "cell_type": "code",
   "execution_count": null,
   "metadata": {},
   "outputs": [],
   "source": []
  }
 ],
 "metadata": {
  "kernelspec": {
   "display_name": "base",
   "language": "python",
   "name": "python3"
  },
  "language_info": {
   "codemirror_mode": {
    "name": "ipython",
    "version": 3
   },
   "file_extension": ".py",
   "mimetype": "text/x-python",
   "name": "python",
   "nbconvert_exporter": "python",
   "pygments_lexer": "ipython3",
   "version": "3.10.9"
  }
 },
 "nbformat": 4,
 "nbformat_minor": 2
}
