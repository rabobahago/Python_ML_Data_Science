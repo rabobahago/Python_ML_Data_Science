{
 "cells": [
  {
   "cell_type": "markdown",
   "metadata": {},
   "source": [
    "## Statistical learning: \n",
    "is the process of estimating a relationship between a response variable (Y) and predictor variables (X1, X2, ..., Xp). The main goal is to understand and model this relationship, allowing us to make predictions or draw inferences. The reasons for estimating this relationship, as mentioned in the text, are prediction and inference.\n",
    "\n",
    "##### Prediction:\n",
    "\n",
    "Scenario: In situations where obtaining the response variable (Y) is difficult or costly, but predictor variables (X) are readily available, the goal is to predict the response variable based on the observed predictors.\n",
    "Example: In the advertising and sales example, the client wants to predict sales based on advertising budgets for TV, radio, and newspaper. The idea is to adjust advertising budgets to indirectly increase sales.\n",
    "Methodology: Prediction involves estimating the function \n",
    "f (relationship between predictors and response) using the available data. The estimated model (\n",
    "ˆ\n",
    "fˆ) is then treated as a black box to make accurate predictions.\n",
    "##### Inference:\n",
    "\n",
    "Scenario: In situations where the primary goal is not prediction but understanding the relationship between the response variable and predictors, inference is essential. This involves identifying important predictors, understanding the nature of the relationships, and assessing the overall model.\n",
    "Example: In the advertising and sales example, the client might be interested in understanding which media are associated with sales, which media generate the most significant boost in sales, or how much an increase in TV advertising is associated with a sales increase.\n",
    "Methodology: Inference requires a detailed understanding of the estimated function \n",
    "\n",
    "fˆ. Questions related to the association between predictors and the response, the linearity of the relationship, and the significance of predictors become crucial.\n",
    "Combination of Prediction and Inference:\n",
    "\n",
    "Scenario: Some situations require a combination of prediction and inference. For example, in real estate, one might be interested in predicting housing prices based on various factors (prediction) and simultaneously understanding the impact of individual factors on housing prices (inference).\n",
    "Methodology: Depending on the ultimate goal, different methods for estimating \n",
    "\n",
    "f may be appropriate. Linear models are interpretable for inference but may not provide the most accurate predictions. Highly non-linear approaches might offer better predictions but can be less interpretable for inference."
   ]
  },
  {
   "cell_type": "markdown",
   "metadata": {},
   "source": []
  }
 ],
 "metadata": {
  "language_info": {
   "name": "python"
  }
 },
 "nbformat": 4,
 "nbformat_minor": 2
}
