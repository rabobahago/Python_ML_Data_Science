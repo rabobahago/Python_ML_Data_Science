{
 "cells": [
  {
   "cell_type": "code",
   "execution_count": 20,
   "metadata": {},
   "outputs": [
    {
     "name": "stdout",
     "output_type": "stream",
     "text": [
      "hello world\n",
      "how are you doing?\n",
      "hello world\\n love you\n",
      "hello world everyone\n",
      "hello world you rabo and mathew\n",
      "hello world\n",
      "hello rabo\n",
      "2.47\n"
     ]
    }
   ],
   "source": [
    "str_ = 'hello world\\nhow are you doing?'\n",
    "print(str_)\n",
    "raw_str = r'hello world\\n love you'\n",
    "print(raw_str)\n",
    "#bytes\n",
    "byte = b'hello world'\n",
    "print(byte.decode('utf-8'), 'everyone')\n",
    "\n",
    "say_all = 'hello world you %s and %s'%('rabo', 'mathew')\n",
    "print(say_all)\n",
    "new_formay = '{} {}'.format('hello', 'world')\n",
    "print(new_formay)\n",
    "new_way = '{arg1} {arg2}'.format(arg1 = 'hello', arg2 = 'rabo')\n",
    "print(new_way)\n",
    "num = '{:.2f}'.format(2.46677778)\n",
    "print(num)"
   ]
  },
  {
   "cell_type": "code",
   "execution_count": 21,
   "metadata": {},
   "outputs": [
    {
     "name": "stdout",
     "output_type": "stream",
     "text": [
      "[['a', 1], ['a', 2], ['b', 1], ['b', 2], ['c', 1], ['c', 2]]\n"
     ]
    }
   ],
   "source": [
    "import itertools\n",
    "print([[x, y] for x, y in itertools.product(['a', 'b', 'c'], [1, 2])])"
   ]
  },
  {
   "cell_type": "code",
   "execution_count": 24,
   "metadata": {},
   "outputs": [
    {
     "data": {
      "text/plain": [
       "1000000"
      ]
     },
     "execution_count": 24,
     "metadata": {},
     "output_type": "execute_result"
    }
   ],
   "source": [
    "v = 0\n",
    "for i in range(10 ** 6):\n",
    "    v += 1\n",
    "v"
   ]
  },
  {
   "cell_type": "code",
   "execution_count": 30,
   "metadata": {},
   "outputs": [
    {
     "data": {
      "text/plain": [
       "[512, 262144]"
      ]
     },
     "execution_count": 30,
     "metadata": {},
     "output_type": "execute_result"
    }
   ],
   "source": [
    "nums = [1,8, 9, 64, 25]\n",
    "cubes_and_squares = [num**3 if num % 2 == 0 else num**2 for num in nums]\n",
    "cubes_and_squares\n",
    "nums = [1,8, 9, 64, 25]\n",
    "cubes_of_even = [num**3 for num in nums if num % 2 == 0]\n",
    "cubes_of_even"
   ]
  },
  {
   "cell_type": "code",
   "execution_count": 44,
   "metadata": {},
   "outputs": [
    {
     "name": "stdout",
     "output_type": "stream",
     "text": [
      "C:\\Users\\RABOYU~1\\AppData\\Local\\Temp\\foobar\n",
      "C:\\Users\\RABOYU~1\\AppData\\Local\\Temp\\foobar\\plop\\toto\n"
     ]
    },
    {
     "data": {
      "text/plain": [
       "['plop']"
      ]
     },
     "execution_count": 44,
     "metadata": {},
     "output_type": "execute_result"
    }
   ],
   "source": [
    "import  os\n",
    "di = os.getcwd()\n",
    "os.chdir(di)\n",
    "import tempfile\n",
    "tmpdir = tempfile.gettempdir()\n",
    "tmpdir\n",
    "mytmpdir = os.path.join(tmpdir, 'foobar')\n",
    "print(mytmpdir)\n",
    "mydir = os.path.join(tmpdir, \"foobar\", \"plop\", \"toto\")\n",
    "print(mydir)\n",
    "os.makedirs(os.path.join(tmpdir, \"foobar\", \"plop\", \"toto\"), exist_ok=True)\n",
    "os.listdir(mytmpdir)"
   ]
  },
  {
   "cell_type": "code",
   "execution_count": 50,
   "metadata": {},
   "outputs": [
    {
     "name": "stdout",
     "output_type": "stream",
     "text": [
      "C:\\Users\\RABOYU~1\\AppData\\Local\\Temp\\foobar\\myfile.txt\n"
     ]
    }
   ],
   "source": [
    "filename = os.path.join(mytmpdir, 'myfile.txt')\n",
    "print(filename)\n",
    "lines = [\"Dans python tout est bon\", \"Enfin, presque\"]\n",
    "with open(filename, 'w') as f:\n",
    "    for line in lines:\n",
    "        f.write(line + '\\n')"
   ]
  },
  {
   "cell_type": "code",
   "execution_count": 52,
   "metadata": {},
   "outputs": [
    {
     "name": "stdout",
     "output_type": "stream",
     "text": [
      "C:\\Users\\RABOYU~1\\AppData\\Local\\Temp\\foobar ['plop'] ['myfile.txt']\n",
      "C:\\Users\\RABOYU~1\\AppData\\Local\\Temp\\foobar\\plop ['toto'] []\n",
      "C:\\Users\\RABOYU~1\\AppData\\Local\\Temp\\foobar\\plop\\toto [] []\n"
     ]
    }
   ],
   "source": [
    "import os\n",
    "WD = os.path.join(tmpdir, \"foobar\")\n",
    "for dirpath, dirnames, filenames in os.walk(WD):\n",
    "    print(dirpath, dirnames, filenames)"
   ]
  },
  {
   "cell_type": "code",
   "execution_count": 61,
   "metadata": {},
   "outputs": [
    {
     "name": "stdout",
     "output_type": "stream",
     "text": [
      "C:\\Users\\RABOYU~1\\AppData\\Local\\Temp\n",
      "C:\\Users\\RABOYU~1\\AppData\\Local\\Temp\\foobar\\myfile.txt\n",
      "['myfile', 'empty']\n"
     ]
    }
   ],
   "source": [
    "import tempfile\n",
    "import glob\n",
    "tmpdir = tempfile.gettempdir()\n",
    "print(tmpdir)\n",
    "filenames = glob.glob(os.path.join(tmpdir, \"*\", \"*.txt\"))\n",
    "print(filename)\n",
    "basenames = [os.path.splitext(os.path.basename(f))[0] for f in filenames]\n",
    "print(basenames)"
   ]
  },
  {
   "cell_type": "code",
   "execution_count": null,
   "metadata": {},
   "outputs": [],
   "source": []
  }
 ],
 "metadata": {
  "kernelspec": {
   "display_name": "Python 3",
   "language": "python",
   "name": "python3"
  },
  "language_info": {
   "codemirror_mode": {
    "name": "ipython",
    "version": 3
   },
   "file_extension": ".py",
   "mimetype": "text/x-python",
   "name": "python",
   "nbconvert_exporter": "python",
   "pygments_lexer": "ipython3",
   "version": "3.10.9"
  }
 },
 "nbformat": 4,
 "nbformat_minor": 2
}
