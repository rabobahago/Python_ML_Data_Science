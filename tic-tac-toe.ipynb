{
 "cells": [
  {
   "cell_type": "code",
   "execution_count": 1,
   "metadata": {},
   "outputs": [
    {
     "name": "stdout",
     "output_type": "stream",
     "text": [
      "[' ', ' ', ' ', ' ', ' ', ' ', ' ', ' ', ' ']\n"
     ]
    }
   ],
   "source": [
    "board = [' ' for _ in range(9)]\n",
    "print(board)"
   ]
  },
  {
   "cell_type": "code",
   "execution_count": 5,
   "metadata": {},
   "outputs": [
    {
     "name": "stdout",
     "output_type": "stream",
     "text": [
      " | | \n",
      "[' ', ' ', ' ', ' ', ' ', ' ', ' ', ' ', ' ']\n",
      " | | \n",
      "[' ', ' ', ' ', ' ', ' ', ' ', ' ', ' ', ' ']\n",
      " | | \n",
      "[' ', ' ', ' ', ' ', ' ', ' ', ' ', ' ', ' ']\n"
     ]
    }
   ],
   "source": [
    "for i in range(0, 9, 3):\n",
    "    print(board[i] + '|' + board[i + 1] + '|' + board[i + 2])\n",
    "    print(board)"
   ]
  },
  {
   "cell_type": "code",
   "execution_count": 8,
   "metadata": {},
   "outputs": [
    {
     "name": "stdout",
     "output_type": "stream",
     "text": [
      "34.0\n"
     ]
    }
   ],
   "source": [
    "import math\n",
    "print(math.hypot(34))"
   ]
  },
  {
   "cell_type": "code",
   "execution_count": 9,
   "metadata": {},
   "outputs": [
    {
     "name": "stdout",
     "output_type": "stream",
     "text": [
      "__doc__\n",
      "__loader__\n",
      "__name__\n",
      "__package__\n",
      "__spec__\n",
      "acos\n",
      "acosh\n",
      "asin\n",
      "asinh\n",
      "atan\n",
      "atan2\n",
      "atanh\n",
      "ceil\n",
      "comb\n",
      "copysign\n",
      "cos\n",
      "cosh\n",
      "degrees\n",
      "dist\n",
      "e\n",
      "erf\n",
      "erfc\n",
      "exp\n",
      "expm1\n",
      "fabs\n",
      "factorial\n",
      "floor\n",
      "fmod\n",
      "frexp\n",
      "fsum\n",
      "gamma\n",
      "gcd\n",
      "hypot\n",
      "inf\n",
      "isclose\n",
      "isfinite\n",
      "isinf\n",
      "isnan\n",
      "isqrt\n",
      "lcm\n",
      "ldexp\n",
      "lgamma\n",
      "log\n",
      "log10\n",
      "log1p\n",
      "log2\n",
      "modf\n",
      "nan\n",
      "nextafter\n",
      "perm\n",
      "pi\n",
      "pow\n",
      "prod\n",
      "radians\n",
      "remainder\n",
      "sin\n",
      "sinh\n",
      "sqrt\n",
      "tan\n",
      "tanh\n",
      "tau\n",
      "trunc\n",
      "ulp\n"
     ]
    }
   ],
   "source": [
    "\n",
    "from math import pi, radians, degrees, sin, cos, tan, asin\n",
    "\n",
    "ad = 90\n",
    "ar = radians(ad)\n",
    "ad = degrees(ar)\n",
    "\n",
    "print(ad == 90.)\n",
    "print(ar == pi / 2.)\n",
    "print(sin(ar) / cos(ar) == tan(ar))\n",
    "print(asin(sin(ar)) == ar)\n"
   ]
  },
  {
   "cell_type": "code",
   "execution_count": null,
   "metadata": {},
   "outputs": [],
   "source": []
  }
 ],
 "metadata": {
  "kernelspec": {
   "display_name": "base",
   "language": "python",
   "name": "python3"
  },
  "language_info": {
   "codemirror_mode": {
    "name": "ipython",
    "version": 3
   },
   "file_extension": ".py",
   "mimetype": "text/x-python",
   "name": "python",
   "nbconvert_exporter": "python",
   "pygments_lexer": "ipython3",
   "version": "3.10.9"
  }
 },
 "nbformat": 4,
 "nbformat_minor": 2
}
