{
 "cells": [
  {
   "cell_type": "code",
   "execution_count": 12,
   "metadata": {},
   "outputs": [
    {
     "name": "stdout",
     "output_type": "stream",
     "text": [
      "the side \"a\" is 200 and side \"b\" is 600\n",
      "10\n",
      "10\n",
      "the side \"a\" is 300 and side \"b\" is 500\n",
      "Dog: Dog, Breed: Rinnoo\n"
     ]
    }
   ],
   "source": [
    "class Box:\n",
    "    # class variable/members\n",
    "    all = 10\n",
    "    def __init__(self, side_a, side_b):\n",
    "        # instance variables/members\n",
    "        self.side_a = side_a\n",
    "        self.side_b = side_b\n",
    "    def __repr__(self):\n",
    "        print('<class \"Box\">')\n",
    "    def __str__(self)-> str:\n",
    "        return f'the side \"a\" is {self.side_a} and side \"b\" is {self.side_b}'\n",
    "p1 = Box(200, 600)\n",
    "print(p1)\n",
    "print(p1.all)\n",
    "print(Box.all)\n",
    "\n",
    "p2 = Box(side_a=300, side_b= 500,)\n",
    "print(p2)\n",
    "\n",
    "class Animal:\n",
    "    def __init__(self, name:str, age:int, num_leg: int) -> None:\n",
    "        self.name = name\n",
    "        self.age = age\n",
    "        self.num_leg = num_leg\n",
    "    def __str__(self)->None:\n",
    "        return f'name is {self.name}'\n",
    "    def talk(self):\n",
    "        return f'The {self.name} can\"t for now'\n",
    "\n",
    "class Dog(Animal):\n",
    "    def __init__(self, name:str, age: int, num_leg: int, sound: str):\n",
    "        super().__init__( name, age, num_leg)\n",
    "        self.sound = sound\n",
    "        self.type = \"Dog\"\n",
    "    def __str__(self)->str:\n",
    "        return f'{self.type}: {self.type}, Breed: {self.name}'\n",
    "\n",
    "animal = Dog(name='Rinnoo', age=56, num_leg=4, sound='woof woof')\n",
    "print(animal)\n"
   ]
  },
  {
   "cell_type": "code",
   "execution_count": 3,
   "metadata": {},
   "outputs": [
    {
     "name": "stdout",
     "output_type": "stream",
     "text": [
      "Rabo Yusuf\n",
      "Staff name=>: Rabo Yusuf, ID: 2353\n"
     ]
    }
   ],
   "source": [
    "from __future__ import annotations\n",
    "from enum import Enum, auto\n",
    "from datetime import datetime\n",
    "\n",
    "class Role(Enum):\n",
    "    ASSOCIATE = auto()\n",
    "    SUPERVISOR = auto()\n",
    "    MANAGER = auto()\n",
    "\n",
    "class Person:\n",
    "    def __init__(self, fname:str, lname:str):\n",
    "        self.fname = fname\n",
    "        self.lname = lname\n",
    "    def __str__(self)->str:\n",
    "        return f'{self.fname} {self.lname}'\n",
    "    @property\n",
    "    def fullname(self)->str:\n",
    "        return f'{self.fname} {self.lname}'\n",
    "p1 = Person('Rabo', \"Yusuf\")\n",
    "print(p1)\n",
    "class Staff(Person):\n",
    "    def __init__(self, fname:str, lname:str, staff_id: int, role:Role):\n",
    "        super().__init__(fname, lname)\n",
    "        self.staff_id = staff_id\n",
    "        self.is_staff = True\n",
    "        self.role = role\n",
    "        self._date_joined = datetime.now()\n",
    "\n",
    "        match role:\n",
    "            case Role.ASSOCIATE:\n",
    "                self.__salary: float = 15\n",
    "            case Role.SUPERVISOR:\n",
    "                self.__salary:float = 20\n",
    "            case Role.MANAGER:\n",
    "                self.__salary: float = 25\n",
    "    def __str__(self)->str:\n",
    "        return f'Staff name=>: {self.fullname}, ID: {self.staff_id}'\n",
    "    @classmethod\n",
    "    def new(cls, person:Person, staff_id:int, role:Role)->Staff:\n",
    "        return cls(person.fname, person.lname, staff_id, role)\n",
    "p1 = Staff('Rabo','Yusuf', 2353, Role.MANAGER)\n",
    "print(p1)\n",
    "p2 = Staff.new(p1, 1234, Role.SUPERVISOR)\n",
    "print(p2)\n"
   ]
  },
  {
   "cell_type": "code",
   "execution_count": null,
   "metadata": {},
   "outputs": [],
   "source": []
  }
 ],
 "metadata": {
  "kernelspec": {
   "display_name": "base",
   "language": "python",
   "name": "python3"
  },
  "language_info": {
   "codemirror_mode": {
    "name": "ipython",
    "version": 3
   },
   "file_extension": ".py",
   "mimetype": "text/x-python",
   "name": "python",
   "nbconvert_exporter": "python",
   "pygments_lexer": "ipython3",
   "version": "3.10.9"
  }
 },
 "nbformat": 4,
 "nbformat_minor": 2
}
