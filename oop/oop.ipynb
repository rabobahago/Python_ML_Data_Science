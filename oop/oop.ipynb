{
 "cells": [
  {
   "cell_type": "code",
   "execution_count": 11,
   "metadata": {},
   "outputs": [
    {
     "name": "stdout",
     "output_type": "stream",
     "text": [
      "the side \"a\" is 200 and side \"b\" is 600\n",
      "10\n",
      "10\n",
      "the side \"a\" is 300 and side \"b\" is 500\n"
     ]
    },
    {
     "ename": "AttributeError",
     "evalue": "'Dog' object has no attribute 'breed'",
     "output_type": "error",
     "traceback": [
      "\u001b[1;31m---------------------------------------------------------------------------\u001b[0m",
      "\u001b[1;31mAttributeError\u001b[0m                            Traceback (most recent call last)",
      "\u001b[1;32mc:\\Users\\Rabo Yusuf\\Desktop\\Python-Crash-Course\\oop\\oop.ipynb Cell 1\u001b[0m line \u001b[0;36m3\n\u001b[0;32m     <a href='vscode-notebook-cell:/c%3A/Users/Rabo%20Yusuf/Desktop/Python-Crash-Course/oop/oop.ipynb#W0sZmlsZQ%3D%3D?line=35'>36</a>\u001b[0m         \u001b[39mreturn\u001b[39;00m \u001b[39mf\u001b[39m\u001b[39m'\u001b[39m\u001b[39m{\u001b[39;00m\u001b[39mself\u001b[39m\u001b[39m.\u001b[39mtype\u001b[39m}\u001b[39;00m\u001b[39m: \u001b[39m\u001b[39m{\u001b[39;00m\u001b[39mself\u001b[39m\u001b[39m.\u001b[39mname\u001b[39m}\u001b[39;00m\u001b[39m, Breed: \u001b[39m\u001b[39m{\u001b[39;00m\u001b[39mself\u001b[39m\u001b[39m.\u001b[39mbreed\u001b[39m}\u001b[39;00m\u001b[39m'\u001b[39m\n\u001b[0;32m     <a href='vscode-notebook-cell:/c%3A/Users/Rabo%20Yusuf/Desktop/Python-Crash-Course/oop/oop.ipynb#W0sZmlsZQ%3D%3D?line=37'>38</a>\u001b[0m animal \u001b[39m=\u001b[39m Dog(name\u001b[39m=\u001b[39m\u001b[39m'\u001b[39m\u001b[39mDog\u001b[39m\u001b[39m'\u001b[39m, age\u001b[39m=\u001b[39m\u001b[39m56\u001b[39m, num_leg\u001b[39m=\u001b[39m\u001b[39m4\u001b[39m, sound\u001b[39m=\u001b[39m\u001b[39m'\u001b[39m\u001b[39mwoof woof\u001b[39m\u001b[39m'\u001b[39m)\n\u001b[1;32m---> <a href='vscode-notebook-cell:/c%3A/Users/Rabo%20Yusuf/Desktop/Python-Crash-Course/oop/oop.ipynb#W0sZmlsZQ%3D%3D?line=38'>39</a>\u001b[0m \u001b[39mprint\u001b[39;49m(animal)\n",
      "\u001b[1;32mc:\\Users\\Rabo Yusuf\\Desktop\\Python-Crash-Course\\oop\\oop.ipynb Cell 1\u001b[0m line \u001b[0;36m3\n\u001b[0;32m     <a href='vscode-notebook-cell:/c%3A/Users/Rabo%20Yusuf/Desktop/Python-Crash-Course/oop/oop.ipynb#W0sZmlsZQ%3D%3D?line=34'>35</a>\u001b[0m \u001b[39mdef\u001b[39;00m \u001b[39m__str__\u001b[39m(\u001b[39mself\u001b[39m)\u001b[39m-\u001b[39m\u001b[39m>\u001b[39m\u001b[39mstr\u001b[39m:\n\u001b[1;32m---> <a href='vscode-notebook-cell:/c%3A/Users/Rabo%20Yusuf/Desktop/Python-Crash-Course/oop/oop.ipynb#W0sZmlsZQ%3D%3D?line=35'>36</a>\u001b[0m     \u001b[39mreturn\u001b[39;00m \u001b[39mf\u001b[39m\u001b[39m'\u001b[39m\u001b[39m{\u001b[39;00m\u001b[39mself\u001b[39m\u001b[39m.\u001b[39mtype\u001b[39m}\u001b[39;00m\u001b[39m: \u001b[39m\u001b[39m{\u001b[39;00m\u001b[39mself\u001b[39m\u001b[39m.\u001b[39mname\u001b[39m}\u001b[39;00m\u001b[39m, Breed: \u001b[39m\u001b[39m{\u001b[39;00m\u001b[39mself\u001b[39m\u001b[39m.\u001b[39mbreed\u001b[39m}\u001b[39;00m\u001b[39m'\u001b[39m\n",
      "\u001b[1;31mAttributeError\u001b[0m: 'Dog' object has no attribute 'breed'"
     ]
    }
   ],
   "source": [
    "class Box:\n",
    "    # class variable/members\n",
    "    all = 10\n",
    "    def __init__(self, side_a, side_b):\n",
    "        # instance variables/members\n",
    "        self.side_a = side_a\n",
    "        self.side_b = side_b\n",
    "    def __repr__(self):\n",
    "        print('<class \"Box\">')\n",
    "    def __str__(self)-> str:\n",
    "        return f'the side \"a\" is {self.side_a} and side \"b\" is {self.side_b}'\n",
    "p1 = Box(200, 600)\n",
    "print(p1)\n",
    "print(p1.all)\n",
    "print(Box.all)\n",
    "\n",
    "p2 = Box(side_a=300, side_b= 500,)\n",
    "print(p2)\n",
    "\n",
    "class Animal:\n",
    "    def __init__(self, name:str, age:int, num_leg: int) -> None:\n",
    "        self.name = name\n",
    "        self.age = age\n",
    "        self.num_leg = num_leg\n",
    "    def __str__(self)->None:\n",
    "        return f'name is {self.name}'\n",
    "    def talk(self):\n",
    "        return f'The {self.name} can\"t for now'\n",
    "\n",
    "class Dog(Animal):\n",
    "    def __init__(self, name:str, age: int, num_leg: int, sound: str):\n",
    "        super().__init__( name, age, num_leg)\n",
    "        self.sound = sound\n",
    "        self.type = \"Dog\"\n",
    "    def __str__(self)->str:\n",
    "        return f'{self.type}: {self.type}, Breed: {self.name}'\n",
    "\n",
    "animal = Dog(name='Rinnoo', age=56, num_leg=4, sound='woof woof')\n",
    "print(animal)\n"
   ]
  },
  {
   "cell_type": "code",
   "execution_count": null,
   "metadata": {},
   "outputs": [],
   "source": []
  }
 ],
 "metadata": {
  "kernelspec": {
   "display_name": "base",
   "language": "python",
   "name": "python3"
  },
  "language_info": {
   "codemirror_mode": {
    "name": "ipython",
    "version": 3
   },
   "file_extension": ".py",
   "mimetype": "text/x-python",
   "name": "python",
   "nbconvert_exporter": "python",
   "pygments_lexer": "ipython3",
   "version": "3.10.9"
  }
 },
 "nbformat": 4,
 "nbformat_minor": 2
}
