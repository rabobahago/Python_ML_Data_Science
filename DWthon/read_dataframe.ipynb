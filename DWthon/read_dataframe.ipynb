{
 "cells": [
  {
   "cell_type": "code",
   "execution_count": 19,
   "metadata": {},
   "outputs": [
    {
     "name": "stdout",
     "output_type": "stream",
     "text": [
      "<class 'pandas.core.frame.DataFrame'>\n",
      "Int64Index: 820906 entries, 0 to 820905\n",
      "Data columns (total 9 columns):\n",
      " #   Column       Non-Null Count   Dtype         \n",
      "---  ------       --------------   -----         \n",
      " 0   order_id     820906 non-null  int32         \n",
      " 1   customer_id  820906 non-null  int16         \n",
      " 2   product_id   820906 non-null  int16         \n",
      " 3   quantity     820906 non-null  int32         \n",
      " 4   price_unit   820906 non-null  int32         \n",
      " 5   price_total  820906 non-null  int32         \n",
      " 6   country_id   820906 non-null  int8          \n",
      " 7   order_date   820906 non-null  datetime64[ns]\n",
      " 8   is_canceled  820906 non-null  bool          \n",
      "dtypes: bool(1), datetime64[ns](1), int16(2), int32(4), int8(1)\n",
      "memory usage: 29.7 MB\n"
     ]
    }
   ],
   "source": [
    "import pandas as pd\n",
    "df = pd.read_hdf(\"./data.h5\")\n",
    "\n",
    "#how many element does this dataframe\n",
    "# 820906, from 0 to 820905\n",
    "df.info()\n"
   ]
  },
  {
   "cell_type": "code",
   "execution_count": 16,
   "metadata": {},
   "outputs": [
    {
     "data": {
      "text/plain": [
       "(820906, 9)"
      ]
     },
     "execution_count": 16,
     "metadata": {},
     "output_type": "execute_result"
    }
   ],
   "source": [
    "# we can get same with .shape method to get the shape of the matrix\n",
    "df.shape #(820906, 9)"
   ]
  },
  {
   "cell_type": "code",
   "execution_count": 17,
   "metadata": {},
   "outputs": [
    {
     "data": {
      "text/plain": [
       "<pandas.core.indexing._LocIndexer at 0x1d9ef35b4c0>"
      ]
     },
     "execution_count": 17,
     "metadata": {},
     "output_type": "execute_result"
    }
   ],
   "source": [
    "df.loc"
   ]
  },
  {
   "cell_type": "code",
   "execution_count": 20,
   "metadata": {},
   "outputs": [
    {
     "data": {
      "text/plain": [
       "order_id                     52205\n",
       "customer_id                   5878\n",
       "product_id                    4239\n",
       "quantity                     80995\n",
       "price_unit                   64950\n",
       "price_total               16846960\n",
       "country_id                      42\n",
       "order_date     2011-12-09 12:50:00\n",
       "is_canceled                   True\n",
       "dtype: object"
      ]
     },
     "execution_count": 20,
     "metadata": {},
     "output_type": "execute_result"
    }
   ],
   "source": [
    "df.max()"
   ]
  },
  {
   "cell_type": "code",
   "execution_count": 21,
   "metadata": {},
   "outputs": [
    {
     "data": {
      "text/plain": [
       "16846960"
      ]
     },
     "execution_count": 21,
     "metadata": {},
     "output_type": "execute_result"
    }
   ],
   "source": [
    "df.max().price_total"
   ]
  },
  {
   "cell_type": "code",
   "execution_count": 29,
   "metadata": {},
   "outputs": [
    {
     "data": {
      "text/html": [
       "<div>\n",
       "<style scoped>\n",
       "    .dataframe tbody tr th:only-of-type {\n",
       "        vertical-align: middle;\n",
       "    }\n",
       "\n",
       "    .dataframe tbody tr th {\n",
       "        vertical-align: top;\n",
       "    }\n",
       "\n",
       "    .dataframe thead th {\n",
       "        text-align: right;\n",
       "    }\n",
       "</style>\n",
       "<table border=\"1\" class=\"dataframe\">\n",
       "  <thead>\n",
       "    <tr style=\"text-align: right;\">\n",
       "      <th></th>\n",
       "      <th>order_id</th>\n",
       "      <th>customer_id</th>\n",
       "      <th>product_id</th>\n",
       "      <th>quantity</th>\n",
       "      <th>price_unit</th>\n",
       "      <th>price_total</th>\n",
       "      <th>country_id</th>\n",
       "    </tr>\n",
       "  </thead>\n",
       "  <tbody>\n",
       "    <tr>\n",
       "      <th>count</th>\n",
       "      <td>820906.000000</td>\n",
       "      <td>820906.000000</td>\n",
       "      <td>820906.000000</td>\n",
       "      <td>820906.000000</td>\n",
       "      <td>820906.000000</td>\n",
       "      <td>8.209060e+05</td>\n",
       "      <td>820906.000000</td>\n",
       "    </tr>\n",
       "    <tr>\n",
       "      <th>mean</th>\n",
       "      <td>25949.670292</td>\n",
       "      <td>1638.141987</td>\n",
       "      <td>1069.033612</td>\n",
       "      <td>13.623477</td>\n",
       "      <td>298.218278</td>\n",
       "      <td>2.212367e+03</td>\n",
       "      <td>0.721599</td>\n",
       "    </tr>\n",
       "    <tr>\n",
       "      <th>std</th>\n",
       "      <td>15264.687463</td>\n",
       "      <td>1492.314255</td>\n",
       "      <td>978.197124</td>\n",
       "      <td>189.261372</td>\n",
       "      <td>456.258295</td>\n",
       "      <td>3.009728e+04</td>\n",
       "      <td>3.110004</td>\n",
       "    </tr>\n",
       "    <tr>\n",
       "      <th>min</th>\n",
       "      <td>0.000000</td>\n",
       "      <td>0.000000</td>\n",
       "      <td>0.000000</td>\n",
       "      <td>1.000000</td>\n",
       "      <td>0.000000</td>\n",
       "      <td>0.000000e+00</td>\n",
       "      <td>0.000000</td>\n",
       "    </tr>\n",
       "    <tr>\n",
       "      <th>25%</th>\n",
       "      <td>13506.000000</td>\n",
       "      <td>415.000000</td>\n",
       "      <td>272.000000</td>\n",
       "      <td>2.000000</td>\n",
       "      <td>125.000000</td>\n",
       "      <td>4.950000e+02</td>\n",
       "      <td>0.000000</td>\n",
       "    </tr>\n",
       "    <tr>\n",
       "      <th>50%</th>\n",
       "      <td>24773.000000</td>\n",
       "      <td>1129.000000</td>\n",
       "      <td>755.000000</td>\n",
       "      <td>5.000000</td>\n",
       "      <td>195.000000</td>\n",
       "      <td>1.180000e+03</td>\n",
       "      <td>0.000000</td>\n",
       "    </tr>\n",
       "    <tr>\n",
       "      <th>75%</th>\n",
       "      <td>39409.000000</td>\n",
       "      <td>2551.000000</td>\n",
       "      <td>1567.000000</td>\n",
       "      <td>12.000000</td>\n",
       "      <td>375.000000</td>\n",
       "      <td>1.950000e+03</td>\n",
       "      <td>0.000000</td>\n",
       "    </tr>\n",
       "    <tr>\n",
       "      <th>max</th>\n",
       "      <td>52205.000000</td>\n",
       "      <td>5878.000000</td>\n",
       "      <td>4239.000000</td>\n",
       "      <td>80995.000000</td>\n",
       "      <td>64950.000000</td>\n",
       "      <td>1.684696e+07</td>\n",
       "      <td>42.000000</td>\n",
       "    </tr>\n",
       "  </tbody>\n",
       "</table>\n",
       "</div>"
      ],
      "text/plain": [
       "            order_id    customer_id     product_id       quantity  \\\n",
       "count  820906.000000  820906.000000  820906.000000  820906.000000   \n",
       "mean    25949.670292    1638.141987    1069.033612      13.623477   \n",
       "std     15264.687463    1492.314255     978.197124     189.261372   \n",
       "min         0.000000       0.000000       0.000000       1.000000   \n",
       "25%     13506.000000     415.000000     272.000000       2.000000   \n",
       "50%     24773.000000    1129.000000     755.000000       5.000000   \n",
       "75%     39409.000000    2551.000000    1567.000000      12.000000   \n",
       "max     52205.000000    5878.000000    4239.000000   80995.000000   \n",
       "\n",
       "          price_unit   price_total     country_id  \n",
       "count  820906.000000  8.209060e+05  820906.000000  \n",
       "mean      298.218278  2.212367e+03       0.721599  \n",
       "std       456.258295  3.009728e+04       3.110004  \n",
       "min         0.000000  0.000000e+00       0.000000  \n",
       "25%       125.000000  4.950000e+02       0.000000  \n",
       "50%       195.000000  1.180000e+03       0.000000  \n",
       "75%       375.000000  1.950000e+03       0.000000  \n",
       "max     64950.000000  1.684696e+07      42.000000  "
      ]
     },
     "execution_count": 29,
     "metadata": {},
     "output_type": "execute_result"
    }
   ],
   "source": [
    "df.describe()"
   ]
  },
  {
   "cell_type": "code",
   "execution_count": 30,
   "metadata": {},
   "outputs": [
    {
     "data": {
      "text/plain": [
       "order_id         820906.0\n",
       "customer_id      820906.0\n",
       "product_id       820906.0\n",
       "quantity         820906.0\n",
       "price_unit       820906.0\n",
       "price_total    16846960.0\n",
       "country_id       820906.0\n",
       "dtype: float64"
      ]
     },
     "execution_count": 30,
     "metadata": {},
     "output_type": "execute_result"
    }
   ],
   "source": [
    "df.describe().max()"
   ]
  },
  {
   "cell_type": "code",
   "execution_count": 31,
   "metadata": {},
   "outputs": [
    {
     "data": {
      "text/plain": [
       "order_id         820906.0\n",
       "customer_id      820906.0\n",
       "product_id       820906.0\n",
       "quantity         820906.0\n",
       "price_unit       820906.0\n",
       "price_total    16846960.0\n",
       "country_id       820906.0\n",
       "dtype: float64"
      ]
     },
     "execution_count": 31,
     "metadata": {},
     "output_type": "execute_result"
    }
   ],
   "source": [
    "df.describe().max().cou"
   ]
  },
  {
   "cell_type": "code",
   "execution_count": 32,
   "metadata": {},
   "outputs": [
    {
     "data": {
      "text/plain": [
       "16846960"
      ]
     },
     "execution_count": 32,
     "metadata": {},
     "output_type": "execute_result"
    }
   ],
   "source": [
    "df['price_total'].max()"
   ]
  },
  {
   "cell_type": "code",
   "execution_count": 33,
   "metadata": {},
   "outputs": [
    {
     "data": {
      "text/plain": [
       "1492.314255308764"
      ]
     },
     "execution_count": 33,
     "metadata": {},
     "output_type": "execute_result"
    }
   ],
   "source": [
    "df['customer_id'].std()"
   ]
  },
  {
   "cell_type": "code",
   "execution_count": 34,
   "metadata": {},
   "outputs": [
    {
     "data": {
      "text/plain": [
       "0.7215990624992387"
      ]
     },
     "execution_count": 34,
     "metadata": {},
     "output_type": "execute_result"
    }
   ],
   "source": [
    "df['country_id'].mean()"
   ]
  },
  {
   "cell_type": "code",
   "execution_count": 50,
   "metadata": {},
   "outputs": [
    {
     "data": {
      "text/plain": [
       "0"
      ]
     },
     "execution_count": 50,
     "metadata": {},
     "output_type": "execute_result"
    }
   ],
   "source": [
    "df['order_id'].min()"
   ]
  },
  {
   "cell_type": "code",
   "execution_count": 54,
   "metadata": {},
   "outputs": [
    {
     "data": {
      "text/plain": [
       "order_id                        23\n",
       "customer_id                     14\n",
       "product_id                     149\n",
       "quantity                         6\n",
       "price_unit                     595\n",
       "price_total                   3570\n",
       "country_id                       2\n",
       "order_date     2010-12-01 10:03:00\n",
       "is_canceled                  False\n",
       "Name: 200, dtype: object"
      ]
     },
     "execution_count": 54,
     "metadata": {},
     "output_type": "execute_result"
    }
   ],
   "source": [
    "#select single row by index\n",
    "df.loc[200]"
   ]
  },
  {
   "cell_type": "code",
   "execution_count": 56,
   "metadata": {},
   "outputs": [
    {
     "data": {
      "text/html": [
       "<div>\n",
       "<style scoped>\n",
       "    .dataframe tbody tr th:only-of-type {\n",
       "        vertical-align: middle;\n",
       "    }\n",
       "\n",
       "    .dataframe tbody tr th {\n",
       "        vertical-align: top;\n",
       "    }\n",
       "\n",
       "    .dataframe thead th {\n",
       "        text-align: right;\n",
       "    }\n",
       "</style>\n",
       "<table border=\"1\" class=\"dataframe\">\n",
       "  <thead>\n",
       "    <tr style=\"text-align: right;\">\n",
       "      <th></th>\n",
       "      <th>order_id</th>\n",
       "      <th>customer_id</th>\n",
       "      <th>product_id</th>\n",
       "      <th>quantity</th>\n",
       "      <th>price_unit</th>\n",
       "      <th>price_total</th>\n",
       "      <th>country_id</th>\n",
       "      <th>order_date</th>\n",
       "      <th>is_canceled</th>\n",
       "    </tr>\n",
       "  </thead>\n",
       "  <tbody>\n",
       "    <tr>\n",
       "      <th>0</th>\n",
       "      <td>0</td>\n",
       "      <td>0</td>\n",
       "      <td>0</td>\n",
       "      <td>6</td>\n",
       "      <td>254</td>\n",
       "      <td>1524</td>\n",
       "      <td>0</td>\n",
       "      <td>2010-12-01 08:26:00</td>\n",
       "      <td>False</td>\n",
       "    </tr>\n",
       "    <tr>\n",
       "      <th>1</th>\n",
       "      <td>0</td>\n",
       "      <td>0</td>\n",
       "      <td>1</td>\n",
       "      <td>6</td>\n",
       "      <td>339</td>\n",
       "      <td>2034</td>\n",
       "      <td>0</td>\n",
       "      <td>2010-12-01 08:26:00</td>\n",
       "      <td>False</td>\n",
       "    </tr>\n",
       "    <tr>\n",
       "      <th>2</th>\n",
       "      <td>0</td>\n",
       "      <td>0</td>\n",
       "      <td>2</td>\n",
       "      <td>8</td>\n",
       "      <td>275</td>\n",
       "      <td>2200</td>\n",
       "      <td>0</td>\n",
       "      <td>2010-12-01 08:26:00</td>\n",
       "      <td>False</td>\n",
       "    </tr>\n",
       "    <tr>\n",
       "      <th>3</th>\n",
       "      <td>0</td>\n",
       "      <td>0</td>\n",
       "      <td>3</td>\n",
       "      <td>6</td>\n",
       "      <td>339</td>\n",
       "      <td>2034</td>\n",
       "      <td>0</td>\n",
       "      <td>2010-12-01 08:26:00</td>\n",
       "      <td>False</td>\n",
       "    </tr>\n",
       "    <tr>\n",
       "      <th>4</th>\n",
       "      <td>0</td>\n",
       "      <td>0</td>\n",
       "      <td>3</td>\n",
       "      <td>6</td>\n",
       "      <td>339</td>\n",
       "      <td>2034</td>\n",
       "      <td>0</td>\n",
       "      <td>2010-12-01 08:26:00</td>\n",
       "      <td>False</td>\n",
       "    </tr>\n",
       "    <tr>\n",
       "      <th>5</th>\n",
       "      <td>0</td>\n",
       "      <td>0</td>\n",
       "      <td>4</td>\n",
       "      <td>2</td>\n",
       "      <td>765</td>\n",
       "      <td>1530</td>\n",
       "      <td>0</td>\n",
       "      <td>2010-12-01 08:26:00</td>\n",
       "      <td>False</td>\n",
       "    </tr>\n",
       "  </tbody>\n",
       "</table>\n",
       "</div>"
      ],
      "text/plain": [
       "   order_id  customer_id  product_id  quantity  price_unit  price_total  \\\n",
       "0         0            0           0         6         254         1524   \n",
       "1         0            0           1         6         339         2034   \n",
       "2         0            0           2         8         275         2200   \n",
       "3         0            0           3         6         339         2034   \n",
       "4         0            0           3         6         339         2034   \n",
       "5         0            0           4         2         765         1530   \n",
       "\n",
       "   country_id          order_date  is_canceled  \n",
       "0           0 2010-12-01 08:26:00        False  \n",
       "1           0 2010-12-01 08:26:00        False  \n",
       "2           0 2010-12-01 08:26:00        False  \n",
       "3           0 2010-12-01 08:26:00        False  \n",
       "4           0 2010-12-01 08:26:00        False  \n",
       "5           0 2010-12-01 08:26:00        False  "
      ]
     },
     "execution_count": 56,
     "metadata": {},
     "output_type": "execute_result"
    }
   ],
   "source": [
    "#select multiple row by index. first five row\n",
    "df.loc[0:5]"
   ]
  },
  {
   "cell_type": "code",
   "execution_count": 57,
   "metadata": {},
   "outputs": [
    {
     "data": {
      "text/html": [
       "<div>\n",
       "<style scoped>\n",
       "    .dataframe tbody tr th:only-of-type {\n",
       "        vertical-align: middle;\n",
       "    }\n",
       "\n",
       "    .dataframe tbody tr th {\n",
       "        vertical-align: top;\n",
       "    }\n",
       "\n",
       "    .dataframe thead th {\n",
       "        text-align: right;\n",
       "    }\n",
       "</style>\n",
       "<table border=\"1\" class=\"dataframe\">\n",
       "  <thead>\n",
       "    <tr style=\"text-align: right;\">\n",
       "      <th></th>\n",
       "      <th>order_id</th>\n",
       "      <th>customer_id</th>\n",
       "      <th>product_id</th>\n",
       "      <th>quantity</th>\n",
       "      <th>price_unit</th>\n",
       "      <th>price_total</th>\n",
       "      <th>country_id</th>\n",
       "      <th>order_date</th>\n",
       "      <th>is_canceled</th>\n",
       "    </tr>\n",
       "  </thead>\n",
       "  <tbody>\n",
       "    <tr>\n",
       "      <th>820901</th>\n",
       "      <td>1070</td>\n",
       "      <td>620</td>\n",
       "      <td>362</td>\n",
       "      <td>2</td>\n",
       "      <td>295</td>\n",
       "      <td>590</td>\n",
       "      <td>0</td>\n",
       "      <td>2010-12-09 20:01:00</td>\n",
       "      <td>False</td>\n",
       "    </tr>\n",
       "    <tr>\n",
       "      <th>820902</th>\n",
       "      <td>1070</td>\n",
       "      <td>620</td>\n",
       "      <td>395</td>\n",
       "      <td>1</td>\n",
       "      <td>375</td>\n",
       "      <td>375</td>\n",
       "      <td>0</td>\n",
       "      <td>2010-12-09 20:01:00</td>\n",
       "      <td>False</td>\n",
       "    </tr>\n",
       "    <tr>\n",
       "      <th>820903</th>\n",
       "      <td>1070</td>\n",
       "      <td>620</td>\n",
       "      <td>364</td>\n",
       "      <td>1</td>\n",
       "      <td>375</td>\n",
       "      <td>375</td>\n",
       "      <td>0</td>\n",
       "      <td>2010-12-09 20:01:00</td>\n",
       "      <td>False</td>\n",
       "    </tr>\n",
       "    <tr>\n",
       "      <th>820904</th>\n",
       "      <td>1070</td>\n",
       "      <td>620</td>\n",
       "      <td>1242</td>\n",
       "      <td>2</td>\n",
       "      <td>375</td>\n",
       "      <td>750</td>\n",
       "      <td>0</td>\n",
       "      <td>2010-12-09 20:01:00</td>\n",
       "      <td>False</td>\n",
       "    </tr>\n",
       "    <tr>\n",
       "      <th>820905</th>\n",
       "      <td>1070</td>\n",
       "      <td>620</td>\n",
       "      <td>73</td>\n",
       "      <td>2</td>\n",
       "      <td>195</td>\n",
       "      <td>390</td>\n",
       "      <td>0</td>\n",
       "      <td>2010-12-09 20:01:00</td>\n",
       "      <td>False</td>\n",
       "    </tr>\n",
       "  </tbody>\n",
       "</table>\n",
       "</div>"
      ],
      "text/plain": [
       "        order_id  customer_id  product_id  quantity  price_unit  price_total  \\\n",
       "820901      1070          620         362         2         295          590   \n",
       "820902      1070          620         395         1         375          375   \n",
       "820903      1070          620         364         1         375          375   \n",
       "820904      1070          620        1242         2         375          750   \n",
       "820905      1070          620          73         2         195          390   \n",
       "\n",
       "        country_id          order_date  is_canceled  \n",
       "820901           0 2010-12-09 20:01:00        False  \n",
       "820902           0 2010-12-09 20:01:00        False  \n",
       "820903           0 2010-12-09 20:01:00        False  \n",
       "820904           0 2010-12-09 20:01:00        False  \n",
       "820905           0 2010-12-09 20:01:00        False  "
      ]
     },
     "execution_count": 57,
     "metadata": {},
     "output_type": "execute_result"
    }
   ],
   "source": [
    "#last five element\n",
    "df.loc[df.shape[0]-5:df.shape[0]]"
   ]
  },
  {
   "cell_type": "code",
   "execution_count": null,
   "metadata": {},
   "outputs": [],
   "source": []
  }
 ],
 "metadata": {
  "kernelspec": {
   "display_name": "base",
   "language": "python",
   "name": "python3"
  },
  "language_info": {
   "codemirror_mode": {
    "name": "ipython",
    "version": 3
   },
   "file_extension": ".py",
   "mimetype": "text/x-python",
   "name": "python",
   "nbconvert_exporter": "python",
   "pygments_lexer": "ipython3",
   "version": "3.10.9"
  }
 },
 "nbformat": 4,
 "nbformat_minor": 2
}
