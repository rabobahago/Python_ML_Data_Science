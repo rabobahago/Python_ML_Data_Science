{
 "cells": [
  {
   "cell_type": "code",
   "execution_count": 1,
   "metadata": {},
   "outputs": [
    {
     "name": "stdout",
     "output_type": "stream",
     "text": [
      "(820906, 9)\n",
      "   order_id  customer_id  product_id  quantity  price_unit  price_total  \\\n",
      "0         0            0           0         6         254         1524   \n",
      "1         0            0           1         6         339         2034   \n",
      "2         0            0           2         8         275         2200   \n",
      "3         0            0           3         6         339         2034   \n",
      "4         0            0           3         6         339         2034   \n",
      "\n",
      "   country_id          order_date  is_canceled  \n",
      "0           0 2010-12-01 08:26:00        False  \n",
      "1           0 2010-12-01 08:26:00        False  \n",
      "2           0 2010-12-01 08:26:00        False  \n",
      "3           0 2010-12-01 08:26:00        False  \n",
      "4           0 2010-12-01 08:26:00        False  \n",
      "        order_id  customer_id  product_id  quantity  price_unit  price_total  \\\n",
      "648972     42844         1714          74        10         195         1950   \n",
      "428179     26772          305         511         3         295          885   \n",
      "241876     16738          366        2013         4         195          780   \n",
      "\n",
      "        country_id          order_date  is_canceled  \n",
      "648972           0 2010-08-19 16:05:00        False  \n",
      "428179           0 2009-12-14 15:16:00        False  \n",
      "241876           0 2011-09-11 13:51:00        False  \n",
      "1816145630\n",
      "...............................\n",
      "719739.73\n",
      "5879\n",
      "3878\n",
      "43908\n",
      "41362.5223193951\n"
     ]
    }
   ],
   "source": [
    "import pandas as pd\n",
    "df = pd.read_hdf('./data.h5')\n",
    "print(df.shape)\n",
    "print(df.head())\n",
    "print(df.sample(3))\n",
    "'''The store turnover'''\n",
    "df_turnover = df['price_total'].sum()\n",
    "print(df_turnover)\n",
    "print(\"...............................\")\n",
    "'''Number of customers'''\n",
    "df_customer = df[True == df.is_canceled]['price_total'].sum()\n",
    "print(df_customer / 100)\n",
    "print(df['customer_id'].nunique())\n",
    "print(df['product_id'].nunique())\n",
    "print(df['order_id'].nunique())\n",
    "average_sale = df['price_total'].sum() / df['order_id'].nunique()\n",
    "print(average_sale)"
   ]
  },
  {
   "cell_type": "code",
   "execution_count": 9,
   "metadata": {},
   "outputs": [
    {
     "name": "stdout",
     "output_type": "stream",
     "text": [
      "(820906, 9)\n",
      "        order_id  product_id  customer_id\n",
      "0              0           0            0\n",
      "1              0           1            0\n",
      "2              0           2            0\n",
      "3              0           3            0\n",
      "4              0           3            0\n",
      "...          ...         ...          ...\n",
      "820901      1070         362          620\n",
      "820902      1070         395          620\n",
      "820903      1070         364          620\n",
      "820904      1070        1242          620\n",
      "820905      1070          73          620\n",
      "\n",
      "[820906 rows x 3 columns]\n",
      "....................................\n",
      "        order_id  customer_id  product_id  quantity  price_unit  price_total  \\\n",
      "0          False        False       False     False       False        False   \n",
      "1          False        False       False     False       False        False   \n",
      "2          False        False       False     False       False        False   \n",
      "3          False        False       False     False       False        False   \n",
      "4          False        False       False     False       False        False   \n",
      "...          ...          ...         ...       ...         ...          ...   \n",
      "820901     False        False       False     False       False        False   \n",
      "820902     False        False       False     False       False        False   \n",
      "820903     False        False       False     False       False        False   \n",
      "820904     False        False       False     False       False        False   \n",
      "820905     False        False       False     False       False        False   \n",
      "\n",
      "        country_id  order_date  is_canceled  \n",
      "0            False       False        False  \n",
      "1            False       False        False  \n",
      "2            False       False        False  \n",
      "3            False       False        False  \n",
      "4            False       False        False  \n",
      "...            ...         ...          ...  \n",
      "820901       False       False        False  \n",
      "820902       False       False        False  \n",
      "820903       False       False        False  \n",
      "820904       False       False        False  \n",
      "820905       False       False        False  \n",
      "\n",
      "[820906 rows x 9 columns]\n"
     ]
    }
   ],
   "source": [
    "import pandas as pd\n",
    "import helper as h\n",
    "df = pd.read_hdf('./data.h5')\n",
    "print(df.shape)\n",
    "# print(df.sample(5))\n",
    "# print('.......................')\n",
    "# print('head', df.head)\n",
    "# print('.......................')\n",
    "# print('tail', df.tail)\n",
    "print(df[['order_id', 'product_id', 'customer_id']])\n",
    "print('....................................')\n",
    "print(df.isnull().sum())\n"
   ]
  },
  {
   "cell_type": "code",
   "execution_count": null,
   "metadata": {},
   "outputs": [],
   "source": []
  }
 ],
 "metadata": {
  "kernelspec": {
   "display_name": "base",
   "language": "python",
   "name": "python3"
  },
  "language_info": {
   "codemirror_mode": {
    "name": "ipython",
    "version": 3
   },
   "file_extension": ".py",
   "mimetype": "text/x-python",
   "name": "python",
   "nbconvert_exporter": "python",
   "pygments_lexer": "ipython3",
   "version": "3.10.9"
  }
 },
 "nbformat": 4,
 "nbformat_minor": 2
}
