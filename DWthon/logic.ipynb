{
 "cells": [
  {
   "cell_type": "code",
   "execution_count": 1,
   "metadata": {},
   "outputs": [
    {
     "name": "stdout",
     "output_type": "stream",
     "text": [
      "(820906, 9)\n",
      "   order_id  customer_id  product_id  quantity  price_unit  price_total  \\\n",
      "0         0            0           0         6         254         1524   \n",
      "1         0            0           1         6         339         2034   \n",
      "2         0            0           2         8         275         2200   \n",
      "3         0            0           3         6         339         2034   \n",
      "4         0            0           3         6         339         2034   \n",
      "\n",
      "   country_id          order_date  is_canceled  \n",
      "0           0 2010-12-01 08:26:00        False  \n",
      "1           0 2010-12-01 08:26:00        False  \n",
      "2           0 2010-12-01 08:26:00        False  \n",
      "3           0 2010-12-01 08:26:00        False  \n",
      "4           0 2010-12-01 08:26:00        False  \n",
      "        order_id  customer_id  product_id  quantity  price_unit  price_total  \\\n",
      "648972     42844         1714          74        10         195         1950   \n",
      "428179     26772          305         511         3         295          885   \n",
      "241876     16738          366        2013         4         195          780   \n",
      "\n",
      "        country_id          order_date  is_canceled  \n",
      "648972           0 2010-08-19 16:05:00        False  \n",
      "428179           0 2009-12-14 15:16:00        False  \n",
      "241876           0 2011-09-11 13:51:00        False  \n",
      "1816145630\n",
      "...............................\n",
      "719739.73\n",
      "5879\n",
      "3878\n",
      "43908\n",
      "41362.5223193951\n"
     ]
    }
   ],
   "source": [
    "import pandas as pd\n",
    "df = pd.read_hdf('./data.h5')\n",
    "print(df.shape)\n",
    "print(df.head())\n",
    "print(df.sample(3))\n",
    "'''The store turnover'''\n",
    "df_turnover = df['price_total'].sum()\n",
    "print(df_turnover)\n",
    "print(\"...............................\")\n",
    "'''Number of customers'''\n",
    "df_customer = df[True == df.is_canceled]['price_total'].sum()\n",
    "print(df_customer / 100)\n",
    "print(df['customer_id'].nunique())\n",
    "print(df['product_id'].nunique())\n",
    "print(df['order_id'].nunique())\n",
    "average_sale = df['price_total'].sum() / df['order_id'].nunique()\n",
    "print(average_sale)"
   ]
  },
  {
   "cell_type": "code",
   "execution_count": 29,
   "metadata": {},
   "outputs": [
    {
     "name": "stdout",
     "output_type": "stream",
     "text": [
      "(820906, 9)\n",
      "1816145630\n"
     ]
    }
   ],
   "source": [
    "import pandas as pd\n",
    "import helper as h\n",
    "df = pd.read_hdf('./data.h5')\n",
    "print(df.shape)\n",
    "# print(df.sample(5))\n",
    "# print('.......................')\n",
    "# print('head', df.head)\n",
    "# print('.......................')\n",
    "# print('tail', df.tail)\n",
    "# print(df[['order_id', 'product_id', 'customer_id']])\n",
    "# print('....................................')\n",
    "# print(df.isnull().sum())\n",
    "# print('....................................')\n",
    "t_price = (\n",
    "    df[['order_id','price_total']]\n",
    "    .groupby('order_id')\n",
    "    .agg('sum')\n",
    "    .sort_values(by='price_total', ascending=False)\n",
    "    .reset_index()\n",
    "    )\n",
    "total = t_price['price_total'].sum()\n",
    "print(total)\n"
   ]
  },
  {
   "cell_type": "code",
   "execution_count": 44,
   "metadata": {},
   "outputs": [
    {
     "name": "stdout",
     "output_type": "stream",
     "text": [
      "61130939\n",
      "   customer_id  price_total  price_cumsum\n",
      "0          448     61130939      61130939\n",
      "1          907     53007160     114138099\n",
      "2         2647     33695110     147833209\n",
      "3          179     31039769     178872978\n",
      "4           66     29774259     208647237\n",
      "....................\n",
      "0        448\n",
      "1        907\n",
      "2       2647\n",
      "3        179\n",
      "4         66\n",
      "        ... \n",
      "1319    2142\n",
      "1320    1550\n",
      "1321    1584\n",
      "1322    1135\n",
      "1323     302\n",
      "Name: customer_id, Length: 1324, dtype: int64\n"
     ]
    }
   ],
   "source": [
    "import pandas as pd\n",
    "import helper as h\n",
    "df = pd.read_hdf('./data.h5')\n",
    "sorted_order = (\n",
    "    df[['customer_id', 'price_total']]\n",
    "    .groupby('customer_id')\n",
    "    .agg('sum')\n",
    "    .sort_values(by='price_total', ascending=False)\n",
    "    .reset_index()\n",
    "    )\n",
    "print(sorted_order['price_total'].max())\n",
    "sorted_order['price_cumsum'] = sorted_order['price_total'].cumsum()\n",
    "print(sorted_order.head(5))\n",
    "max_val = sorted_order['price_cumsum'].tail(1).values[0]\n",
    "value_80prc = max_val * 0.8\n",
    "top_client = sorted_order[sorted_order['price_cumsum'] < value_80prc]['customer_id']\n",
    "print('....................')\n",
    "print(top_client)\n"
   ]
  }
 ],
 "metadata": {
  "kernelspec": {
   "display_name": "base",
   "language": "python",
   "name": "python3"
  },
  "language_info": {
   "codemirror_mode": {
    "name": "ipython",
    "version": 3
   },
   "file_extension": ".py",
   "mimetype": "text/x-python",
   "name": "python",
   "nbconvert_exporter": "python",
   "pygments_lexer": "ipython3",
   "version": "3.10.9"
  }
 },
 "nbformat": 4,
 "nbformat_minor": 2
}
