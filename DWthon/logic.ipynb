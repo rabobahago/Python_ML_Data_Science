{
 "cells": [
  {
   "cell_type": "code",
   "execution_count": 1,
   "metadata": {},
   "outputs": [
    {
     "name": "stdout",
     "output_type": "stream",
     "text": [
      "      customer_id  customer_price_total\n",
      "448           448              61130939\n",
      "907           907              53007160\n",
      "2647         2647              33695110\n",
      "179           179              31039769\n",
      "66             66              29774259\n",
      "...           ...                   ...\n",
      "4594         4594                   295\n",
      "180           180                   250\n",
      "4286         4286                     0\n",
      "4784         4784                     0\n",
      "4785         4785                     0\n",
      "\n",
      "[5879 rows x 2 columns]\n",
      ".....................................\n",
      "................................\n",
      "448      448\n",
      "907      907\n",
      "2647    2647\n",
      "179      179\n",
      "66        66\n",
      "        ... \n",
      "2142    2142\n",
      "1550    1550\n",
      "1584    1584\n",
      "1135    1135\n",
      "302      302\n",
      "Name: customer_id, Length: 1324, dtype: int64\n",
      "................................\n"
     ]
    },
    {
     "data": {
      "text/plain": [
       "True     539072\n",
       "False    281834\n",
       "Name: most_revenue_customer, dtype: int64"
      ]
     },
     "execution_count": 1,
     "metadata": {},
     "output_type": "execute_result"
    }
   ],
   "source": [
    "import pandas as pd\n",
    "\n",
    "import matplotlib\n",
    "import matplotlib.pyplot as plt\n",
    "plt.style.use('ggplot') #style\n",
    "matplotlib.rcParams['figure.figsize'] = (12, 5)#size graph\n",
    "df = pd.read_hdf(\"./data.h5\")\n",
    "\n",
    "# print(df.shape)\n",
    "# df.sample(5)\n",
    "\n",
    "df_customers = (\n",
    "    df[ [\"price_total\", \"customer_id\"] ]\n",
    "    .groupby(\"customer_id\")\n",
    "    .agg(\"sum\")\n",
    "    .reset_index()\n",
    "    .sort_values(by=\"price_total\", ascending=False)\n",
    "    .rename(columns={\"price_total\": \"customer_price_total\"})\n",
    ")\n",
    "print(df_customers)\n",
    "\n",
    "df_customers[\"cumsum\"] = df_customers[\"customer_price_total\"].cumsum()\n",
    "df_customers.head(5)\n",
    "value_80prc = int(df[\"price_total\"].sum() * 0.8)\n",
    "df_customers[\"most_revenue_customer\"] = df_customers[\"cumsum\"] < value_80prc\n",
    "print('.....................................')\n",
    "df_customers[\"most_revenue_customer\"].value_counts(normalize=True) *100\n",
    "print('................................')\n",
    "print(df_customers[df_customers[\"most_revenue_customer\"]]['customer_id'])\n",
    "print('................................')\n",
    "top_customers = set(df_customers[ df_customers[\"most_revenue_customer\"] ][\"customer_id\"].unique())\n",
    "len(top_customers)\n",
    "df[\"most_revenue_customer\"] = df[\"customer_id\"].map(lambda x: x in top_customers)\n",
    "df[\"most_revenue_customer\"].value_counts()"
   ]
  },
  {
   "cell_type": "code",
   "execution_count": 3,
   "metadata": {},
   "outputs": [
    {
     "name": "stdout",
     "output_type": "stream",
     "text": [
      "(820906, 9)\n"
     ]
    },
    {
     "data": {
      "text/plain": [
       "(0.9996598639455783, 0.0004165798882284457)"
      ]
     },
     "execution_count": 3,
     "metadata": {},
     "output_type": "execute_result"
    }
   ],
   "source": [
    "import pandas as pd\n",
    "import numpy as np\n",
    "\n",
    "from sklearn.tree import DecisionTreeClassifier\n",
    "from sklearn.model_selection import cross_val_score, GroupKFold\n",
    "\n",
    "import gc\n",
    "\n",
    "df = pd.read_hdf(\"./data.h5\")\n",
    "\n",
    "print(df.shape)\n",
    "df.sample(5)\n",
    "\n",
    "df_customers = (\n",
    "    df[ [\"price_total\", \"customer_id\"] ]\n",
    "    .groupby(\"customer_id\")\n",
    "    .agg(\"sum\")\n",
    "    .reset_index()\n",
    "    .sort_values(by=\"price_total\", ascending=False)\n",
    "    .rename(columns={\"price_total\": \"customer_price_total\"})\n",
    ")\n",
    "\n",
    "df_customers[\"cumsum\"] = df_customers[\"customer_price_total\"].cumsum()\n",
    "value_80prc = int(df[\"price_total\"].sum() * 0.8)\n",
    "df_customers[\"most_revenue_customer\"] = df_customers[\"cumsum\"] < value_80prc\n",
    "\n",
    "\n",
    "top_customers = set(df_customers[ df_customers[\"most_revenue_customer\"] ][\"customer_id\"].unique())\n",
    "\n",
    "del df_customers\n",
    "gc.collect()\n",
    "\n",
    "df_customers = (\n",
    "    df\n",
    "    .groupby(\"customer_id\")\n",
    "    .agg(\n",
    "        count_orders=(\"order_id\", lambda x: len(set(x))),\n",
    "        count_unq_products=(\"product_id\", lambda x: len(set(x))),\n",
    "        sum_quantity=(\"quantity\", np.sum),\n",
    "        sum_price_unit=(\"price_unit\", np.sum),\n",
    "        sum_price_total=(\"price_total\", np.sum),\n",
    "        count_unq_countries=(\"country_id\", lambda x: len(set(x))),\n",
    "        prob_canceled=(\"is_canceled\", np.mean)\n",
    "    ).reset_index()\n",
    ")\n",
    "\n",
    "df_customers[\"most_revenue_customer\"] = df_customers[\"customer_id\"].map(lambda x: x in top_customers)\n",
    "\n",
    "df_customers\n",
    "df_customers[\"most_revenue_customer\"].value_counts(normalize=True)\n",
    "\n",
    "feats = list(df_customers.select_dtypes([np.number, bool]).columns)\n",
    "\n",
    "feats\n",
    "black_list = [\"most_revenue_customer\"]\n",
    "feats = [x for x in feats if x not in black_list]\n",
    "\n",
    "X = df_customers[feats].values\n",
    "y = df_customers[\"most_revenue_customer\"].values\n",
    "\n",
    "scores = cross_val_score(DecisionTreeClassifier(max_depth=3), X, y, scoring=\"accuracy\", cv=5)\n",
    "np.mean(scores), np.std(scores)"
   ]
  },
  {
   "cell_type": "code",
   "execution_count": null,
   "metadata": {},
   "outputs": [],
   "source": []
  }
 ],
 "metadata": {
  "kernelspec": {
   "display_name": "base",
   "language": "python",
   "name": "python3"
  },
  "language_info": {
   "codemirror_mode": {
    "name": "ipython",
    "version": 3
   },
   "file_extension": ".py",
   "mimetype": "text/x-python",
   "name": "python",
   "nbconvert_exporter": "python",
   "pygments_lexer": "ipython3",
   "version": "3.10.9"
  }
 },
 "nbformat": 4,
 "nbformat_minor": 2
}
