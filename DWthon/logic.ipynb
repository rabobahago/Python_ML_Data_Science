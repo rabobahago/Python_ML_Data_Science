{
 "cells": [
  {
   "cell_type": "code",
   "execution_count": 19,
   "metadata": {},
   "outputs": [
    {
     "name": "stdout",
     "output_type": "stream",
     "text": [
      "(820906, 9)\n",
      "   order_id  customer_id  product_id  quantity  price_unit  price_total  \\\n",
      "0         0            0           0         6         254         1524   \n",
      "1         0            0           1         6         339         2034   \n",
      "2         0            0           2         8         275         2200   \n",
      "3         0            0           3         6         339         2034   \n",
      "4         0            0           3         6         339         2034   \n",
      "\n",
      "   country_id          order_date  is_canceled  \n",
      "0           0 2010-12-01 08:26:00        False  \n",
      "1           0 2010-12-01 08:26:00        False  \n",
      "2           0 2010-12-01 08:26:00        False  \n",
      "3           0 2010-12-01 08:26:00        False  \n",
      "4           0 2010-12-01 08:26:00        False  \n",
      "        order_id  customer_id  product_id  quantity  price_unit  price_total  \\\n",
      "378749     23843         1933        1940         4          28          112   \n",
      "694432     45746          618         956         2         125          250   \n",
      "679795     44780         3548         484        12          85         1020   \n",
      "\n",
      "        country_id          order_date  is_canceled  \n",
      "378749           0 2011-11-27 13:47:00        False  \n",
      "694432           0 2010-09-30 19:45:00        False  \n",
      "679795           0 2010-09-21 12:31:00        False  \n",
      "1816145630\n",
      "...............................\n",
      "719739.73\n",
      "5879\n",
      "3878\n"
     ]
    }
   ],
   "source": [
    "import pandas as pd\n",
    "df = pd.read_hdf('./data.h5')\n",
    "print(df.shape)\n",
    "print(df.head())\n",
    "print(df.sample(3))\n",
    "'''The store turnover'''\n",
    "df_turnover = df['price_total'].sum()\n",
    "print(df_turnover)\n",
    "print(\"...............................\")\n",
    "'''Number of customers'''\n",
    "df_customer = df[True == df.is_canceled]['price_total'].sum()\n",
    "print(df_customer / 100)\n",
    "print(df['customer_id'].nunique())\n",
    "print(df['product_id'].nunique())\n",
    "print(df['order_id'].nunique())"
   ]
  },
  {
   "cell_type": "code",
   "execution_count": null,
   "metadata": {},
   "outputs": [],
   "source": []
  }
 ],
 "metadata": {
  "kernelspec": {
   "display_name": "base",
   "language": "python",
   "name": "python3"
  },
  "language_info": {
   "codemirror_mode": {
    "name": "ipython",
    "version": 3
   },
   "file_extension": ".py",
   "mimetype": "text/x-python",
   "name": "python",
   "nbconvert_exporter": "python",
   "pygments_lexer": "ipython3",
   "version": "3.10.9"
  }
 },
 "nbformat": 4,
 "nbformat_minor": 2
}
